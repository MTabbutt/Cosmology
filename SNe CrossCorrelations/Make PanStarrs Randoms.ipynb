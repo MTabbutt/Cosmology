{
 "cells": [
  {
   "cell_type": "code",
   "execution_count": 1,
   "metadata": {},
   "outputs": [
    {
     "data": {
      "text/html": [
       "<style>.container { width:90% !important; }</style>"
      ],
      "text/plain": [
       "<IPython.core.display.HTML object>"
      ]
     },
     "metadata": {},
     "output_type": "display_data"
    }
   ],
   "source": [
    "# Make Jupyter Notebook full screen \n",
    "from IPython.core.display import display, HTML\n",
    "display(HTML(\"<style>.container { width:90% !important; }</style>\"))"
   ]
  },
  {
   "cell_type": "code",
   "execution_count": 2,
   "metadata": {},
   "outputs": [],
   "source": [
    "import CorrelationsTreeCorr # depends on: sqlite3, pandas, treecorr, numpy, and matplotlib\n",
    "\n",
    "# Need these extra imports to make the PanStarrs Randoms ourselves. \n",
    "import treecorr\n",
    "import numpy\n",
    "import pandas as pd # to save the files of data\n",
    "import matplotlib.pyplot as plt"
   ]
  },
  {
   "cell_type": "code",
   "execution_count": 5,
   "metadata": {},
   "outputs": [],
   "source": [
    "DATA_PATH = '/Users/megantabbutt/CosmologyDataProducts/'\n",
    "TESTING_PRODUCTS_PATH = \"/Users/megantabbutt/Cosmology/Cosmology/SNe CrossCorrelations/VerificationTestingProducts/\"\n",
    "TESTING_PRODUCTS_PATH = TESTING_PRODUCTS_PATH + \"17_11_20_R01/\""
   ]
  },
  {
   "cell_type": "code",
   "execution_count": 6,
   "metadata": {},
   "outputs": [],
   "source": [
    "# Initialize object for this notebook:\n",
    "PanStarrsBossCorrObject = CorrelationsTreeCorr.Correlation_Data(DATA_PATH, TESTING_PRODUCTS_PATH)"
   ]
  },
  {
   "cell_type": "code",
   "execution_count": 8,
   "metadata": {},
   "outputs": [
    {
     "name": "stdout",
     "output_type": "stream",
     "text": [
      "dataFrame: \n",
      "          ID       DEC        RA    zSN  zHost\n",
      "0  ps0909006  1.184831  333.9500  0.284 -999.0\n",
      "1  ps0909010 -4.078911   37.1182  0.270 -999.0\n",
      "2  ps0910017 -5.023289   35.2775  0.320 -999.0\n"
     ]
    }
   ],
   "source": [
    "PanStarrs_Data_all_query = \"SELECT ID, DEC, RA, zSN, zHost FROM PanSTARRSNEW WHERE (zSN > -999) || (zHost > -999)\"\n",
    "PanSTARRS_data_all_df = PanStarrsBossCorrObject.makeDataCatalogs(\"PanSTARRS.db\", PanStarrs_Data_all_query)"
   ]
  },
  {
   "cell_type": "code",
   "execution_count": 10,
   "metadata": {},
   "outputs": [
    {
     "name": "stdout",
     "output_type": "stream",
     "text": [
      "dataFrame: \n",
      "          ID       DEC        RA    zSN  zHost\n",
      "0  ps0909006  1.184831  333.9500  0.284 -999.0\n",
      "1  ps0909010 -4.078911   37.1182  0.270 -999.0\n",
      "2  ps0910017 -5.023289   35.2775  0.320 -999.0\n"
     ]
    }
   ],
   "source": [
    "# Only 9 pointings from PanStarrs Overlap with the BOSS field so when doing the cross correlation need to only take these 9:\n",
    "PanSTARRS_Data_only_9_query = \"\"\"SELECT ID, DEC, RA, zSN, zHost FROM PanSTARRSNEW WHERE (DEC > -20) AND ((zSN > -999) OR (zHost > -999))\"\"\"\n",
    "PanSTARRS_Data_only_9_df = PanStarrsBossCorrObject.makeDataCatalogs(\"PanSTARRS.db\", PanSTARRS_Data_only_9_query)"
   ]
  },
  {
   "cell_type": "code",
   "execution_count": 24,
   "metadata": {},
   "outputs": [
    {
     "name": "stdout",
     "output_type": "stream",
     "text": [
      "done. Length of randoms: 3477\n"
     ]
    }
   ],
   "source": [
    "cat_PanSTARRS_Full = treecorr.Catalog(ra=PanSTARRS_data_all_df['RA'], dec=PanSTARRS_data_all_df['DEC'], ra_units='degrees', dec_units='degrees')\n",
    "randsLength = 10**6\n",
    "length = \"10E6\"\n",
    "\n",
    "ra_min_PanSTARRS = numpy.min(cat_PanSTARRS_Full.ra)\n",
    "ra_max_PanSTARRS = numpy.max(cat_PanSTARRS_Full.ra)\n",
    "dec_min_PanSTARRS = numpy.min(cat_PanSTARRS_Full.dec)\n",
    "dec_max_PanSTARRS = numpy.max(cat_PanSTARRS_Full.dec)\n",
    "#print('PanSTARRS ra range = %f .. %f' % (ra_min_PanSTARRS, ra_max_PanSTARRS))\n",
    "#print('PanSTARRS dec range = %f .. %f' % (dec_min_PanSTARRS, dec_max_PanSTARRS))\n",
    "\n",
    "rand_ra_PanSTARRS = numpy.random.uniform(ra_min_PanSTARRS, ra_max_PanSTARRS, randsLength)\n",
    "rand_sindec_PanSTARRS = numpy.random.uniform(numpy.sin(dec_min_PanSTARRS), numpy.sin(dec_max_PanSTARRS), randsLength)\n",
    "rand_dec_PanSTARRS = numpy.arcsin(rand_sindec_PanSTARRS)\n",
    "\n",
    "pointings = {\"MD01\": [035.875, -04.250], \"MD03\": [130.592, 44.317], \"MD04\": [150.000, 02.200], \n",
    "             \"MD05\": [161.917, 58.083], \"MD06\": [185.000, 47.117], \"MD07\": [213.704, 53.083], \n",
    "             \"MD08\": [242.787, 54.950], \"MD09\": [334.188, 00.283], \"MD10\": [352.312, -00.433], \"MD02\": [053.100, -27.800],}\n",
    "\n",
    "radius = (3.3/2) * numpy.pi / 180.0\n",
    "\n",
    "maskRA = []\n",
    "maskDEC = []\n",
    "randoms_Lengths = []\n",
    "\n",
    "for pointing in pointings: \n",
    "    \n",
    "    #print(pointings[pointing])\n",
    "    center_dec = pointings[pointing][1] * numpy.pi / 180\n",
    "    center_ra = pointings[pointing][0] * numpy.pi / 180\n",
    "\n",
    "    angular_seps = numpy.arccos(numpy.cos(numpy.pi / 2 - center_dec) * numpy.cos(numpy.pi / 2 - rand_dec_PanSTARRS) + \n",
    "                                numpy.sin(numpy.pi / 2 - center_dec) * numpy.sin(numpy.pi / 2 - rand_dec_PanSTARRS) * \n",
    "                                numpy.cos(center_ra - rand_ra_PanSTARRS))\n",
    "\n",
    "    ras_in_circle = rand_ra_PanSTARRS[angular_seps < radius]\n",
    "    #print(len(ras_in_circle))\n",
    "    ras_in_circle = ras_in_circle * 180 / numpy.pi\n",
    "    decs_in_circle = rand_dec_PanSTARRS[angular_seps < radius]\n",
    "    #print(len(decs_in_circle))\n",
    "    decs_in_circle = decs_in_circle * 180 / numpy.pi\n",
    "    \n",
    "    maskRA.extend(ras_in_circle)\n",
    "    maskDEC.extend(decs_in_circle)\n",
    "    \n",
    "    randoms_Lengths.append(len(ras_in_circle))\n",
    "    \n",
    "Results_dict = {'maskRA': maskRA, 'maskDEC': maskDEC}\n",
    "Results_df = pd.DataFrame(data=Results_dict)\n",
    "Results_df.to_csv(DATA_PATH+'PanStarrs_Randoms_All_'+length)\n",
    "        \n",
    "print(\"done. Length of randoms: \" + str(len(maskRA)))\n"
   ]
  },
  {
   "cell_type": "code",
   "execution_count": 25,
   "metadata": {},
   "outputs": [
    {
     "name": "stdout",
     "output_type": "stream",
     "text": [
      "done. Length of randoms: 3168\n"
     ]
    }
   ],
   "source": [
    "# Need to get just 9 pointings from PanSTARRS for Boss Cross Correlation: \n",
    "            \n",
    "radius = (3.3/2) * numpy.pi / 180.0\n",
    "\n",
    "maskRA_overlap = []\n",
    "maskDEC_overlap = []\n",
    "randoms_Lengths_overlap = []\n",
    "\n",
    "for pointing in pointings: \n",
    "    if(pointing == \"MD02\"):\n",
    "        continue\n",
    "    else:    \n",
    "        center_dec = pointings[pointing][1] * numpy.pi / 180\n",
    "        center_ra = pointings[pointing][0] * numpy.pi / 180\n",
    "\n",
    "        angular_seps = numpy.arccos(numpy.cos(numpy.pi / 2 - center_dec) * numpy.cos(numpy.pi / 2 - rand_dec_PanSTARRS) + \n",
    "                                    numpy.sin(numpy.pi / 2 - center_dec) * numpy.sin(numpy.pi / 2 - rand_dec_PanSTARRS) * \n",
    "                                    numpy.cos(center_ra - rand_ra_PanSTARRS))\n",
    "\n",
    "        ras_in_circle = rand_ra_PanSTARRS[angular_seps < radius]\n",
    "        ras_in_circle = ras_in_circle * 180 / numpy.pi\n",
    "        decs_in_circle = rand_dec_PanSTARRS[angular_seps < radius]\n",
    "        decs_in_circle = decs_in_circle * 180 / numpy.pi\n",
    "\n",
    "        maskRA_overlap.extend(ras_in_circle)\n",
    "        maskDEC_overlap.extend(decs_in_circle)\n",
    "\n",
    "        randoms_Lengths_overlap.append(len(ras_in_circle))\n",
    "        \n",
    "Results_dict_9 = {'maskRA': maskRA_overlap, 'maskDEC': maskDEC_overlap}\n",
    "Results_df_9 = pd.DataFrame(data=Results_dict_9)\n",
    "Results_df_9.to_csv(DATA_PATH+'PanStarrs_Randoms_9_'+length)\n",
    "\n",
    "print(\"done. Length of randoms: \" + str(len(maskRA_overlap)))"
   ]
  },
  {
   "cell_type": "code",
   "execution_count": null,
   "metadata": {},
   "outputs": [],
   "source": []
  }
 ],
 "metadata": {
  "kernelspec": {
   "display_name": "Python 3",
   "language": "python",
   "name": "python3"
  },
  "language_info": {
   "codemirror_mode": {
    "name": "ipython",
    "version": 3
   },
   "file_extension": ".py",
   "mimetype": "text/x-python",
   "name": "python",
   "nbconvert_exporter": "python",
   "pygments_lexer": "ipython3",
   "version": "3.8.2"
  }
 },
 "nbformat": 4,
 "nbformat_minor": 4
}
