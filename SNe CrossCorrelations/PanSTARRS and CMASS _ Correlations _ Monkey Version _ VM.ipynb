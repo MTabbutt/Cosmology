{
 "cells": [
  {
   "cell_type": "markdown",
   "metadata": {},
   "source": [
    "<Strong> Note to the reader: </Strong> This notebook currently calculates the cross correlation of the PanSTARRS SuperNova set with the LOWZ and CMASS galaxy catalogs from eBOSS (SDSS). There are also some trouble shooting/data validation calculations along the way. </br>\n",
    "\n",
    "Annotations about TreeCorr are taken from the documentation and all credit goes to Mike Jarvis. </br>\n",
    "\n",
    "https://rmjarvis.github.io/TreeCorr/_build/html/overview.html </br>\n",
    "\n",
    "-MT 6/11/20"
   ]
  },
  {
   "cell_type": "markdown",
   "metadata": {},
   "source": [
    "#### List of changes/fixes that are not resolved: \n",
    "\n",
    "- Data for panstarrs is outside the pointing? --- NEED TO INVESTIGATE \n",
    "- Corr func asymptotes to .2 instead of zero? --- NEED TO DO \n",
    "- Theory calculuation --- NEED TO SWITCH TO DOING \n",
    "- Better way to populate the randoms into the mask? Apply the mask over top? --- FIX ME (Eventually)"
   ]
  },
  {
   "cell_type": "markdown",
   "metadata": {},
   "source": [
    "### Imports and formatting: "
   ]
  },
  {
   "cell_type": "code",
   "execution_count": 1,
   "metadata": {},
   "outputs": [
    {
     "data": {
      "text/html": [
       "<style>.container { width:100% !important; }</style>"
      ],
      "text/plain": [
       "<IPython.core.display.HTML object>"
      ]
     },
     "metadata": {},
     "output_type": "display_data"
    }
   ],
   "source": [
    "# Make Jupyter Notebook full screen \n",
    "from IPython.core.display import display, HTML\n",
    "display(HTML(\"<style>.container { width:100% !important; }</style>\"))\n",
    "from IPython.display import Image"
   ]
  },
  {
   "cell_type": "code",
   "execution_count": 2,
   "metadata": {},
   "outputs": [],
   "source": [
    "#plt.switch_backend('agg') #For HEP, matplotlib x windows issues see python version for more usage \n",
    "import treecorr\n",
    "import numpy\n",
    "import matplotlib\n",
    "import matplotlib.pyplot as plt\n",
    "import pandas as pd\n",
    "import sqlite3\n",
    "import os\n",
    "import datetime"
   ]
  },
  {
   "cell_type": "markdown",
   "metadata": {},
   "source": [
    "### Define notebook wide functions and data paths to use:"
   ]
  },
  {
   "cell_type": "code",
   "execution_count": 3,
   "metadata": {},
   "outputs": [],
   "source": [
    "dataPath = '/Users/megantabbutt/CosmologyDataProducts/'\n",
    "#dataPath = '/afs/hep.wisc.edu/home/tabbutt/private/CosmologyDataProducts/'\n",
    "\n",
    "testingProductsPath = \"/Users/megantabbutt/Cosmology/Cosmology/SNe CrossCorrelations/VerificationTestingProducts/\"\n",
    "\n",
    "# Python has datename, savfig folder fields, usually don't save this code just for monkeying around... \n",
    "# If wanted to save some plots, should invoke this, and add text file to the folder with notes for that run \n",
    "\n",
    "date = ' 05_29_20_12pm'"
   ]
  },
  {
   "cell_type": "code",
   "execution_count": 4,
   "metadata": {},
   "outputs": [],
   "source": [
    "# Define the paths for local and HEP machines:\n",
    "DATA_PATH = '/Users/megantabbutt/CosmologyDataProducts/'\n",
    "#DATA_PATH = '/afs/hep.wisc.edu/home/tabbutt/private/CosmologyDataProducts/'\n",
    "\n",
    "TESTING_PRODUCTS_PATH = \"/Users/megantabbutt/Cosmology/Cosmology/SNe CrossCorrelations/VerificationTestingProducts/\"\n",
    "#TESTING_PRODUCTS_PATH = \"/afs/hep.wisc.edu/home/tabbutt/public/Cosmology/SNe CrossCorrelations/VerificationTestingProducts/\"\n",
    "\n",
    "# Create the directory to save to and a file with info about this run:\n",
    "DATE = datetime.datetime.now().strftime(\"%d_%m_%Y_%H_%M\")\n",
    "CURRENT_DIRECTORY = DATE\n",
    "TESTING_PRODUCTS_PATH = TESTING_PRODUCTS_PATH + CURRENT_DIRECTORY\n",
    "\n",
    "os.mkdir(TESTING_PRODUCTS_PATH)\n",
    "\n",
    "NOTES_NAME = \"/RUNNING_NOTES_\" + DATE + \".txt\"\n",
    "NOTES_PATH = TESTING_PRODUCTS_PATH + NOTES_NAME"
   ]
  },
  {
   "cell_type": "markdown",
   "metadata": {},
   "source": [
    "### Start writing notes to textfile:\n",
    "Write notes about:\n",
    "- Steps completed in program\n",
    "- plot made and saved to folder\n",
    "- Amount of data points, randoms points in plots and data runs"
   ]
  },
  {
   "cell_type": "code",
   "execution_count": 5,
   "metadata": {},
   "outputs": [],
   "source": [
    "# Write an opening note in the file:\n",
    "NOTES = open(NOTES_PATH, \"a\")\n",
    "NOTES.write(\"Created Running notes file for tracking details about this run and products produced/saved\")\n",
    "NOTES.write(\"\\n \\n\")\n",
    "NOTES.close()"
   ]
  },
  {
   "cell_type": "markdown",
   "metadata": {},
   "source": [
    " <hr style=\"height:3px\"> "
   ]
  },
  {
   "cell_type": "markdown",
   "metadata": {},
   "source": [
    "\n",
    "## 0. Pull in and parse data:\n",
    "\n",
    "note: There are 10 pointings for the PanSTARRS data, we will use all 10 for the Auto Correlation, but when we correlated to CMASS, we need to only use the 9 overlap with CMASS. --- IMPORTANT"
   ]
  },
  {
   "cell_type": "code",
   "execution_count": 6,
   "metadata": {},
   "outputs": [],
   "source": [
    "NOTES = open(NOTES_PATH, \"a\")\n",
    "NOTES.write(\"0. Pull in and parse data:\")\n",
    "NOTES.write(\"\\n \\n\")\n",
    "NOTES.close()"
   ]
  },
  {
   "cell_type": "markdown",
   "metadata": {},
   "source": [
    "#### PanSTARRS: "
   ]
  },
  {
   "cell_type": "code",
   "execution_count": 7,
   "metadata": {},
   "outputs": [
    {
     "data": {
      "text/html": [
       "<div>\n",
       "<style scoped>\n",
       "    .dataframe tbody tr th:only-of-type {\n",
       "        vertical-align: middle;\n",
       "    }\n",
       "\n",
       "    .dataframe tbody tr th {\n",
       "        vertical-align: top;\n",
       "    }\n",
       "\n",
       "    .dataframe thead th {\n",
       "        text-align: right;\n",
       "    }\n",
       "</style>\n",
       "<table border=\"1\" class=\"dataframe\">\n",
       "  <thead>\n",
       "    <tr style=\"text-align: right;\">\n",
       "      <th></th>\n",
       "      <th>index</th>\n",
       "      <th>RA</th>\n",
       "      <th>DEC</th>\n",
       "      <th>Z</th>\n",
       "      <th>NZ</th>\n",
       "    </tr>\n",
       "  </thead>\n",
       "  <tbody>\n",
       "    <tr>\n",
       "      <th>0</th>\n",
       "      <td>0</td>\n",
       "      <td>321.480329</td>\n",
       "      <td>9.973440</td>\n",
       "      <td>0.301401</td>\n",
       "      <td>0.000390</td>\n",
       "    </tr>\n",
       "    <tr>\n",
       "      <th>1</th>\n",
       "      <td>1</td>\n",
       "      <td>321.359691</td>\n",
       "      <td>9.933358</td>\n",
       "      <td>0.458872</td>\n",
       "      <td>0.000350</td>\n",
       "    </tr>\n",
       "    <tr>\n",
       "      <th>2</th>\n",
       "      <td>2</td>\n",
       "      <td>322.614181</td>\n",
       "      <td>10.144496</td>\n",
       "      <td>0.579383</td>\n",
       "      <td>0.000273</td>\n",
       "    </tr>\n",
       "  </tbody>\n",
       "</table>\n",
       "</div>"
      ],
      "text/plain": [
       "   index          RA        DEC         Z        NZ\n",
       "0      0  321.480329   9.973440  0.301401  0.000390\n",
       "1      1  321.359691   9.933358  0.458872  0.000350\n",
       "2      2  322.614181  10.144496  0.579383  0.000273"
      ]
     },
     "execution_count": 7,
     "metadata": {},
     "output_type": "execute_result"
    }
   ],
   "source": [
    "connBOSS = sqlite3.connect(dataPath + 'CMASS_and_LOWZ.db')\n",
    "\n",
    "qry = \"SELECT * FROM CMASSLOWZTOT_South\"\n",
    "\n",
    "CMASSLOWZTOT_DF = pd.read_sql(qry, con=connBOSS)\n",
    "CMASSLOWZTOT_DF.head(3) # 1.3 million objects"
   ]
  },
  {
   "cell_type": "code",
   "execution_count": 8,
   "metadata": {},
   "outputs": [],
   "source": [
    "NOTES = open(NOTES_PATH, \"a\")\n",
    "NOTES.write(\"CMASSLOWZTOT_DF Database objects: \" + str(len(CMASSLOWZTOT_DF)))\n",
    "NOTES.write(\"\\n \\n\")\n",
    "NOTES.close()\n",
    "connBOSS.close()"
   ]
  },
  {
   "cell_type": "markdown",
   "metadata": {},
   "source": [
    "#### Pull in the Randoms provided by CMASS:"
   ]
  },
  {
   "cell_type": "code",
   "execution_count": 9,
   "metadata": {},
   "outputs": [
    {
     "data": {
      "text/html": [
       "<div>\n",
       "<style scoped>\n",
       "    .dataframe tbody tr th:only-of-type {\n",
       "        vertical-align: middle;\n",
       "    }\n",
       "\n",
       "    .dataframe tbody tr th {\n",
       "        vertical-align: top;\n",
       "    }\n",
       "\n",
       "    .dataframe thead th {\n",
       "        text-align: right;\n",
       "    }\n",
       "</style>\n",
       "<table border=\"1\" class=\"dataframe\">\n",
       "  <thead>\n",
       "    <tr style=\"text-align: right;\">\n",
       "      <th></th>\n",
       "      <th>index</th>\n",
       "      <th>RA</th>\n",
       "      <th>DEC</th>\n",
       "      <th>Z</th>\n",
       "      <th>NZ</th>\n",
       "    </tr>\n",
       "  </thead>\n",
       "  <tbody>\n",
       "    <tr>\n",
       "      <th>0</th>\n",
       "      <td>0</td>\n",
       "      <td>332.902777</td>\n",
       "      <td>-3.099005</td>\n",
       "      <td>0.485921</td>\n",
       "      <td>0.000416</td>\n",
       "    </tr>\n",
       "    <tr>\n",
       "      <th>1</th>\n",
       "      <td>1</td>\n",
       "      <td>3.395979</td>\n",
       "      <td>0.256192</td>\n",
       "      <td>0.449228</td>\n",
       "      <td>0.000311</td>\n",
       "    </tr>\n",
       "    <tr>\n",
       "      <th>2</th>\n",
       "      <td>2</td>\n",
       "      <td>349.358564</td>\n",
       "      <td>24.769733</td>\n",
       "      <td>0.474374</td>\n",
       "      <td>0.000378</td>\n",
       "    </tr>\n",
       "  </tbody>\n",
       "</table>\n",
       "</div>"
      ],
      "text/plain": [
       "   index          RA        DEC         Z        NZ\n",
       "0      0  332.902777  -3.099005  0.485921  0.000416\n",
       "1      1    3.395979   0.256192  0.449228  0.000311\n",
       "2      2  349.358564  24.769733  0.474374  0.000378"
      ]
     },
     "execution_count": 9,
     "metadata": {},
     "output_type": "execute_result"
    }
   ],
   "source": [
    "connBOSSRands = sqlite3.connect(dataPath + 'CMASS_and_LOWZ_rands.db')\n",
    "randSampleQry = \"SELECT * FROM CMASSLOWZTOT_South_rands\"\n",
    "#randQry = \"SELECT * FROM CMASSLOWZTOT_South_rands UNION SELECT * FROM CMASSLOWZTOT_North_rands\"\n",
    "\n",
    "CMASSLOWZTOT_DF_rands = pd.read_sql(randSampleQry, con=connBOSSRands)\n",
    "CMASSLOWZTOT_DF_rands.to_json(dataPath + \"CMASSLOWZTOT_DF_rands\")\n",
    "CMASSLOWZTOT_DF_rands.head(3)"
   ]
  },
  {
   "cell_type": "code",
   "execution_count": 10,
   "metadata": {},
   "outputs": [],
   "source": [
    "connBOSSRands.close()"
   ]
  },
  {
   "cell_type": "markdown",
   "metadata": {},
   "source": [
    " <hr style=\"height:3px\"> "
   ]
  },
  {
   "cell_type": "markdown",
   "metadata": {},
   "source": [
    "## 4. Make CMASS Count-Count Auto Correlation Functions:\n",
    "\n",
    "Typical Usage Pattern:\n",
    "\n",
    "> nn = treecorr.NNCorrelation(config) \n",
    "<br>\n",
    "nn.process(cat)     # For auto-correlation.\n",
    "<br>\n",
    "nn.process(cat1,cat2)   # For cross-correlation.\n",
    "<br>\n",
    "rr.process...           # Likewise for random-random correlations\n",
    "<br>\n",
    "dr.process...        # If desired, also do data-random correlations\n",
    "<br>\n",
    "rd.process...    # For cross-correlations, also do the reverse.\n",
    "<br>\n",
    "nn.write(file_name,rr,dr,rd)  # Write out to a file.\n",
    "<br>\n",
    "xi,varxi = nn.calculateXi(rr,dr,rd)  # Or get the correlation function directly."
   ]
  },
  {
   "cell_type": "code",
   "execution_count": 11,
   "metadata": {},
   "outputs": [],
   "source": [
    "NOTES = open(NOTES_PATH, \"a\")\n",
    "NOTES.write(\"4. Make CMASS Count-Count Auto Correlation Functions:\")\n",
    "NOTES.write(\"\\n \\n\")\n",
    "NOTES.close()"
   ]
  },
  {
   "cell_type": "code",
   "execution_count": 12,
   "metadata": {},
   "outputs": [
    {
     "data": {
      "text/plain": [
       "Catalog(x=array([0.77057095, 0.76937222, 0.78214325, ..., 0.84865677, 0.8629375 ,\n",
       "       0.86439047]),y=array([-0.61337188, -0.61506848, -0.59768698, ..., -0.52849314,\n",
       "       -0.50483339, -0.50234678]),z=array([0.17319164, 0.17250261, 0.17613125, ..., 0.0218331 , 0.02195715,\n",
       "       0.02183655]),ra=array([5.61089021, 5.6087847 , 5.63067967, ..., 5.72621229, 5.75385533,\n",
       "       5.75673601]),dec=array([0.17406936, 0.1733698 , 0.17705486, ..., 0.02183483, 0.02195891,\n",
       "       0.02183828]),w=array([1., 1., 1., ..., 1., 1., 1.]))"
      ]
     },
     "execution_count": 12,
     "metadata": {},
     "output_type": "execute_result"
    }
   ],
   "source": [
    "cat_eBOSS = treecorr.Catalog(ra=CMASSLOWZTOT_DF['RA'], dec=CMASSLOWZTOT_DF['DEC'], ra_units='degrees', dec_units='degrees')\n",
    "cat_eBOSS\n"
   ]
  },
  {
   "cell_type": "code",
   "execution_count": 13,
   "metadata": {},
   "outputs": [],
   "source": [
    "NOTES = open(NOTES_PATH, \"a\")\n",
    "NOTES.write(\"Created cat_eBOSS.\")\n",
    "NOTES.write(\"\\n \\n\")\n",
    "NOTES.close()"
   ]
  },
  {
   "cell_type": "code",
   "execution_count": 14,
   "metadata": {},
   "outputs": [],
   "source": [
    "nn_eBOSS_Auto_self = treecorr.NNCorrelation(min_sep=0.01, max_sep=10, bin_size=0.2, sep_units='degrees')\n",
    "nn_eBOSS_Auto_self.process(cat_eBOSS)\n",
    "\n",
    "cat_rand_eBOSS = treecorr.Catalog(ra=CMASSLOWZTOT_DF_rands['RA'], dec=CMASSLOWZTOT_DF_rands['DEC'], ra_units='degrees', dec_units='degrees')\n",
    "rr_eBOSS = treecorr.NNCorrelation(min_sep=0.01, max_sep=10, bin_size=0.2, sep_units='degrees')\n",
    "rr_eBOSS.process(cat_rand_eBOSS)\n",
    "\n",
    "dr_eBOSS = treecorr.NNCorrelation(min_sep=0.01, max_sep=10, bin_size=0.2, sep_units='degrees')\n",
    "dr_eBOSS.process(cat_eBOSS, cat_rand_eBOSS)\n",
    "\n",
    "r_eBOSS = numpy.exp(nn_eBOSS_Auto_self.meanlogr)\n",
    "xi_eBOSS, varxi_eBOSS = nn_eBOSS_Auto_self.calculateXi(rr_eBOSS, dr_eBOSS)\n",
    "sig_eBOSS = numpy.sqrt(varxi_eBOSS)"
   ]
  },
  {
   "cell_type": "code",
   "execution_count": 15,
   "metadata": {},
   "outputs": [
    {
     "data": {
      "image/png": "[encoded data removed]",
      "text/plain": [
       "<Figure size 1440x360 with 2 Axes>"
      ]
     },
     "metadata": {
      "needs_background": "light"
     },
     "output_type": "display_data"
    }
   ],
   "source": [
    "f3, (ax1c, ax2c) = plt.subplots(1, 2, figsize=(20, 5))\n",
    "\n",
    "ax1c.scatter(cat_eBOSS.ra * 180/numpy.pi, cat_eBOSS.dec * 180/numpy.pi, color='red', s=0.1)\n",
    "ax1c.set_xlabel('RA (degrees)')\n",
    "ax1c.set_ylabel('Dec (degrees)')\n",
    "ax1c.set_title('CMASS/LOWZ Data')\n",
    "\n",
    "# Repeat in the opposite order\n",
    "ax2c.scatter(CMASSLOWZTOT_DF_rands['RA'], CMASSLOWZTOT_DF_rands['DEC'], color='blue', s=0.1)\n",
    "ax2c.set_xlabel('RA (degrees)')\n",
    "ax2c.set_ylabel('Dec (degrees)')\n",
    "ax2c.set_title('CMASS/LOWZ Randoms')\n",
    "\n",
    "plt.savefig(TESTING_PRODUCTS_PATH + \"/CMASS_LOWZ Randoms\")\n",
    "plt.show()"
   ]
  },
  {
   "cell_type": "code",
   "execution_count": 16,
   "metadata": {},
   "outputs": [],
   "source": [
    "NOTES = open(NOTES_PATH, \"a\")\n",
    "NOTES.write(\"Plotted: CMASS_LOWZ Randoms\")\n",
    "NOTES.write(\"\\n \\n\")\n",
    "NOTES.close()"
   ]
  },
  {
   "cell_type": "code",
   "execution_count": 17,
   "metadata": {},
   "outputs": [
    {
     "data": {
      "image/png": "[encoded data removed]",
      "text/plain": [
       "<Figure size 432x288 with 1 Axes>"
      ]
     },
     "metadata": {
      "needs_background": "light"
     },
     "output_type": "display_data"
    }
   ],
   "source": [
    "# Plot the autocorrelation function:\n",
    "\n",
    "plt.plot(r_eBOSS, xi_eBOSS, color='blue')\n",
    "plt.plot(r_eBOSS, -xi_eBOSS, color='blue', ls=':')\n",
    "plt.errorbar(r_eBOSS[xi_eBOSS>0], xi_eBOSS[xi_eBOSS>0], yerr=sig_eBOSS[xi_eBOSS>0], color='green', lw=0.5, ls='')\n",
    "plt.errorbar(r_eBOSS[xi_eBOSS<0], -xi_eBOSS[xi_eBOSS<0], yerr=sig_eBOSS[xi_eBOSS<0], color='green', lw=0.5, ls='')\n",
    "leg = plt.errorbar(-r_eBOSS, xi_eBOSS, yerr=sig_eBOSS, color='blue')\n",
    "plt.xscale('log')\n",
    "plt.yscale('log', nonposy='clip')\n",
    "plt.xlabel(r'$\\theta$ (degrees)')\n",
    "plt.legend([leg], [r'$w(\\theta)$'], loc='lower left')\n",
    "plt.xlim([0.01,10])\n",
    "plt.title(\"eBOSS Auto Corr with eBOSS randoms\")\n",
    "\n",
    "plt.savefig(TESTING_PRODUCTS_PATH + \"/eBOSS Auto Corr with eBOSS randoms\")\n",
    "plt.show()"
   ]
  }
 ],
 "metadata": {
  "kernelspec": {
   "display_name": "ccl",
   "language": "python",
   "name": "ccl"
  },
  "language_info": {
   "codemirror_mode": {
    "name": "ipython",
    "version": 3
   },
   "file_extension": ".py",
   "mimetype": "text/x-python",
   "name": "python",
   "nbconvert_exporter": "python",
   "pygments_lexer": "ipython3",
   "version": "3.7.6"
  }
 },
 "nbformat": 4,
 "nbformat_minor": 2
}
