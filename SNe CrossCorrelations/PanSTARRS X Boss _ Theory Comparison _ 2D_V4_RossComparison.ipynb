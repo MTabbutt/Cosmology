{
 "cells": [
  {
   "cell_type": "code",
   "execution_count": 1,
   "metadata": {},
   "outputs": [
    {
     "data": {
      "text/html": [
       "<style>.container { width:100% !important; }</style>"
      ],
      "text/plain": [
       "<IPython.core.display.HTML object>"
      ]
     },
     "metadata": {},
     "output_type": "display_data"
    }
   ],
   "source": [
    "# Make Jupyter Notebook full screen \n",
    "from IPython.core.display import display, HTML\n",
    "display(HTML(\"<style>.container { width:100% !important; }</style>\"))\n",
    "from IPython.display import Image"
   ]
  },
  {
   "cell_type": "code",
   "execution_count": 2,
   "metadata": {},
   "outputs": [],
   "source": [
    "import camb\n",
    "import numpy as np\n",
    "import pandas as pd\n",
    "import sqlite3\n",
    "import scipy as sp\n",
    "import scipy.integrate\n",
    "from scipy import interpolate\n",
    "from scipy.interpolate import InterpolatedUnivariateSpline\n",
    "import matplotlib.pyplot as plt\n",
    "from camb import model, initialpower"
   ]
  },
  {
   "cell_type": "markdown",
   "metadata": {},
   "source": [
    "### >>> Difference: I use H0 = 67, Ross uses 100"
   ]
  },
  {
   "cell_type": "code",
   "execution_count": 3,
   "metadata": {},
   "outputs": [
    {
     "data": {
      "text/plain": [
       "203.57419733021177"
      ]
     },
     "execution_count": 3,
     "metadata": {},
     "output_type": "execute_result"
    }
   ],
   "source": [
    "# a = 1/(1+z)\n",
    "def hubble_z(z): # Flat universe: omega_k = 0\n",
    "    hubble_0 = 67.74 # km/sec/Mpc\n",
    "    Omega_m = .3089\n",
    "    Omega_L = .6911\n",
    "    H_z = np.sqrt((hubble_0**2)*(Omega_m*(1 + z)**3 + Omega_L))\n",
    "    return H_z\n",
    "\n",
    "hubble_z(2.0)"
   ]
  },
  {
   "cell_type": "code",
   "execution_count": 4,
   "metadata": {},
   "outputs": [
    {
     "data": {
      "text/plain": [
       "5316.055934317975"
      ]
     },
     "execution_count": 4,
     "metadata": {},
     "output_type": "execute_result"
    }
   ],
   "source": [
    "def chi_z(z_max):\n",
    "    c = 3.0*(10**5) # km/sec \n",
    "    integrand = lambda z: c / hubble_z(z)\n",
    "    chi_z = scipy.integrate.quad(integrand, 0, z_max)\n",
    "    return chi_z[0]\n",
    "\n",
    "chi_z(2.0)"
   ]
  },
  {
   "cell_type": "markdown",
   "metadata": {},
   "source": [
    "### >>> Agree with Ross again with little h definition"
   ]
  },
  {
   "cell_type": "code",
   "execution_count": 5,
   "metadata": {},
   "outputs": [
    {
     "name": "stdout",
     "output_type": "stream",
     "text": [
      "0.033596540874348525\n",
      "0.36557790249864985\n",
      "0.49916771321280085\n",
      "0.8005337261309369\n",
      "1.3746030727634206\n"
     ]
    }
   ],
   "source": [
    "h = .6774\n",
    "z_values = np.linspace(0, 1, 100)\n",
    "chi_values = [chi_z(redShift) for redShift in z_values]\n",
    "\n",
    "z_chi_interp = InterpolatedUnivariateSpline(chi_values, z_values, k=5)\n",
    "\n",
    "def z_chi(chi):\n",
    "    z_val = z_chi_interp(chi)\n",
    "    return z_val\n",
    "\n",
    "#check with ned wright site\n",
    "print(z_chi(100/h))\n",
    "print(z_chi(1000/h))\n",
    "print(z_chi(1317/h))\n",
    "print(z_chi(1945/h))  \n",
    "print(z_chi(2871/h))"
   ]
  },
  {
   "cell_type": "code",
   "execution_count": null,
   "metadata": {},
   "outputs": [],
   "source": [
    "z_chi_deriv = z_chi_interp.derivative()\n",
    "z_chi_deriv"
   ]
  },
  {
   "cell_type": "code",
   "execution_count": 17,
   "metadata": {},
   "outputs": [
    {
     "data": {
      "image/png": "[encoded data removed]",
      "text/plain": [
       "<Figure size 432x288 with 1 Axes>"
      ]
     },
     "metadata": {
      "needs_background": "light"
     },
     "output_type": "display_data"
    }
   ],
   "source": [
    "z_chi_deriv = z_chi_interp.derivative()\n",
    "\n",
    "z_chi_deriv_vals = [z_chi_deriv(chi) for chi in chi_values]\n",
    "\n",
    "plt.plot(chi_values, z_chi_deriv_vals)\n",
    "plt.xlabel('chi')\n",
    "plt.ylabel('deriv z(chi)')\n",
    "plt.show()"
   ]
  },
  {
   "cell_type": "markdown",
   "metadata": {},
   "source": [
    "### We agree up to this point. "
   ]
  },
  {
   "cell_type": "code",
   "execution_count": null,
   "metadata": {},
   "outputs": [],
   "source": []
  },
  {
   "cell_type": "code",
   "execution_count": null,
   "metadata": {},
   "outputs": [],
   "source": []
  }
 ],
 "metadata": {
  "kernelspec": {
   "display_name": "Python 3",
   "language": "python",
   "name": "python3"
  },
  "language_info": {
   "codemirror_mode": {
    "name": "ipython",
    "version": 3
   },
   "file_extension": ".py",
   "mimetype": "text/x-python",
   "name": "python",
   "nbconvert_exporter": "python",
   "pygments_lexer": "ipython3",
   "version": "3.7.3"
  }
 },
 "nbformat": 4,
 "nbformat_minor": 4
}
