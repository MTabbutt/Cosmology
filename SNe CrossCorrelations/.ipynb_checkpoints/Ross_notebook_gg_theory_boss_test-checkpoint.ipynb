{
 "cells": [
  {
   "cell_type": "code",
   "execution_count": 1,
   "metadata": {},
   "outputs": [
    {
     "data": {
      "text/html": [
       "<style>.container { width:100% !important; }</style>"
      ],
      "text/plain": [
       "<IPython.core.display.HTML object>"
      ]
     },
     "metadata": {},
     "output_type": "display_data"
    }
   ],
   "source": [
    "# Make Jupyter Notebook full screen \n",
    "from IPython.core.display import display, HTML\n",
    "display(HTML(\"<style>.container { width:100% !important; }</style>\"))\n",
    "from IPython.display import Image"
   ]
  },
  {
   "cell_type": "code",
   "execution_count": 2,
   "metadata": {},
   "outputs": [],
   "source": [
    "import numpy as np\n",
    "import scipy as sp\n",
    "from scipy import integrate\n",
    "from scipy import interpolate\n",
    "from scipy.interpolate import interp1d, UnivariateSpline,splrep\n",
    "from scipy.integrate import quad, dblquad\n",
    "from scipy.special import j0\n",
    "from scipy.misc import derivative\n",
    "import matplotlib.pyplot as plt\n",
    "from matplotlib.pyplot import *\n",
    "import datetime\n",
    "#import fitsio"
   ]
  },
  {
   "cell_type": "markdown",
   "metadata": {},
   "source": [
    "### >>> This cell is different, I use H0 = 67, Ross uses 100"
   ]
  },
  {
   "cell_type": "code",
   "execution_count": 3,
   "metadata": {},
   "outputs": [
    {
     "data": {
      "text/plain": [
       "300.5228776649126"
      ]
     },
     "execution_count": 3,
     "metadata": {},
     "output_type": "execute_result"
    }
   ],
   "source": [
    "def H(a):\n",
    "    H0=100\n",
    "    om=0.3089\n",
    "    ol=1.-om\n",
    "    result=H0*((om/(1.*a**3))+ol)**0.5\n",
    "    return result\n",
    "\n",
    "a = 1.0 / (1.0 + 2.0)\n",
    "H(a)"
   ]
  },
  {
   "cell_type": "code",
   "execution_count": 4,
   "metadata": {},
   "outputs": [
    {
     "data": {
      "text/plain": [
       "3601.096289906997"
      ]
     },
     "execution_count": 4,
     "metadata": {},
     "output_type": "execute_result"
    }
   ],
   "source": [
    "def chi(z):\n",
    "    athen=1/(1+z)\n",
    "    c=3.*10**5\n",
    "    chiint=integrate.quad(lambda a: 1/((a**2)*H(a)), athen, 1)\n",
    "    result=c*chiint[0]\n",
    "    return result\n",
    "\n",
    "chi(2.0)"
   ]
  },
  {
   "cell_type": "markdown",
   "metadata": {},
   "source": [
    "### >>> Agree with Ross again with little h definition"
   ]
  },
  {
   "cell_type": "code",
   "execution_count": 5,
   "metadata": {},
   "outputs": [
    {
     "name": "stdout",
     "output_type": "stream",
     "text": [
      "0.03359654087434861\n",
      "0.36557790249865\n",
      "0.4991677132128007\n",
      "0.800533726130937\n",
      "1.3746073586234788\n"
     ]
    }
   ],
   "source": [
    "zs201=np.arange(201)*0.01\n",
    "chiarray=np.zeros(201)\n",
    "for i in range(0,201):\n",
    "    chiarray[i]=chi(zs201[i])\n",
    "\n",
    "zchiinterp=sp.interpolate.InterpolatedUnivariateSpline(chiarray,zs201,k=5)\n",
    "\n",
    "h=0.6774\n",
    "def zchi(chi):\n",
    "    result=zchiinterp(chi)\n",
    "    return result\n",
    "\n",
    "#check with ned wright site\n",
    "print(zchi(100))\n",
    "print(zchi(1000))\n",
    "print(zchi(1317))  #my chis are true chi*h....so this is 1945 real mpc\n",
    "print(zchi(1945))  #this is 2871 real mpc\n",
    "print(zchi(2871))"
   ]
  },
  {
   "cell_type": "code",
   "execution_count": 8,
   "metadata": {},
   "outputs": [
    {
     "data": {
      "image/png": "[encoded data removed]",
      "text/plain": [
       "<Figure size 432x288 with 1 Axes>"
      ]
     },
     "metadata": {
      "needs_background": "light"
     },
     "output_type": "display_data"
    }
   ],
   "source": [
    "derivarray=np.zeros(201)\n",
    "for j in range(0,201):\n",
    "    derivarray[j]=derivative(zchi,chiarray[j])\n",
    "\n",
    "#print (chiarray)\n",
    "#print (derivarray)\n",
    "plt.plot(chiarray[1:200]/h,derivarray[1:200]*h)\n",
    "plt.xlabel('chi')\n",
    "plt.ylabel('deriv z(chi)')\n",
    "plt.show()"
   ]
  },
  {
   "cell_type": "markdown",
   "metadata": {},
   "source": [
    "### We agree up to this point. "
   ]
  },
  {
   "cell_type": "code",
   "execution_count": null,
   "metadata": {},
   "outputs": [],
   "source": []
  },
  {
   "cell_type": "code",
   "execution_count": null,
   "metadata": {},
   "outputs": [],
   "source": []
  }
 ],
 "metadata": {
  "kernelspec": {
   "display_name": "Python 3",
   "language": "python",
   "name": "python3"
  },
  "language_info": {
   "codemirror_mode": {
    "name": "ipython",
    "version": 3
   },
   "file_extension": ".py",
   "mimetype": "text/x-python",
   "name": "python",
   "nbconvert_exporter": "python",
   "pygments_lexer": "ipython3",
   "version": "3.7.3"
  }
 },
 "nbformat": 4,
 "nbformat_minor": 4
}
