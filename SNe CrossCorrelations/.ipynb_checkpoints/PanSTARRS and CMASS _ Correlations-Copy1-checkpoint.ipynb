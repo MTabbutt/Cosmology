{
 "cells": [
  {
   "cell_type": "markdown",
   "metadata": {},
   "source": [
    "<Strong> Note to the reader: </Strong> This notebook currently calculates the Auto count-count correlations of the PanSTARRS data with a lot errors and fixes that need to be made. It also needs to do the NN auto Corr for CMass and then a cross corr. </br>\n",
    "\n",
    "-MT 4/23/20 10am\n",
    "\n",
    "- Keywords to search for in workflow: \"Important\", \"Need to fix\", \"need to do\""
   ]
  },
  {
   "cell_type": "markdown",
   "metadata": {},
   "source": [
    "### List of changes/fixes that are not resolved: \n",
    "\n",
    "- union for CMASS rands takes wa too long, OK to try once for signal verification but otherwise make it a box around the pointing only? --- NEED TO FIX\n",
    "- Including the 10th panstarrs data in the NN but not in the randoms ---- NEED TO FIX\n",
    "- Should I do it with only the 9 that overlap CMASS? --- Not that big of a deal, make note in section -- NEED TO DO\n",
    "- Need to add more randoms, want order 10:1 ratio of randoms to data --- NEED TO FIX\n",
    "- Need to pick out the SNe with good z either themselves or host data --- NEED TO FIX\n",
    "- Randoms doesnt cover the whole area --- NEED TO FIX\n",
    "- Save databases to data products --- NEED TO FIX"
   ]
  },
  {
   "cell_type": "markdown",
   "metadata": {},
   "source": [
    "### Imports and formatting: "
   ]
  },
  {
   "cell_type": "code",
   "execution_count": 1,
   "metadata": {},
   "outputs": [
    {
     "data": {
      "text/html": [
       "<style>.container { width:100% !important; }</style>"
      ],
      "text/plain": [
       "<IPython.core.display.HTML object>"
      ]
     },
     "metadata": {},
     "output_type": "display_data"
    }
   ],
   "source": [
    "# Make Jupyter Notebook full screen \n",
    "from IPython.core.display import display, HTML\n",
    "display(HTML(\"<style>.container { width:100% !important; }</style>\"))"
   ]
  },
  {
   "cell_type": "code",
   "execution_count": 2,
   "metadata": {},
   "outputs": [],
   "source": [
    "import treecorr\n",
    "import fitsio\n",
    "import numpy\n",
    "import matplotlib\n",
    "import matplotlib.pyplot as plt\n",
    "import pandas as pd\n",
    "import astropy\n",
    "from astropy.coordinates import SkyCoord\n",
    "import astropy.units as u\n",
    "import sqlite3\n",
    "from astropy.table import Table\n",
    "from matplotlib.patches import Circle\n",
    "from mpl_toolkits.basemap import Basemap"
   ]
  },
  {
   "cell_type": "markdown",
   "metadata": {},
   "source": [
    "### Define notebook wide functions and data paths to use:"
   ]
  },
  {
   "cell_type": "code",
   "execution_count": 3,
   "metadata": {},
   "outputs": [],
   "source": [
    "'''\n",
    "Convert from PanSTARRS data where RA is in \"u.hourangle\" and DEC is in \"u.deg\" to just degrees\n",
    " @Param Dataframe     is the panstarrs dataframe to convert\n",
    " @Param newDataFrame  is the new data frame you will fill in \n",
    " --- FIX: could be improved to be more versitile\n",
    "'''\n",
    "def getRADecFromHourAngles(Dataframe, newDataFrame):\n",
    "    for i, row in Dataframe.iterrows():\n",
    "        Coords = SkyCoord(PanSTARRS['RA'][i], PanSTARRS['Dec'][i], unit=(u.hourangle, u.deg))\n",
    "        newDataFrame['ID'][i] = row['ID']\n",
    "        newDataFrame['RA'][i] = Coords.ra.degree\n",
    "        newDataFrame['DEC'][i] = Coords.dec.degree \n",
    "        newDataFrame['zSN'][i] = row['zSN']\n",
    "        newDataFrame['zHost'][i] = row['zHost']"
   ]
  },
  {
   "cell_type": "code",
   "execution_count": 4,
   "metadata": {},
   "outputs": [],
   "source": [
    "dataPath = '/Users/megantabbutt/CosmologyDataProducts/'"
   ]
  },
  {
   "cell_type": "markdown",
   "metadata": {},
   "source": [
    " <hr style=\"height:3px\"> "
   ]
  },
  {
   "cell_type": "markdown",
   "metadata": {},
   "source": [
    "\n",
    "## 0. Pull in and parse data:\n",
    "\n",
    "note: There are 10 pointings for the PanSTARRS data, we will use all 10 for the Auto Correlation, but when we correlated to CMASS, we need to only use the 9 overlap with CMASS. --- IMPORTANT"
   ]
  },
  {
   "cell_type": "markdown",
   "metadata": {},
   "source": [
    "#### PanSTARRS: "
   ]
  },
  {
   "cell_type": "code",
   "execution_count": 5,
   "metadata": {},
   "outputs": [
    {
     "data": {
      "text/html": [
       "<div>\n",
       "<style scoped>\n",
       "    .dataframe tbody tr th:only-of-type {\n",
       "        vertical-align: middle;\n",
       "    }\n",
       "\n",
       "    .dataframe tbody tr th {\n",
       "        vertical-align: top;\n",
       "    }\n",
       "\n",
       "    .dataframe thead th {\n",
       "        text-align: right;\n",
       "    }\n",
       "</style>\n",
       "<table border=\"1\" class=\"dataframe\">\n",
       "  <thead>\n",
       "    <tr style=\"text-align: right;\">\n",
       "      <th></th>\n",
       "      <th>ID</th>\n",
       "      <th>RA</th>\n",
       "      <th>DEC</th>\n",
       "      <th>zSN</th>\n",
       "      <th>zHost</th>\n",
       "    </tr>\n",
       "  </thead>\n",
       "  <tbody>\n",
       "    <tr>\n",
       "      <th>0</th>\n",
       "      <td>ps0909006</td>\n",
       "      <td>333.95</td>\n",
       "      <td>1.18483</td>\n",
       "      <td>0.284</td>\n",
       "      <td>-999</td>\n",
       "    </tr>\n",
       "    <tr>\n",
       "      <th>1</th>\n",
       "      <td>ps0909010</td>\n",
       "      <td>37.1182</td>\n",
       "      <td>-4.07891</td>\n",
       "      <td>0.27</td>\n",
       "      <td>-999</td>\n",
       "    </tr>\n",
       "    <tr>\n",
       "      <th>2</th>\n",
       "      <td>ps0910017</td>\n",
       "      <td>35.2775</td>\n",
       "      <td>-5.02329</td>\n",
       "      <td>0.32</td>\n",
       "      <td>-999</td>\n",
       "    </tr>\n",
       "  </tbody>\n",
       "</table>\n",
       "</div>"
      ],
      "text/plain": [
       "          ID       RA      DEC    zSN zHost\n",
       "0  ps0909006   333.95  1.18483  0.284  -999\n",
       "1  ps0909010  37.1182 -4.07891   0.27  -999\n",
       "2  ps0910017  35.2775 -5.02329   0.32  -999"
      ]
     },
     "execution_count": 5,
     "metadata": {},
     "output_type": "execute_result"
    }
   ],
   "source": [
    "# Different code parses the .txt file into a JSON, pull in from JSON here: \n",
    "\n",
    "PanSTARRS = pd.read_json( dataPath + 'PanSTARRS_Data.json', orient='columns' )\n",
    "PanSTARRSNEW = pd.DataFrame(columns = ['ID', 'RA', 'DEC', 'zSN', 'zHost'], index=PanSTARRS.index)\n",
    "getRADecFromHourAngles(PanSTARRS, PanSTARRSNEW) \n",
    "PanSTARRSNEW.head(3) #1169 objects"
   ]
  },
  {
   "cell_type": "code",
   "execution_count": 6,
   "metadata": {},
   "outputs": [
    {
     "data": {
      "text/html": [
       "<div>\n",
       "<style scoped>\n",
       "    .dataframe tbody tr th:only-of-type {\n",
       "        vertical-align: middle;\n",
       "    }\n",
       "\n",
       "    .dataframe tbody tr th {\n",
       "        vertical-align: top;\n",
       "    }\n",
       "\n",
       "    .dataframe thead th {\n",
       "        text-align: right;\n",
       "    }\n",
       "</style>\n",
       "<table border=\"1\" class=\"dataframe\">\n",
       "  <thead>\n",
       "    <tr style=\"text-align: right;\">\n",
       "      <th></th>\n",
       "      <th>ID</th>\n",
       "      <th>DEC</th>\n",
       "      <th>RA</th>\n",
       "      <th>zSN</th>\n",
       "      <th>zHost</th>\n",
       "    </tr>\n",
       "  </thead>\n",
       "  <tbody>\n",
       "    <tr>\n",
       "      <th>0</th>\n",
       "      <td>ps0909006</td>\n",
       "      <td>1.184831</td>\n",
       "      <td>333.9500</td>\n",
       "      <td>0.284</td>\n",
       "      <td>-999.0</td>\n",
       "    </tr>\n",
       "    <tr>\n",
       "      <th>1</th>\n",
       "      <td>ps0909010</td>\n",
       "      <td>-4.078911</td>\n",
       "      <td>37.1182</td>\n",
       "      <td>0.270</td>\n",
       "      <td>-999.0</td>\n",
       "    </tr>\n",
       "    <tr>\n",
       "      <th>2</th>\n",
       "      <td>ps0910017</td>\n",
       "      <td>-5.023289</td>\n",
       "      <td>35.2775</td>\n",
       "      <td>0.320</td>\n",
       "      <td>-999.0</td>\n",
       "    </tr>\n",
       "  </tbody>\n",
       "</table>\n",
       "</div>"
      ],
      "text/plain": [
       "          ID       DEC        RA    zSN  zHost\n",
       "0  ps0909006  1.184831  333.9500  0.284 -999.0\n",
       "1  ps0909010 -4.078911   37.1182  0.270 -999.0\n",
       "2  ps0910017 -5.023289   35.2775  0.320 -999.0"
      ]
     },
     "execution_count": 6,
     "metadata": {},
     "output_type": "execute_result"
    }
   ],
   "source": [
    "# Open a SQL Connection and pull out SNe data that has a good z for itsself or its host\n",
    "\n",
    "connPAN = sqlite3.connect(dataPath + 'PanSTARRS.db')\n",
    "#PanSTARRSNEW.to_sql(\"PanSTARRSNEW\", con=connPAN) # Execute this if pd doesn't exist already\n",
    "\n",
    "qry = \"SELECT ID, DEC, RA, zSN, zHost FROM PanSTARRSNEW WHERE (zSN > -999) || (zHost > -999)\"\n",
    "PanSTARRSNEW_GoodZ = pd.read_sql(qry, con=connPAN)\n",
    "PanSTARRSNEW_GoodZ.head(3) # 1129 objects over 10 pointings "
   ]
  },
  {
   "cell_type": "markdown",
   "metadata": {},
   "source": [
    "#### CMASS/LOWZ:"
   ]
  },
  {
   "cell_type": "code",
   "execution_count": 7,
   "metadata": {},
   "outputs": [
    {
     "data": {
      "text/html": [
       "<div>\n",
       "<style scoped>\n",
       "    .dataframe tbody tr th:only-of-type {\n",
       "        vertical-align: middle;\n",
       "    }\n",
       "\n",
       "    .dataframe tbody tr th {\n",
       "        vertical-align: top;\n",
       "    }\n",
       "\n",
       "    .dataframe thead th {\n",
       "        text-align: right;\n",
       "    }\n",
       "</style>\n",
       "<table border=\"1\" class=\"dataframe\">\n",
       "  <thead>\n",
       "    <tr style=\"text-align: right;\">\n",
       "      <th></th>\n",
       "      <th>RA</th>\n",
       "      <th>DEC</th>\n",
       "      <th>Z</th>\n",
       "      <th>NZ</th>\n",
       "    </tr>\n",
       "  </thead>\n",
       "  <tbody>\n",
       "    <tr>\n",
       "      <th>0</th>\n",
       "      <td>195.071285</td>\n",
       "      <td>-0.590771</td>\n",
       "      <td>0.465648</td>\n",
       "      <td>0.000345</td>\n",
       "    </tr>\n",
       "    <tr>\n",
       "      <th>1</th>\n",
       "      <td>195.022992</td>\n",
       "      <td>-0.610999</td>\n",
       "      <td>0.565802</td>\n",
       "      <td>0.000319</td>\n",
       "    </tr>\n",
       "    <tr>\n",
       "      <th>2</th>\n",
       "      <td>195.079741</td>\n",
       "      <td>0.348981</td>\n",
       "      <td>0.612211</td>\n",
       "      <td>0.000191</td>\n",
       "    </tr>\n",
       "  </tbody>\n",
       "</table>\n",
       "</div>"
      ],
      "text/plain": [
       "           RA       DEC         Z        NZ\n",
       "0  195.071285 -0.590771  0.465648  0.000345\n",
       "1  195.022992 -0.610999  0.565802  0.000319\n",
       "2  195.079741  0.348981  0.612211  0.000191"
      ]
     },
     "execution_count": 7,
     "metadata": {},
     "output_type": "execute_result"
    }
   ],
   "source": [
    "# Pull in the CMASS data from a fits file and delete some columns that are no good for pd dataframe:\n",
    "\n",
    "CMASSLOWZTOT_North_Tbl = Table.read(dataPath + 'galaxy_DR12v5_CMASSLOWZTOT_North.fits', format='fits')\n",
    "del CMASSLOWZTOT_North_Tbl['FRACPSF', 'EXPFLUX', 'DEVFLUX', 'PSFFLUX', 'MODELFLUX', 'FIBER2FLUX', 'R_DEV', 'EXTINCTION', \n",
    "                           'PSF_FWHM', 'SKYFLUX', 'IMAGE_DEPTH', 'TILE', 'RERUN', 'CAMCOL', 'FIELD', 'ID', 'ICHUNK', 'RUN', \n",
    "                          'IPOLY', 'AIRMASS', 'EB_MINUS_V', 'IMATCH', 'WEIGHT_FKP', 'WEIGHT_CP', 'WEIGHT_NOZ', 'WEIGHT_STAR',\n",
    "                          'WEIGHT_SEEING', 'WEIGHT_SYSTOT', 'COMP', 'PLATE', 'FIBERID', 'MJD', 'FINALN', 'SPECTILE', 'ICOLLIDED', \n",
    "                          'INGROUP', 'MULTGROUP', 'ISECT']\n",
    "CMASSLOWZTOT_North_DF = CMASSLOWZTOT_North_Tbl.to_pandas()\n",
    "CMASSLOWZTOT_North_DF.head(3)"
   ]
  },
  {
   "cell_type": "code",
   "execution_count": 8,
   "metadata": {},
   "outputs": [
    {
     "data": {
      "text/html": [
       "<div>\n",
       "<style scoped>\n",
       "    .dataframe tbody tr th:only-of-type {\n",
       "        vertical-align: middle;\n",
       "    }\n",
       "\n",
       "    .dataframe tbody tr th {\n",
       "        vertical-align: top;\n",
       "    }\n",
       "\n",
       "    .dataframe thead th {\n",
       "        text-align: right;\n",
       "    }\n",
       "</style>\n",
       "<table border=\"1\" class=\"dataframe\">\n",
       "  <thead>\n",
       "    <tr style=\"text-align: right;\">\n",
       "      <th></th>\n",
       "      <th>RA</th>\n",
       "      <th>DEC</th>\n",
       "      <th>Z</th>\n",
       "      <th>NZ</th>\n",
       "    </tr>\n",
       "  </thead>\n",
       "  <tbody>\n",
       "    <tr>\n",
       "      <th>0</th>\n",
       "      <td>321.480329</td>\n",
       "      <td>9.973440</td>\n",
       "      <td>0.301401</td>\n",
       "      <td>0.000390</td>\n",
       "    </tr>\n",
       "    <tr>\n",
       "      <th>1</th>\n",
       "      <td>321.359691</td>\n",
       "      <td>9.933358</td>\n",
       "      <td>0.458872</td>\n",
       "      <td>0.000350</td>\n",
       "    </tr>\n",
       "    <tr>\n",
       "      <th>2</th>\n",
       "      <td>322.614181</td>\n",
       "      <td>10.144496</td>\n",
       "      <td>0.579383</td>\n",
       "      <td>0.000273</td>\n",
       "    </tr>\n",
       "  </tbody>\n",
       "</table>\n",
       "</div>"
      ],
      "text/plain": [
       "           RA        DEC         Z        NZ\n",
       "0  321.480329   9.973440  0.301401  0.000390\n",
       "1  321.359691   9.933358  0.458872  0.000350\n",
       "2  322.614181  10.144496  0.579383  0.000273"
      ]
     },
     "execution_count": 8,
     "metadata": {},
     "output_type": "execute_result"
    }
   ],
   "source": [
    "CMASSLOWZTOT_South_Tbl = Table.read(dataPath + 'galaxy_DR12v5_CMASSLOWZTOT_South.fits', format='fits')\n",
    "del CMASSLOWZTOT_South_Tbl['FRACPSF', 'EXPFLUX', 'DEVFLUX', 'PSFFLUX', 'MODELFLUX', 'FIBER2FLUX', 'R_DEV', 'EXTINCTION', \n",
    "                           'PSF_FWHM', 'SKYFLUX', 'IMAGE_DEPTH', 'TILE', 'RERUN', 'CAMCOL', 'FIELD', 'ID', 'ICHUNK', 'RUN', \n",
    "                          'IPOLY', 'AIRMASS', 'EB_MINUS_V', 'IMATCH', 'WEIGHT_FKP', 'WEIGHT_CP', 'WEIGHT_NOZ', 'WEIGHT_STAR',\n",
    "                          'WEIGHT_SEEING', 'WEIGHT_SYSTOT', 'COMP', 'PLATE', 'FIBERID', 'MJD', 'FINALN', 'SPECTILE', 'ICOLLIDED', \n",
    "                          'INGROUP', 'MULTGROUP', 'ISECT']\n",
    "CMASSLOWZTOT_South_DF = CMASSLOWZTOT_South_Tbl.to_pandas()\n",
    "CMASSLOWZTOT_South_DF.head(3)"
   ]
  },
  {
   "cell_type": "code",
   "execution_count": 9,
   "metadata": {},
   "outputs": [
    {
     "data": {
      "text/html": [
       "<div>\n",
       "<style scoped>\n",
       "    .dataframe tbody tr th:only-of-type {\n",
       "        vertical-align: middle;\n",
       "    }\n",
       "\n",
       "    .dataframe tbody tr th {\n",
       "        vertical-align: top;\n",
       "    }\n",
       "\n",
       "    .dataframe thead th {\n",
       "        text-align: right;\n",
       "    }\n",
       "</style>\n",
       "<table border=\"1\" class=\"dataframe\">\n",
       "  <thead>\n",
       "    <tr style=\"text-align: right;\">\n",
       "      <th></th>\n",
       "      <th>index</th>\n",
       "      <th>RA</th>\n",
       "      <th>DEC</th>\n",
       "      <th>Z</th>\n",
       "      <th>NZ</th>\n",
       "    </tr>\n",
       "  </thead>\n",
       "  <tbody>\n",
       "    <tr>\n",
       "      <th>0</th>\n",
       "      <td>0</td>\n",
       "      <td>195.071285</td>\n",
       "      <td>-0.590771</td>\n",
       "      <td>0.465648</td>\n",
       "      <td>0.000345</td>\n",
       "    </tr>\n",
       "    <tr>\n",
       "      <th>1</th>\n",
       "      <td>0</td>\n",
       "      <td>321.480329</td>\n",
       "      <td>9.973440</td>\n",
       "      <td>0.301401</td>\n",
       "      <td>0.000390</td>\n",
       "    </tr>\n",
       "    <tr>\n",
       "      <th>2</th>\n",
       "      <td>1</td>\n",
       "      <td>195.022992</td>\n",
       "      <td>-0.610999</td>\n",
       "      <td>0.565802</td>\n",
       "      <td>0.000319</td>\n",
       "    </tr>\n",
       "  </tbody>\n",
       "</table>\n",
       "</div>"
      ],
      "text/plain": [
       "   index          RA       DEC         Z        NZ\n",
       "0      0  195.071285 -0.590771  0.465648  0.000345\n",
       "1      0  321.480329  9.973440  0.301401  0.000390\n",
       "2      1  195.022992 -0.610999  0.565802  0.000319"
      ]
     },
     "execution_count": 9,
     "metadata": {},
     "output_type": "execute_result"
    }
   ],
   "source": [
    "# Open a SQL connection to union the four CMASS/LOWZ data sets together: \n",
    "\n",
    "connBOSS = sqlite3.connect(dataPath + 'CMASS_and_LOWZ.db')\n",
    "#CMASSLOWZTOT_South_DF.to_sql(\"CMASSLOWZTOT_South\", con=connBOSS) # Execute these if .db doesn't exist yet\n",
    "#CMASSLOWZTOT_North_DF.to_sql(\"CMASSLOWZTOT_North\", con=connBOSS) # Do one at a time to make sure all is good\n",
    "\n",
    "qry = \"SELECT * FROM CMASSLOWZTOT_South UNION SELECT * FROM CMASSLOWZTOT_North\"\n",
    "CMASSLOWZTOT_DF = pd.read_sql(qry, con=connBOSS)\n",
    "CMASSLOWZTOT_DF.head(3) # 1.3 million objects"
   ]
  },
  {
   "cell_type": "markdown",
   "metadata": {},
   "source": [
    "#### Pull in the Randoms provided by CMASS:"
   ]
  },
  {
   "cell_type": "code",
   "execution_count": 10,
   "metadata": {},
   "outputs": [
    {
     "ename": "KeyboardInterrupt",
     "evalue": "",
     "output_type": "error",
     "traceback": [
      "\u001b[0;31m---------------------------------------------------------------------------\u001b[0m",
      "\u001b[0;31mKeyboardInterrupt\u001b[0m                         Traceback (most recent call last)",
      "\u001b[0;32m<ipython-input-10-1a5a82d87767>\u001b[0m in \u001b[0;36m<module>\u001b[0;34m\u001b[0m\n\u001b[0;32m----> 1\u001b[0;31m \u001b[0mCMASSLOWZTOT_North_rand_Tbl\u001b[0m \u001b[0;34m=\u001b[0m \u001b[0mTable\u001b[0m\u001b[0;34m.\u001b[0m\u001b[0mread\u001b[0m\u001b[0;34m(\u001b[0m\u001b[0mdataPath\u001b[0m \u001b[0;34m+\u001b[0m \u001b[0;34m'random0_DR12v5_CMASSLOWZTOT_North.fits'\u001b[0m\u001b[0;34m,\u001b[0m \u001b[0mformat\u001b[0m\u001b[0;34m=\u001b[0m\u001b[0;34m'fits'\u001b[0m\u001b[0;34m)\u001b[0m\u001b[0;34m\u001b[0m\u001b[0;34m\u001b[0m\u001b[0m\n\u001b[0m\u001b[1;32m      2\u001b[0m del CMASSLOWZTOT_North_rand_Tbl['WEIGHT_FKP', 'IPOLY', 'ISECT', 'ZINDX', 'SKYFLUX', 'IMAGE_DEPTH', \n\u001b[1;32m      3\u001b[0m                                 'AIRMASS', 'EB_MINUS_V', 'PSF_FWHM']\n\u001b[1;32m      4\u001b[0m \u001b[0mCMASSLOWZTOT_North_rand_Tbl\u001b[0m\u001b[0;34m\u001b[0m\u001b[0;34m\u001b[0m\u001b[0m\n\u001b[1;32m      5\u001b[0m \u001b[0mCMASSLOWZTOT_North_rand_DF\u001b[0m \u001b[0;34m=\u001b[0m \u001b[0mCMASSLOWZTOT_North_rand_Tbl\u001b[0m\u001b[0;34m.\u001b[0m\u001b[0mto_pandas\u001b[0m\u001b[0;34m(\u001b[0m\u001b[0;34m)\u001b[0m\u001b[0;34m\u001b[0m\u001b[0;34m\u001b[0m\u001b[0m\n",
      "\u001b[0;32m//miniconda3/envs/ccl/lib/python3.7/site-packages/astropy/table/connect.py\u001b[0m in \u001b[0;36m__call__\u001b[0;34m(self, *args, **kwargs)\u001b[0m\n\u001b[1;32m     50\u001b[0m     \u001b[0;32mdef\u001b[0m \u001b[0m__call__\u001b[0m\u001b[0;34m(\u001b[0m\u001b[0mself\u001b[0m\u001b[0;34m,\u001b[0m \u001b[0;34m*\u001b[0m\u001b[0margs\u001b[0m\u001b[0;34m,\u001b[0m \u001b[0;34m**\u001b[0m\u001b[0mkwargs\u001b[0m\u001b[0;34m)\u001b[0m\u001b[0;34m:\u001b[0m\u001b[0;34m\u001b[0m\u001b[0;34m\u001b[0m\u001b[0m\n\u001b[1;32m     51\u001b[0m         \u001b[0mcls\u001b[0m \u001b[0;34m=\u001b[0m \u001b[0mself\u001b[0m\u001b[0;34m.\u001b[0m\u001b[0m_cls\u001b[0m\u001b[0;34m\u001b[0m\u001b[0;34m\u001b[0m\u001b[0m\n\u001b[0;32m---> 52\u001b[0;31m         \u001b[0mout\u001b[0m \u001b[0;34m=\u001b[0m \u001b[0mregistry\u001b[0m\u001b[0;34m.\u001b[0m\u001b[0mread\u001b[0m\u001b[0;34m(\u001b[0m\u001b[0mcls\u001b[0m\u001b[0;34m,\u001b[0m \u001b[0;34m*\u001b[0m\u001b[0margs\u001b[0m\u001b[0;34m,\u001b[0m \u001b[0;34m**\u001b[0m\u001b[0mkwargs\u001b[0m\u001b[0;34m)\u001b[0m\u001b[0;34m\u001b[0m\u001b[0;34m\u001b[0m\u001b[0m\n\u001b[0m\u001b[1;32m     53\u001b[0m \u001b[0;34m\u001b[0m\u001b[0m\n\u001b[1;32m     54\u001b[0m         \u001b[0;31m# For some readers (e.g., ascii.ecsv), the returned `out` class is not\u001b[0m\u001b[0;34m\u001b[0m\u001b[0;34m\u001b[0m\u001b[0;34m\u001b[0m\u001b[0m\n",
      "\u001b[0;32m//miniconda3/envs/ccl/lib/python3.7/site-packages/astropy/io/registry.py\u001b[0m in \u001b[0;36mread\u001b[0;34m(cls, format, *args, **kwargs)\u001b[0m\n\u001b[1;32m    521\u001b[0m \u001b[0;34m\u001b[0m\u001b[0m\n\u001b[1;32m    522\u001b[0m         \u001b[0mreader\u001b[0m \u001b[0;34m=\u001b[0m \u001b[0mget_reader\u001b[0m\u001b[0;34m(\u001b[0m\u001b[0mformat\u001b[0m\u001b[0;34m,\u001b[0m \u001b[0mcls\u001b[0m\u001b[0;34m)\u001b[0m\u001b[0;34m\u001b[0m\u001b[0;34m\u001b[0m\u001b[0m\n\u001b[0;32m--> 523\u001b[0;31m         \u001b[0mdata\u001b[0m \u001b[0;34m=\u001b[0m \u001b[0mreader\u001b[0m\u001b[0;34m(\u001b[0m\u001b[0;34m*\u001b[0m\u001b[0margs\u001b[0m\u001b[0;34m,\u001b[0m \u001b[0;34m**\u001b[0m\u001b[0mkwargs\u001b[0m\u001b[0;34m)\u001b[0m\u001b[0;34m\u001b[0m\u001b[0;34m\u001b[0m\u001b[0m\n\u001b[0m\u001b[1;32m    524\u001b[0m \u001b[0;34m\u001b[0m\u001b[0m\n\u001b[1;32m    525\u001b[0m         \u001b[0;32mif\u001b[0m \u001b[0;32mnot\u001b[0m \u001b[0misinstance\u001b[0m\u001b[0;34m(\u001b[0m\u001b[0mdata\u001b[0m\u001b[0;34m,\u001b[0m \u001b[0mcls\u001b[0m\u001b[0;34m)\u001b[0m\u001b[0;34m:\u001b[0m\u001b[0;34m\u001b[0m\u001b[0;34m\u001b[0m\u001b[0m\n",
      "\u001b[0;32m//miniconda3/envs/ccl/lib/python3.7/site-packages/astropy/io/fits/connect.py\u001b[0m in \u001b[0;36mread_table_fits\u001b[0;34m(input, hdu, astropy_native, memmap, character_as_bytes)\u001b[0m\n\u001b[1;32m    214\u001b[0m         \u001b[0;32mtry\u001b[0m\u001b[0;34m:\u001b[0m\u001b[0;34m\u001b[0m\u001b[0;34m\u001b[0m\u001b[0m\n\u001b[1;32m    215\u001b[0m             return read_table_fits(hdulist, hdu=hdu,\n\u001b[0;32m--> 216\u001b[0;31m                                    astropy_native=astropy_native)\n\u001b[0m\u001b[1;32m    217\u001b[0m         \u001b[0;32mfinally\u001b[0m\u001b[0;34m:\u001b[0m\u001b[0;34m\u001b[0m\u001b[0;34m\u001b[0m\u001b[0m\n\u001b[1;32m    218\u001b[0m             \u001b[0mhdulist\u001b[0m\u001b[0;34m.\u001b[0m\u001b[0mclose\u001b[0m\u001b[0;34m(\u001b[0m\u001b[0;34m)\u001b[0m\u001b[0;34m\u001b[0m\u001b[0;34m\u001b[0m\u001b[0m\n",
      "\u001b[0;32m//miniconda3/envs/ccl/lib/python3.7/site-packages/astropy/io/fits/connect.py\u001b[0m in \u001b[0;36mread_table_fits\u001b[0;34m(input, hdu, astropy_native, memmap, character_as_bytes)\u001b[0m\n\u001b[1;32m    226\u001b[0m     \u001b[0;31m# In the loop below we access the data using data[col.name] rather than\u001b[0m\u001b[0;34m\u001b[0m\u001b[0;34m\u001b[0m\u001b[0;34m\u001b[0m\u001b[0m\n\u001b[1;32m    227\u001b[0m     \u001b[0;31m# col.array to make sure that the data is scaled correctly if needed.\u001b[0m\u001b[0;34m\u001b[0m\u001b[0;34m\u001b[0m\u001b[0;34m\u001b[0m\u001b[0m\n\u001b[0;32m--> 228\u001b[0;31m     \u001b[0mdata\u001b[0m \u001b[0;34m=\u001b[0m \u001b[0mtable\u001b[0m\u001b[0;34m.\u001b[0m\u001b[0mdata\u001b[0m\u001b[0;34m\u001b[0m\u001b[0;34m\u001b[0m\u001b[0m\n\u001b[0m\u001b[1;32m    229\u001b[0m \u001b[0;34m\u001b[0m\u001b[0m\n\u001b[1;32m    230\u001b[0m     \u001b[0mcolumns\u001b[0m \u001b[0;34m=\u001b[0m \u001b[0;34m[\u001b[0m\u001b[0;34m]\u001b[0m\u001b[0;34m\u001b[0m\u001b[0;34m\u001b[0m\u001b[0m\n",
      "\u001b[0;32m//miniconda3/envs/ccl/lib/python3.7/site-packages/astropy/utils/decorators.py\u001b[0m in \u001b[0;36m__get__\u001b[0;34m(self, obj, owner)\u001b[0m\n\u001b[1;32m    742\u001b[0m                 \u001b[0;32mreturn\u001b[0m \u001b[0mval\u001b[0m\u001b[0;34m\u001b[0m\u001b[0;34m\u001b[0m\u001b[0m\n\u001b[1;32m    743\u001b[0m             \u001b[0;32melse\u001b[0m\u001b[0;34m:\u001b[0m\u001b[0;34m\u001b[0m\u001b[0;34m\u001b[0m\u001b[0m\n\u001b[0;32m--> 744\u001b[0;31m                 \u001b[0mval\u001b[0m \u001b[0;34m=\u001b[0m \u001b[0mself\u001b[0m\u001b[0;34m.\u001b[0m\u001b[0mfget\u001b[0m\u001b[0;34m(\u001b[0m\u001b[0mobj\u001b[0m\u001b[0;34m)\u001b[0m\u001b[0;34m\u001b[0m\u001b[0;34m\u001b[0m\u001b[0m\n\u001b[0m\u001b[1;32m    745\u001b[0m                 \u001b[0mobj\u001b[0m\u001b[0;34m.\u001b[0m\u001b[0m__dict__\u001b[0m\u001b[0;34m[\u001b[0m\u001b[0mself\u001b[0m\u001b[0;34m.\u001b[0m\u001b[0m_key\u001b[0m\u001b[0;34m]\u001b[0m \u001b[0;34m=\u001b[0m \u001b[0mval\u001b[0m\u001b[0;34m\u001b[0m\u001b[0;34m\u001b[0m\u001b[0m\n\u001b[1;32m    746\u001b[0m                 \u001b[0;32mreturn\u001b[0m \u001b[0mval\u001b[0m\u001b[0;34m\u001b[0m\u001b[0;34m\u001b[0m\u001b[0m\n",
      "\u001b[0;32m//miniconda3/envs/ccl/lib/python3.7/site-packages/astropy/io/fits/hdu/table.py\u001b[0m in \u001b[0;36mdata\u001b[0;34m(self)\u001b[0m\n\u001b[1;32m    397\u001b[0m     \u001b[0;34m@\u001b[0m\u001b[0mlazyproperty\u001b[0m\u001b[0;34m\u001b[0m\u001b[0;34m\u001b[0m\u001b[0m\n\u001b[1;32m    398\u001b[0m     \u001b[0;32mdef\u001b[0m \u001b[0mdata\u001b[0m\u001b[0;34m(\u001b[0m\u001b[0mself\u001b[0m\u001b[0;34m)\u001b[0m\u001b[0;34m:\u001b[0m\u001b[0;34m\u001b[0m\u001b[0;34m\u001b[0m\u001b[0m\n\u001b[0;32m--> 399\u001b[0;31m         \u001b[0mdata\u001b[0m \u001b[0;34m=\u001b[0m \u001b[0mself\u001b[0m\u001b[0;34m.\u001b[0m\u001b[0m_get_tbdata\u001b[0m\u001b[0;34m(\u001b[0m\u001b[0;34m)\u001b[0m\u001b[0;34m\u001b[0m\u001b[0;34m\u001b[0m\u001b[0m\n\u001b[0m\u001b[1;32m    400\u001b[0m         \u001b[0mdata\u001b[0m\u001b[0;34m.\u001b[0m\u001b[0m_coldefs\u001b[0m \u001b[0;34m=\u001b[0m \u001b[0mself\u001b[0m\u001b[0;34m.\u001b[0m\u001b[0mcolumns\u001b[0m\u001b[0;34m\u001b[0m\u001b[0;34m\u001b[0m\u001b[0m\n\u001b[1;32m    401\u001b[0m         \u001b[0mdata\u001b[0m\u001b[0;34m.\u001b[0m\u001b[0m_character_as_bytes\u001b[0m \u001b[0;34m=\u001b[0m \u001b[0mself\u001b[0m\u001b[0;34m.\u001b[0m\u001b[0m_character_as_bytes\u001b[0m\u001b[0;34m\u001b[0m\u001b[0;34m\u001b[0m\u001b[0m\n",
      "\u001b[0;32m//miniconda3/envs/ccl/lib/python3.7/site-packages/astropy/io/fits/hdu/table.py\u001b[0m in \u001b[0;36m_get_tbdata\u001b[0;34m(self)\u001b[0m\n\u001b[1;32m    170\u001b[0m         \u001b[0;32melse\u001b[0m\u001b[0;34m:\u001b[0m\u001b[0;34m\u001b[0m\u001b[0;34m\u001b[0m\u001b[0m\n\u001b[1;32m    171\u001b[0m             raw_data = self._get_raw_data(self._nrows, columns.dtype,\n\u001b[0;32m--> 172\u001b[0;31m                                           self._data_offset)\n\u001b[0m\u001b[1;32m    173\u001b[0m             \u001b[0;32mif\u001b[0m \u001b[0mraw_data\u001b[0m \u001b[0;32mis\u001b[0m \u001b[0;32mNone\u001b[0m\u001b[0;34m:\u001b[0m\u001b[0;34m\u001b[0m\u001b[0;34m\u001b[0m\u001b[0m\n\u001b[1;32m    174\u001b[0m                 \u001b[0;31m# This can happen when a brand new table HDU is being created\u001b[0m\u001b[0;34m\u001b[0m\u001b[0;34m\u001b[0m\u001b[0;34m\u001b[0m\u001b[0m\n",
      "\u001b[0;32m//miniconda3/envs/ccl/lib/python3.7/site-packages/astropy/io/fits/hdu/base.py\u001b[0m in \u001b[0;36m_get_raw_data\u001b[0;34m(self, shape, code, offset)\u001b[0m\n\u001b[1;32m    505\u001b[0m                               offset=offset)\n\u001b[1;32m    506\u001b[0m         \u001b[0;32melif\u001b[0m \u001b[0mself\u001b[0m\u001b[0;34m.\u001b[0m\u001b[0m_file\u001b[0m\u001b[0;34m:\u001b[0m\u001b[0;34m\u001b[0m\u001b[0;34m\u001b[0m\u001b[0m\n\u001b[0;32m--> 507\u001b[0;31m             \u001b[0;32mreturn\u001b[0m \u001b[0mself\u001b[0m\u001b[0;34m.\u001b[0m\u001b[0m_file\u001b[0m\u001b[0;34m.\u001b[0m\u001b[0mreadarray\u001b[0m\u001b[0;34m(\u001b[0m\u001b[0moffset\u001b[0m\u001b[0;34m=\u001b[0m\u001b[0moffset\u001b[0m\u001b[0;34m,\u001b[0m \u001b[0mdtype\u001b[0m\u001b[0;34m=\u001b[0m\u001b[0mcode\u001b[0m\u001b[0;34m,\u001b[0m \u001b[0mshape\u001b[0m\u001b[0;34m=\u001b[0m\u001b[0mshape\u001b[0m\u001b[0;34m)\u001b[0m\u001b[0;34m\u001b[0m\u001b[0;34m\u001b[0m\u001b[0m\n\u001b[0m\u001b[1;32m    508\u001b[0m         \u001b[0;32melse\u001b[0m\u001b[0;34m:\u001b[0m\u001b[0;34m\u001b[0m\u001b[0;34m\u001b[0m\u001b[0m\n\u001b[1;32m    509\u001b[0m             \u001b[0;32mreturn\u001b[0m \u001b[0;32mNone\u001b[0m\u001b[0;34m\u001b[0m\u001b[0;34m\u001b[0m\u001b[0m\n",
      "\u001b[0;32m//miniconda3/envs/ccl/lib/python3.7/site-packages/astropy/io/fits/file.py\u001b[0m in \u001b[0;36mreadarray\u001b[0;34m(self, size, offset, dtype, shape)\u001b[0m\n\u001b[1;32m    351\u001b[0m                 \u001b[0mcount\u001b[0m \u001b[0;34m=\u001b[0m \u001b[0mreduce\u001b[0m\u001b[0;34m(\u001b[0m\u001b[0moperator\u001b[0m\u001b[0;34m.\u001b[0m\u001b[0mmul\u001b[0m\u001b[0;34m,\u001b[0m \u001b[0mshape\u001b[0m\u001b[0;34m)\u001b[0m\u001b[0;34m\u001b[0m\u001b[0;34m\u001b[0m\u001b[0m\n\u001b[1;32m    352\u001b[0m                 \u001b[0mself\u001b[0m\u001b[0;34m.\u001b[0m\u001b[0m_file\u001b[0m\u001b[0;34m.\u001b[0m\u001b[0mseek\u001b[0m\u001b[0;34m(\u001b[0m\u001b[0moffset\u001b[0m\u001b[0;34m)\u001b[0m\u001b[0;34m\u001b[0m\u001b[0;34m\u001b[0m\u001b[0m\n\u001b[0;32m--> 353\u001b[0;31m                 \u001b[0mdata\u001b[0m \u001b[0;34m=\u001b[0m \u001b[0m_array_from_file\u001b[0m\u001b[0;34m(\u001b[0m\u001b[0mself\u001b[0m\u001b[0;34m.\u001b[0m\u001b[0m_file\u001b[0m\u001b[0;34m,\u001b[0m \u001b[0mdtype\u001b[0m\u001b[0;34m,\u001b[0m \u001b[0mcount\u001b[0m\u001b[0;34m)\u001b[0m\u001b[0;34m\u001b[0m\u001b[0;34m\u001b[0m\u001b[0m\n\u001b[0m\u001b[1;32m    354\u001b[0m                 \u001b[0mdata\u001b[0m\u001b[0;34m.\u001b[0m\u001b[0mshape\u001b[0m \u001b[0;34m=\u001b[0m \u001b[0mshape\u001b[0m\u001b[0;34m\u001b[0m\u001b[0;34m\u001b[0m\u001b[0m\n\u001b[1;32m    355\u001b[0m                 \u001b[0;32mreturn\u001b[0m \u001b[0mdata\u001b[0m\u001b[0;34m\u001b[0m\u001b[0;34m\u001b[0m\u001b[0m\n",
      "\u001b[0;32m//miniconda3/envs/ccl/lib/python3.7/site-packages/astropy/io/fits/util.py\u001b[0m in \u001b[0;36m_array_from_file\u001b[0;34m(infile, dtype, count)\u001b[0m\n\u001b[1;32m    584\u001b[0m                 \u001b[0;32mreturn\u001b[0m \u001b[0marray\u001b[0m\u001b[0;34m\u001b[0m\u001b[0;34m\u001b[0m\u001b[0m\n\u001b[1;32m    585\u001b[0m         \u001b[0;32melse\u001b[0m\u001b[0;34m:\u001b[0m\u001b[0;34m\u001b[0m\u001b[0;34m\u001b[0m\u001b[0m\n\u001b[0;32m--> 586\u001b[0;31m             \u001b[0;32mreturn\u001b[0m \u001b[0mnp\u001b[0m\u001b[0;34m.\u001b[0m\u001b[0mfromfile\u001b[0m\u001b[0;34m(\u001b[0m\u001b[0minfile\u001b[0m\u001b[0;34m,\u001b[0m \u001b[0mdtype\u001b[0m\u001b[0;34m=\u001b[0m\u001b[0mdtype\u001b[0m\u001b[0;34m,\u001b[0m \u001b[0mcount\u001b[0m\u001b[0;34m=\u001b[0m\u001b[0mcount\u001b[0m\u001b[0;34m)\u001b[0m\u001b[0;34m\u001b[0m\u001b[0;34m\u001b[0m\u001b[0m\n\u001b[0m\u001b[1;32m    587\u001b[0m     \u001b[0;32melse\u001b[0m\u001b[0;34m:\u001b[0m\u001b[0;34m\u001b[0m\u001b[0;34m\u001b[0m\u001b[0m\n\u001b[1;32m    588\u001b[0m         \u001b[0;31m# treat as file-like object with \"read\" method; this includes gzip file\u001b[0m\u001b[0;34m\u001b[0m\u001b[0;34m\u001b[0m\u001b[0;34m\u001b[0m\u001b[0m\n",
      "\u001b[0;31mKeyboardInterrupt\u001b[0m: "
     ]
    }
   ],
   "source": [
    "CMASSLOWZTOT_North_rand_Tbl = Table.read(dataPath + 'random0_DR12v5_CMASSLOWZTOT_North.fits', format='fits')\n",
    "del CMASSLOWZTOT_North_rand_Tbl['WEIGHT_FKP', 'IPOLY', 'ISECT', 'ZINDX', 'SKYFLUX', 'IMAGE_DEPTH', \n",
    "                                'AIRMASS', 'EB_MINUS_V', 'PSF_FWHM']\n",
    "CMASSLOWZTOT_North_rand_Tbl\n",
    "CMASSLOWZTOT_North_rand_DF = CMASSLOWZTOT_North_rand_Tbl.to_pandas()\n",
    "CMASSLOWZTOT_North_rand_DF.head(3)"
   ]
  },
  {
   "cell_type": "code",
   "execution_count": null,
   "metadata": {},
   "outputs": [],
   "source": [
    "CMASSLOWZTOT_South_rand_Tbl = Table.read(dataPath + 'random0_DR12v5_CMASSLOWZTOT_South.fits', format='fits')\n",
    "del CMASSLOWZTOT_South_rand_Tbl['WEIGHT_FKP', 'IPOLY', 'ISECT', 'ZINDX', 'SKYFLUX', 'IMAGE_DEPTH', \n",
    "                                'AIRMASS', 'EB_MINUS_V', 'PSF_FWHM']\n",
    "CMASSLOWZTOT_South_rand_Tbl\n",
    "CMASSLOWZTOT_South_rand_DF = CMASSLOWZTOT_South_rand_Tbl.to_pandas()\n",
    "CMASSLOWZTOT_South_rand_DF.head(3)"
   ]
  },
  {
   "cell_type": "code",
   "execution_count": null,
   "metadata": {},
   "outputs": [],
   "source": [
    "connBOSSRands = sqlite3.connect(dataPath + 'CMASS_and_LOWZ_rands.db')\n",
    "#CMASSLOWZTOT_South_rand_DF.to_sql(\"CMASSLOWZTOT_South_rands\", con=connBOSSRands) # Execute these if .db doesn't exist yet\n",
    "#CMASSLOWZTOT_North_rand_DF.to_sql(\"CMASSLOWZTOT_North_rands\", con=connBOSSRands) # Do one at a time to make sure all is good"
   ]
  },
  {
   "cell_type": "code",
   "execution_count": null,
   "metadata": {},
   "outputs": [],
   "source": [
    "randSampleQry = \"SELECT * FROM CMASSLOWZTOT_South_rands WHERE `index` IN (SELECT `index` FROM CMASSLOWZTOT_South_rands ORDER BY RANDOM() LIMIT 10000) UNION SELECT * FROM CMASSLOWZTOT_North_rands WHERE `index` IN (SELECT `index` FROM CMASSLOWZTOT_North_rands ORDER BY RANDOM() LIMIT 10000)\"\n",
    "randQry = \"SELECT * FROM CMASSLOWZTOT_South_rands UNION SELECT * FROM CMASSLOWZTOT_North_rands\"\n",
    "CMASSLOWZTOT_DF_rands = pd.read_sql(randSampleQry, con=connBOSSRands)\n",
    "CMASSLOWZTOT_DF_rands.to_json(dataPath + \"CMASSLOWZTOT_DF_rands\")\n",
    "CMASSLOWZTOT_DF_rands.head(3)"
   ]
  },
  {
   "cell_type": "markdown",
   "metadata": {},
   "source": [
    "## ^ ^ ^ ^ DONT FORGET TO CHANGE ME BACK for HEP!!!!"
   ]
  },
  {
   "cell_type": "markdown",
   "metadata": {},
   "source": [
    " <hr style=\"height:3px\"> "
   ]
  },
  {
   "cell_type": "markdown",
   "metadata": {},
   "source": [
    "## 1. Create the TreeCorr Catalogs of Data:"
   ]
  },
  {
   "cell_type": "code",
   "execution_count": null,
   "metadata": {},
   "outputs": [],
   "source": [
    "catPanSTARRS = treecorr.Catalog(ra=PanSTARRSNEW['RA'], dec=PanSTARRSNEW['DEC'], ra_units='degrees', dec_units='degrees')\n",
    "catPanSTARRS"
   ]
  },
  {
   "cell_type": "markdown",
   "metadata": {},
   "source": [
    "### Count-Count Correlation Function: "
   ]
  },
  {
   "cell_type": "code",
   "execution_count": null,
   "metadata": {},
   "outputs": [],
   "source": [
    "# Data Auto-correlation: (dd)\n",
    "ddPanSTARRS = treecorr.NNCorrelation(min_sep=0.01, max_sep=10, bin_size=0.2, sep_units='degrees')\n",
    "ddPanSTARRS.process(catPanSTARRS)"
   ]
  },
  {
   "cell_type": "markdown",
   "metadata": {},
   "source": [
    "### 1.5 Create the randoms with PanSTARRS since no mask yet\n",
    "Include all ten pointings for now, can redo when we are going to crossCorr with CMASS"
   ]
  },
  {
   "cell_type": "code",
   "execution_count": null,
   "metadata": {},
   "outputs": [],
   "source": [
    "# Change this for HEP for more rands \n",
    "randsLength = 10**5\n",
    "\n",
    "ra_min_PanSTARRS = numpy.min(catPanSTARRS.ra)\n",
    "ra_max_PanSTARRS = numpy.max(catPanSTARRS.ra)\n",
    "dec_min_PanSTARRS = numpy.min(catPanSTARRS.dec)\n",
    "dec_max_PanSTARRS = numpy.max(catPanSTARRS.dec)\n",
    "print('PanSTARRS ra range = %f .. %f' % (ra_min_PanSTARRS, ra_max_PanSTARRS))\n",
    "print('PanSTARRS dec range = %f .. %f' % (dec_min_PanSTARRS, dec_max_PanSTARRS))\n",
    "\n",
    "rand_ra_PanSTARRS = numpy.random.uniform(ra_min_PanSTARRS, ra_max_PanSTARRS, randsLength)\n",
    "rand_sindec_PanSTARRS = numpy.random.uniform(numpy.sin(dec_min_PanSTARRS), numpy.sin(dec_max_PanSTARRS), randsLength)\n",
    "rand_dec_PanSTARRS = numpy.arcsin(rand_sindec_PanSTARRS)"
   ]
  },
  {
   "cell_type": "markdown",
   "metadata": {},
   "source": [
    "## ^ ^ ^ ^ DONT FORGET TO CHANGE ME BACK for HEP!!!!"
   ]
  },
  {
   "cell_type": "code",
   "execution_count": null,
   "metadata": {},
   "outputs": [],
   "source": [
    "# MD02 is the one that needs to be eliminated, not in CMASS footprint \n",
    "\n",
    "pointings = {\"MD01\": [035.875, -04.250], \"MD03\": [130.592, 44.317], \"MD04\": [150.000, 02.200], \n",
    "             \"MD05\": [161.917, 58.083], \"MD06\": [185.000, 47.117], \"MD07\": [213.704, 53.083], \n",
    "             \"MD08\": [242.787, 54.950], \"MD09\": [334.188, 00.283], \"MD10\": [352.312, -00.433], \"MD02\": [053.100, -27.800],}"
   ]
  },
  {
   "cell_type": "code",
   "execution_count": null,
   "metadata": {},
   "outputs": [],
   "source": [
    "# Takes forever \n",
    "# Check that the randoms cover the same space as the data\n",
    "\n",
    "f, (ax1, ax2, ax3) = plt.subplots(1, 3, figsize=(15,5))\n",
    "\n",
    "ax1.scatter(catPanSTARRS.ra * 180/numpy.pi, catPanSTARRS.dec * 180/numpy.pi, color='red', s=0.1, marker='x')\n",
    "ax1.scatter(rand_ra_PanSTARRS * 180/numpy.pi, rand_dec_PanSTARRS * 180/numpy.pi, color='blue', s=0.1)\n",
    "ax1.set_xlabel('RA (degrees)')\n",
    "ax1.set_ylabel('Dec (degrees)')\n",
    "ax1.set_title('Randoms on top of data')\n",
    "\n",
    "# Repeat in the opposite order\n",
    "ax2.scatter(rand_ra_PanSTARRS * 180/numpy.pi, rand_dec_PanSTARRS * 180/numpy.pi, color='red', s=0.1, marker='x')\n",
    "ax2.scatter(catPanSTARRS.ra * 180/numpy.pi, catPanSTARRS.dec * 180/numpy.pi, color='blue', s=0.1)\n",
    "ax2.set_xlabel('RA (degrees)')\n",
    "ax2.set_ylabel('Dec (degrees)')\n",
    "ax2.set_title('Data on top of randoms')\n",
    "\n",
    "# Zoom to look at coverage of randoms and reals\n",
    "ax3.scatter(rand_ra_PanSTARRS * 180/numpy.pi, rand_dec_PanSTARRS * 180/numpy.pi, color='red', s=1, marker='x')\n",
    "ax3.scatter(catPanSTARRS.ra * 180/numpy.pi, catPanSTARRS.dec * 180/numpy.pi, color='blue', s=1)\n",
    "ax3.set_xlabel('RA (degrees)')\n",
    "ax3.set_ylabel('Dec (degrees)')\n",
    "ax3.set_title('Data on top of randoms_Zoom')\n",
    "ax3.set_xlim(129, 133)\n",
    "ax3.set_ylim(42, 46)\n",
    "\n",
    "plt.show()"
   ]
  },
  {
   "cell_type": "code",
   "execution_count": null,
   "metadata": {},
   "outputs": [],
   "source": [
    "# Check that the randoms cover the same space as the data, this takes a while, skip if confident\n",
    "\n",
    "f, (ax3) = plt.subplots(1, 1, figsize=(15,5))\n",
    "\n",
    "# Zoom to look at coverage of randoms and reals\n",
    "ax3.scatter(rand_ra_PanSTARRS * 180/numpy.pi, rand_dec_PanSTARRS * 180/numpy.pi, color='red', s=3, marker='x')\n",
    "ax3.scatter(catPanSTARRS.ra * 180/numpy.pi, catPanSTARRS.dec * 180/numpy.pi, color='blue', s=3)\n",
    "ax3.set_xlabel('RA (degrees)')\n",
    "ax3.set_ylabel('Dec (degrees)')\n",
    "ax3.set_title('Data on top of randoms_Zoom')\n",
    "ax3.set_xlim(129, 133)\n",
    "ax3.set_ylim(42, 46)\n",
    "\n",
    "plt.show()"
   ]
  },
  {
   "cell_type": "code",
   "execution_count": null,
   "metadata": {},
   "outputs": [],
   "source": [
    "rand_ra_PanSTARRS.min()"
   ]
  },
  {
   "cell_type": "code",
   "execution_count": null,
   "metadata": {},
   "outputs": [],
   "source": [
    "maskRA = []\n",
    "maskDEC = []\n",
    "\n",
    "for pointing in pointings: \n",
    "    maskRAprevious = len(maskRA)\n",
    "    X0 = pointings[pointing][0]\n",
    "    Y0 = pointings[pointing][1]\n",
    "    rad = 3.3/2\n",
    "    print(pointings[pointing])\n",
    "    \n",
    "    for i in range(len(rand_ra_PanSTARRS)):\n",
    "        #print(rand_ra_PanSTARRS[i], rand_dec_PanSTARRS[i])\n",
    "        X = rand_ra_PanSTARRS[i] * 180 / numpy.pi\n",
    "        Y = rand_dec_PanSTARRS[i] * 180 / numpy.pi\n",
    "        \n",
    "        if ((X - X0)**2 + (Y - Y0)**2 < rad**2):\n",
    "            maskRA.append(X)\n",
    "            maskDEC.append(Y)\n",
    "    print(len(maskRA) - maskRAprevious)"
   ]
  },
  {
   "cell_type": "code",
   "execution_count": null,
   "metadata": {},
   "outputs": [],
   "source": [
    "# Check that the randoms cover the same space as the data\n",
    "f, (ax1, ax2) = plt.subplots(1, 2, figsize=(15,5))\n",
    "\n",
    "ax1.scatter(catPanSTARRS.ra * 180/numpy.pi, catPanSTARRS.dec * 180/numpy.pi, color='red', s=0.1, marker='x')\n",
    "ax1.scatter(maskRA, maskDEC, color='blue', s=0.1)\n",
    "ax1.set_xlabel('RA (degrees)')\n",
    "ax1.set_ylabel('Dec (degrees)')\n",
    "ax1.set_title('Randoms on top of data')\n",
    "\n",
    "# Repeat in the opposite order\n",
    "ax2.scatter(maskRA, maskDEC, color='blue', s=0.1)\n",
    "ax2.scatter(catPanSTARRS.ra * 180/numpy.pi, catPanSTARRS.dec * 180/numpy.pi, color='red', s=0.1, marker='x')\n",
    "ax2.set_xlabel('RA (degrees)')\n",
    "ax2.set_ylabel('Dec (degrees)')\n",
    "ax2.set_title('Data on top of randoms')\n",
    "\n",
    "plt.show()"
   ]
  },
  {
   "cell_type": "code",
   "execution_count": null,
   "metadata": {},
   "outputs": [],
   "source": [
    "rand = treecorr.Catalog(ra=maskRA, dec=maskDEC, ra_units='degrees', dec_units='degrees')\n",
    "rr = treecorr.NNCorrelation(min_sep=0.01, max_sep=10, bin_size=0.2, sep_units='degrees')\n",
    "rr.process(rand)"
   ]
  },
  {
   "cell_type": "code",
   "execution_count": null,
   "metadata": {},
   "outputs": [],
   "source": [
    "xi, varxi = ddPanSTARRS.calculateXi(rr)\n",
    "\n",
    "r = numpy.exp(ddPanSTARRS.meanlogr)\n",
    "sig = numpy.sqrt(varxi)\n",
    "\n",
    "plt.plot(r, xi, color='blue')\n",
    "plt.plot(r, -xi, color='blue', ls=':')\n",
    "plt.errorbar(r[xi>0], xi[xi>0], yerr=sig[xi>0], color='green', lw=0.5, ls='')\n",
    "plt.errorbar(r[xi<0], -xi[xi<0], yerr=sig[xi<0], color='green', lw=0.5, ls='')\n",
    "leg = plt.errorbar(-r, xi, yerr=sig, color='blue')\n",
    "\n",
    "plt.xscale('log')\n",
    "plt.yscale('log', nonposy='clip')\n",
    "plt.xlabel(r'$\\theta$ (degrees)')\n",
    "\n",
    "plt.legend([leg], [r'$w(\\theta)$'], loc='lower left')\n",
    "plt.xlim([0.01,10])\n",
    "plt.show()"
   ]
  },
  {
   "cell_type": "code",
   "execution_count": null,
   "metadata": {},
   "outputs": [],
   "source": [
    "dr = treecorr.NNCorrelation(min_sep=0.01, max_sep=10, bin_size=0.2, sep_units='degrees')\n",
    "dr.process(catPanSTARRS, rand)"
   ]
  },
  {
   "cell_type": "code",
   "execution_count": null,
   "metadata": {},
   "outputs": [],
   "source": [
    "xi, varxi = ddPanSTARRS.calculateXi(rr, dr)\n",
    "sig = numpy.sqrt(varxi)\n",
    "\n",
    "plt.plot(r, xi, color='blue')\n",
    "plt.plot(r, -xi, color='blue', ls=':')\n",
    "plt.errorbar(r[xi>0], xi[xi>0], yerr=sig[xi>0], color='green', lw=0.5, ls='')\n",
    "plt.errorbar(r[xi<0], -xi[xi<0], yerr=sig[xi<0], color='green', lw=0.5, ls='')\n",
    "leg = plt.errorbar(-r, xi, yerr=sig, color='blue')\n",
    "\n",
    "plt.xscale('log')\n",
    "plt.yscale('log', nonposy='clip')\n",
    "plt.xlabel(r'$\\theta$ (degrees)')\n",
    "\n",
    "plt.legend([leg], [r'$w(\\theta)$'], loc='lower left')\n",
    "plt.xlim([0.01,10])\n",
    "plt.show()"
   ]
  },
  {
   "cell_type": "markdown",
   "metadata": {},
   "source": [
    "## 2.  CMASS Count-Count Auto Correlation Function:"
   ]
  },
  {
   "cell_type": "code",
   "execution_count": null,
   "metadata": {},
   "outputs": [],
   "source": [
    "catCMASS = treecorr.Catalog(ra=CMASSLOWZTOT_DF['RA'], dec=CMASSLOWZTOT_DF['DEC'], \n",
    "                                ra_units='degrees', dec_units='degrees')\n",
    "catCMASS"
   ]
  },
  {
   "cell_type": "code",
   "execution_count": null,
   "metadata": {},
   "outputs": [],
   "source": [
    "# Data Auto-correlation: (dd)\n",
    "ddCMASS = treecorr.NNCorrelation(min_sep=0.01, max_sep=10, bin_size=0.2, sep_units='degrees')\n",
    "ddCMASS.process(catCMASS)"
   ]
  },
  {
   "cell_type": "code",
   "execution_count": null,
   "metadata": {},
   "outputs": [],
   "source": [
    "CMASSLOWZTOT_DF_rands.head(3)"
   ]
  },
  {
   "cell_type": "code",
   "execution_count": null,
   "metadata": {},
   "outputs": [],
   "source": [
    "# Check that the randoms cover the same space as the data\n",
    "f, (ax1, ax2) = plt.subplots(1, 2, figsize=(15,5))\n",
    "\n",
    "ax1.scatter(catCMASS.ra * 180/numpy.pi, catCMASS.dec * 180/numpy.pi, color='blue', s=0.1)\n",
    "ax1.set_xlabel('RA (degrees)')\n",
    "ax1.set_ylabel('Dec (degrees)')\n",
    "ax1.set_title('Data')\n",
    "\n",
    "# Repeat in the opposite order\n",
    "ax2.scatter(CMASSLOWZTOT_DF_rands['RA'], CMASSLOWZTOT_DF_rands['DEC'], color='red', s=0.1)\n",
    "ax2.set_xlabel('RA (degrees)')\n",
    "ax2.set_ylabel('Dec (degrees)')\n",
    "ax2.set_title('Randoms')\n",
    "\n",
    "plt.show()"
   ]
  },
  {
   "cell_type": "code",
   "execution_count": null,
   "metadata": {},
   "outputs": [],
   "source": [
    "randCMASS = treecorr.Catalog(ra=CMASSLOWZTOT_DF_rands['RA'], dec=CMASSLOWZTOT_DF_rands['DEC'], ra_units='degrees', dec_units='degrees')\n",
    "rrCMASS = treecorr.NNCorrelation(min_sep=0.01, max_sep=10, bin_size=0.2, sep_units='degrees')\n",
    "rrCMASS.process(randCMASS)"
   ]
  },
  {
   "cell_type": "code",
   "execution_count": null,
   "metadata": {},
   "outputs": [],
   "source": [
    "drCMASS = treecorr.NNCorrelation(min_sep=0.01, max_sep=10, bin_size=0.2, sep_units='degrees')\n",
    "drCMASS.process(catCMASS, randCMASS)"
   ]
  },
  {
   "cell_type": "code",
   "execution_count": null,
   "metadata": {},
   "outputs": [],
   "source": [
    "xiCMASS, varxiCMASS = ddCMASS.calculateXi(rrCMASS, drCMASS)\n",
    "sigCMASS = numpy.sqrt(varxiCMASS)\n",
    "\n",
    "plt.plot(r, xiCMASS, color='blue')\n",
    "plt.plot(r, -xiCMASS, color='blue', ls=':')\n",
    "plt.errorbar(r[xiCMASS>0], xiCMASS[xiCMASS>0], yerr=sigCMASS[xiCMASS>0], color='green', lw=0.5, ls='')\n",
    "plt.errorbar(r[xiCMASS<0], -xiCMASS[xiCMASS<0], yerr=sigCMASS[xiCMASS<0], color='green', lw=0.5, ls='')\n",
    "leg = plt.errorbar(-r, xiCMASS, yerr=sigCMASS, color='blue')\n",
    "\n",
    "plt.xscale('log')\n",
    "plt.yscale('log', nonposy='clip')\n",
    "plt.xlabel(r'$\\theta$ (degrees)')\n",
    "\n",
    "plt.legend([leg], [r'$w(\\theta)$'], loc='lower left')\n",
    "plt.xlim([0.01,10])\n",
    "plt.show()"
   ]
  },
  {
   "cell_type": "code",
   "execution_count": null,
   "metadata": {},
   "outputs": [],
   "source": [
    "connBOSS.close()\n",
    "connBOSSRands.close()"
   ]
  }
 ],
 "metadata": {
  "kernelspec": {
   "display_name": "ccl",
   "language": "python",
   "name": "ccl"
  },
  "language_info": {
   "codemirror_mode": {
    "name": "ipython",
    "version": 3
   },
   "file_extension": ".py",
   "mimetype": "text/x-python",
   "name": "python",
   "nbconvert_exporter": "python",
   "pygments_lexer": "ipython3",
   "version": "3.7.6"
  }
 },
 "nbformat": 4,
 "nbformat_minor": 2
}
