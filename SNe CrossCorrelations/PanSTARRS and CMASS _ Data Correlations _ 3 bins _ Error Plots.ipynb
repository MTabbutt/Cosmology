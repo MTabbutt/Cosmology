{
 "cells": [
  {
   "cell_type": "code",
   "execution_count": null,
   "metadata": {},
   "outputs": [],
   "source": [
    "# Make Jupyter Notebook full screen \n",
    "from IPython.core.display import display, HTML\n",
    "display(HTML(\"<style>.container { width:90% !important; }</style>\"))"
   ]
  },
  {
   "cell_type": "code",
   "execution_count": null,
   "metadata": {},
   "outputs": [],
   "source": [
    "import CorrelationsTreeCorr # depends on: sqlite3, pandas, treecorr, numpy, and matplotlib\n",
    "\n",
    "# Need these extra imports to make the PanStarrs Randoms ourselves. \n",
    "import treecorr\n",
    "import numpy\n",
    "import pandas as pd # to save the files of data\n",
    "import matplotlib.pyplot as plt\n",
    "from datetime import datetime"
   ]
  },
  {
   "cell_type": "code",
   "execution_count": null,
   "metadata": {},
   "outputs": [],
   "source": [
    "t1 = datetime.now()\n",
    "t1"
   ]
  },
  {
   "cell_type": "code",
   "execution_count": null,
   "metadata": {},
   "outputs": [],
   "source": []
  },
  {
   "cell_type": "markdown",
   "metadata": {},
   "source": [
    "### 1) Define the data paths to use: \n",
    "- Need to make the folder in TESTING_PRODUCTS_PATH, not automatically generated in this code. (TODO)"
   ]
  },
  {
   "cell_type": "code",
   "execution_count": null,
   "metadata": {},
   "outputs": [],
   "source": [
    "DATA_PATH = '/Users/megantabbutt/CosmologyDataProducts/'\n",
    "\n",
    "TESTING_PRODUCTS_PATH = \"/Users/megantabbutt/Cosmology/Cosmology/SNe CrossCorrelations/VerificationTestingProducts/\"\n",
    "\n",
    "TESTING_PRODUCTS_PATH = TESTING_PRODUCTS_PATH + \"17_12_20_R02/\"\n",
    "\n",
    "NOTES_PATH = TESTING_PRODUCTS_PATH + 'RunNotes.txt'\n",
    "\n",
    "def NotesToWrite(notes):\n",
    "    NOTES = open(NOTES_PATH, \"a\")\n",
    "    NOTES.write(notes)\n",
    "    NOTES.write(\"\\n \\n\")\n",
    "    NOTES.close()"
   ]
  },
  {
   "cell_type": "code",
   "execution_count": null,
   "metadata": {},
   "outputs": [],
   "source": [
    "NotesToWrite(\"All randoms\")"
   ]
  },
  {
   "cell_type": "markdown",
   "metadata": {},
   "source": [
    "### 2) Make all of the data Catalogs that you want to use in this notebook with the _Correlation_Data_ class in the _CorrelationsTreeCorr module_"
   ]
  },
  {
   "cell_type": "code",
   "execution_count": null,
   "metadata": {},
   "outputs": [],
   "source": [
    "# Initialize object for this notebook:\n",
    "PanStarrsBossCorrObject = CorrelationsTreeCorr.Correlation_Data(DATA_PATH, TESTING_PRODUCTS_PATH)"
   ]
  },
  {
   "cell_type": "code",
   "execution_count": null,
   "metadata": {},
   "outputs": [],
   "source": [
    "PanStarrs_Data_all_query = \"SELECT ID, DEC, RA, zSN, zHost FROM PanSTARRSNEW WHERE (zSN > -999) || (zHost > -999)\"\n",
    "PanSTARRS_data_all_df = PanStarrsBossCorrObject.makeDataCatalogs(\"PanSTARRS.db\", PanStarrs_Data_all_query)\n",
    "NotesToWrite('PanStarrs_Data_all_query: ' + PanStarrs_Data_all_query)"
   ]
  },
  {
   "cell_type": "code",
   "execution_count": null,
   "metadata": {},
   "outputs": [],
   "source": [
    "# Only 9 pointings from PanStarrs Overlap with the BOSS field so when doing the cross correlation need to only take these 9:\n",
    "PanSTARRS_Data_only_9_query = \"\"\"SELECT ID, DEC, RA, zSN, zHost FROM PanSTARRSNEW WHERE (DEC > -20) AND ((zSN > -999) OR (zHost > -999))\"\"\"\n",
    "PanSTARRS_Data_only_9_df = PanStarrsBossCorrObject.makeDataCatalogs(\"PanSTARRS.db\", PanSTARRS_Data_only_9_query)\n",
    "NotesToWrite('PanSTARRS_Data_only_9_df: ' + PanSTARRS_Data_only_9_query)\n"
   ]
  },
  {
   "cell_type": "code",
   "execution_count": null,
   "metadata": {},
   "outputs": [],
   "source": [
    "BOSS_Data_All_query = \"SELECT * FROM CMASSLOWZTOT_South UNION SELECT * FROM CMASSLOWZTOT_North\"\n",
    "BOSS_Data_All_df = PanStarrsBossCorrObject.makeDataCatalogs(\"CMASS_and_LOWZ.db\", BOSS_Data_All_query)\n",
    "NotesToWrite('BOSS_Data_All_query: ' + BOSS_Data_All_query)"
   ]
  },
  {
   "cell_type": "code",
   "execution_count": null,
   "metadata": {},
   "outputs": [],
   "source": [
    "BOSS_Rands_Limit_query = \"\"\"SELECT * FROM CMASSLOWZTOT_South_rands UNION SELECT * FROM CMASSLOWZTOT_North_rands\"\"\"\n",
    "BOSS_Rands_Limit_df = PanStarrsBossCorrObject.makeDataCatalogs(\"CMASS_and_LOWZ_rands.db\", BOSS_Rands_Limit_query)\n",
    "NotesToWrite('BOSS_Rands_Limit_query: ' + BOSS_Rands_Limit_query)\n",
    "BOSS_Rands_Limit_df.info()"
   ]
  },
  {
   "cell_type": "markdown",
   "metadata": {},
   "source": [
    "BOSS_Rands_Limit_query = \"\"\"SELECT * FROM CMASSLOWZTOT_South_rands \n",
    "    WHERE `index` IN (SELECT `index`FROM CMASSLOWZTOT_South_rands ORDER BY RANDOM() LIMIT 7000000) UNION \n",
    "    SELECT * FROM CMASSLOWZTOT_North_rands \n",
    "    WHERE `index`  IN (SELECT `index` FROM CMASSLOWZTOT_North_rands ORDER BY RANDOM() LIMIT 7000000)\"\"\"\n",
    "BOSS_Rands_Limit_df = PanStarrsBossCorrObject.makeDataCatalogs(\"CMASS_and_LOWZ_rands.db\", BOSS_Rands_Limit_query)\n",
    "NotesToWrite('BOSS_Rands_Limit_query: ' + BOSS_Rands_Limit_query)"
   ]
  },
  {
   "cell_type": "code",
   "execution_count": null,
   "metadata": {},
   "outputs": [],
   "source": [
    "zBest = []\n",
    "for i in PanSTARRS_Data_only_9_df.iterrows(): #.iterrows() returns a tuple (immutable object)\n",
    "    if i[1]['zSN'] >= 0:\n",
    "        zBest.append(i[1]['zSN'])\n",
    "    else:\n",
    "        zBest.append(i[1]['zHost'])\n",
    "        \n",
    "if PanSTARRS_Data_only_9_df.shape[0] == len(zBest):\n",
    "    PanSTARRS_Data_only_9_df['zBest'] = zBest\n",
    "\n",
    "PanSTARRS_Data_only_9_df.head(3)"
   ]
  },
  {
   "cell_type": "code",
   "execution_count": null,
   "metadata": {},
   "outputs": [],
   "source": [
    "PanStarrs_rands_all_df = pd.read_csv(DATA_PATH+\"PanStarrs_Randoms_All_10E8\", index_col=0)\n",
    "PanStarrs_rands_all_df.head(3)"
   ]
  },
  {
   "cell_type": "code",
   "execution_count": null,
   "metadata": {
    "scrolled": true
   },
   "outputs": [],
   "source": [
    "PanStarrs_rands_9_df = pd.read_csv(DATA_PATH+\"PanStarrs_Randoms_9_10E8\", index_col=0)\n",
    "PanStarrs_rands_9_df.head(3)"
   ]
  },
  {
   "cell_type": "markdown",
   "metadata": {},
   "source": [
    "## 4) Make one PanSTARRS bin: .2-.5, and three BOSS bins: .2-.5 "
   ]
  },
  {
   "cell_type": "code",
   "execution_count": null,
   "metadata": {},
   "outputs": [],
   "source": [
    "#PanSTARRS_Data_only_9_df_1 = PanSTARRS_Data_only_9_df.iloc[PanSTARRS_Data_only_9_df['zBest'] >= 0.0 and PanSTARRS_Data_only_9_df['zBest'] <= 0.2].item()\n",
    "\n",
    "PanSTARRS_Data_only_9_df_Z1 = PanSTARRS_Data_only_9_df[PanSTARRS_Data_only_9_df['zBest'].between(0.2, 0.5, inclusive=False)]"
   ]
  },
  {
   "cell_type": "code",
   "execution_count": null,
   "metadata": {},
   "outputs": [],
   "source": [
    "BOSS_Data_All_df_Z1 = BOSS_Data_All_df[BOSS_Data_All_df['Z'].between(0.2, 0.3, inclusive=False)]\n",
    "BOSS_Data_All_df_Z2 = BOSS_Data_All_df[BOSS_Data_All_df['Z'].between(0.3, 0.4, inclusive=False)]\n",
    "BOSS_Data_All_df_Z3 = BOSS_Data_All_df[BOSS_Data_All_df['Z'].between(0.4, 0.5, inclusive=False)]"
   ]
  },
  {
   "cell_type": "markdown",
   "metadata": {},
   "source": [
    "## 5A) Define RA/DEC for the data/random sets - All RedShift Bins, use randoms for all"
   ]
  },
  {
   "cell_type": "code",
   "execution_count": null,
   "metadata": {},
   "outputs": [],
   "source": [
    "PanStarrs_Rands_Only_9_RADEC = [PanStarrs_rands_9_df['maskRA'], PanStarrs_rands_9_df['maskDEC']]\n",
    "BOSS_Rands_Limit_RADEC = [BOSS_Rands_Limit_df['RA'], BOSS_Rands_Limit_df['DEC']]"
   ]
  },
  {
   "cell_type": "code",
   "execution_count": null,
   "metadata": {},
   "outputs": [],
   "source": [
    "PanStarrs_Data_Only_9_RADEC_Z1 = [PanSTARRS_Data_only_9_df_Z1['RA'], PanSTARRS_Data_only_9_df_Z1['DEC']]\n",
    "\n",
    "BOSS_Data_RADEC_Z1 = [BOSS_Data_All_df_Z1['RA'], BOSS_Data_All_df_Z1['DEC']]\n",
    "BOSS_Data_RADEC_Z2 = [BOSS_Data_All_df_Z2['RA'], BOSS_Data_All_df_Z2['DEC']]\n",
    "BOSS_Data_RADEC_Z3 = [BOSS_Data_All_df_Z3['RA'], BOSS_Data_All_df_Z3['DEC']]"
   ]
  },
  {
   "cell_type": "markdown",
   "metadata": {},
   "source": [
    "## 6) Make a Cross Correlations: "
   ]
  },
  {
   "cell_type": "code",
   "execution_count": null,
   "metadata": {},
   "outputs": [],
   "source": [
    "PanStarrs_Z = [PanStarrs_Data_Only_9_RADEC_Z1]\n",
    "\n",
    "Boss_Z = [BOSS_Data_RADEC_Z1, BOSS_Data_RADEC_Z2, BOSS_Data_RADEC_Z3]\n",
    "\n",
    "bins_BOSS = [\"0.2-0.3\", \"0.3-0.4\", \"0.4-0.5\"]"
   ]
  },
  {
   "cell_type": "markdown",
   "metadata": {
    "scrolled": false
   },
   "source": [
    "fig, axs = plt.subplots(len(PanStarrs_Z), len(Boss_Z), sharex='col', sharey='row',\n",
    "                        gridspec_kw={'hspace': 0, 'wspace': 0}, figsize=(30, 10))\n",
    "\n",
    "for i in range(len(Boss_Z)):\n",
    "    r, xi, varxi, sig = PanStarrsBossCorrObject.crossCorrelation(PanStarrs_Z[0], PanStarrs_Rands_Only_9_RADEC, \n",
    "                                                         Boss_Z[i], BOSS_Rands_Limit_RADEC)\n",
    "    Plot_Results_dict = {'r': r, 'xi': xi, 'varxi':varxi, 'sig':sig}\n",
    "    Plot_Results_df = pd.DataFrame(data=Plot_Results_dict)\n",
    "    Plot_Results_df.to_csv(TESTING_PRODUCTS_PATH+'CrossCorr_Pan_X_Boss_'+str(i))\n",
    "\n",
    "    axs[i].plot(r, xi, color='blue')\n",
    "    axs[i].plot(r, -xi, color='blue', ls=':')\n",
    "    axs[i].errorbar(r[xi>0], xi[xi>0], yerr=sig[xi>0], color='green', lw=0.5, ls='')\n",
    "    axs[i].errorbar(r[xi<0], -xi[xi<0], yerr=sig[xi<0], color='green', lw=0.5, ls='')\n",
    "\n",
    "    axs[i].set_xlabel(\"BOSS: z= \" + bins_BOSS[i], fontsize = 12)\n",
    "    axs[i].set_ylabel(\"PanSTARRS: z= 0.2 - 0.5\", fontsize = 12)\n",
    "    #axs[j, i].set_xlabel(r'$\\theta$ (degrees)', fontsize = 12)\n",
    "    #axs[j, i].set_ylabel(r'$w(\\theta)$', fontsize = 12)\n",
    "    axs[i].set_xscale('log')\n",
    "    axs[i].set_yscale('log', nonpositive='clip')\n",
    "    axs[i].set_ylim([.001, 10])\n",
    "    axs[i].set_xlim([0.01,10])\n",
    "    axs[i].set_xticks([0.01, .1, 1, 10])\n",
    "    axs[i].set_xticklabels([\"\", \"$10^{-1}$\", \"$10^{0}$\", \"\"])\n",
    "    axs[i].set_yticks([0.001, .01, .1, 1, 10])\n",
    "    axs[i].set_yticklabels([\"\", \"$10^{-2}$\", \"$10^{-1}$\",\"$10^{0}$\", \"\"])\n",
    "        \n",
    "        \n",
    "for ax in axs.flat:\n",
    "    ax.label_outer()\n",
    "        \n",
    "        \n",
    "plt.savefig(TESTING_PRODUCTS_PATH + \"CrossCorrelations_3Bins\", facecolor='white')"
   ]
  },
  {
   "cell_type": "code",
   "execution_count": null,
   "metadata": {},
   "outputs": [],
   "source": [
    "\n",
    "\n",
    "old_results = pd.read_csv(\"/Users/megantabbutt/Cosmology/Cosmology/SNe CrossCorrelations/VerificationTestingProducts/21_10_20_R03/BOSS_PanStarrs_CrossCorrelatison_Plot_Results_df.csv\")\n",
    "old_results.head(3)"
   ]
  },
  {
   "cell_type": "markdown",
   "metadata": {},
   "source": [
    "fig, axs = plt.subplots(len(PanStarrs_Z), len(Boss_Z), sharex='col', sharey='row',\n",
    "                        gridspec_kw={'hspace': 0, 'wspace': 0}, figsize=(30, 10))\n",
    "\n",
    "for i in range(len(Boss_Z)):\n",
    "    r, xi, varxi, sig = PanStarrsBossCorrObject.crossCorrelation(PanStarrs_Z[0], PanStarrs_Rands_Only_9_RADEC, \n",
    "                                                         Boss_Z[i], BOSS_Rands_Limit_RADEC)\n",
    "    Plot_Results_dict = {'r': r, 'xi': xi, 'varxi':varxi, 'sig':sig}\n",
    "    Plot_Results_df = pd.DataFrame(data=Plot_Results_dict)\n",
    "    Plot_Results_df.to_csv(TESTING_PRODUCTS_PATH+'CrossCorr_Pan_X_Boss_'+str(i))\n",
    "\n",
    "    axs[i].scatter(r, xi, color='blue')\n",
    "    axs[i].scatter(r, -xi, color='blue', ls=':')\n",
    "    axs[i].errorbar(r[xi>0], xi[xi>0], yerr=sig[xi>0], color='green', lw=0.5, ls='')\n",
    "    axs[i].errorbar(r[xi<0], -xi[xi<0], yerr=sig[xi<0], color='green', lw=0.5, ls='')\n",
    "    \n",
    "    axs[i].scatter(old_results['r'], old_results['xi'], color='orange')\n",
    "    axs[i].scatter(old_results['r'], -old_results['xi'], color='orange', ls=':')\n",
    "    axs[i].errorbar(old_results['r'][old_results['xi']>0], old_results['xi'][old_results['xi']>0], \n",
    "                    yerr=old_results['sig'][old_results['xi']>0], color='yellow', lw=0.5, ls='')\n",
    "    axs[i].errorbar(old_results['r'][old_results['xi']<0], -old_results['xi'][old_results['xi']<0], \n",
    "                    yerr=old_results['sig'][old_results['xi']<0], color='yellow', lw=0.5, ls='')\n",
    "\n",
    "    axs[i].set_xlabel(\"BOSS: z= \" + bins_BOSS[i], fontsize = 12)\n",
    "    axs[i].set_ylabel(\"PanSTARRS: z= 0.2 - 0.5\", fontsize = 12)\n",
    "    #axs[j, i].set_xlabel(r'$\\theta$ (degrees)', fontsize = 12)\n",
    "    #axs[j, i].set_ylabel(r'$w(\\theta)$', fontsize = 12)\n",
    "    axs[i].set_xscale('log')\n",
    "    axs[i].set_yscale('log', nonpositive='clip')\n",
    "    axs[i].set_ylim([.001, 10])\n",
    "    axs[i].set_xlim([0.01,10])\n",
    "    axs[i].set_xticks([0.01, .1, 1, 10])\n",
    "    axs[i].set_xticklabels([\"\", \"$10^{-1}$\", \"$10^{0}$\", \"\"])\n",
    "    axs[i].set_yticks([0.001, .01, .1, 1, 10])\n",
    "    axs[i].set_yticklabels([\"\", \"$10^{-2}$\", \"$10^{-1}$\",\"$10^{0}$\", \"\"])\n",
    "        \n",
    "        \n",
    "for ax in axs.flat:\n",
    "    ax.label_outer()\n",
    "        \n",
    "        \n",
    "plt.savefig(TESTING_PRODUCTS_PATH + \"CrossCorrelations_3Bins_V2\", facecolor='white')"
   ]
  },
  {
   "cell_type": "code",
   "execution_count": null,
   "metadata": {},
   "outputs": [],
   "source": [
    "colors = [\"#0485d1\", \"#ff474c\", \"#769958\"]"
   ]
  },
  {
   "cell_type": "code",
   "execution_count": null,
   "metadata": {},
   "outputs": [],
   "source": [
    "fig, axs = plt.subplots(1, 1, figsize=(20, 12))\n",
    "\n",
    "heights = []\n",
    "for i in range(len(Boss_Z)):\n",
    "    r, xi, varxi, sig = PanStarrsBossCorrObject.crossCorrelation(PanStarrs_Z[0], PanStarrs_Rands_Only_9_RADEC, \n",
    "                                                         Boss_Z[i], BOSS_Rands_Limit_RADEC)\n",
    "    Plot_Results_dict = {'r': r, 'xi': xi, 'varxi':varxi, 'sig':sig}\n",
    "    Plot_Results_df = pd.DataFrame(data=Plot_Results_dict)\n",
    "    Plot_Results_df.to_csv(TESTING_PRODUCTS_PATH+'CrossCorr_Pan_X_Boss_'+str(i))\n",
    "\n",
    "    plt.scatter(r, xi, color=colors[i], label=\"PanSTARRS z=0.2-0.5,\\n\"+\"BOSS z=\"+bins_BOSS[i])\n",
    "    plt.scatter(r, -xi, color=colors[i], ls=':')\n",
    "    #plt.plot(r, xi, color=colors[i], alpha=.4)\n",
    "    #plt.plot(r, -xi, color=colors[i], ls=':', alpha=.4)\n",
    "    #plt.errorbar(r[xi>0], xi[xi>0], yerr=sig[xi>0], color=colors[i], lw=0.2, ls='--', alpha=.5)\n",
    "    #plt.errorbar(r[xi<0], -xi[xi<0], yerr=sig[xi<0], color=colors[i], lw=0.2, ls='--', alpha=.5)\n",
    "    \n",
    "    xi_pos = [i for i in xi if i > 0 ]\n",
    "    r_pos = [r[i] for i in range(len(r)) if xi[i] > 0 ]\n",
    "    coefficients = numpy.polyfit(numpy.log10(r_pos), numpy.log10(xi_pos), 1)\n",
    "    ys = [coefficients[0]*numpy.log10(i) + coefficients[1] for i in r_pos]\n",
    "    ys = [10**i for i in ys]\n",
    "    heights.append(10**(coefficients[0]*numpy.log10(.1) + coefficients[1]))\n",
    "    plt.plot(r_pos, ys, ls='--', color=colors[i])\n",
    "    \n",
    "print(heights)\n",
    "plt.scatter(old_results['r'], old_results['xi'], color='orange', label=\"All Z (both)\")\n",
    "plt.scatter(old_results['r'], -old_results['xi'], color='orange', ls=':')\n",
    "#plt.errorbar(old_results['r'][old_results['xi']>0], old_results['xi'][old_results['xi']>0], \n",
    "                #yerr=old_results['sig'][old_results['xi']>0], color='yellow', lw=0.5, ls='--', alpha=.5)\n",
    "#plt.errorbar(old_results['r'][old_results['xi']<0], -old_results['xi'][old_results['xi']<0], \n",
    "                #yerr=old_results['sig'][old_results['xi']<0], color='yellow', lw=0.5, ls='--', alpha=.5)\n",
    "r = old_results['r']\n",
    "xi = old_results['xi']\n",
    "xi_pos = [i for i in xi if i > 0 ]\n",
    "r_pos = [r[i] for i in range(len(r)) if xi[i] > 0 ]\n",
    "coefficients = numpy.polyfit(numpy.log10(r_pos), numpy.log10(xi_pos), 1)\n",
    "ys = [coefficients[0]*numpy.log10(i) + coefficients[1] for i in r_pos]\n",
    "ys = [10**i for i in ys]\n",
    "print(10**(coefficients[0]*numpy.log10(.1) + coefficients[1]))\n",
    "plt.plot(r_pos, ys, ls='--', color='orange')\n",
    "        \n",
    "plt.xscale('log')\n",
    "plt.yscale('log', nonpositive='clip')  \n",
    "plt.xlabel(r'$\\theta$ (degrees)', fontsize = 16)\n",
    "plt.ylabel(r'$w(\\theta)$', fontsize = 16)\n",
    "plt.legend()\n",
    "\n",
    "plt.annotate(\"$w(0.1) = 0.100$\", (.45, .98), xycoords='axes fraction', color=\"#0485d1\", fontsize=12)\n",
    "plt.annotate(\"$w(0.1) = 0.082$\", (.45, .95), xycoords='axes fraction', color=\"#ff474c\", fontsize=12)\n",
    "plt.annotate(\"$w(0.1) = 0.058$\", (.45, .92), xycoords='axes fraction', color=\"#769958\", fontsize=12)\n",
    "plt.annotate(\"$w(0.1) = 0.025$\", (.45, .89), xycoords='axes fraction', color=\"Orange\", fontsize=12)\n",
    "\n",
    "plt.annotate(\"Frac of PanSTARRS: 0.210\", (.55, .98), xycoords='axes fraction', color=\"#0485d1\", fontsize=12)\n",
    "plt.annotate(\"Frac of PanSTARRS: 0.316\", (.55, .95), xycoords='axes fraction', color=\"#ff474c\", fontsize=12)\n",
    "plt.annotate(\"Frac of PanSTARRS: 0.218\", (.55, .92), xycoords='axes fraction', color=\"#769958\", fontsize=12)\n",
    "plt.annotate(\"Frac of PanSTARRS: 1.000\", (.55, .89), xycoords='axes fraction', color=\"Orange\", fontsize=12)\n",
    "\n",
    "plt.annotate(\"Frac of BOSS: 0.093\", (.71, .98), xycoords='axes fraction', color=\"#0485d1\", fontsize=12)\n",
    "plt.annotate(\"Frac of BOSS: 0.145\", (.71, .95), xycoords='axes fraction', color=\"#ff474c\", fontsize=12)\n",
    "plt.annotate(\"Frac of BOSS: 0.673\", (.71, .92), xycoords='axes fraction', color=\"#769958\", fontsize=12)\n",
    "plt.annotate(\"Frac of BOSS: 1.000\", (.71, .89), xycoords='axes fraction', color=\"Orange\", fontsize=12)\n",
    "        \n",
    "plt.title(\"Cross Correlations of PanSTARRS and BOSS for Various Redshift Bins\", fontsize=18)\n",
    "        \n",
    "plt.savefig(TESTING_PRODUCTS_PATH + \"CrossCorrelations_3Bins_V3\", facecolor='white')"
   ]
  },
  {
   "cell_type": "code",
   "execution_count": null,
   "metadata": {},
   "outputs": [],
   "source": [
    "# make the best fit lines: \n",
    "\n",
    "best_fit_lines = dict()\n",
    "for i in range(2):\n",
    "    for j in range(2):\n",
    "        if i == 1 and j == 1:\n",
    "            r = old_results['r']\n",
    "            xi = old_results['xi']\n",
    "            xi_pos = [i for i in xi if i > 0 ]\n",
    "            r_pos = [r[i] for i in range(len(r)) if xi[i] > 0 ]\n",
    "            coefficients = numpy.polyfit(numpy.log10(r_pos), numpy.log10(xi_pos), 1)\n",
    "            ys = [coefficients[0]*numpy.log10(i) + coefficients[1] for i in r_pos]\n",
    "            ys = [10**i for i in ys]\n",
    "        else:\n",
    "            r, xi, varxi, sig = PanStarrsBossCorrObject.crossCorrelation(PanStarrs_Z[0], PanStarrs_Rands_Only_9_RADEC, Boss_Z[i*2+j*1], BOSS_Rands_Limit_RADEC)\n",
    "            xi_pos = [i for i in xi if i > 0 ]\n",
    "            r_pos = [r[i] for i in range(len(r)) if xi[i] > 0 ]\n",
    "            coefficients = numpy.polyfit(numpy.log10(r_pos), numpy.log10(xi_pos), 1)\n",
    "            ys = [coefficients[0]*numpy.log10(i) + coefficients[1] for i in r_pos]\n",
    "            ys = [10**i for i in ys]\n",
    "        \n",
    "        best_fit_lines[(i, j)] = [r_pos, ys]\n",
    "\n",
    "#best_fit_lines"
   ]
  },
  {
   "cell_type": "code",
   "execution_count": null,
   "metadata": {},
   "outputs": [],
   "source": [
    "fig, axs = plt.subplots(2, 2, sharex='col', sharey='row', gridspec_kw={'hspace': 0, 'wspace': 0}, figsize=(20, 12))\n",
    "\n",
    "for i in range(2):\n",
    "    for j in range(2):\n",
    "        if i == 1 and j == 1:\n",
    "            #axs[j, i].plot(old_results['r'], old_results['xi'], color='orange', label=\"All Z (both)\")\n",
    "            #axs[j, i].plot(old_results['r'], -old_results['xi'], color='orange', ls=':')\n",
    "            axs[j, i].errorbar(old_results['r'][old_results['xi']>0], old_results['xi'][old_results['xi']>0], \n",
    "                            yerr=old_results['sig'][old_results['xi']>0], color='orange', alpha=.8, fmt='o', label=\"All Z (both)\")\n",
    "            axs[j, i].errorbar(old_results['r'][old_results['xi']<0], -old_results['xi'][old_results['xi']<0], \n",
    "                            yerr=old_results['sig'][old_results['xi']<0], color='orange', alpha=.8, fmt='x')\n",
    "            axs[j, i].plot(best_fit_lines[(0, 0)][0], best_fit_lines[(0, 0)][1], ls='--', color=colors[0])\n",
    "            axs[j, i].plot(best_fit_lines[(0, 1)][0], best_fit_lines[(0, 1)][1], ls='--', color=colors[1])\n",
    "            axs[j, i].plot(best_fit_lines[(1, 0)][0], best_fit_lines[(1, 0)][1], ls='--', color=colors[2])\n",
    "            axs[j, i].plot(best_fit_lines[(1, 1)][0], best_fit_lines[(1, 1)][1], ls='--', color=\"orange\")\n",
    "            #axs[j, i].plot(best_fit_lines[(i, j)][0], best_fit_lines[(i, j)][1], ls='-', color=\"orange\")\n",
    "            axs[j, i].set_xscale('log')\n",
    "            axs[j, i].set_ylim(.0005, 4)\n",
    "            axs[j, i].set_yscale('log', nonpositive='clip')\n",
    "            axs[j, i].legend()\n",
    "        else:\n",
    "            r, xi, varxi, sig = PanStarrsBossCorrObject.crossCorrelation(PanStarrs_Z[0], PanStarrs_Rands_Only_9_RADEC, \n",
    "                                                             Boss_Z[i*2+j*1], BOSS_Rands_Limit_RADEC)\n",
    "            Plot_Results_dict = {'r': r, 'xi': xi, 'varxi':varxi, 'sig':sig}\n",
    "            Plot_Results_df = pd.DataFrame(data=Plot_Results_dict)\n",
    "            Plot_Results_df.to_csv(TESTING_PRODUCTS_PATH+'CrossCorr_Pan_X_Boss_'+str(i*2+j*1))\n",
    "\n",
    "            #axs[j, i].plot(r, xi, color=colors[i*2+j*1], label=\"PanSTARRS z=0.2-0.5,\\n\"+\"BOSS z=\"+bins_BOSS[i*2+j*1])\n",
    "            #axs[j, i].plot(r, -xi, color=colors[i*2+j*1], ls=':')\n",
    "            axs[j, i].errorbar(r[xi>0], xi[xi>0], yerr=sig[xi>0], color=colors[i*2+j*1], alpha=.8, fmt='o', \n",
    "                               label=\"PanSTARRS z=0.2-0.5,\\n\"+\"BOSS z=\"+bins_BOSS[i*2+j*1])\n",
    "            axs[j, i].errorbar(r[xi<0], -xi[xi<0], yerr=sig[xi<0], color=colors[i*2+j*1], alpha=.8, fmt='x')\n",
    "\n",
    "            axs[j, i].plot(best_fit_lines[(0, 0)][0], best_fit_lines[(0, 0)][1], ls='--', color=colors[0])\n",
    "            axs[j, i].plot(best_fit_lines[(0, 1)][0], best_fit_lines[(0, 1)][1], ls='--', color=colors[1])\n",
    "            axs[j, i].plot(best_fit_lines[(1, 0)][0], best_fit_lines[(1, 0)][1], ls='--', color=colors[2])\n",
    "            axs[j, i].plot(best_fit_lines[(1, 1)][0], best_fit_lines[(1, 1)][1], ls='--', color=\"orange\")\n",
    "            #axs[j, i].plot(best_fit_lines[(i, j)][0], best_fit_lines[(i, j)][1], ls='-', color=colors[i*2+j*1])\n",
    "\n",
    "            axs[j, i].set_xscale('log')\n",
    "            axs[j, i].set_ylim(.0005, 4)\n",
    "            axs[j, i].set_yscale('log', nonpositive='clip') \n",
    "            axs[j, i].legend()\n",
    "\n",
    "            if i==0 and j == 1:\n",
    "                axs[j, i].set_ylabel(r'$w(\\theta)$', fontsize = 16)\n",
    "                axs[j, i].set_xlabel(r'$\\theta$ (degrees)', fontsize = 16)\n",
    "                \n",
    "                \n",
    "plt.suptitle(\"Cross Correlations of PanSTARRS and BOSS for Various Redshift Bins\", fontsize=18, y=.925)\n",
    "plt.savefig(TESTING_PRODUCTS_PATH + \"CrossCorrelations_3Bins_V4\", facecolor='white')"
   ]
  },
  {
   "cell_type": "code",
   "execution_count": null,
   "metadata": {},
   "outputs": [],
   "source": [
    "t2 = datetime.now()\n",
    "t2"
   ]
  },
  {
   "cell_type": "code",
   "execution_count": null,
   "metadata": {},
   "outputs": [],
   "source": [
    "t2 - t1"
   ]
  },
  {
   "cell_type": "code",
   "execution_count": null,
   "metadata": {},
   "outputs": [],
   "source": []
  },
  {
   "cell_type": "code",
   "execution_count": null,
   "metadata": {},
   "outputs": [],
   "source": []
  }
 ],
 "metadata": {
  "kernelspec": {
   "display_name": "Python 3",
   "language": "python",
   "name": "python3"
  },
  "language_info": {
   "codemirror_mode": {
    "name": "ipython",
    "version": 3
   },
   "file_extension": ".py",
   "mimetype": "text/x-python",
   "name": "python",
   "nbconvert_exporter": "python",
   "pygments_lexer": "ipython3",
   "version": "3.8.2"
  }
 },
 "nbformat": 4,
 "nbformat_minor": 2
}
