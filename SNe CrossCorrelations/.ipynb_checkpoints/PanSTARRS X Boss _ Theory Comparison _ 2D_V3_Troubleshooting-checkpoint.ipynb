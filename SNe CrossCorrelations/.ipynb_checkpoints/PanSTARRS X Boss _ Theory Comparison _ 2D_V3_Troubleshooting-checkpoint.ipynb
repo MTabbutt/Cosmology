{
 "cells": [
  {
   "cell_type": "markdown",
   "metadata": {},
   "source": [
    "## Objective:\n",
    "   \n",
    "Troubleshoot the V2 notebook given suggestions from Keith. \n",
    "\n",
    "Objective of V2:\n",
    "To make a theory calculation for the 2D (angular) cross correlation for the PanSTARRS Supernova and BOSS (CMASS & LOWZ) galaxy data sets, that was found previously for comparison and validation."
   ]
  },
  {
   "cell_type": "markdown",
   "metadata": {},
   "source": [
    "### Questions:\n",
    "\n",
    "- "
   ]
  },
  {
   "cell_type": "markdown",
   "metadata": {},
   "source": [
    "### Notes: \n",
    "\n",
    "- Get h's right\n",
    "- Make sure cosmology is constant\n",
    "- Check n(z) normalization "
   ]
  },
  {
   "cell_type": "markdown",
   "metadata": {},
   "source": [
    "Author: Megan Tabbutt <br/>\n",
    "Last Revised: 9_14_20"
   ]
  },
  {
   "cell_type": "markdown",
   "metadata": {},
   "source": [
    "### Calculations:\n",
    "\n",
    "_(2D) Cross Correlation Function (from Ross):_\n",
    "\n",
    "$w(\\theta)^{gg}_{ur} = b_u b_r \\; \\int \\; n_u(z) n_r(z) \\; \\frac{dz}{d\\chi} \\frac{dz}{d\\chi} \\; d\\chi \\; \\int \\frac{k}{2 \\pi} \\; P(k, z(\\chi)) \\; J_0(\\chi k \\theta) \\;dk $\n",
    "\n",
    "Comoving distance formula from Dodelson:\n",
    "\n",
    "$\\chi(a) = \\int^1_a \\frac{da}{a^2H(a)}$ with $a = \\frac{1}{1+z}$, $\\chi(z) = \\int^z_0 \\frac{dz}{H(z)}$\n",
    "\n",
    "and \n",
    "\n",
    "$H(z)^2 = H_0^2(\\Omega_m(1+z)^3 + \\Omega_k(1+z)^2 + \\Omega_{\\Lambda})$ (Wikipedia - Hubble Law)"
   ]
  },
  {
   "cell_type": "code",
   "execution_count": 1,
   "metadata": {},
   "outputs": [
    {
     "data": {
      "text/html": [
       "<style>.container { width:80% !important; }</style>"
      ],
      "text/plain": [
       "<IPython.core.display.HTML object>"
      ]
     },
     "metadata": {},
     "output_type": "display_data"
    }
   ],
   "source": [
    "# Make Jupyter Notebook full screen \n",
    "from IPython.core.display import display, HTML\n",
    "display(HTML(\"<style>.container { width:80% !important; }</style>\"))\n",
    "from IPython.display import Image"
   ]
  },
  {
   "cell_type": "code",
   "execution_count": 2,
   "metadata": {},
   "outputs": [],
   "source": [
    "# Working on 2015 laptop: Need to be in CCL conda environment to work on CAMB\n",
    "import camb\n",
    "import numpy as np\n",
    "import pandas as pd\n",
    "import sqlite3\n",
    "import scipy as sp\n",
    "import scipy.integrate\n",
    "from scipy import interpolate\n",
    "from scipy.interpolate import InterpolatedUnivariateSpline\n",
    "import matplotlib.pyplot as plt\n",
    "from camb import model, initialpower"
   ]
  },
  {
   "cell_type": "code",
   "execution_count": 3,
   "metadata": {},
   "outputs": [],
   "source": [
    "DATA_PATH = '/Users/megantabbutt/CosmologyDataProducts/'"
   ]
  },
  {
   "cell_type": "code",
   "execution_count": 4,
   "metadata": {},
   "outputs": [],
   "source": [
    "# Define Cosmology:\n",
    "\n",
    "Omega_m = .3089\n",
    "Omega_k = 0\n",
    "Omega_L = .6911\n",
    "hubble_0 = 67.74 # km/sec/Mpc\n",
    "c = 3.0*(10**5) # km/sec\n",
    "\n",
    "bias_gal = 1.0\n",
    "bias_Sne = 1.0\n",
    "\n",
    "ombh2=0.0225\n",
    "omch2=0.1188\n",
    "ns=.96\n",
    "\n",
    "h = hubble_0 / 100.0"
   ]
  },
  {
   "cell_type": "code",
   "execution_count": 5,
   "metadata": {},
   "outputs": [
    {
     "data": {
      "text/html": [
       "<div>\n",
       "<style scoped>\n",
       "    .dataframe tbody tr th:only-of-type {\n",
       "        vertical-align: middle;\n",
       "    }\n",
       "\n",
       "    .dataframe tbody tr th {\n",
       "        vertical-align: top;\n",
       "    }\n",
       "\n",
       "    .dataframe thead th {\n",
       "        text-align: right;\n",
       "    }\n",
       "</style>\n",
       "<table border=\"1\" class=\"dataframe\">\n",
       "  <thead>\n",
       "    <tr style=\"text-align: right;\">\n",
       "      <th></th>\n",
       "      <th>r_PanSTARRS_Full</th>\n",
       "      <th>xi_PanSTARRS_Full</th>\n",
       "      <th>varxi_PanSTARRS_Full</th>\n",
       "      <th>sig_PanSTARRS_Full</th>\n",
       "    </tr>\n",
       "  </thead>\n",
       "  <tbody>\n",
       "    <tr>\n",
       "      <th>0</th>\n",
       "      <td>0.011772</td>\n",
       "      <td>-0.255842</td>\n",
       "      <td>0.870198</td>\n",
       "      <td>0.932844</td>\n",
       "    </tr>\n",
       "    <tr>\n",
       "      <th>1</th>\n",
       "      <td>0.014255</td>\n",
       "      <td>1.896707</td>\n",
       "      <td>0.589932</td>\n",
       "      <td>0.768070</td>\n",
       "    </tr>\n",
       "    <tr>\n",
       "      <th>2</th>\n",
       "      <td>0.016538</td>\n",
       "      <td>-0.306261</td>\n",
       "      <td>0.400361</td>\n",
       "      <td>0.632740</td>\n",
       "    </tr>\n",
       "  </tbody>\n",
       "</table>\n",
       "</div>"
      ],
      "text/plain": [
       "   r_PanSTARRS_Full  xi_PanSTARRS_Full  varxi_PanSTARRS_Full  \\\n",
       "0          0.011772          -0.255842              0.870198   \n",
       "1          0.014255           1.896707              0.589932   \n",
       "2          0.016538          -0.306261              0.400361   \n",
       "\n",
       "   sig_PanSTARRS_Full  \n",
       "0            0.932844  \n",
       "1            0.768070  \n",
       "2            0.632740  "
      ]
     },
     "execution_count": 5,
     "metadata": {},
     "output_type": "execute_result"
    }
   ],
   "source": [
    "# pull in panStarrs Auto corr data to compare at end:\n",
    "\n",
    "PanSTARRS_Data = pd.read_csv(DATA_PATH + 'PanSTARRS_AutoCorr_Plot_Results_df_100000000.csv', index_col=0)\n",
    "PanSTARRS_Data.head(3)"
   ]
  },
  {
   "cell_type": "markdown",
   "metadata": {},
   "source": [
    "## 1. Define terms in integrands"
   ]
  },
  {
   "cell_type": "markdown",
   "metadata": {},
   "source": [
    "***"
   ]
  },
  {
   "cell_type": "markdown",
   "metadata": {},
   "source": [
    "### $n(z)$"
   ]
  },
  {
   "cell_type": "code",
   "execution_count": 6,
   "metadata": {},
   "outputs": [
    {
     "data": {
      "text/html": [
       "<div>\n",
       "<style scoped>\n",
       "    .dataframe tbody tr th:only-of-type {\n",
       "        vertical-align: middle;\n",
       "    }\n",
       "\n",
       "    .dataframe tbody tr th {\n",
       "        vertical-align: top;\n",
       "    }\n",
       "\n",
       "    .dataframe thead th {\n",
       "        text-align: right;\n",
       "    }\n",
       "</style>\n",
       "<table border=\"1\" class=\"dataframe\">\n",
       "  <thead>\n",
       "    <tr style=\"text-align: right;\">\n",
       "      <th></th>\n",
       "      <th>ID</th>\n",
       "      <th>DEC</th>\n",
       "      <th>RA</th>\n",
       "      <th>zSN</th>\n",
       "      <th>zHost</th>\n",
       "    </tr>\n",
       "  </thead>\n",
       "  <tbody>\n",
       "    <tr>\n",
       "      <th>0</th>\n",
       "      <td>ps0909006</td>\n",
       "      <td>1.184831</td>\n",
       "      <td>333.9500</td>\n",
       "      <td>0.284</td>\n",
       "      <td>-999.0</td>\n",
       "    </tr>\n",
       "    <tr>\n",
       "      <th>1</th>\n",
       "      <td>ps0909010</td>\n",
       "      <td>-4.078911</td>\n",
       "      <td>37.1182</td>\n",
       "      <td>0.270</td>\n",
       "      <td>-999.0</td>\n",
       "    </tr>\n",
       "    <tr>\n",
       "      <th>2</th>\n",
       "      <td>ps0910017</td>\n",
       "      <td>-5.023289</td>\n",
       "      <td>35.2775</td>\n",
       "      <td>0.320</td>\n",
       "      <td>-999.0</td>\n",
       "    </tr>\n",
       "  </tbody>\n",
       "</table>\n",
       "</div>"
      ],
      "text/plain": [
       "          ID       DEC        RA    zSN  zHost\n",
       "0  ps0909006  1.184831  333.9500  0.284 -999.0\n",
       "1  ps0909010 -4.078911   37.1182  0.270 -999.0\n",
       "2  ps0910017 -5.023289   35.2775  0.320 -999.0"
      ]
     },
     "execution_count": 6,
     "metadata": {},
     "output_type": "execute_result"
    }
   ],
   "source": [
    "# Pull in the data and make into pandas dataframe \n",
    "\n",
    "qry_PanSTARRS_Data_All = \"SELECT ID, DEC, RA, zSN, zHost FROM PanSTARRSNEW WHERE (zSN > -999) || (zHost > -999)\"\n",
    "\n",
    "connPAN = sqlite3.connect(DATA_PATH + 'PanSTARRS.db')\n",
    "PanSTARRSNEW_GoodZ = pd.read_sql(qry_PanSTARRS_Data_All, con=connPAN)\n",
    "connPAN.close()\n",
    "PanSTARRSNEW_GoodZ.head(3) # 1129 objects over 10 pointings "
   ]
  },
  {
   "cell_type": "code",
   "execution_count": 7,
   "metadata": {},
   "outputs": [
    {
     "data": {
      "text/html": [
       "<div>\n",
       "<style scoped>\n",
       "    .dataframe tbody tr th:only-of-type {\n",
       "        vertical-align: middle;\n",
       "    }\n",
       "\n",
       "    .dataframe tbody tr th {\n",
       "        vertical-align: top;\n",
       "    }\n",
       "\n",
       "    .dataframe thead th {\n",
       "        text-align: right;\n",
       "    }\n",
       "</style>\n",
       "<table border=\"1\" class=\"dataframe\">\n",
       "  <thead>\n",
       "    <tr style=\"text-align: right;\">\n",
       "      <th></th>\n",
       "      <th>ID</th>\n",
       "      <th>DEC</th>\n",
       "      <th>RA</th>\n",
       "      <th>zSN</th>\n",
       "      <th>zHost</th>\n",
       "      <th>zBest</th>\n",
       "    </tr>\n",
       "  </thead>\n",
       "  <tbody>\n",
       "    <tr>\n",
       "      <th>0</th>\n",
       "      <td>ps0909006</td>\n",
       "      <td>1.184831</td>\n",
       "      <td>333.9500</td>\n",
       "      <td>0.284</td>\n",
       "      <td>-999.0</td>\n",
       "      <td>0.284</td>\n",
       "    </tr>\n",
       "    <tr>\n",
       "      <th>1</th>\n",
       "      <td>ps0909010</td>\n",
       "      <td>-4.078911</td>\n",
       "      <td>37.1182</td>\n",
       "      <td>0.270</td>\n",
       "      <td>-999.0</td>\n",
       "      <td>0.270</td>\n",
       "    </tr>\n",
       "    <tr>\n",
       "      <th>2</th>\n",
       "      <td>ps0910017</td>\n",
       "      <td>-5.023289</td>\n",
       "      <td>35.2775</td>\n",
       "      <td>0.320</td>\n",
       "      <td>-999.0</td>\n",
       "      <td>0.320</td>\n",
       "    </tr>\n",
       "  </tbody>\n",
       "</table>\n",
       "</div>"
      ],
      "text/plain": [
       "          ID       DEC        RA    zSN  zHost  zBest\n",
       "0  ps0909006  1.184831  333.9500  0.284 -999.0  0.284\n",
       "1  ps0909010 -4.078911   37.1182  0.270 -999.0  0.270\n",
       "2  ps0910017 -5.023289   35.2775  0.320 -999.0  0.320"
      ]
     },
     "execution_count": 7,
     "metadata": {},
     "output_type": "execute_result"
    }
   ],
   "source": [
    "# Make a new column of \"zBest\" to use in the interpolation of n(z)\n",
    "\n",
    "# Note: Take the redshift of the supernova if both are given. \n",
    "#       If redshift of supernova is unknown, take the redshift of the host. \n",
    "\n",
    "zBest = []\n",
    "for i in PanSTARRSNEW_GoodZ.iterrows(): #.iterrows() returns a tuple (immutable object)\n",
    "    if i[1]['zSN'] >= 0:\n",
    "        zBest.append(i[1]['zSN'])\n",
    "    else:\n",
    "        zBest.append(i[1]['zHost'])\n",
    "        \n",
    "if PanSTARRSNEW_GoodZ.shape[0] == len(zBest):\n",
    "    PanSTARRSNEW_GoodZ['zBest'] = zBest\n",
    "    \n",
    "PanSTARRSNEW_GoodZ.head(3)"
   ]
  },
  {
   "cell_type": "markdown",
   "metadata": {},
   "source": [
    " Want a number/redshift but normalized still so that its 1 across all bins? "
   ]
  },
  {
   "cell_type": "code",
   "execution_count": 8,
   "metadata": {},
   "outputs": [
    {
     "name": "stdout",
     "output_type": "stream",
     "text": [
      "Min redshift = 0.025          Max redshift = 0.9405700000000001\n"
     ]
    }
   ],
   "source": [
    "# Make a histogram to be interpolated\n",
    "\n",
    "bin_num = 20\n",
    "bin_width = (PanSTARRSNEW_GoodZ['zBest'].max() - PanSTARRSNEW_GoodZ['zBest'].min())/bin_num\n",
    "\n",
    "Sne_z_all_hist = np.histogram(PanSTARRSNEW_GoodZ['zBest'], bins=bin_num)\n",
    "#print(Sne_z_all_hist)\n",
    "\n",
    "Sne_z_all_bin_centers = 0.5 * (Sne_z_all_hist[1][1:]+ Sne_z_all_hist[1][:-1])\n",
    "\n",
    "#Sne_z_all_hist_norm = Sne_z_all_hist[0] / sum(Sne_z_all_hist[0]) * bin_num\n",
    "#Sne_z_all_hist_norm = Sne_z_all_hist[0] / sum(Sne_z_all_hist[0])\n",
    "\n",
    "Sne_z_all_hist_norm = Sne_z_all_hist[0] / sum(Sne_z_all_hist[0]) / bin_width\n",
    "\n",
    "redshift_min = PanSTARRSNEW_GoodZ['zBest'].min()\n",
    "redshift_max = PanSTARRSNEW_GoodZ['zBest'].max()\n",
    "\n",
    "print(\"Min redshift = \" + str(redshift_min) + \"          \" + \"Max redshift = \" + str(redshift_max))"
   ]
  },
  {
   "cell_type": "code",
   "execution_count": 9,
   "metadata": {},
   "outputs": [
    {
     "data": {
      "text/plain": [
       "array([0.154787  , 0.40631588, 0.79328338, 1.21894764, 2.28310827,\n",
       "       2.20571477, 3.79228153, 2.82486277, 2.43789527, 1.76070214,\n",
       "       1.79939889, 0.77393501, 0.87067688, 0.2321805 , 0.17413538,\n",
       "       0.09674188, 0.        , 0.        , 0.        , 0.01934838])"
      ]
     },
     "execution_count": 9,
     "metadata": {},
     "output_type": "execute_result"
    }
   ],
   "source": [
    "Sne_z_all_hist_norm"
   ]
  },
  {
   "cell_type": "code",
   "execution_count": 10,
   "metadata": {},
   "outputs": [],
   "source": [
    "# interpolate:\n",
    "\n",
    "n_sne_interpolated = interpolate.interp1d(Sne_z_all_bin_centers, Sne_z_all_hist_norm, kind='cubic', bounds_error=False,\n",
    "                                          fill_value=0.0)"
   ]
  },
  {
   "cell_type": "code",
   "execution_count": 11,
   "metadata": {},
   "outputs": [
    {
     "data": {
      "text/plain": [
       "array(0.)"
      ]
     },
     "execution_count": 11,
     "metadata": {},
     "output_type": "execute_result"
    }
   ],
   "source": [
    "n_sne_interpolated(.94)"
   ]
  },
  {
   "cell_type": "code",
   "execution_count": 12,
   "metadata": {},
   "outputs": [
    {
     "data": {
      "image/png": "[encoded data removed]",
      "text/plain": [
       "<Figure size 1152x576 with 1 Axes>"
      ]
     },
     "metadata": {
      "needs_background": "light"
     },
     "output_type": "display_data"
    }
   ],
   "source": [
    "# Plot the histogram, input points and interpolation for comparison\n",
    "\n",
    "z_values = np.linspace((Sne_z_all_bin_centers.min()), (Sne_z_all_bin_centers.max()), num=bin_num)\n",
    "\n",
    "plt.figure(figsize=[16, 8])\n",
    "plt.bar(Sne_z_all_bin_centers, Sne_z_all_hist_norm, label=\"Histogram\", alpha=.5, color=\"#fac205\", width=.005)\n",
    "plt.plot(Sne_z_all_bin_centers, Sne_z_all_hist_norm, label=\"Histogram Binned\", c=\"#0652ff\", ls=\"--\")\n",
    "plt.plot(z_values, n_sne_interpolated(z_values), label=\"Interpolation\", c=\"#8c000f\", alpha=.7, lw=2)\n",
    "plt.xlabel(\"Redshift\")\n",
    "plt.ylabel(\"Count\")\n",
    "plt.legend()\n",
    "plt.show()"
   ]
  },
  {
   "cell_type": "code",
   "execution_count": 13,
   "metadata": {},
   "outputs": [
    {
     "data": {
      "image/png": "[encoded data removed]",
      "text/plain": [
       "<Figure size 1152x576 with 1 Axes>"
      ]
     },
     "metadata": {
      "needs_background": "light"
     },
     "output_type": "display_data"
    }
   ],
   "source": [
    "z_values = np.linspace(0, 1, num=1000000)\n",
    "\n",
    "plt.figure(figsize=[16, 8])\n",
    "plt.plot(z_values, n_sne_interpolated(z_values), label=\"Interpolation\", c=\"#8c000f\", alpha=.7, lw=2)\n",
    "plt.xlabel(\"Redshift\")\n",
    "plt.show()"
   ]
  },
  {
   "cell_type": "code",
   "execution_count": 14,
   "metadata": {},
   "outputs": [
    {
     "data": {
      "text/plain": [
       "(0.9957766778191214, 3.5937919307116317e-13)"
      ]
     },
     "execution_count": 14,
     "metadata": {},
     "output_type": "execute_result"
    }
   ],
   "source": [
    "scipy.integrate.quad(n_sne_interpolated, 0, 1, epsrel=10**-12, epsabs=10**-12, limit=5000)"
   ]
  },
  {
   "cell_type": "markdown",
   "metadata": {},
   "source": [
    "***"
   ]
  },
  {
   "cell_type": "markdown",
   "metadata": {},
   "source": [
    "### $\\chi(z)$ \n",
    "\n",
    "chi_z_func(z_input) - returns tuple with first element value and second element error for integral"
   ]
  },
  {
   "cell_type": "markdown",
   "metadata": {},
   "source": [
    "### Notes:\n",
    "\n",
    "- The comoving distance, redshift and derivatives all seem fine when comparing to cosmo-calculator and looking at derivative by eye"
   ]
  },
  {
   "cell_type": "code",
   "execution_count": 15,
   "metadata": {},
   "outputs": [],
   "source": [
    "# Need to get a list of zBest that is only unique entries:\n",
    "\n",
    "zBest_unique = []\n",
    "for i in zBest:\n",
    "    if i not in zBest_unique:\n",
    "        zBest_unique.append(i)\n",
    "        \n",
    "zBest_unique.sort()"
   ]
  },
  {
   "cell_type": "code",
   "execution_count": 16,
   "metadata": {},
   "outputs": [],
   "source": [
    "# Define H(z) based on cosmology at start of notebook:\n",
    "\n",
    "hubble_z_inverse_c = lambda z: c/(np.sqrt((hubble_0**2)*(Omega_m*(1 + z)**3 + Omega_k*(1 + z)**2 + Omega_L)))"
   ]
  },
  {
   "cell_type": "code",
   "execution_count": 17,
   "metadata": {},
   "outputs": [
    {
     "data": {
      "text/plain": [
       "(432.42751124745047, 4.8009097946827335e-12)"
      ]
     },
     "execution_count": 17,
     "metadata": {},
     "output_type": "execute_result"
    }
   ],
   "source": [
    "# Define chi_z_func - returns tuple with first element value and second element error for integral\n",
    "\n",
    "chi_z_func = lambda z: scipy.integrate.quad(hubble_z_inverse_c, 0, z)\n",
    "chi_z_func(.1)"
   ]
  },
  {
   "cell_type": "code",
   "execution_count": 18,
   "metadata": {},
   "outputs": [
    {
     "name": "stdout",
     "output_type": "stream",
     "text": [
      "Redshift: 0.101      Comoving Distance: 436.64473205282513\n"
     ]
    }
   ],
   "source": [
    "# Make a array of \\chi(z) for interpolation \n",
    "\n",
    "chi_z_unique = []\n",
    "for z in zBest_unique:\n",
    "    chi_z_unique.append(chi_z_func(z)[0])\n",
    "\n",
    "print(\"Redshift: \" + str(zBest_unique[22]) + \"      \" + \"Comoving Distance: \" + str(chi_z_unique[22]))"
   ]
  },
  {
   "cell_type": "code",
   "execution_count": 19,
   "metadata": {},
   "outputs": [
    {
     "data": {
      "text/plain": [
       "(3398.5621187715333, 3.773161914879012e-11)"
      ]
     },
     "execution_count": 19,
     "metadata": {},
     "output_type": "execute_result"
    }
   ],
   "source": [
    "chi_z_func(1)"
   ]
  },
  {
   "cell_type": "markdown",
   "metadata": {},
   "source": [
    "***"
   ]
  },
  {
   "cell_type": "markdown",
   "metadata": {},
   "source": [
    "### $z(\\chi)$ \n",
    "\n",
    "z_chi_func(chi_input) - returns redshift for a particular comoving distance"
   ]
  },
  {
   "cell_type": "code",
   "execution_count": 20,
   "metadata": {},
   "outputs": [
    {
     "data": {
      "text/plain": [
       "array(0.101)"
      ]
     },
     "execution_count": 20,
     "metadata": {},
     "output_type": "execute_result"
    }
   ],
   "source": [
    "# Interpolate to get z(\\chi)\n",
    "\n",
    "z_chi_func = InterpolatedUnivariateSpline(chi_z_unique, zBest_unique, k=3)\n",
    "z_chi_func(chi_z_unique[22])"
   ]
  },
  {
   "cell_type": "code",
   "execution_count": 21,
   "metadata": {},
   "outputs": [
    {
     "data": {
      "image/png": "[encoded data removed]",
      "text/plain": [
       "<Figure size 432x288 with 1 Axes>"
      ]
     },
     "metadata": {
      "needs_background": "light"
     },
     "output_type": "display_data"
    }
   ],
   "source": [
    "# Plot data and interpolation function for comparison\n",
    "\n",
    "plt.plot(chi_z_unique, zBest_unique, 'o')\n",
    "plt.plot(chi_z_unique, z_chi_func(chi_z_unique), '--')\n",
    "plt.title(\"Interpolation of z(chi[Mpc]) function\")\n",
    "\n",
    "plt.show()"
   ]
  },
  {
   "cell_type": "code",
   "execution_count": 22,
   "metadata": {},
   "outputs": [
    {
     "name": "stdout",
     "output_type": "stream",
     "text": [
      "(3398.5621187715333, 3.773161914879012e-11)\n",
      "(0.0, 0.0)\n",
      "0.9997485462266347\n",
      "2.2363191156393736e-06\n"
     ]
    }
   ],
   "source": [
    "print(chi_z_func(1))\n",
    "print(chi_z_func(0))\n",
    "print(z_chi_func(3398))\n",
    "print(z_chi_func(.01))"
   ]
  },
  {
   "cell_type": "markdown",
   "metadata": {},
   "source": [
    "***"
   ]
  },
  {
   "cell_type": "markdown",
   "metadata": {},
   "source": [
    "### $dz /\\ d\\chi$\n",
    "\n",
    "z_chi_func_deriv(\\chi)"
   ]
  },
  {
   "cell_type": "code",
   "execution_count": 23,
   "metadata": {},
   "outputs": [
    {
     "data": {
      "text/plain": [
       "array(0.00023718)"
      ]
     },
     "execution_count": 23,
     "metadata": {},
     "output_type": "execute_result"
    }
   ],
   "source": [
    "z_chi_func_deriv = z_chi_func.derivative()\n",
    "z_chi_func_deriv(chi_z_unique[22])"
   ]
  },
  {
   "cell_type": "code",
   "execution_count": 24,
   "metadata": {},
   "outputs": [
    {
     "data": {
      "image/png": "[encoded data removed]",
      "text/plain": [
       "<Figure size 432x288 with 1 Axes>"
      ]
     },
     "metadata": {
      "needs_background": "light"
     },
     "output_type": "display_data"
    }
   ],
   "source": [
    "# Plot to check by eye\n",
    "# Chi plot gives: (.6-.2)/(2500-1000) = .00026 and interpolation graph gives: (1500, .00028). Check. \n",
    "\n",
    "plt.plot(chi_z_unique, z_chi_func_deriv(chi_z_unique), '-')\n",
    "plt.title(\"Derivative of Interpolation of z(chi) function\")\n",
    "\n",
    "plt.show()"
   ]
  },
  {
   "cell_type": "markdown",
   "metadata": {},
   "source": [
    "***"
   ]
  },
  {
   "cell_type": "markdown",
   "metadata": {},
   "source": [
    "### $P(k, z(\\chi))$\n",
    "\n",
    "matter_power_spectrum(k, z)"
   ]
  },
  {
   "cell_type": "markdown",
   "metadata": {},
   "source": [
    "### Notes: \n",
    "\n",
    "- Matter power spectrum look fine when compared to CAMB notebook: https://camb.readthedocs.io/en/latest/CAMBdemo.html"
   ]
  },
  {
   "cell_type": "code",
   "execution_count": 25,
   "metadata": {},
   "outputs": [
    {
     "name": "stdout",
     "output_type": "stream",
     "text": [
      "Note: redshifts have been re-sorted (earliest first)\n"
     ]
    }
   ],
   "source": [
    "# Need the redshift and kh to have the same number of points \n",
    "# so that 2d interpolate gets arrays of the same length later. \n",
    "\n",
    "#Now get matter power spectra at redshift 0 and 1.0\n",
    "params = camb.CAMBparams()\n",
    "params.set_cosmology(H0=hubble_0, ombh2=ombh2, omch2=omch2)\n",
    "params.InitPower.set_params(ns=ns)\n",
    "\n",
    "#Note non-linear corrections couples to smaller scales than you want\n",
    "params.set_matter_power(redshifts=np.linspace(0.0, 1.0, num = 100), kmax=2.0)\n",
    "\n",
    "#Linear spectra\n",
    "params.NonLinear = model.NonLinear_none\n",
    "results = camb.get_results(params)\n",
    "kh, z, pk = results.get_matter_power_spectrum(minkh=1e-4, maxkh=1, npoints = 100)"
   ]
  },
  {
   "cell_type": "code",
   "execution_count": 26,
   "metadata": {},
   "outputs": [
    {
     "data": {
      "image/png": "[encoded data removed]",
      "text/plain": [
       "<Figure size 432x288 with 1 Axes>"
      ]
     },
     "metadata": {
      "needs_background": "light"
     },
     "output_type": "display_data"
    }
   ],
   "source": [
    "# plor the power spectrum for z=0 and z=1\n",
    "\n",
    "plt.loglog(kh, pk[0,:], color='k', ls = \"-\")\n",
    "plt.loglog(kh, pk[-1,:], color='b', ls = \"--\")\n",
    "plt.xlabel('k/h Mpc');\n",
    "plt.legend(['linear'], loc='lower left');\n",
    "plt.title('Matter power at z=0 and z=1')\n",
    "plt.show()"
   ]
  },
  {
   "cell_type": "code",
   "execution_count": 27,
   "metadata": {},
   "outputs": [],
   "source": [
    "#Interpolate the matter power spectrum into a function with arguments k & z\n",
    "\n",
    "matter_power_spectrum = interpolate.interp2d(kh, z, pk, kind='quintic')"
   ]
  },
  {
   "cell_type": "code",
   "execution_count": 28,
   "metadata": {},
   "outputs": [
    {
     "data": {
      "image/png": "[encoded data removed]",
      "text/plain": [
       "<Figure size 864x576 with 1 Axes>"
      ]
     },
     "metadata": {
      "needs_background": "light"
     },
     "output_type": "display_data"
    }
   ],
   "source": [
    "# Plot the matter power spectrum from CAMB and the interpolation\n",
    "plt.figure(figsize=(12, 8))\n",
    "kh_list = np.logspace(-4.0, 0, num=100)\n",
    "z_list = np.linspace(min(z), max(z), num=100)\n",
    "\n",
    "\n",
    "plt.loglog(kh, pk[-1,:], color='#88b378', ls = \"-\", label=\"PK_1 CAMB\", linewidth=4, alpha=.6)\n",
    "plt.loglog(kh, pk[0,:], color='#856798', ls = \"-\", label=\"PK_0 CAMB\", linewidth=4, alpha=.6)\n",
    "\n",
    "plt.loglog(kh_list, matter_power_spectrum(kh_list, z_list)[-1,:], color='#4b5d16', ls = \"--\", label=\"PK_1 Interp\")\n",
    "plt.loglog(kh_list, matter_power_spectrum(kh_list, z_list)[0,:], color='#36013f', ls = \"--\", label=\"PK_0 Interp\")\n",
    "\n",
    "plt.xlabel('k/h Mpc')\n",
    "#plt.xlim(11**-4, 2)\n",
    "plt.legend(loc = \"upper right\")\n",
    "plt.title(\"CAMB vs Interpolate power spectrums\")\n",
    "plt.show()"
   ]
  },
  {
   "cell_type": "markdown",
   "metadata": {},
   "source": [
    "***"
   ]
  },
  {
   "cell_type": "markdown",
   "metadata": {},
   "source": [
    "$w(\\theta)^{gg}_{ur} = b_u b_r \\; \\int \\; n_u(z) n_r(z) \\; \\frac{dz}{d\\chi} \\frac{dz}{d\\chi} \\; d\\chi \\; \\int \\frac{k}{2 \\pi} \\; P(k, z(\\chi)) \\; J_0(\\chi k \\theta) \\;dk $"
   ]
  },
  {
   "cell_type": "markdown",
   "metadata": {},
   "source": [
    "### Notes:\n",
    "\n",
    "- Inputting k_max, and first theta and first chi values integrand_k does evaluate to what it should looking at the power_spectrum graph above. CHECK\n",
    "- Need to work on good cutoff for bessel, chose the argument cut-off by playing with BesselJ[0,x]*exp(x^2/a) in mathematica - need to do more rigorously"
   ]
  },
  {
   "cell_type": "markdown",
   "metadata": {},
   "source": [
    "### Questions/Notes (for Ross)\n",
    "\n",
    "- What should the k range be for integration? In theory 0 to inf but I used the same k range as I use for the power spectrum from CAMB, reasonable?\n",
    "- Histogram binning for z distribution doesnt seem to affect below results much so not going to worry about that for now\n",
    "- The integral over k seems OK from some basic checking outlined above, but results seem off by a factor of 100?"
   ]
  },
  {
   "cell_type": "markdown",
   "metadata": {},
   "source": [
    "***"
   ]
  },
  {
   "cell_type": "markdown",
   "metadata": {},
   "source": [
    "## Troubleshooting:"
   ]
  },
  {
   "cell_type": "markdown",
   "metadata": {},
   "source": [
    "### Normalized number densities check:"
   ]
  },
  {
   "cell_type": "markdown",
   "metadata": {},
   "source": [
    "$ \\int \\; n_u(z) n_r(z) \\; \\frac{dz}{d\\chi} \\frac{dz}{d\\chi} \\; d\\chi == 1$"
   ]
  },
  {
   "cell_type": "code",
   "execution_count": 29,
   "metadata": {},
   "outputs": [
    {
     "name": "stdout",
     "output_type": "stream",
     "text": [
      "z_min:  0.04788925000000001\n",
      "z_max:  0.9176807500000002\n",
      "chi_min:  209.71246227424191\n",
      "chi_max:  3188.502255551903\n"
     ]
    }
   ],
   "source": [
    "z_min = Sne_z_all_bin_centers.min()\n",
    "z_max = Sne_z_all_bin_centers.max()\n",
    "\n",
    "chi_min = chi_z_func(z_min)[0]\n",
    "chi_max = chi_z_func(z_max)[0]\n",
    "\n",
    "print(\"z_min: \",  z_min)\n",
    "print(\"z_max: \",  z_max)\n",
    "print(\"chi_min: \",  chi_min)\n",
    "print(\"chi_max: \",  chi_max)"
   ]
  },
  {
   "cell_type": "code",
   "execution_count": 30,
   "metadata": {},
   "outputs": [
    {
     "data": {
      "image/png": "[encoded data removed]",
      "text/plain": [
       "<Figure size 1152x576 with 1 Axes>"
      ]
     },
     "metadata": {
      "needs_background": "light"
     },
     "output_type": "display_data"
    }
   ],
   "source": [
    "x_values = np.linspace(chi_min, chi_max, num=100000)\n",
    "\n",
    "plt.figure(figsize=[16, 8])\n",
    "plt.plot(x_values, (n_sne_interpolated(z_chi_func(x_values)) * z_chi_func_deriv(x_values)), label=\"Interpolation\", c=\"#8c000f\", alpha=.7, lw=2)\n",
    "plt.xlabel(\"co-moving distance\")\n",
    "plt.ylabel(\"n(z) $dz/d\\chi$\")\n",
    "plt.show()"
   ]
  },
  {
   "cell_type": "code",
   "execution_count": 31,
   "metadata": {},
   "outputs": [],
   "source": [
    "def quad_one_dim(integrand, limit_min, limit_max):\n",
    "\n",
    "    integral = scipy.integrate.quad(integrand, limit_min, limit_max, epsrel=10**-12, epsabs=10**-12, limit=5000)\n",
    "    \n",
    "    return integral"
   ]
  },
  {
   "cell_type": "code",
   "execution_count": 32,
   "metadata": {},
   "outputs": [
    {
     "data": {
      "text/plain": [
       "(0.9957766778191214, 3.5937919307116317e-13)"
      ]
     },
     "execution_count": 32,
     "metadata": {},
     "output_type": "execute_result"
    }
   ],
   "source": [
    "# n(z) integral over z\n",
    "quad_one_dim((lambda z: n_sne_interpolated(z)), 0, 1)"
   ]
  },
  {
   "cell_type": "code",
   "execution_count": 33,
   "metadata": {},
   "outputs": [
    {
     "data": {
      "text/plain": [
       "(0.9957767416525357, 9.279092909349614e-13)"
      ]
     },
     "execution_count": 33,
     "metadata": {},
     "output_type": "execute_result"
    }
   ],
   "source": [
    "# n(z) dz/dx integral over x\n",
    "quad_one_dim((lambda x: n_sne_interpolated(z_chi_func(x)) * z_chi_func_deriv(x)), chi_min, chi_max)"
   ]
  },
  {
   "cell_type": "code",
   "execution_count": null,
   "metadata": {},
   "outputs": [],
   "source": []
  },
  {
   "cell_type": "code",
   "execution_count": null,
   "metadata": {},
   "outputs": [],
   "source": []
  },
  {
   "cell_type": "code",
   "execution_count": null,
   "metadata": {},
   "outputs": [],
   "source": []
  },
  {
   "cell_type": "code",
   "execution_count": null,
   "metadata": {},
   "outputs": [],
   "source": []
  },
  {
   "cell_type": "code",
   "execution_count": null,
   "metadata": {},
   "outputs": [],
   "source": []
  },
  {
   "cell_type": "code",
   "execution_count": null,
   "metadata": {},
   "outputs": [],
   "source": []
  },
  {
   "cell_type": "code",
   "execution_count": null,
   "metadata": {},
   "outputs": [],
   "source": []
  },
  {
   "cell_type": "code",
   "execution_count": 34,
   "metadata": {},
   "outputs": [],
   "source": [
    "def besselJ0(arg):\n",
    "    return scipy.special.jv(0, arg)\n",
    "\n",
    "\n",
    "def powerIntegral(x, theta, k_min, k_max):\n",
    "    \n",
    "    integrand = lambda k: (k/(2*np.pi)) * ((1.0/h)**3) * matter_power_spectrum(k*h, z_chi_func(x))[0] * besselJ0(k*theta*x)\n",
    "    integralValue = scipy.integrate.quad(integrand, k_min, k_max, epsrel=10**-12, epsabs=10**-12, limit=5000)\n",
    "    \n",
    "    return integralValue[0]\n",
    "\n",
    "\n",
    "\n",
    "def auto_corr_function_1(bias, theta, k_min, k_max, chi_min, chi_max):\n",
    "    \n",
    "    integrand = lambda x: (bias**2) * powerIntegral(x, theta, k_min, k_max) * ((n_sne_interpolated(z_chi_func(x)))**2) * ((z_chi_func_deriv(x))**2)\n",
    "    CorrValue = scipy.integrate.quad(integrand, chi_min, chi_max, epsrel=10**-12, epsabs=10**-12, limit=5000)\n",
    "    \n",
    "    return CorrValue[0]\n",
    "    \n"
   ]
  },
  {
   "cell_type": "code",
   "execution_count": 35,
   "metadata": {},
   "outputs": [
    {
     "name": "stdout",
     "output_type": "stream",
     "text": [
      "0.1\n",
      "-0.0001428485525968263\n"
     ]
    }
   ],
   "source": [
    "#theta_values = np.logspace(-2, 1, 6)\n",
    "\n",
    "theta_values = [.1]\n",
    "\n",
    "corr_func_values = []\n",
    "for theta in theta_values:\n",
    "    print(theta)\n",
    "    value = auto_corr_function_1(bias=1, theta=theta, k_min=.0001*h, k_max=1.0*h, chi_min=chi_z_func(redshift_min)[0], \n",
    "                               chi_max=chi_z_func(redshift_max)[0])\n",
    "    print(value)\n",
    "    corr_func_values.append(value)\n"
   ]
  },
  {
   "cell_type": "code",
   "execution_count": null,
   "metadata": {},
   "outputs": [],
   "source": [
    "def auto_corr_function(bias, theta, k_min, k_max, chi_min, chi_max):\n",
    "    \n",
    "    constant = (bias**2) * ((1.0/h)**3)\n",
    "    \n",
    "    chi_depend = lambda x: ((n_sne_interpolated(z_chi_func(x)))**2) * ((z_chi_func_deriv(x))**2)\n",
    "    \n",
    "    k_depend = lambda k: (k/(2*np.pi))\n",
    "    \n",
    "    integrand_full = lambda x, k:  (constant * k_depend(k) \n",
    "                                    * chi_depend(x)* matter_power_spectrum(k*h, z_chi_func(x))[0] * scipy.special.jv(0, k*theta*x)) \n",
    "    \n",
    "    value = scipy.integrate.dblquad(integrand_full, k_min, k_max, lambda k: chi_min, lambda k: chi_max)\n",
    "    \n",
    "    return value"
   ]
  },
  {
   "cell_type": "code",
   "execution_count": null,
   "metadata": {},
   "outputs": [],
   "source": [
    "\"\"\"theta_values = np.logspace(-2, 1, 6)\n",
    "\n",
    "theta_values = [.1]\n",
    "\n",
    "corr_func_values_1 = []\n",
    "for theta in theta_values:\n",
    "    print(theta)\n",
    "    value = auto_corr_function(bias=1, theta=theta, k_min=.0001*h, k_max=1.0*h, chi_min=chi_z_func(redshift_min)[0], \n",
    "                               chi_max=chi_z_func(redshift_max)[0])\n",
    "    print(value)\n",
    "    corr_func_values_1.append(value)\n",
    "\"\"\""
   ]
  },
  {
   "cell_type": "code",
   "execution_count": null,
   "metadata": {},
   "outputs": [],
   "source": [
    "corr_func_values_single = []\n",
    "for value in corr_func_values:\n",
    "    corr_func_values_single.append(value[0])"
   ]
  },
  {
   "cell_type": "code",
   "execution_count": null,
   "metadata": {},
   "outputs": [],
   "source": [
    "plt.figure(figsize=(12, 8))\n",
    "\n",
    "plt.scatter(theta_values, corr_func_values_single)\n",
    "#plt.yscale(\"log\")\n",
    "#plt.xscale(\"log\")\n",
    "#plt.xlabel(\"Theta\")\n",
    "#plt.ylabel(\"w(Theta)\")\n",
    "\n",
    "#plt.title(\"Theoretical auto correlation function vs theta\")"
   ]
  },
  {
   "cell_type": "code",
   "execution_count": 36,
   "metadata": {},
   "outputs": [],
   "source": [
    "r_PanSTARRS_Full = np.array(PanSTARRS_Data['r_PanSTARRS_Full'])\n",
    "xi_PanSTARRS_Full = np.array(PanSTARRS_Data['xi_PanSTARRS_Full'])"
   ]
  },
  {
   "cell_type": "code",
   "execution_count": 38,
   "metadata": {},
   "outputs": [
    {
     "data": {
      "image/png": "[encoded data removed]",
      "text/plain": [
       "<Figure size 864x576 with 1 Axes>"
      ]
     },
     "metadata": {
      "needs_background": "light"
     },
     "output_type": "display_data"
    }
   ],
   "source": [
    "plt.figure(figsize=(12, 8))\n",
    "\n",
    "plt.plot(r_PanSTARRS_Full, xi_PanSTARRS_Full, color='#4b5d16', label=\"Data\")\n",
    "plt.plot(r_PanSTARRS_Full, -xi_PanSTARRS_Full, color='#4b5d16', ls=':')\n",
    "\n",
    "#plt.scatter(theta_values, corr_func_values_single, color='#36013f', ls=\"--\", label=\"Theory\")\n",
    "\n",
    "plt.xscale('log')\n",
    "plt.yscale('log', nonposy='clip')\n",
    "plt.xlabel(r'$\\theta$ (degrees)')\n",
    "plt.ylabel(r'w($\\theta$)')\n",
    "plt.legend(loc='upper right')\n",
    "#plt.xlim([0.01,10])\n",
    "\n",
    "plt.show()"
   ]
  },
  {
   "cell_type": "code",
   "execution_count": null,
   "metadata": {},
   "outputs": [],
   "source": []
  },
  {
   "cell_type": "code",
   "execution_count": null,
   "metadata": {},
   "outputs": [],
   "source": []
  },
  {
   "cell_type": "code",
   "execution_count": null,
   "metadata": {},
   "outputs": [],
   "source": []
  },
  {
   "cell_type": "code",
   "execution_count": null,
   "metadata": {},
   "outputs": [],
   "source": [
    "\"\"\"t5 = datetime.now()\n",
    "\n",
    "theta_values = np.logspace(-2, 1, 8)\n",
    "\n",
    "# Parallelizing using Pool.apply()\n",
    "\n",
    "# Step 1: Init multiprocessing.Pool()\n",
    "pool = mp.Pool(mp.cpu_count())\n",
    "\n",
    "# Step 2: `pool.apply` the `howmany_within_range()`\n",
    "corr_func_values = [pool.apply(auto_corr_function, args=(1, theta, .01, 1, chi_z_func(redshift_min)[0], \n",
    "                                                         chi_z_func(redshift_max)[0])) for theta in theta_values]\n",
    "\n",
    "# Step 3: Don't forget to close\n",
    "pool.close()    \n",
    "\n",
    "print(corr_func_values)\n",
    "\n",
    "t6 = datetime.now()\"\"\"\n",
    "print()"
   ]
  },
  {
   "cell_type": "code",
   "execution_count": null,
   "metadata": {},
   "outputs": [],
   "source": [
    "\"\"\"theta_values = np.logspace(-2, 1, 100)\n",
    "\n",
    "chi_min_data = chi_z_func(redshift_min)[0]\n",
    "chi_max_data = chi_z_func(redshift_max)[0]\n",
    "chi_values = np.linspace(chi_min_data, chi_max_data, 100)\n",
    "\n",
    "#Taken from the power spectrum range:\n",
    "k_min = .0001 * h\n",
    "k_max = 1.0 * h\n",
    "\n",
    "arg_cut = 10000.0\n",
    "\n",
    "corr_func_values = []\n",
    "for theta in theta_values:\n",
    "    \n",
    "    integral_k_chi_values = []\n",
    "    for chi in chi_values:\n",
    "        \n",
    "        bessel_arg = lambda k: k*theta*z_chi_func(chi)\n",
    "        bessel_0 = lambda k: scipy.special.jv(0, bessel_arg(k)) \n",
    "        integrad_k = lambda k: (k/(2*np.pi))*matter_power_spectrum(k/h, z_chi_func(chi))[0]*bessel_0(k)*np.exp((bessel_arg(k)**2)/(arg_cut**2))\n",
    "        #integrad_k = lambda k: (k/(2*np.pi))*matter_power_spectrum(k/h, z_chi_func(chi))[0]\n",
    "        \n",
    "        integral_k_chi = scipy.integrate.quad(integrad_k, k_min, k_max)[0]\n",
    "        integral_k_chi_values.append(integral_k_chi)\n",
    "\n",
    "    power_integral_chi_func = interpolate.interp1d(integral_k_chi_values, chi_values, kind='cubic', fill_value=\"extrapolate\")\n",
    "    #print(power_integral_chi_func(theta))\n",
    "    print(len(corr_func_values)/len(theta_values))\n",
    "\n",
    "    \n",
    "    integrand_chi = lambda x: ((n_sne_interpolated(z_chi_func(x)))**2) * ((z_chi_func_deriv(x))**2) * power_integral_chi_func(theta) * (bias_Sne**2)\n",
    "    integral_chi = scipy.integrate.quad(integrand_chi, 0, chi_max_data)[0]\n",
    "    \n",
    "    #print(integral_chi)\n",
    "    corr_func_values.append(integral_chi)\n",
    "    \n",
    "    #print(len(corr_func_values)/len(theta_values))\n",
    "          \n",
    "Correlation = power_integral_chi_func = interpolate.interp1d(corr_func_values, theta_values, kind='cubic', fill_value=\"extrapolate\")\"\"\"\n",
    "print()\n"
   ]
  },
  {
   "cell_type": "code",
   "execution_count": null,
   "metadata": {},
   "outputs": [],
   "source": [
    "\"\"\"def BesselJ0(k):\n",
    "    bessel_J0 = lambda x: scipy.special.jv(0, k*theta*x)\n",
    "    return bessel_J0\n",
    "      \n",
    "    \n",
    "#Camb power spec in units Mpc^3/h need it independent of h \n",
    "def integral_PowerSpectrum_overK(k_min, k_max):\n",
    "    \n",
    "    integrad_k = lambda k, x: k/(2*np.pi) * h * matter_power_spectrum(k/h, z_chi_func(x))[0] * BesselJ0(k)\n",
    "    integral_k = lambda x: scipy.integrate.quad(integrad_k(x), k_min, k_max, epsrel=10**-12, epsabs=10**-12, limit=5000)\n",
    "    \n",
    "    return integral_k[0]\n",
    "    \n",
    "    \n",
    "def auto_corr_function(bias, theta, k_min, k_max, chi_min, chi_max):\n",
    "    \n",
    "    integrand_chi = lambda x: (bias**2) * ((n_sne_interpolated(z_chi_func(x)))**2) * ((z_chi_func_deriv(x))**2) * integral_PowerSpectrum_overK(k_min, k_max)(x)\n",
    "    integral_chi = scipy.integrate.quad(integrand_chi, chi_min, chi_max)\n",
    "    \n",
    "    return integral_chi[0] \"\"\"\n",
    "print()"
   ]
  },
  {
   "cell_type": "code",
   "execution_count": null,
   "metadata": {},
   "outputs": [],
   "source": [
    "\"\"\"# BesselJ0(theta) returns a function dependent on k, x: BesselJ0(theta)(k, x)\n",
    "def BesselJ0(theta):\n",
    "    bessel_J0 = lambda k, x: scipy.special.jv(0, k*theta*x)\n",
    "    return bessel_J0 \n",
    "\n",
    "# integral_PowerSpectrum_overK(k_min, k_max) returns a function dependent on x only: integral_PowerSpectrum_overK(k_min, k_max)(x)\n",
    "def integral_PowerSpectrum_overK(k_min, k_max):\n",
    "    \n",
    "    integrad_k = lambda k, x: k/(2*np.pi) * h * matter_power_spectrum(k/h, z_chi_func(x))[0] * BesselJ0(theta)(k, x)\n",
    "    integral_k = lambda x: scipy.integrate.quad(integrad_k, k_min, k_max, epsrel=10**-12, epsabs=10**-12, limit=5000)\n",
    "    \n",
    "    return integral_k\n",
    "\n",
    "integral_PowerSpectrum_overK(.1, 1)(1)\"\"\"\n",
    "print()"
   ]
  },
  {
   "cell_type": "code",
   "execution_count": null,
   "metadata": {},
   "outputs": [],
   "source": []
  }
 ],
 "metadata": {
  "kernelspec": {
   "display_name": "Python 3",
   "language": "python",
   "name": "python3"
  },
  "language_info": {
   "codemirror_mode": {
    "name": "ipython",
    "version": 3
   },
   "file_extension": ".py",
   "mimetype": "text/x-python",
   "name": "python",
   "nbconvert_exporter": "python",
   "pygments_lexer": "ipython3",
   "version": "3.7.3"
  }
 },
 "nbformat": 4,
 "nbformat_minor": 4
}
