{
 "cells": [
  {
   "cell_type": "markdown",
   "metadata": {},
   "source": [
    "## Objective:\n",
    "    \n",
    "To make a theory calculation for the 2D (angular) cross correlation for the PanSTARRS Supernova and BOSS (CMASS & LOWZ) galaxy data sets, that was found previously for comparison and validation."
   ]
  },
  {
   "cell_type": "markdown",
   "metadata": {},
   "source": [
    "### Notes: \n",
    "\n",
    "- NIntegrate Chi integral in Mathematica"
   ]
  },
  {
   "cell_type": "markdown",
   "metadata": {},
   "source": [
    "Author: Megan Tabbutt <br/>\n",
    "Last Revised: 8_7_20"
   ]
  },
  {
   "cell_type": "markdown",
   "metadata": {},
   "source": [
    "### Calculations:\n",
    "\n",
    "_(2D) Cross Correlation Function (from Ross):_\n",
    "\n",
    "$w(\\theta)^{gg}_{ur} = b_u b_r \\; \\int \\; n_u(z) n_r(z) \\; \\frac{dz}{d\\chi} \\frac{dz}{d\\chi} \\; d\\chi \\; \\int \\frac{k}{2 \\pi} \\; P(k, z(\\chi)) \\; J_0(\\chi k \\theta) \\;dk $\n",
    "\n",
    "Comoving distance formula from Dodelson:\n",
    "\n",
    "$\\chi(a) = \\int^1_a \\frac{da}{a^2H(a)}$ with $a = \\frac{1}{1+z}$, $\\chi(z) = \\int^z_0 \\frac{dz}{H(z)}$\n",
    "\n",
    "and \n",
    "\n",
    "$H(z)^2 = H_0^2(\\Omega_m(1+z)^3 + \\Omega_k(1+z)^2 + \\Omega_{\\Lambda})$ (Wikipedia - Hubble Law)"
   ]
  },
  {
   "cell_type": "code",
   "execution_count": 26,
   "metadata": {},
   "outputs": [],
   "source": [
    "# Working on 2015 laptop: Need to be in CCL conda environment to work on CAMB\n",
    "import camb\n",
    "import numpy as np\n",
    "import pandas as pd\n",
    "import sqlite3"
   ]
  },
  {
   "cell_type": "code",
   "execution_count": 9,
   "metadata": {},
   "outputs": [],
   "source": [
    "DATA_PATH = '/Users/megantabbutt/CosmologyDataProducts/'"
   ]
  },
  {
   "cell_type": "markdown",
   "metadata": {},
   "source": [
    "### Pull in and Parse Data:"
   ]
  },
  {
   "cell_type": "code",
   "execution_count": 11,
   "metadata": {},
   "outputs": [
    {
     "data": {
      "text/html": [
       "<div>\n",
       "<style scoped>\n",
       "    .dataframe tbody tr th:only-of-type {\n",
       "        vertical-align: middle;\n",
       "    }\n",
       "\n",
       "    .dataframe tbody tr th {\n",
       "        vertical-align: top;\n",
       "    }\n",
       "\n",
       "    .dataframe thead th {\n",
       "        text-align: right;\n",
       "    }\n",
       "</style>\n",
       "<table border=\"1\" class=\"dataframe\">\n",
       "  <thead>\n",
       "    <tr style=\"text-align: right;\">\n",
       "      <th></th>\n",
       "      <th>ID</th>\n",
       "      <th>DEC</th>\n",
       "      <th>RA</th>\n",
       "      <th>zSN</th>\n",
       "      <th>zHost</th>\n",
       "    </tr>\n",
       "  </thead>\n",
       "  <tbody>\n",
       "    <tr>\n",
       "      <th>0</th>\n",
       "      <td>ps0909006</td>\n",
       "      <td>1.184831</td>\n",
       "      <td>333.9500</td>\n",
       "      <td>0.284</td>\n",
       "      <td>-999.0</td>\n",
       "    </tr>\n",
       "    <tr>\n",
       "      <th>1</th>\n",
       "      <td>ps0909010</td>\n",
       "      <td>-4.078911</td>\n",
       "      <td>37.1182</td>\n",
       "      <td>0.270</td>\n",
       "      <td>-999.0</td>\n",
       "    </tr>\n",
       "    <tr>\n",
       "      <th>2</th>\n",
       "      <td>ps0910017</td>\n",
       "      <td>-5.023289</td>\n",
       "      <td>35.2775</td>\n",
       "      <td>0.320</td>\n",
       "      <td>-999.0</td>\n",
       "    </tr>\n",
       "  </tbody>\n",
       "</table>\n",
       "</div>"
      ],
      "text/plain": [
       "          ID       DEC        RA    zSN  zHost\n",
       "0  ps0909006  1.184831  333.9500  0.284 -999.0\n",
       "1  ps0909010 -4.078911   37.1182  0.270 -999.0\n",
       "2  ps0910017 -5.023289   35.2775  0.320 -999.0"
      ]
     },
     "execution_count": 11,
     "metadata": {},
     "output_type": "execute_result"
    }
   ],
   "source": [
    "qry_PanSTARRS_Data_All = \"SELECT ID, DEC, RA, zSN, zHost FROM PanSTARRSNEW WHERE (zSN > -999) || (zHost > -999)\"\n",
    "\n",
    "connPAN = sqlite3.connect(DATA_PATH + 'PanSTARRS.db')\n",
    "PanSTARRSNEW_GoodZ = pd.read_sql(qry_PanSTARRS_Data_All, con=connPAN)\n",
    "connPAN.close()\n",
    "PanSTARRSNEW_GoodZ.head(3) # 1129 objects over 10 pointings "
   ]
  },
  {
   "cell_type": "markdown",
   "metadata": {},
   "source": [
    "##### Note: Take the redshift of the supernova if both are given. It redshift of supernova is unknown, take the redshift of the host. "
   ]
  },
  {
   "cell_type": "code",
   "execution_count": 30,
   "metadata": {},
   "outputs": [
    {
     "data": {
      "text/html": [
       "<div>\n",
       "<style scoped>\n",
       "    .dataframe tbody tr th:only-of-type {\n",
       "        vertical-align: middle;\n",
       "    }\n",
       "\n",
       "    .dataframe tbody tr th {\n",
       "        vertical-align: top;\n",
       "    }\n",
       "\n",
       "    .dataframe thead th {\n",
       "        text-align: right;\n",
       "    }\n",
       "</style>\n",
       "<table border=\"1\" class=\"dataframe\">\n",
       "  <thead>\n",
       "    <tr style=\"text-align: right;\">\n",
       "      <th></th>\n",
       "      <th>ID</th>\n",
       "      <th>DEC</th>\n",
       "      <th>RA</th>\n",
       "      <th>zSN</th>\n",
       "      <th>zHost</th>\n",
       "      <th>zBest</th>\n",
       "    </tr>\n",
       "  </thead>\n",
       "  <tbody>\n",
       "    <tr>\n",
       "      <th>0</th>\n",
       "      <td>ps0909006</td>\n",
       "      <td>1.184831</td>\n",
       "      <td>333.950000</td>\n",
       "      <td>0.284</td>\n",
       "      <td>-999.00000</td>\n",
       "      <td>NaN</td>\n",
       "    </tr>\n",
       "    <tr>\n",
       "      <th>1</th>\n",
       "      <td>ps0909010</td>\n",
       "      <td>-4.078911</td>\n",
       "      <td>37.118200</td>\n",
       "      <td>0.270</td>\n",
       "      <td>-999.00000</td>\n",
       "      <td>NaN</td>\n",
       "    </tr>\n",
       "    <tr>\n",
       "      <th>2</th>\n",
       "      <td>ps0910017</td>\n",
       "      <td>-5.023289</td>\n",
       "      <td>35.277500</td>\n",
       "      <td>0.320</td>\n",
       "      <td>-999.00000</td>\n",
       "      <td>NaN</td>\n",
       "    </tr>\n",
       "    <tr>\n",
       "      <th>3</th>\n",
       "      <td>ps0910018</td>\n",
       "      <td>-4.027311</td>\n",
       "      <td>35.667000</td>\n",
       "      <td>0.265</td>\n",
       "      <td>-999.00000</td>\n",
       "      <td>NaN</td>\n",
       "    </tr>\n",
       "    <tr>\n",
       "      <th>4</th>\n",
       "      <td>psc000006</td>\n",
       "      <td>-28.371519</td>\n",
       "      <td>53.366446</td>\n",
       "      <td>0.230</td>\n",
       "      <td>-999.00000</td>\n",
       "      <td>NaN</td>\n",
       "    </tr>\n",
       "    <tr>\n",
       "      <th>...</th>\n",
       "      <td>...</td>\n",
       "      <td>...</td>\n",
       "      <td>...</td>\n",
       "      <td>...</td>\n",
       "      <td>...</td>\n",
       "      <td>...</td>\n",
       "    </tr>\n",
       "    <tr>\n",
       "      <th>1124</th>\n",
       "      <td>psc590062</td>\n",
       "      <td>3.531117</td>\n",
       "      <td>149.836354</td>\n",
       "      <td>-999.000</td>\n",
       "      <td>0.40671</td>\n",
       "      <td>NaN</td>\n",
       "    </tr>\n",
       "    <tr>\n",
       "      <th>1125</th>\n",
       "      <td>psc590170</td>\n",
       "      <td>-3.306236</td>\n",
       "      <td>35.245350</td>\n",
       "      <td>-999.000</td>\n",
       "      <td>0.16387</td>\n",
       "      <td>NaN</td>\n",
       "    </tr>\n",
       "    <tr>\n",
       "      <th>1126</th>\n",
       "      <td>psc590177</td>\n",
       "      <td>45.448086</td>\n",
       "      <td>129.733896</td>\n",
       "      <td>-999.000</td>\n",
       "      <td>0.33165</td>\n",
       "      <td>NaN</td>\n",
       "    </tr>\n",
       "    <tr>\n",
       "      <th>1127</th>\n",
       "      <td>psc590191</td>\n",
       "      <td>1.904003</td>\n",
       "      <td>150.137800</td>\n",
       "      <td>0.220</td>\n",
       "      <td>0.22093</td>\n",
       "      <td>NaN</td>\n",
       "    </tr>\n",
       "    <tr>\n",
       "      <th>1128</th>\n",
       "      <td>psc590248</td>\n",
       "      <td>43.881486</td>\n",
       "      <td>130.097854</td>\n",
       "      <td>-999.000</td>\n",
       "      <td>0.31128</td>\n",
       "      <td>NaN</td>\n",
       "    </tr>\n",
       "  </tbody>\n",
       "</table>\n",
       "<p>1129 rows × 6 columns</p>\n",
       "</div>"
      ],
      "text/plain": [
       "             ID        DEC          RA      zSN      zHost  zBest\n",
       "0     ps0909006   1.184831  333.950000    0.284 -999.00000    NaN\n",
       "1     ps0909010  -4.078911   37.118200    0.270 -999.00000    NaN\n",
       "2     ps0910017  -5.023289   35.277500    0.320 -999.00000    NaN\n",
       "3     ps0910018  -4.027311   35.667000    0.265 -999.00000    NaN\n",
       "4     psc000006 -28.371519   53.366446    0.230 -999.00000    NaN\n",
       "...         ...        ...         ...      ...        ...    ...\n",
       "1124  psc590062   3.531117  149.836354 -999.000    0.40671    NaN\n",
       "1125  psc590170  -3.306236   35.245350 -999.000    0.16387    NaN\n",
       "1126  psc590177  45.448086  129.733896 -999.000    0.33165    NaN\n",
       "1127  psc590191   1.904003  150.137800    0.220    0.22093    NaN\n",
       "1128  psc590248  43.881486  130.097854 -999.000    0.31128    NaN\n",
       "\n",
       "[1129 rows x 6 columns]"
      ]
     },
     "execution_count": 30,
     "metadata": {},
     "output_type": "execute_result"
    }
   ],
   "source": [
    "PanSTARRSNEW_GoodZ['zBest'] = np.nan\n",
    "\n",
    "for i in PanSTARRSNEW_GoodZ.iterrows():\n",
    "    if i[1]['zSN'] >= 0:\n",
    "        i[1]['zBest'] = i[1]['zSN']\n",
    "    else:\n",
    "        i[1]['zBest'] = i[1]['zHost']\n",
    "        \n",
    "PanSTARRSNEW_GoodZ"
   ]
  },
  {
   "cell_type": "code",
   "execution_count": null,
   "metadata": {},
   "outputs": [],
   "source": [
    "\n",
    "for i in PanSTARRSNEW_GoodZ.iterrows():\n",
    "    print(\"______\")\n",
    "    print(i[1]['zSN'])\n",
    "    print(i[1]['zHost'])\n",
    "    if i[1]['zSN'] >= 0:\n",
    "        print('Supernova:')\n",
    "        print(i[1]['zSN'])\n",
    "    else:\n",
    "        print('Host:')\n",
    "        print(i[1]['zHost'])"
   ]
  },
  {
   "cell_type": "markdown",
   "metadata": {},
   "source": [
    "### Get chi(z) and interpolate to get z(chi):"
   ]
  },
  {
   "cell_type": "code",
   "execution_count": null,
   "metadata": {},
   "outputs": [],
   "source": []
  },
  {
   "cell_type": "code",
   "execution_count": null,
   "metadata": {},
   "outputs": [],
   "source": []
  },
  {
   "cell_type": "code",
   "execution_count": null,
   "metadata": {},
   "outputs": [],
   "source": []
  },
  {
   "cell_type": "code",
   "execution_count": null,
   "metadata": {},
   "outputs": [],
   "source": []
  },
  {
   "cell_type": "code",
   "execution_count": null,
   "metadata": {},
   "outputs": [],
   "source": []
  },
  {
   "cell_type": "code",
   "execution_count": null,
   "metadata": {},
   "outputs": [],
   "source": []
  },
  {
   "cell_type": "code",
   "execution_count": null,
   "metadata": {},
   "outputs": [],
   "source": []
  },
  {
   "cell_type": "code",
   "execution_count": null,
   "metadata": {},
   "outputs": [],
   "source": []
  },
  {
   "cell_type": "code",
   "execution_count": null,
   "metadata": {},
   "outputs": [],
   "source": []
  },
  {
   "cell_type": "code",
   "execution_count": null,
   "metadata": {},
   "outputs": [],
   "source": []
  },
  {
   "cell_type": "code",
   "execution_count": null,
   "metadata": {},
   "outputs": [],
   "source": []
  },
  {
   "cell_type": "code",
   "execution_count": null,
   "metadata": {},
   "outputs": [],
   "source": []
  },
  {
   "cell_type": "code",
   "execution_count": null,
   "metadata": {},
   "outputs": [],
   "source": []
  },
  {
   "cell_type": "code",
   "execution_count": null,
   "metadata": {},
   "outputs": [],
   "source": []
  },
  {
   "cell_type": "code",
   "execution_count": null,
   "metadata": {},
   "outputs": [],
   "source": []
  },
  {
   "cell_type": "code",
   "execution_count": null,
   "metadata": {},
   "outputs": [],
   "source": []
  },
  {
   "cell_type": "code",
   "execution_count": null,
   "metadata": {},
   "outputs": [],
   "source": []
  },
  {
   "cell_type": "code",
   "execution_count": null,
   "metadata": {},
   "outputs": [],
   "source": []
  }
 ],
 "metadata": {
  "kernelspec": {
   "display_name": "ccl",
   "language": "python",
   "name": "ccl"
  },
  "language_info": {
   "codemirror_mode": {
    "name": "ipython",
    "version": 3
   },
   "file_extension": ".py",
   "mimetype": "text/x-python",
   "name": "python",
   "nbconvert_exporter": "python",
   "pygments_lexer": "ipython3",
   "version": "3.7.6"
  }
 },
 "nbformat": 4,
 "nbformat_minor": 4
}
