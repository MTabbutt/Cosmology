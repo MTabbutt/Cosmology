{
 "cells": [
  {
   "cell_type": "code",
   "execution_count": 2,
   "metadata": {},
   "outputs": [
    {
     "data": {
      "text/html": [
       "<style>.container { width:90% !important; }</style>"
      ],
      "text/plain": [
       "<IPython.core.display.HTML object>"
      ]
     },
     "metadata": {},
     "output_type": "display_data"
    }
   ],
   "source": [
    "# Make Jupyter Notebook full screen \n",
    "from IPython.core.display import display, HTML\n",
    "display(HTML(\"<style>.container { width:90% !important; }</style>\"))"
   ]
  },
  {
   "cell_type": "code",
   "execution_count": 3,
   "metadata": {},
   "outputs": [],
   "source": [
    "DATA_PATH = '/Users/megantabbutt/CosmologyDataProducts/'\n",
    "\n",
    "TESTING_PRODUCTS_PATH = \"/Users/megantabbutt/Cosmology/Cosmology/SNe CrossCorrelations/VerificationTestingProducts/\"\n",
    "\n",
    "TESTING_PRODUCTS_PATH = TESTING_PRODUCTS_PATH + \"13_10_20/\"\n"
   ]
  },
  {
   "cell_type": "code",
   "execution_count": 4,
   "metadata": {},
   "outputs": [],
   "source": [
    "import sqlite3\n",
    "import pandas as pd\n",
    "import treecorr\n",
    "import numpy\n",
    "import matplotlib.pyplot as plt\n",
    "\n",
    "class Correlation_Data:\n",
    "    \n",
    "    def __init__(self, DATA_PATH, TESTING_PRODUCTS_PATH):\n",
    "        self.DATA_PATH = DATA_PATH\n",
    "        self.TESTING_PRODUCTS_PATH = TESTING_PRODUCTS_PATH\n",
    "                \n",
    "\n",
    "    def makeDataCatalogs(self, databaseFile, query, printHead=True):\n",
    "        \"\"\" Query the database, print head, and return pandas DF object.\n",
    "        \n",
    "        databaseFile - String: database path\n",
    "        query - String: query for the database\n",
    "        printHead=True - prints the first three rows of the returned database\n",
    "        \"\"\"   \n",
    "        connection = sqlite3.connect(DATA_PATH + databaseFile)\n",
    "        try:\n",
    "            dataFrame = pd.read_sql(query, con=connection)\n",
    "            if printHead == True:\n",
    "                print(\"dataFrame: \\n\" + str(dataFrame.head(3)))            \n",
    "            return dataFrame\n",
    "        except Error: \n",
    "            print(\"Error with pd.read_sql on database: \" + databaseFile)\n",
    "        else:\n",
    "            connection.close()\n",
    "  \n",
    "            \n",
    "    def autoCorrelation(self, dataRADEC, randRADEC, ra_units='degrees', dec_units='degrees', min_sep=0.01, max_sep=10, bin_size=0.2, sep_units='degrees'):\n",
    "        \"\"\" Use TreeCorr to make the autoCorrelation of two dataFrames passed in. \n",
    "        \n",
    "        dataFrame1 - obj: pandas dataFrame object made with makeDataCatalogs()\n",
    "        dataFrame1 - obj: pandas dataFrame object made with makeDataCatalogs()\n",
    "        \n",
    "        Return - r, xi, varxi, sig\n",
    "        \"\"\"\n",
    "        self.dataRA = dataRADEC[0]\n",
    "        self.dataDEC = dataRADEC[1]\n",
    "        self.randRA = randRADEC[0]\n",
    "        self.randDEC = randRADEC[1]\n",
    "        \n",
    "        dataCatalog = treecorr.Catalog(ra=self.dataRA, dec=self.dataDEC, ra_units=ra_units, dec_units=dec_units)\n",
    "        randCatalog = treecorr.Catalog(ra=self.randRA, dec=self.randDEC, ra_units=ra_units, dec_units=dec_units)\n",
    "        \n",
    "        nn = treecorr.NNCorrelation(min_sep=min_sep, max_sep=max_sep, bin_size=bin_size, sep_units=sep_units)\n",
    "        nn.process(dataCatalog)\n",
    "        rr = treecorr.NNCorrelation(min_sep=min_sep, max_sep=max_sep, bin_size=bin_size, sep_units=sep_units)\n",
    "        rr.process(randCatalog)\n",
    "        dr = treecorr.NNCorrelation(min_sep=min_sep, max_sep=max_sep, bin_size=bin_size, sep_units=sep_units)\n",
    "        dr.process(dataCatalog, randCatalog)\n",
    "\n",
    "        r = numpy.exp(nn.meanlogr)\n",
    "        xi, varxi = nn.calculateXi(rr, dr)\n",
    "        sig = numpy.sqrt(varxi)\n",
    "    \n",
    "        return r, xi, varxi, sig\n",
    "    \n",
    "    \n",
    "    def crossCorrelation(self, dataRADEC_1, randRADEC_1, dataRADEC_2, randRADEC_2, ra_units='degrees', dec_units='degrees', min_sep=0.01, max_sep=10, bin_size=0.2, sep_units='degrees'):\n",
    "        \"\"\" Use TreeCorr to make the autoCorrelation of two dataFrames passed in. \n",
    "        \n",
    "        dataFrame1 - obj: pandas dataFrame object made with makeDataCatalogs()\n",
    "        dataFrame1 - obj: pandas dataFrame object made with makeDataCatalogs()\n",
    "        \n",
    "        Return - r, xi, varxi, sig\n",
    "        \"\"\"\n",
    "        self.dataRA_1 = dataRADEC_1[0]\n",
    "        self.dataDEC_1 = dataRADEC_1[1]\n",
    "        self.randRA_1 = randRADEC_1[0]\n",
    "        self.randDEC_1 = randRADEC_1[1]\n",
    "        self.dataRA_2 = dataRADEC_2[0]\n",
    "        self.dataDEC_2 = dataRADEC_2[1]\n",
    "        self.randRA_2 = randRADEC_2[0]\n",
    "        self.randDEC_2 = randRADEC_2[1]\n",
    "        \n",
    "        dataCatalog_1 = treecorr.Catalog(ra=self.dataRA_1, dec=self.dataDEC_1, ra_units=ra_units, dec_units=dec_units)\n",
    "        randCatalog_1 = treecorr.Catalog(ra=self.randRA_1, dec=self.randDEC_1, ra_units=ra_units, dec_units=dec_units)\n",
    "        dataCatalog_2 = treecorr.Catalog(ra=self.dataRA_2, dec=self.dataDEC_2, ra_units=ra_units, dec_units=dec_units)\n",
    "        randCatalog_2 = treecorr.Catalog(ra=self.randRA_2, dec=self.randDEC_2, ra_units=ra_units, dec_units=dec_units)\n",
    "        \n",
    "        nn = treecorr.NNCorrelation(min_sep=min_sep, max_sep=max_sep, bin_size=bin_size, sep_units=sep_units)\n",
    "        nn.process(dataCatalog_1, dataCatalog_2)\n",
    "        \n",
    "        rr = treecorr.NNCorrelation(min_sep=min_sep, max_sep=max_sep, bin_size=bin_size, sep_units=sep_units)\n",
    "        rr.process(randCatalog_1, randCatalog_2)\n",
    "        \n",
    "        dr = treecorr.NNCorrelation(min_sep=min_sep, max_sep=max_sep, bin_size=bin_size, sep_units=sep_units)\n",
    "        dr.process(dataCatalog_1, randCatalog_2)\n",
    "        \n",
    "        rd = treecorr.NNCorrelation(min_sep=min_sep, max_sep=max_sep, bin_size=bin_size, sep_units=sep_units)\n",
    "        rd.process(randCatalog_1, dataCatalog_2)\n",
    "\n",
    "        r = numpy.exp(nn.meanlogr)\n",
    "        xi, varxi = nn.calculateXi(rr, dr, rd)\n",
    "        sig = numpy.sqrt(varxi)\n",
    "    \n",
    "        return r, xi, varxi, sig\n",
    "    \n",
    "    \n",
    "    def plotCorrelationFunction(self, r, xi, varxi, sig, plotTitle, saveName=None, save=False, loc='lower left'):\n",
    "        self.saveName = saveName\n",
    "        self.r = r\n",
    "        self.xi = xi\n",
    "        self.varxi = varxi\n",
    "        self.sig = sig\n",
    "        \n",
    "        plt.figure(figsize=(12, 8))\n",
    "        plt.plot(self.r, self.xi, color='blue')\n",
    "        plt.plot(self.r, -self.xi, color='blue', ls=':')\n",
    "        plt.errorbar(self.r[self.xi>0], self.xi[self.xi>0], yerr=self.sig[self.xi>0], color='green', lw=0.5, ls='')\n",
    "        plt.errorbar(self.r[self.xi<0], -self.xi[self.xi<0], yerr=self.sig[self.xi<0], color='green', lw=0.5, ls='')\n",
    "        leg = plt.errorbar(-self.r, self.xi, yerr=self.sig, color='blue')\n",
    "        plt.xscale('log')\n",
    "        plt.yscale('log', nonpositive='clip')\n",
    "        plt.xlabel(r'$\\theta$ (degrees)', fontsize = 12)\n",
    "        plt.ylabel(r'$w(\\theta)$', fontsize = 12)\n",
    "        #plt.legend([leg], [r'$w(\\theta)$'], loc=loc)\n",
    "        plt.xlim([0.01,10])\n",
    "        plt.title(plotTitle, fontsize = 16)\n",
    "\n",
    "        if save == True:\n",
    "            plt.savefig(self.TESTING_PRODUCTS_PATH + self.saveName)\n",
    "            print(\"Saved figure to: \\t\" + self.TESTING_PRODUCTS_PATH + self.saveName)\n",
    "\n",
    "        plt.show()\n",
    "    \n",
    "    \n",
    "    \n",
    "    \n",
    "    def __str__(self):\n",
    "        return  \n",
    "        "
   ]
  },
  {
   "cell_type": "markdown",
   "metadata": {},
   "source": []
  },
  {
   "cell_type": "code",
   "execution_count": 5,
   "metadata": {},
   "outputs": [
    {
     "name": "stdout",
     "output_type": "stream",
     "text": [
      "dataFrame: \n",
      "          ID       DEC        RA    zSN  zHost\n",
      "0  ps0909006  1.184831  333.9500  0.284 -999.0\n",
      "1  ps0909010 -4.078911   37.1182  0.270 -999.0\n",
      "2  ps0910017 -5.023289   35.2775  0.320 -999.0\n"
     ]
    }
   ],
   "source": [
    "correlation_obj = Correlation_Data(DATA_PATH, TESTING_PRODUCTS_PATH)\n",
    "\n",
    "query = \"SELECT ID, DEC, RA, zSN, zHost FROM PanSTARRSNEW WHERE (zSN > -999) || (zHost > -999)\"\n",
    "PanSTARRS_all_df = correlation_obj.makeDataCatalogs(\"PanSTARRS.db\", query)\n",
    "#PanSTARRS_all_df.head()"
   ]
  },
  {
   "cell_type": "code",
   "execution_count": 6,
   "metadata": {},
   "outputs": [
    {
     "name": "stdout",
     "output_type": "stream",
     "text": [
      "done. Length of randoms: 309\n"
     ]
    }
   ],
   "source": [
    "cat_PanSTARRS_Full = treecorr.Catalog(ra=PanSTARRS_all_df['RA'], dec=PanSTARRS_all_df['DEC'], ra_units='degrees', dec_units='degrees')\n",
    "randsLength = 10**5\n",
    "\n",
    "ra_min_PanSTARRS = numpy.min(cat_PanSTARRS_Full.ra)\n",
    "ra_max_PanSTARRS = numpy.max(cat_PanSTARRS_Full.ra)\n",
    "dec_min_PanSTARRS = numpy.min(cat_PanSTARRS_Full.dec)\n",
    "dec_max_PanSTARRS = numpy.max(cat_PanSTARRS_Full.dec)\n",
    "#print('PanSTARRS ra range = %f .. %f' % (ra_min_PanSTARRS, ra_max_PanSTARRS))\n",
    "#print('PanSTARRS dec range = %f .. %f' % (dec_min_PanSTARRS, dec_max_PanSTARRS))\n",
    "\n",
    "rand_ra_PanSTARRS = numpy.random.uniform(ra_min_PanSTARRS, ra_max_PanSTARRS, randsLength)\n",
    "rand_sindec_PanSTARRS = numpy.random.uniform(numpy.sin(dec_min_PanSTARRS), numpy.sin(dec_max_PanSTARRS), randsLength)\n",
    "rand_dec_PanSTARRS = numpy.arcsin(rand_sindec_PanSTARRS)\n",
    "\n",
    "pointings = {\"MD01\": [035.875, -04.250], \"MD03\": [130.592, 44.317], \"MD04\": [150.000, 02.200], \n",
    "             \"MD05\": [161.917, 58.083], \"MD06\": [185.000, 47.117], \"MD07\": [213.704, 53.083], \n",
    "             \"MD08\": [242.787, 54.950], \"MD09\": [334.188, 00.283], \"MD10\": [352.312, -00.433], \"MD02\": [053.100, -27.800],}\n",
    "\n",
    "radius = (3.3/2) * numpy.pi / 180.0\n",
    "\n",
    "maskRA = []\n",
    "maskDEC = []\n",
    "randoms_Lengths = []\n",
    "\n",
    "for pointing in pointings: \n",
    "    \n",
    "    #print(pointings[pointing])\n",
    "    center_dec = pointings[pointing][1] * numpy.pi / 180\n",
    "    center_ra = pointings[pointing][0] * numpy.pi / 180\n",
    "\n",
    "    angular_seps = numpy.arccos(numpy.cos(numpy.pi / 2 - center_dec) * numpy.cos(numpy.pi / 2 - rand_dec_PanSTARRS) + \n",
    "                                numpy.sin(numpy.pi / 2 - center_dec) * numpy.sin(numpy.pi / 2 - rand_dec_PanSTARRS) * \n",
    "                                numpy.cos(center_ra - rand_ra_PanSTARRS))\n",
    "\n",
    "    ras_in_circle = rand_ra_PanSTARRS[angular_seps < radius]\n",
    "    #print(len(ras_in_circle))\n",
    "    ras_in_circle = ras_in_circle * 180 / numpy.pi\n",
    "    decs_in_circle = rand_dec_PanSTARRS[angular_seps < radius]\n",
    "    #print(len(decs_in_circle))\n",
    "    decs_in_circle = decs_in_circle * 180 / numpy.pi\n",
    "    \n",
    "    maskRA.extend(ras_in_circle)\n",
    "    maskDEC.extend(decs_in_circle)\n",
    "    \n",
    "    randoms_Lengths.append(len(ras_in_circle))\n",
    "print(\"done. Length of randoms: \" + str(len(maskRA)))"
   ]
  },
  {
   "cell_type": "code",
   "execution_count": 7,
   "metadata": {},
   "outputs": [
    {
     "name": "stdout",
     "output_type": "stream",
     "text": [
      "Warning: Some bins for the randoms had no pairs.\n"
     ]
    }
   ],
   "source": [
    "dataRADEC = [PanSTARRS_all_df['RA'], PanSTARRS_all_df['DEC']]\n",
    "randRADEC = [maskRA, maskDEC]\n",
    "\n",
    "r, xi, varxi, sig = correlation_obj.autoCorrelation(dataRADEC, randRADEC)"
   ]
  },
  {
   "cell_type": "code",
   "execution_count": 8,
   "metadata": {},
   "outputs": [
    {
     "data": {
      "image/png": "[encoded data removed]",
      "text/plain": [
       "<Figure size 864x576 with 1 Axes>"
      ]
     },
     "metadata": {
      "needs_background": "light"
     },
     "output_type": "display_data"
    }
   ],
   "source": [
    "correlation_obj.plotCorrelationFunction(r, xi, varxi, sig, \"AutoCorrelation of PanStarrs and Randoms\", loc='upper right')"
   ]
  },
  {
   "cell_type": "code",
   "execution_count": 9,
   "metadata": {},
   "outputs": [
    {
     "name": "stdout",
     "output_type": "stream",
     "text": [
      "[35.875, -4.25]\n",
      "32\n",
      "32\n",
      "[130.592, 44.317]\n",
      "31\n",
      "31\n",
      "[150.0, 2.2]\n",
      "26\n",
      "26\n",
      "[161.917, 58.083]\n",
      "30\n",
      "30\n",
      "[185.0, 47.117]\n",
      "33\n",
      "33\n",
      "[213.704, 53.083]\n",
      "30\n",
      "30\n",
      "[242.787, 54.95]\n",
      "30\n",
      "30\n",
      "[334.188, 0.283]\n",
      "27\n",
      "27\n",
      "[352.312, -0.433]\n",
      "33\n",
      "33\n"
     ]
    }
   ],
   "source": [
    "# Need to get just 9 pointings from PanSTARRS: \n",
    "            \n",
    "radius = (3.3/2) * numpy.pi / 180.0\n",
    "\n",
    "maskRA_overlap = []\n",
    "maskDEC_overlap = []\n",
    "randoms_Lengths_overlap = []\n",
    "\n",
    "for pointing in pointings: \n",
    "    if(pointing == \"MD02\"):\n",
    "        continue\n",
    "    else:    \n",
    "        print(pointings[pointing])\n",
    "        center_dec = pointings[pointing][1] * numpy.pi / 180\n",
    "        center_ra = pointings[pointing][0] * numpy.pi / 180\n",
    "\n",
    "        angular_seps = numpy.arccos(numpy.cos(numpy.pi / 2 - center_dec) * numpy.cos(numpy.pi / 2 - rand_dec_PanSTARRS) + \n",
    "                                    numpy.sin(numpy.pi / 2 - center_dec) * numpy.sin(numpy.pi / 2 - rand_dec_PanSTARRS) * \n",
    "                                    numpy.cos(center_ra - rand_ra_PanSTARRS))\n",
    "\n",
    "        ras_in_circle = rand_ra_PanSTARRS[angular_seps < radius]\n",
    "        print(len(ras_in_circle))\n",
    "        ras_in_circle = ras_in_circle * 180 / numpy.pi\n",
    "        decs_in_circle = rand_dec_PanSTARRS[angular_seps < radius]\n",
    "        print(len(decs_in_circle))\n",
    "        decs_in_circle = decs_in_circle * 180 / numpy.pi\n",
    "\n",
    "        maskRA_overlap.extend(ras_in_circle)\n",
    "        maskDEC_overlap.extend(decs_in_circle)\n",
    "\n",
    "        randoms_Lengths_overlap.append(len(ras_in_circle))"
   ]
  },
  {
   "cell_type": "code",
   "execution_count": 10,
   "metadata": {},
   "outputs": [
    {
     "name": "stdout",
     "output_type": "stream",
     "text": [
      "dataFrame: \n",
      "          ID       DEC        RA    zSN  zHost\n",
      "0  ps0909006  1.184831  333.9500  0.284 -999.0\n",
      "1  ps0909010 -4.078911   37.1182  0.270 -999.0\n",
      "2  ps0910017 -5.023289   35.2775  0.320 -999.0\n"
     ]
    }
   ],
   "source": [
    "qry_PanSTARRS_Data_Overlap = \"\"\"SELECT ID, DEC, RA, zSN, zHost FROM PanSTARRSNEW WHERE (DEC > -20) AND ((zSN > -999) OR (zHost > -999))\"\"\"\n",
    "PanSTARRS_only_9 = correlation_obj.makeDataCatalogs(\"PanSTARRS.db\", qry_PanSTARRS_Data_Overlap)"
   ]
  },
  {
   "cell_type": "code",
   "execution_count": null,
   "metadata": {},
   "outputs": [],
   "source": []
  }
 ],
 "metadata": {
  "kernelspec": {
   "display_name": "Python 3",
   "language": "python",
   "name": "python3"
  },
  "language_info": {
   "codemirror_mode": {
    "name": "ipython",
    "version": 3
   },
   "file_extension": ".py",
   "mimetype": "text/x-python",
   "name": "python",
   "nbconvert_exporter": "python",
   "pygments_lexer": "ipython3",
   "version": "3.8.2"
  }
 },
 "nbformat": 4,
 "nbformat_minor": 2
}
