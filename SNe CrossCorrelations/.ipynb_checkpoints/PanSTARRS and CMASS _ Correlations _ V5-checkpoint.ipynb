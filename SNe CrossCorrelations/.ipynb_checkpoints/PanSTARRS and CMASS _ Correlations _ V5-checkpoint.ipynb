{
 "cells": [
  {
   "cell_type": "code",
   "execution_count": 2,
   "metadata": {},
   "outputs": [
    {
     "data": {
      "text/html": [
       "<style>.container { width:90% !important; }</style>"
      ],
      "text/plain": [
       "<IPython.core.display.HTML object>"
      ]
     },
     "metadata": {},
     "output_type": "display_data"
    }
   ],
   "source": [
    "# Make Jupyter Notebook full screen \n",
    "from IPython.core.display import display, HTML\n",
    "display(HTML(\"<style>.container { width:90% !important; }</style>\"))"
   ]
  },
  {
   "cell_type": "code",
   "execution_count": 3,
   "metadata": {},
   "outputs": [],
   "source": [
    "DATA_PATH = '/Users/megantabbutt/CosmologyDataProducts/'\n",
    "\n",
    "TESTING_PRODUCTS_PATH = \"/Users/megantabbutt/Cosmology/Cosmology/SNe CrossCorrelations/VerificationTestingProducts/\"\n"
   ]
  },
  {
   "cell_type": "code",
   "execution_count": 43,
   "metadata": {},
   "outputs": [],
   "source": [
    "import sqlite3\n",
    "import pandas as pd\n",
    "\n",
    "class Correlation_Data:\n",
    "    \n",
    "    def __init__(self, DATA_PATH):\n",
    "        self.DATA_PATH = DATA_PATH\n",
    "        \n",
    "    \n",
    "    def makeDataCatalogs(self, databaseFile, query, printHead = True):\n",
    "        \"\"\"\"\"\"\n",
    "        connection = sqlite3.connect(DATA_PATH + databaseFile)\n",
    "        try:\n",
    "            dataFrame = pd.read_sql(query, con=connection)\n",
    "            if printHead == True:\n",
    "                print(\"dataFrame: \\n\" + str(dataFrame.head(3)))\n",
    "            return dataFrame\n",
    "        except Error: \n",
    "            print(\"Error with pd.read_sql on database: \" + databaseFile)\n",
    "        else:\n",
    "            connection.close()\n",
    "            \n",
    "        \n",
    "        \n",
    "    def autoCorrelationFunction(self, DataCatalog, RandCatalog):\n",
    "        nn = treecorr.NNCorrelation(min_sep=0.01, max_sep=10, bin_size=0.2, sep_units='degrees')\n",
    "        nn.process(DataCatalog)\n",
    "    \n",
    "        rr = treecorr.NNCorrelation(min_sep=0.01, max_sep=10, bin_size=0.2, sep_units='degrees')\n",
    "        rr.process(RandCatalog)\n",
    "    \n",
    "        dr = treecorr.NNCorrelation(min_sep=0.01, max_sep=10, bin_size=0.2, sep_units='degrees')\n",
    "        dr.process(DataCatalog, RandCatalog)\n",
    "    \n",
    "        r = numpy.exp(nn.meanlogr)\n",
    "        xi, varxi = nn.calculateXi(rr, dr)\n",
    "        sig = numpy.sqrt(varxi)\n",
    "    \n",
    "        return r, xi, varxi, sig\n",
    "        "
   ]
  },
  {
   "cell_type": "code",
   "execution_count": 45,
   "metadata": {},
   "outputs": [
    {
     "data": {
      "text/html": [
       "<div>\n",
       "<style scoped>\n",
       "    .dataframe tbody tr th:only-of-type {\n",
       "        vertical-align: middle;\n",
       "    }\n",
       "\n",
       "    .dataframe tbody tr th {\n",
       "        vertical-align: top;\n",
       "    }\n",
       "\n",
       "    .dataframe thead th {\n",
       "        text-align: right;\n",
       "    }\n",
       "</style>\n",
       "<table border=\"1\" class=\"dataframe\">\n",
       "  <thead>\n",
       "    <tr style=\"text-align: right;\">\n",
       "      <th></th>\n",
       "      <th>ID</th>\n",
       "      <th>DEC</th>\n",
       "      <th>RA</th>\n",
       "      <th>zSN</th>\n",
       "      <th>zHost</th>\n",
       "    </tr>\n",
       "  </thead>\n",
       "  <tbody>\n",
       "    <tr>\n",
       "      <th>0</th>\n",
       "      <td>ps0909006</td>\n",
       "      <td>1.184831</td>\n",
       "      <td>333.950000</td>\n",
       "      <td>0.284</td>\n",
       "      <td>-999.0</td>\n",
       "    </tr>\n",
       "    <tr>\n",
       "      <th>1</th>\n",
       "      <td>ps0909010</td>\n",
       "      <td>-4.078911</td>\n",
       "      <td>37.118200</td>\n",
       "      <td>0.270</td>\n",
       "      <td>-999.0</td>\n",
       "    </tr>\n",
       "    <tr>\n",
       "      <th>2</th>\n",
       "      <td>ps0910017</td>\n",
       "      <td>-5.023289</td>\n",
       "      <td>35.277500</td>\n",
       "      <td>0.320</td>\n",
       "      <td>-999.0</td>\n",
       "    </tr>\n",
       "    <tr>\n",
       "      <th>3</th>\n",
       "      <td>ps0910018</td>\n",
       "      <td>-4.027311</td>\n",
       "      <td>35.667000</td>\n",
       "      <td>0.265</td>\n",
       "      <td>-999.0</td>\n",
       "    </tr>\n",
       "    <tr>\n",
       "      <th>4</th>\n",
       "      <td>psc000006</td>\n",
       "      <td>-28.371519</td>\n",
       "      <td>53.366446</td>\n",
       "      <td>0.230</td>\n",
       "      <td>-999.0</td>\n",
       "    </tr>\n",
       "  </tbody>\n",
       "</table>\n",
       "</div>"
      ],
      "text/plain": [
       "          ID        DEC          RA    zSN  zHost\n",
       "0  ps0909006   1.184831  333.950000  0.284 -999.0\n",
       "1  ps0909010  -4.078911   37.118200  0.270 -999.0\n",
       "2  ps0910017  -5.023289   35.277500  0.320 -999.0\n",
       "3  ps0910018  -4.027311   35.667000  0.265 -999.0\n",
       "4  psc000006 -28.371519   53.366446  0.230 -999.0"
      ]
     },
     "execution_count": 45,
     "metadata": {},
     "output_type": "execute_result"
    }
   ],
   "source": [
    "correlation_obj = Correlation_Data(DATA_PATH)\n",
    "\n",
    "query = \"SELECT ID, DEC, RA, zSN, zHost FROM PanSTARRSNEW WHERE (zSN > -999) || (zHost > -999)\"\n",
    "PanSTARRS_all_df = correlation_obj.makeDataCatalogs(\"PanSTARRS.db\", query, printHead = False)\n",
    "PanSTARRS_all_df.head()"
   ]
  },
  {
   "cell_type": "code",
   "execution_count": null,
   "metadata": {},
   "outputs": [],
   "source": []
  }
 ],
 "metadata": {
  "kernelspec": {
   "display_name": "Python 3",
   "language": "python",
   "name": "python3"
  },
  "language_info": {
   "codemirror_mode": {
    "name": "ipython",
    "version": 3
   },
   "file_extension": ".py",
   "mimetype": "text/x-python",
   "name": "python",
   "nbconvert_exporter": "python",
   "pygments_lexer": "ipython3",
   "version": "3.8.2"
  }
 },
 "nbformat": 4,
 "nbformat_minor": 2
}
