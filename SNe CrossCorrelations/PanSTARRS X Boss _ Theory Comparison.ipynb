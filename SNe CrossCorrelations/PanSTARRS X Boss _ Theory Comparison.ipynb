{
 "cells": [
  {
   "cell_type": "markdown",
   "metadata": {},
   "source": [
    "## Objective:\n",
    "    \n",
    "To make a theory calculation for the PanSTARRS Supernova cross correlation with BOSS (CMASS & LOWZ) galaxy data sets, that was found previously for comparison and validation."
   ]
  },
  {
   "cell_type": "markdown",
   "metadata": {},
   "source": [
    "### Notes: "
   ]
  },
  {
   "cell_type": "markdown",
   "metadata": {},
   "source": [
    "Author: Megan Tabbutt <br/>\n",
    "Last Revised: 7_28_20"
   ]
  },
  {
   "cell_type": "markdown",
   "metadata": {},
   "source": [
    "*** \n",
    "### Correlation Function:\n",
    "\n",
    "_From Mukherjee & Wandelt (2018):_\n",
    "\n",
    "The isotropic two-point correlation function between two tracers:\n",
    "\n",
    "\n",
    "$\\chi^{iso}_{x-y}(r) = \\frac{1}{2 \\pi ^2} \\; \\int \\; k^2 \\; dk \\; b_x(z) \\; b_y (z) \\; P(k) \\; j_0(k r) \\; e^{-k^2 /\\ k^2_{max}}$ \n",
    "\n",
    "\n",
    "* $b_{sne}(z) = 1.6 \\; \\; \\; \\; b_{galaxy}(z) = 1.6 \\; \\; \\; \\;$ (Mukherjee) <br/>\n",
    "* $j_0(k r) \\; \\; $ is a Bessel function <br/>\n",
    "* $k_{max} \\;$ term is added for the suppression of oscillatory behavior of the Bessel function <br/>\n",
    "* $P(k)\\; $ is the Power spectrum: \n",
    "\n",
    "<br/>\n",
    "<br/>\n",
    "\n",
    "_Dodelson Text (2020):_ \n",
    "\n",
    "linear power spectrum of matter at late times:\n",
    "\n",
    "$ P_L(k,a) = \\frac{8 \\pi^2}{25} \\frac{\\mathcal{A}_s}{\\Omega_m^2} D_{+}^2(a) T^2(k) \\frac{k^{n_s}}{H_0^4 k_p^{n_s -1}}$\n",
    "\n",
    "* Use CAMB or CCL to get this in practice\n",
    "\n",
    "\n",
    "\n",
    "\n"
   ]
  },
  {
   "cell_type": "code",
   "execution_count": null,
   "metadata": {},
   "outputs": [],
   "source": []
  },
  {
   "cell_type": "code",
   "execution_count": null,
   "metadata": {},
   "outputs": [],
   "source": []
  },
  {
   "cell_type": "code",
   "execution_count": null,
   "metadata": {},
   "outputs": [],
   "source": []
  },
  {
   "cell_type": "code",
   "execution_count": null,
   "metadata": {},
   "outputs": [],
   "source": []
  },
  {
   "cell_type": "code",
   "execution_count": null,
   "metadata": {},
   "outputs": [],
   "source": []
  },
  {
   "cell_type": "code",
   "execution_count": null,
   "metadata": {},
   "outputs": [],
   "source": []
  },
  {
   "cell_type": "code",
   "execution_count": null,
   "metadata": {},
   "outputs": [],
   "source": []
  },
  {
   "cell_type": "code",
   "execution_count": null,
   "metadata": {},
   "outputs": [],
   "source": []
  },
  {
   "cell_type": "code",
   "execution_count": null,
   "metadata": {},
   "outputs": [],
   "source": []
  },
  {
   "cell_type": "code",
   "execution_count": null,
   "metadata": {},
   "outputs": [],
   "source": []
  },
  {
   "cell_type": "code",
   "execution_count": null,
   "metadata": {},
   "outputs": [],
   "source": []
  },
  {
   "cell_type": "code",
   "execution_count": null,
   "metadata": {},
   "outputs": [],
   "source": []
  },
  {
   "cell_type": "code",
   "execution_count": null,
   "metadata": {},
   "outputs": [],
   "source": []
  },
  {
   "cell_type": "code",
   "execution_count": null,
   "metadata": {},
   "outputs": [],
   "source": []
  },
  {
   "cell_type": "code",
   "execution_count": null,
   "metadata": {},
   "outputs": [],
   "source": []
  },
  {
   "cell_type": "code",
   "execution_count": null,
   "metadata": {},
   "outputs": [],
   "source": []
  },
  {
   "cell_type": "code",
   "execution_count": null,
   "metadata": {},
   "outputs": [],
   "source": []
  },
  {
   "cell_type": "code",
   "execution_count": null,
   "metadata": {},
   "outputs": [],
   "source": []
  },
  {
   "cell_type": "code",
   "execution_count": null,
   "metadata": {},
   "outputs": [],
   "source": []
  },
  {
   "cell_type": "code",
   "execution_count": null,
   "metadata": {},
   "outputs": [],
   "source": []
  }
 ],
 "metadata": {
  "kernelspec": {
   "display_name": "Python 3",
   "language": "python",
   "name": "python3"
  },
  "language_info": {
   "codemirror_mode": {
    "name": "ipython",
    "version": 3
   },
   "file_extension": ".py",
   "mimetype": "text/x-python",
   "name": "python",
   "nbconvert_exporter": "python",
   "pygments_lexer": "ipython3",
   "version": "3.7.3"
  }
 },
 "nbformat": 4,
 "nbformat_minor": 4
}
