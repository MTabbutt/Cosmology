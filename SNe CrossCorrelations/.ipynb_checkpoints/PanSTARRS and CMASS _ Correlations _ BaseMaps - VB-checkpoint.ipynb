{
 "cells": [
  {
   "cell_type": "markdown",
   "metadata": {},
   "source": [
    "<Strong> Note to the reader: </Strong> This notebook is to investigate more things about the XCorrelation of PanSTARRS and BOSS. Right now it looks at the pointing data of PanSTARRS, the data and the randoms generated to investigate that matching. \n",
    "\n",
    "Annotations about TreeCorr are taken from the documentation and all credit goes to Mike Jarvis. </br>\n",
    "\n",
    "https://rmjarvis.github.io/TreeCorr/_build/html/overview.html </br>\n",
    "\n",
    "-MT 6/16/20"
   ]
  },
  {
   "cell_type": "markdown",
   "metadata": {},
   "source": [
    "#### List of changes/fixes that are not resolved: \n",
    "\n",
    "- "
   ]
  },
  {
   "cell_type": "markdown",
   "metadata": {},
   "source": [
    "### Imports and formatting: "
   ]
  },
  {
   "cell_type": "code",
   "execution_count": null,
   "metadata": {},
   "outputs": [],
   "source": [
    "# Make Jupyter Notebook full screen \n",
    "from IPython.core.display import display, HTML\n",
    "display(HTML(\"<style>.container { width:100% !important; }</style>\"))\n",
    "from IPython.display import Image"
   ]
  },
  {
   "cell_type": "code",
   "execution_count": null,
   "metadata": {},
   "outputs": [],
   "source": [
    "#plt.switch_backend('agg') #For HEP, matplotlib x windows issues see python version for more usage \n",
    "import treecorr\n",
    "import numpy\n",
    "import matplotlib\n",
    "import matplotlib.pyplot as plt\n",
    "import pandas as pd\n",
    "import sqlite3\n",
    "import os\n",
    "import datetime\n",
    "\n",
    "import mpl_toolkits\n",
    "mpl_toolkits.__path__.append('//miniconda3/envs/ccl/lib/python3.7/site-packages/mpl_toolkits/')\n",
    "from mpl_toolkits.basemap import Basemap"
   ]
  },
  {
   "cell_type": "markdown",
   "metadata": {},
   "source": [
    "### Define notebook wide data paths to use:"
   ]
  },
  {
   "cell_type": "code",
   "execution_count": null,
   "metadata": {},
   "outputs": [],
   "source": [
    "dataPath = '/Users/megantabbutt/CosmologyDataProducts/'\n",
    "#dataPath = '/afs/hep.wisc.edu/home/tabbutt/private/CosmologyDataProducts/'\n",
    "\n",
    "testingProductsPath = \"/Users/megantabbutt/Cosmology/Cosmology/SNe CrossCorrelations/VerificationTestingProducts/\""
   ]
  },
  {
   "cell_type": "code",
   "execution_count": null,
   "metadata": {},
   "outputs": [],
   "source": [
    "# Define the paths for local and HEP machines:\n",
    "DATA_PATH = '/Users/megantabbutt/CosmologyDataProducts/'\n",
    "#DATA_PATH = '/afs/hep.wisc.edu/home/tabbutt/private/CosmologyDataProducts/'\n",
    "\n",
    "TESTING_PRODUCTS_PATH = \"/Users/megantabbutt/Cosmology/Cosmology/SNe CrossCorrelations/VerificationTestingProducts/\"\n",
    "#TESTING_PRODUCTS_PATH = \"/afs/hep.wisc.edu/home/tabbutt/public/Cosmology/SNe CrossCorrelations/VerificationTestingProducts/\"\n",
    "\n",
    "# Create the directory to save to and a file with info about this run:\n",
    "DATE = datetime.datetime.now().strftime(\"%d_%m_%Y_%H_%M\")\n",
    "CURRENT_DIRECTORY = DATE\n",
    "TESTING_PRODUCTS_PATH = TESTING_PRODUCTS_PATH + CURRENT_DIRECTORY\n",
    "\n",
    "os.mkdir(TESTING_PRODUCTS_PATH)\n",
    "\n",
    "NOTES_NAME = \"/RUNNING_NOTES_\" + DATE + \".txt\"\n",
    "NOTES_PATH = TESTING_PRODUCTS_PATH + NOTES_NAME"
   ]
  },
  {
   "cell_type": "markdown",
   "metadata": {},
   "source": [
    "### Define notebook wide data paths to use:"
   ]
  },
  {
   "cell_type": "code",
   "execution_count": null,
   "metadata": {},
   "outputs": [],
   "source": [
    "''' Writes a string to a file.\n",
    "File name: NOTES_NAME, path: NOTES_PATH. These are defined at the beginning of the program.\n",
    "\n",
    "@param str notes: A single string to be writen.\n",
    "'''\n",
    "\n",
    "def NotesToWrite(notes):\n",
    "    NOTES = open(NOTES_PATH, \"a\")\n",
    "    NOTES.write(notes)\n",
    "    NOTES.write(\"\\n \\n\")\n",
    "    NOTES.close()"
   ]
  },
  {
   "cell_type": "markdown",
   "metadata": {},
   "source": [
    "### Start writing notes to textfile:\n",
    "Write notes about:\n",
    "- Steps completed in program\n",
    "- plot made and saved to folder\n",
    "- Amount of data points, randoms points in plots and data runs"
   ]
  },
  {
   "cell_type": "code",
   "execution_count": null,
   "metadata": {},
   "outputs": [],
   "source": [
    "# Write an opening note in the file:\n",
    "NotesToWrite(\"BASE MAPS Version Run\")"
   ]
  },
  {
   "cell_type": "code",
   "execution_count": null,
   "metadata": {},
   "outputs": [],
   "source": [
    "# Write an opening note in the file:\n",
    "NotesToWrite(\"Created Running notes file for tracking details about this run and products produced/saved\")"
   ]
  },
  {
   "cell_type": "markdown",
   "metadata": {},
   "source": [
    " <hr style=\"height:3px\"> "
   ]
  },
  {
   "cell_type": "markdown",
   "metadata": {},
   "source": [
    "\n",
    "## 0. Pull in and parse data:\n",
    "\n",
    "note: There are 10 pointings for the PanSTARRS data, we will use all 10 for the Auto Correlation, but when we correlated to CMASS, we need to only use the 9 overlap with CMASS. --- IMPORTANT"
   ]
  },
  {
   "cell_type": "code",
   "execution_count": null,
   "metadata": {},
   "outputs": [],
   "source": [
    "NotesToWrite(\"0. Pull in and parse data:\")"
   ]
  },
  {
   "cell_type": "markdown",
   "metadata": {},
   "source": [
    "#### PanSTARRS: "
   ]
  },
  {
   "cell_type": "code",
   "execution_count": null,
   "metadata": {},
   "outputs": [],
   "source": [
    "connPAN = sqlite3.connect(dataPath + 'PanSTARRS.db')\n",
    "\n",
    "qry = \"SELECT ID, DEC, RA, zSN, zHost FROM PanSTARRSNEW WHERE (zSN > -999) || (zHost > -999)\"\n",
    "\n",
    "PanSTARRSNEW_GoodZ = pd.read_sql(qry, con=connPAN)\n",
    "PanSTARRSNEW_GoodZ.head(3) # 1129 objects over 10 pointings "
   ]
  },
  {
   "cell_type": "code",
   "execution_count": null,
   "metadata": {},
   "outputs": [],
   "source": [
    "NotesToWrite(\"PanSTARRSNEW_GoodZ Database (with 10 pointings) objects: \" + str(len(PanSTARRSNEW_GoodZ)))"
   ]
  },
  {
   "cell_type": "markdown",
   "metadata": {},
   "source": [
    "## 1. Create the TreeCorr Catalogs of Data:"
   ]
  },
  {
   "cell_type": "code",
   "execution_count": null,
   "metadata": {},
   "outputs": [],
   "source": [
    "NotesToWrite(\"1. Create the TreeCorr Catalogs of Data:\")"
   ]
  },
  {
   "cell_type": "code",
   "execution_count": null,
   "metadata": {},
   "outputs": [],
   "source": [
    "cat_PanSTARRS_Full = treecorr.Catalog(ra=PanSTARRSNEW_GoodZ['RA'], dec=PanSTARRSNEW_GoodZ['DEC'], ra_units='degrees', \n",
    "                                      dec_units='degrees')\n",
    "cat_PanSTARRS_Full"
   ]
  },
  {
   "cell_type": "code",
   "execution_count": null,
   "metadata": {},
   "outputs": [],
   "source": [
    "NotesToWrite(\"Created cat_PanSTARRS_Full.\")"
   ]
  },
  {
   "cell_type": "markdown",
   "metadata": {},
   "source": [
    "## 2. Create the randoms for PanSTARRS\n",
    "Include all ten pointings for now, can just exclude the pointing that isn't in CMASS when doing the CrossCorr </br>\n",
    "\n",
    "Possibility to ask for mask eventually if we think that it is a limitation </br>"
   ]
  },
  {
   "cell_type": "code",
   "execution_count": null,
   "metadata": {},
   "outputs": [],
   "source": [
    "NotesToWrite(\"2. Create the randoms for PanSTARRS. Include all 10 pointings, delete MD02 later.\")"
   ]
  },
  {
   "cell_type": "code",
   "execution_count": null,
   "metadata": {},
   "outputs": [],
   "source": [
    "# Change this for more and less, 10E5 good for personal laptop ~5min run time\n",
    "randsLength = 10**6\n",
    "\n",
    "NotesToWrite(\"randsLength: \" + str(randsLength))"
   ]
  },
  {
   "cell_type": "code",
   "execution_count": null,
   "metadata": {},
   "outputs": [],
   "source": [
    "ra_min_PanSTARRS = numpy.min(cat_PanSTARRS_Full.ra)\n",
    "ra_max_PanSTARRS = numpy.max(cat_PanSTARRS_Full.ra)\n",
    "dec_min_PanSTARRS = numpy.min(cat_PanSTARRS_Full.dec)\n",
    "dec_max_PanSTARRS = numpy.max(cat_PanSTARRS_Full.dec)\n",
    "print('PanSTARRS ra range = %f .. %f' % (ra_min_PanSTARRS, ra_max_PanSTARRS))\n",
    "print('PanSTARRS dec range = %f .. %f' % (dec_min_PanSTARRS, dec_max_PanSTARRS))\n",
    "\n",
    "rand_ra_PanSTARRS = numpy.random.uniform(ra_min_PanSTARRS, ra_max_PanSTARRS, randsLength)\n",
    "rand_sindec_PanSTARRS = numpy.random.uniform(numpy.sin(dec_min_PanSTARRS), numpy.sin(dec_max_PanSTARRS), randsLength)\n",
    "rand_dec_PanSTARRS = numpy.arcsin(rand_sindec_PanSTARRS)"
   ]
  },
  {
   "cell_type": "code",
   "execution_count": null,
   "metadata": {},
   "outputs": [],
   "source": [
    "# Got from a paper, need to cite it here:  https://arxiv.org/pdf/1612.05560.pdf\n",
    "\n",
    "pointings = {\"MD01\": [035.875, -04.250], \"MD03\": [130.592, 44.317], \"MD04\": [150.000, 02.200], \n",
    "             \"MD05\": [161.917, 58.083], \"MD06\": [185.000, 47.117], \"MD07\": [213.704, 53.083], \n",
    "             \"MD08\": [242.787, 54.950], \"MD09\": [334.188, 00.283], \"MD10\": [352.312, -00.433], \"MD02\": [053.100, -27.800],}"
   ]
  },
  {
   "cell_type": "code",
   "execution_count": null,
   "metadata": {},
   "outputs": [],
   "source": [
    "# Check how well the randoms cover the same space as the data\n",
    "\n",
    "f1, (ax1a, ax2a, ax3a) = plt.subplots(1, 3, figsize=(20, 5))\n",
    "ax1a.scatter(cat_PanSTARRS_Full.ra * 180/numpy.pi, cat_PanSTARRS_Full.dec * 180/numpy.pi, color='red', s=0.1, marker='x')\n",
    "ax1a.scatter(rand_ra_PanSTARRS * 180/numpy.pi, rand_dec_PanSTARRS * 180/numpy.pi, color='blue', s=0.1)\n",
    "ax1a.set_xlabel('RA (degrees)')\n",
    "ax1a.set_ylabel('Dec (degrees)')\n",
    "ax1a.set_title('Randoms on top of data')\n",
    "\n",
    "# Repeat in the opposite order\n",
    "ax2a.scatter(rand_ra_PanSTARRS * 180/numpy.pi, rand_dec_PanSTARRS * 180/numpy.pi, color='blue', s=0.1, marker='x')\n",
    "ax2a.scatter(cat_PanSTARRS_Full.ra * 180/numpy.pi, cat_PanSTARRS_Full.dec * 180/numpy.pi, color='red', s=0.1)\n",
    "ax2a.set_xlabel('RA (degrees)')\n",
    "ax2a.set_ylabel('Dec (degrees)')\n",
    "ax2a.set_title('Data on top of randoms')\n",
    "\n",
    "# Zoom to look at coverage of randoms and reals\n",
    "ax3a.scatter(rand_ra_PanSTARRS * 180/numpy.pi, rand_dec_PanSTARRS * 180/numpy.pi, color='blue', s=1, marker='x', label='rands')\n",
    "ax3a.scatter(cat_PanSTARRS_Full.ra * 180/numpy.pi, cat_PanSTARRS_Full.dec * 180/numpy.pi, color='red', s=1, label='data')\n",
    "ax3a.set_xlabel('RA (degrees)')\n",
    "ax3a.set_ylabel('Dec (degrees)')\n",
    "ax3a.set_title('Data on top of randoms_Zoom')\n",
    "ax3a.legend(loc = \"upper right\")\n",
    "ax3a.set_xlim(128, 133)\n",
    "ax3a.set_ylim(42, 47)\n",
    "\n",
    "plt.savefig(TESTING_PRODUCTS_PATH + \"/PanSTARRS data and randoms\")\n",
    "\n",
    "plt.show()"
   ]
  },
  {
   "cell_type": "code",
   "execution_count": null,
   "metadata": {},
   "outputs": [],
   "source": [
    "NotesToWrite(\"Plotted: PanSTARRS data and randoms\")"
   ]
  },
  {
   "cell_type": "markdown",
   "metadata": {},
   "source": [
    "\"The telescope illuminates a diameter of 3.3 degrees,  with low distortion, and mild vignetting at the edge of this illuminated region. The field of view is approximately 7 square degrees. The 8  meter  focal  length  atf/4.4  gives  an  approximate  10micron pixel scale of 0.258 arcsec/pixel.\"\n",
    "\n",
    "7 square degrees --> r = 1.49 deg"
   ]
  },
  {
   "cell_type": "code",
   "execution_count": null,
   "metadata": {},
   "outputs": [],
   "source": [
    "radius = (3.3/2) * numpy.pi / 180.0\n",
    "\n",
    "maskRA = []\n",
    "maskDEC = []\n",
    "randoms_Lengths = []\n",
    "\n",
    "for pointing in pointings: \n",
    "    \n",
    "    print(pointings[pointing])\n",
    "    center_dec = pointings[pointing][1] * numpy.pi / 180\n",
    "    center_ra = pointings[pointing][0] * numpy.pi / 180\n",
    "\n",
    "    angular_seps = numpy.arccos(numpy.cos(numpy.pi / 2 - center_dec) * numpy.cos(numpy.pi / 2 - rand_dec_PanSTARRS) + \n",
    "                                numpy.sin(numpy.pi / 2 - center_dec) * numpy.sin(numpy.pi / 2 - rand_dec_PanSTARRS) * \n",
    "                                numpy.cos(center_ra - rand_ra_PanSTARRS))\n",
    "\n",
    "    ras_in_circle = rand_ra_PanSTARRS[angular_seps < radius]\n",
    "    print(len(ras_in_circle))\n",
    "    ras_in_circle = ras_in_circle * 180 / numpy.pi\n",
    "    decs_in_circle = rand_dec_PanSTARRS[angular_seps < radius]\n",
    "    print(len(decs_in_circle))\n",
    "    decs_in_circle = decs_in_circle * 180 / numpy.pi\n",
    "    \n",
    "    maskRA.extend(ras_in_circle)\n",
    "    maskDEC.extend(decs_in_circle)\n",
    "    \n",
    "    randoms_Lengths.append(len(ras_in_circle))\n",
    "    \n",
    "NotesToWrite(\"Populated pointings with randoms. Randoms per pointing: (1, 3-10, 2):\"+ str(randoms_Lengths))"
   ]
  },
  {
   "cell_type": "code",
   "execution_count": null,
   "metadata": {},
   "outputs": [],
   "source": [
    "NotesToWrite(\"Populated pointings with randoms. Randoms per pointing: (1, 3-10, 2):\"+ str(randoms_Lengths))"
   ]
  },
  {
   "cell_type": "markdown",
   "metadata": {},
   "source": [
    "## 3. Check pointing overlaps"
   ]
  },
  {
   "cell_type": "code",
   "execution_count": null,
   "metadata": {},
   "outputs": [],
   "source": [
    "NotesToWrite(\"3. Check pointing overlap between pointing, data and randoms.\")"
   ]
  },
  {
   "cell_type": "code",
   "execution_count": null,
   "metadata": {},
   "outputs": [],
   "source": [
    "plt.figure(figsize=(20, 10))\n",
    "map = Basemap(projection='moll', lon_0=0)\n",
    "\n",
    "map.drawparallels(numpy.arange(-90.,120.,30.))\n",
    "map.drawmeridians(numpy.arange(0.,420.,60.))\n",
    "\n",
    "xRand, yRand = map(maskRA, maskDEC)\n",
    "xData, yData = map(cat_PanSTARRS_Full.ra * 180/numpy.pi, cat_PanSTARRS_Full.dec * 180/numpy.pi)\n",
    "\n",
    "map.scatter(xRand, yRand, marker='D', color='b')\n",
    "map.scatter(xData, yData, marker='D', color='m')\n",
    "\n",
    "plt.title(\"\")\n",
    "plt.show()"
   ]
  },
  {
   "cell_type": "code",
   "execution_count": null,
   "metadata": {},
   "outputs": [],
   "source": [
    "plt.figure(figsize=(20, 10))\n",
    "map = Basemap(projection='moll', lon_0=0)\n",
    "\n",
    "map.drawparallels(numpy.arange(-90.,120.,30.))\n",
    "map.drawmeridians(numpy.arange(0.,420.,60.))\n",
    "\n",
    "xRand, yRand = map(maskRA, maskDEC)\n",
    "xData, yData = map(cat_PanSTARRS_Full.ra * 180/numpy.pi, cat_PanSTARRS_Full.dec * 180/numpy.pi)\n",
    "\n",
    "map.scatter(xData, yData, marker='D', color='m')\n",
    "map.scatter(xRand, yRand, marker='D', color='b')\n",
    "\n",
    "plt.title(\"\")\n",
    "plt.show()"
   ]
  },
  {
   "cell_type": "code",
   "execution_count": null,
   "metadata": {},
   "outputs": [],
   "source": [
    "def makeMollWideZoom(pointing, zoomDegree):\n",
    "    \n",
    "    print(\"Center of pointing for \" + pointing + \": \" + str(pointings[pointing]))\n",
    "    \n",
    "    lat_0 = pointings[pointing][1]\n",
    "    lon_0 = pointings[pointing][0]\n",
    "    llcrnrlon = lon_0 - zoomDegree\n",
    "    urcrnrlon = lon_0 + zoomDegree\n",
    "    llcrnrlat = lat_0 - zoomDegree\n",
    "    urcrnrlat = lat_0 + zoomDegree\n",
    "    \n",
    "    map = Basemap(projection='cyl', lat_0 = lat_0, lon_0 = lon_0, \n",
    "                  llcrnrlon=llcrnrlon, llcrnrlat=llcrnrlat, \n",
    "                  urcrnrlon=urcrnrlon, urcrnrlat=urcrnrlat)\n",
    "\n",
    "    xRand, yRand = map(maskRA, maskDEC)\n",
    "    xData, yData = map(cat_PanSTARRS_Full.ra * 180/numpy.pi, cat_PanSTARRS_Full.dec * 180/numpy.pi)\n",
    "\n",
    "    map.scatter(xRand, yRand, marker='.', color='b')\n",
    "    map.scatter(xData, yData, marker='x', color='m')\n",
    "\n",
    "    plt.title(\"\")\n",
    "    plt.show()"
   ]
  },
  {
   "cell_type": "code",
   "execution_count": null,
   "metadata": {
    "scrolled": false
   },
   "outputs": [],
   "source": [
    "for pointing in pointings: \n",
    "    makeMollWideZoom(pointing, 3)"
   ]
  },
  {
   "cell_type": "code",
   "execution_count": null,
   "metadata": {},
   "outputs": [],
   "source": []
  }
 ],
 "metadata": {
  "kernelspec": {
   "display_name": "ccl",
   "language": "python",
   "name": "ccl"
  },
  "language_info": {
   "codemirror_mode": {
    "name": "ipython",
    "version": 3
   },
   "file_extension": ".py",
   "mimetype": "text/x-python",
   "name": "python",
   "nbconvert_exporter": "python",
   "pygments_lexer": "ipython3",
   "version": "3.7.6"
  }
 },
 "nbformat": 4,
 "nbformat_minor": 2
}
