{
 "cells": [
  {
   "cell_type": "markdown",
   "metadata": {},
   "source": [
    "<Strong> Note to the reader: </Strong> This notebook currently calculates the cross correlation of the PanSTARRS SuperNova set with the LOWZ and CMASS galaxy catalogs from eBOSS (SDSS). There are also some trouble shooting/data validation calculations along the way. </br>\n",
    "\n",
    "Annotations about TreeCorr are taken from the documentation and all credit goes to Mike Jarvis. </br>\n",
    "\n",
    "https://rmjarvis.github.io/TreeCorr/_build/html/overview.html </br>\n",
    "\n",
    "-MT 6/11/20"
   ]
  },
  {
   "cell_type": "markdown",
   "metadata": {},
   "source": [
    "#### List of changes/fixes that are not resolved: \n",
    "\n",
    "- Data for panstarrs is outside the pointing? --- NEED TO INVESTIGATE \n",
    "- Corr func asymptotes to .2 instead of zero? --- NEED TO DO \n",
    "- Theory calculuation --- NEED TO SWITCH TO DOING \n",
    "- Better way to populate the randoms into the mask? Apply the mask over top? --- FIX ME (Eventually)"
   ]
  },
  {
   "cell_type": "markdown",
   "metadata": {},
   "source": [
    "### Imports and formatting: "
   ]
  },
  {
   "cell_type": "code",
   "execution_count": null,
   "metadata": {},
   "outputs": [],
   "source": [
    "# Make Jupyter Notebook full screen \n",
    "from IPython.core.display import display, HTML\n",
    "display(HTML(\"<style>.container { width:100% !important; }</style>\"))\n",
    "from IPython.display import Image"
   ]
  },
  {
   "cell_type": "code",
   "execution_count": null,
   "metadata": {},
   "outputs": [],
   "source": [
    "#plt.switch_backend('agg') #For HEP, matplotlib x windows issues see python version for more usage \n",
    "import treecorr\n",
    "import numpy\n",
    "import matplotlib\n",
    "import matplotlib.pyplot as plt\n",
    "import pandas as pd\n",
    "import sqlite3\n",
    "import os\n",
    "import datetime"
   ]
  },
  {
   "cell_type": "markdown",
   "metadata": {},
   "source": [
    "### Define notebook wide functions and data paths to use:"
   ]
  },
  {
   "cell_type": "code",
   "execution_count": null,
   "metadata": {},
   "outputs": [],
   "source": [
    "dataPath = '/Users/megantabbutt/CosmologyDataProducts/'\n",
    "#dataPath = '/afs/hep.wisc.edu/home/tabbutt/private/CosmologyDataProducts/'\n",
    "\n",
    "testingProductsPath = \"/Users/megantabbutt/Cosmology/Cosmology/SNe CrossCorrelations/VerificationTestingProducts/\"\n",
    "\n",
    "# Python has datename, savfig folder fields, usually don't save this code just for monkeying around... \n",
    "# If wanted to save some plots, should invoke this, and add text file to the folder with notes for that run \n",
    "\n",
    "date = ' 05_29_20_12pm'"
   ]
  },
  {
   "cell_type": "code",
   "execution_count": null,
   "metadata": {},
   "outputs": [],
   "source": [
    "# Define the paths for local and HEP machines:\n",
    "DATA_PATH = '/Users/megantabbutt/CosmologyDataProducts/'\n",
    "#DATA_PATH = '/afs/hep.wisc.edu/home/tabbutt/private/CosmologyDataProducts/'\n",
    "\n",
    "TESTING_PRODUCTS_PATH = \"/Users/megantabbutt/Cosmology/Cosmology/SNe CrossCorrelations/VerificationTestingProducts/\"\n",
    "#TESTING_PRODUCTS_PATH = \"/afs/hep.wisc.edu/home/tabbutt/public/Cosmology/SNe CrossCorrelations/VerificationTestingProducts/\"\n",
    "\n",
    "# Create the directory to save to and a file with info about this run:\n",
    "DATE = datetime.datetime.now().strftime(\"%d_%m_%Y_%H_%M\")\n",
    "CURRENT_DIRECTORY = DATE\n",
    "TESTING_PRODUCTS_PATH = TESTING_PRODUCTS_PATH + CURRENT_DIRECTORY\n",
    "\n",
    "os.mkdir(TESTING_PRODUCTS_PATH)\n",
    "\n",
    "NOTES_NAME = \"/RUNNING_NOTES_\" + DATE + \".txt\"\n",
    "NOTES_PATH = TESTING_PRODUCTS_PATH + NOTES_NAME"
   ]
  },
  {
   "cell_type": "markdown",
   "metadata": {},
   "source": [
    "### Start writing notes to textfile:\n",
    "Write notes about:\n",
    "- Steps completed in program\n",
    "- plot made and saved to folder\n",
    "- Amount of data points, randoms points in plots and data runs"
   ]
  },
  {
   "cell_type": "code",
   "execution_count": null,
   "metadata": {},
   "outputs": [],
   "source": [
    "# Write an opening note in the file:\n",
    "NOTES = open(NOTES_PATH, \"a\")\n",
    "NOTES.write(\"Created Running notes file for tracking details about this run and products produced/saved\")\n",
    "NOTES.write(\"\\n \\n\")\n",
    "NOTES.close()"
   ]
  },
  {
   "cell_type": "markdown",
   "metadata": {},
   "source": [
    " <hr style=\"height:3px\"> "
   ]
  },
  {
   "cell_type": "markdown",
   "metadata": {},
   "source": [
    "\n",
    "## 0. Pull in and parse data:\n",
    "\n",
    "note: There are 10 pointings for the PanSTARRS data, we will use all 10 for the Auto Correlation, but when we correlated to CMASS, we need to only use the 9 overlap with CMASS. --- IMPORTANT"
   ]
  },
  {
   "cell_type": "code",
   "execution_count": null,
   "metadata": {},
   "outputs": [],
   "source": [
    "NOTES = open(NOTES_PATH, \"a\")\n",
    "NOTES.write(\"0. Pull in and parse data:\")\n",
    "NOTES.write(\"\\n \\n\")\n",
    "NOTES.close()"
   ]
  },
  {
   "cell_type": "markdown",
   "metadata": {},
   "source": [
    "#### PanSTARRS: "
   ]
  },
  {
   "cell_type": "code",
   "execution_count": null,
   "metadata": {},
   "outputs": [],
   "source": [
    "connBOSS = sqlite3.connect(dataPath + 'CMASS_and_LOWZ.db')\n",
    "\n",
    "qry = \"SELECT * FROM CMASSLOWZTOT_South\"\n",
    "\n",
    "CMASSLOWZTOT_DF = pd.read_sql(qry, con=connBOSS)\n",
    "CMASSLOWZTOT_DF.head(3) # 1.3 million objects"
   ]
  },
  {
   "cell_type": "code",
   "execution_count": null,
   "metadata": {},
   "outputs": [],
   "source": [
    "NOTES = open(NOTES_PATH, \"a\")\n",
    "NOTES.write(\"CMASSLOWZTOT_DF Database objects: \" + str(len(CMASSLOWZTOT_DF)))\n",
    "NOTES.write(\"\\n \\n\")\n",
    "NOTES.close()\n",
    "connBOSS.close()"
   ]
  },
  {
   "cell_type": "markdown",
   "metadata": {},
   "source": [
    "#### Pull in the Randoms provided by CMASS:"
   ]
  },
  {
   "cell_type": "code",
   "execution_count": null,
   "metadata": {},
   "outputs": [],
   "source": [
    "connBOSSRands = sqlite3.connect(dataPath + 'CMASS_and_LOWZ_rands.db')\n",
    "randSampleQry = \"SELECT * FROM CMASSLOWZTOT_South_rands\"\n",
    "#randQry = \"SELECT * FROM CMASSLOWZTOT_South_rands UNION SELECT * FROM CMASSLOWZTOT_North_rands\"\n",
    "\n",
    "CMASSLOWZTOT_DF_rands = pd.read_sql(randSampleQry, con=connBOSSRands)\n",
    "CMASSLOWZTOT_DF_rands.to_json(dataPath + \"CMASSLOWZTOT_DF_rands\")\n",
    "CMASSLOWZTOT_DF_rands.head(3)"
   ]
  },
  {
   "cell_type": "code",
   "execution_count": null,
   "metadata": {},
   "outputs": [],
   "source": [
    "connBOSSRands.close()"
   ]
  },
  {
   "cell_type": "markdown",
   "metadata": {},
   "source": [
    " <hr style=\"height:3px\"> "
   ]
  },
  {
   "cell_type": "markdown",
   "metadata": {},
   "source": [
    "## 4. Make CMASS Count-Count Auto Correlation Functions:\n",
    "\n",
    "Typical Usage Pattern:\n",
    "\n",
    "> nn = treecorr.NNCorrelation(config) \n",
    "<br>\n",
    "nn.process(cat)     # For auto-correlation.\n",
    "<br>\n",
    "nn.process(cat1,cat2)   # For cross-correlation.\n",
    "<br>\n",
    "rr.process...           # Likewise for random-random correlations\n",
    "<br>\n",
    "dr.process...        # If desired, also do data-random correlations\n",
    "<br>\n",
    "rd.process...    # For cross-correlations, also do the reverse.\n",
    "<br>\n",
    "nn.write(file_name,rr,dr,rd)  # Write out to a file.\n",
    "<br>\n",
    "xi,varxi = nn.calculateXi(rr,dr,rd)  # Or get the correlation function directly."
   ]
  },
  {
   "cell_type": "code",
   "execution_count": null,
   "metadata": {},
   "outputs": [],
   "source": [
    "NOTES = open(NOTES_PATH, \"a\")\n",
    "NOTES.write(\"4. Make CMASS Count-Count Auto Correlation Functions:\")\n",
    "NOTES.write(\"\\n \\n\")\n",
    "NOTES.close()"
   ]
  },
  {
   "cell_type": "code",
   "execution_count": null,
   "metadata": {},
   "outputs": [],
   "source": [
    "cat_eBOSS = treecorr.Catalog(ra=CMASSLOWZTOT_DF['RA'], dec=CMASSLOWZTOT_DF['DEC'], ra_units='degrees', dec_units='degrees')\n",
    "cat_eBOSS\n"
   ]
  },
  {
   "cell_type": "code",
   "execution_count": null,
   "metadata": {},
   "outputs": [],
   "source": [
    "NOTES = open(NOTES_PATH, \"a\")\n",
    "NOTES.write(\"Created cat_eBOSS.\")\n",
    "NOTES.write(\"\\n \\n\")\n",
    "NOTES.close()"
   ]
  },
  {
   "cell_type": "code",
   "execution_count": null,
   "metadata": {},
   "outputs": [],
   "source": [
    "nn_eBOSS_Auto_self = treecorr.NNCorrelation(min_sep=0.01, max_sep=10, bin_size=0.2, sep_units='degrees')\n",
    "nn_eBOSS_Auto_self.process(cat_eBOSS)\n",
    "\n",
    "cat_rand_eBOSS = treecorr.Catalog(ra=CMASSLOWZTOT_DF_rands['RA'], dec=CMASSLOWZTOT_DF_rands['DEC'], ra_units='degrees', dec_units='degrees')\n",
    "rr_eBOSS = treecorr.NNCorrelation(min_sep=0.01, max_sep=10, bin_size=0.2, sep_units='degrees')\n",
    "rr_eBOSS.process(cat_rand_eBOSS)\n",
    "\n",
    "dr_eBOSS = treecorr.NNCorrelation(min_sep=0.01, max_sep=10, bin_size=0.2, sep_units='degrees')\n",
    "dr_eBOSS.process(cat_eBOSS, cat_rand_eBOSS)\n",
    "\n",
    "r_eBOSS = numpy.exp(nn_eBOSS_Auto_self.meanlogr)\n",
    "xi_eBOSS, varxi_eBOSS = nn_eBOSS_Auto_self.calculateXi(rr_eBOSS, dr_eBOSS)\n",
    "sig_eBOSS = numpy.sqrt(varxi_eBOSS)"
   ]
  },
  {
   "cell_type": "code",
   "execution_count": null,
   "metadata": {},
   "outputs": [],
   "source": [
    "f3, (ax1c, ax2c) = plt.subplots(1, 2, figsize=(20, 5))\n",
    "\n",
    "ax1c.scatter(cat_eBOSS.ra * 180/numpy.pi, cat_eBOSS.dec * 180/numpy.pi, color='red', s=0.1)\n",
    "ax1c.set_xlabel('RA (degrees)')\n",
    "ax1c.set_ylabel('Dec (degrees)')\n",
    "ax1c.set_title('CMASS/LOWZ Data')\n",
    "\n",
    "# Repeat in the opposite order\n",
    "ax2c.scatter(CMASSLOWZTOT_DF_rands['RA'], CMASSLOWZTOT_DF_rands['DEC'], color='blue', s=0.1)\n",
    "ax2c.set_xlabel('RA (degrees)')\n",
    "ax2c.set_ylabel('Dec (degrees)')\n",
    "ax2c.set_title('CMASS/LOWZ Randoms')\n",
    "\n",
    "plt.savefig(TESTING_PRODUCTS_PATH + \"/CMASS_LOWZ Randoms\")\n",
    "plt.show()"
   ]
  },
  {
   "cell_type": "code",
   "execution_count": null,
   "metadata": {},
   "outputs": [],
   "source": [
    "NOTES = open(NOTES_PATH, \"a\")\n",
    "NOTES.write(\"Plotted: CMASS_LOWZ Randoms\")\n",
    "NOTES.write(\"\\n \\n\")\n",
    "NOTES.close()"
   ]
  },
  {
   "cell_type": "code",
   "execution_count": null,
   "metadata": {},
   "outputs": [],
   "source": [
    "# Plot the autocorrelation function:\n",
    "\n",
    "plt.plot(r_eBOSS, xi_eBOSS, color='blue')\n",
    "plt.plot(r_eBOSS, -xi_eBOSS, color='blue', ls=':')\n",
    "plt.errorbar(r_eBOSS[xi_eBOSS>0], xi_eBOSS[xi_eBOSS>0], yerr=sig_eBOSS[xi_eBOSS>0], color='green', lw=0.5, ls='')\n",
    "plt.errorbar(r_eBOSS[xi_eBOSS<0], -xi_eBOSS[xi_eBOSS<0], yerr=sig_eBOSS[xi_eBOSS<0], color='green', lw=0.5, ls='')\n",
    "leg = plt.errorbar(-r_eBOSS, xi_eBOSS, yerr=sig_eBOSS, color='blue')\n",
    "plt.xscale('log')\n",
    "plt.yscale('log', nonposy='clip')\n",
    "plt.xlabel(r'$\\theta$ (degrees)')\n",
    "plt.legend([leg], [r'$w(\\theta)$'], loc='lower left')\n",
    "plt.xlim([0.01,10])\n",
    "plt.title(\"eBOSS Auto Corr with eBOSS randoms\")\n",
    "\n",
    "plt.savefig(TESTING_PRODUCTS_PATH + \"/eBOSS Auto Corr with eBOSS randoms\")\n",
    "plt.show()"
   ]
  }
 ],
 "metadata": {
  "kernelspec": {
   "display_name": "Python 3",
   "language": "python",
   "name": "python3"
  },
  "language_info": {
   "codemirror_mode": {
    "name": "ipython",
    "version": 3
   },
   "file_extension": ".py",
   "mimetype": "text/x-python",
   "name": "python",
   "nbconvert_exporter": "python",
   "pygments_lexer": "ipython3",
   "version": "3.8.2"
  }
 },
 "nbformat": 4,
 "nbformat_minor": 2
}
