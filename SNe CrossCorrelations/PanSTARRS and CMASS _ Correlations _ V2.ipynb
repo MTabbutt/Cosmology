{
 "cells": [
  {
   "cell_type": "markdown",
   "metadata": {},
   "source": [
    "<Strong> Note to the reader: </Strong> This notebook currently calculates the cross correlation of the PanSTARRS SuperNova set with the LOWZ and CMASS galaxy catalogs from eBOSS (SDSS). There are also some trouble shooting/data validation calculations along the way. </br>\n",
    "\n",
    "Annotations about TreeCorr are taken from the documentation and all credit goes to Mike Jarvis. </br>\n",
    "\n",
    "https://rmjarvis.github.io/TreeCorr/_build/html/overview.html </br>\n",
    "\n",
    "V2: Create functions for easier readability and adaptability. \n",
    "\n",
    "-MT 6/15/20"
   ]
  },
  {
   "cell_type": "markdown",
   "metadata": {},
   "source": [
    "#### List of changes/fixes that are not resolved: \n",
    " \n",
    "- Create Correlation creating function\n",
    "- Make all queries at the start of the program --- PROGRESS\n",
    "- Corr func asymptotes to .2 instead of zero? --- NEED TO DO \n",
    "- Theory calculuation --- NEED TO SWITCH TO DOING "
   ]
  },
  {
   "cell_type": "markdown",
   "metadata": {},
   "source": [
    "### Imports and formatting: "
   ]
  },
  {
   "cell_type": "code",
   "execution_count": null,
   "metadata": {},
   "outputs": [],
   "source": [
    "# Make Jupyter Notebook full screen \n",
    "from IPython.core.display import display, HTML\n",
    "display(HTML(\"<style>.container { width:100% !important; }</style>\"))\n",
    "from IPython.display import Image"
   ]
  },
  {
   "cell_type": "code",
   "execution_count": null,
   "metadata": {},
   "outputs": [],
   "source": [
    "#plt.switch_backend('agg') #For HEP, matplotlib x windows issues see python version for more usage \n",
    "import treecorr\n",
    "import numpy\n",
    "import matplotlib\n",
    "import matplotlib.pyplot as plt\n",
    "import pandas as pd\n",
    "import sqlite3\n",
    "import os\n",
    "import datetime"
   ]
  },
  {
   "cell_type": "markdown",
   "metadata": {},
   "source": [
    "### Define notebook wide data paths to use:"
   ]
  },
  {
   "cell_type": "code",
   "execution_count": null,
   "metadata": {},
   "outputs": [],
   "source": [
    "dataPath = '/Users/megantabbutt/CosmologyDataProducts/'\n",
    "#dataPath = '/afs/hep.wisc.edu/home/tabbutt/private/CosmologyDataProducts/'\n",
    "\n",
    "testingProductsPath = \"/Users/megantabbutt/Cosmology/Cosmology/SNe CrossCorrelations/VerificationTestingProducts/\"\n",
    "\n",
    "# Python has datename, savfig folder fields, usually don't save this code just for monkeying around... \n",
    "# If wanted to save some plots, should invoke this, and add text file to the folder with notes for that run \n",
    "\n",
    "date = ' 05_29_20_12pm'"
   ]
  },
  {
   "cell_type": "code",
   "execution_count": null,
   "metadata": {},
   "outputs": [],
   "source": [
    "# Define the paths for local and HEP machines:\n",
    "DATA_PATH = '/Users/megantabbutt/CosmologyDataProducts/'\n",
    "#DATA_PATH = '/afs/hep.wisc.edu/home/tabbutt/private/CosmologyDataProducts/'\n",
    "\n",
    "TESTING_PRODUCTS_PATH = \"/Users/megantabbutt/Cosmology/Cosmology/SNe CrossCorrelations/VerificationTestingProducts/\"\n",
    "#TESTING_PRODUCTS_PATH = \"/afs/hep.wisc.edu/home/tabbutt/public/Cosmology/SNe CrossCorrelations/VerificationTestingProducts/\"\n",
    "\n",
    "# Create the directory to save to and a file with info about this run:\n",
    "DATE = datetime.datetime.now().strftime(\"%d_%m_%Y_%H_%M\")\n",
    "CURRENT_DIRECTORY = DATE\n",
    "TESTING_PRODUCTS_PATH = TESTING_PRODUCTS_PATH + CURRENT_DIRECTORY\n",
    "\n",
    "os.mkdir(TESTING_PRODUCTS_PATH)\n",
    "\n",
    "NOTES_NAME = \"/RUNNING_NOTES_\" + DATE + \".txt\"\n",
    "NOTES_PATH = TESTING_PRODUCTS_PATH + NOTES_NAME"
   ]
  },
  {
   "cell_type": "markdown",
   "metadata": {},
   "source": [
    "### Define notebook wide data paths to use:"
   ]
  },
  {
   "cell_type": "code",
   "execution_count": null,
   "metadata": {},
   "outputs": [],
   "source": [
    "''' Writes a string to a file.\n",
    "File name: NOTES_NAME, path: NOTES_PATH. These are defined at the beginning of the program.\n",
    "\n",
    "@param str notes: A single string to be writen.\n",
    "'''\n",
    "\n",
    "def NotesToWrite(notes):\n",
    "    NOTES = open(NOTES_PATH, \"a\")\n",
    "    NOTES.write(notes)\n",
    "    NOTES.write(\"\\n \\n\")\n",
    "    NOTES.close()"
   ]
  },
  {
   "cell_type": "code",
   "execution_count": null,
   "metadata": {},
   "outputs": [],
   "source": [
    "''' Creates a simple 2D count-count correlation function using TreeCorr. \n",
    "\n",
    "@param object dataCatalog:\n",
    "@param object randomsCatalog:\n",
    "\n",
    "'''\n",
    "\n",
    "#def CorreltaionFunction(dataCatalog, randomsCatalog):\n",
    "    "
   ]
  },
  {
   "cell_type": "markdown",
   "metadata": {},
   "source": [
    "### Start writing notes to textfile:\n",
    "Write notes about:\n",
    "- Steps completed in program\n",
    "- plot made and saved to folder\n",
    "- Amount of data points, randoms points in plots and data runs"
   ]
  },
  {
   "cell_type": "code",
   "execution_count": null,
   "metadata": {},
   "outputs": [],
   "source": [
    "# Write an opening note in the file:\n",
    "NotesToWrite(\"Created Running notes file for tracking details about this run and products produced/saved\")"
   ]
  },
  {
   "cell_type": "markdown",
   "metadata": {},
   "source": [
    " <hr style=\"height:3px\"> "
   ]
  },
  {
   "cell_type": "markdown",
   "metadata": {},
   "source": [
    "## 0. Define the Queries that you want to run:"
   ]
  },
  {
   "cell_type": "code",
   "execution_count": null,
   "metadata": {},
   "outputs": [],
   "source": [
    "NotesToWrite(\"0. Define the Queries you want to run and write and randoms length:\")"
   ]
  },
  {
   "cell_type": "code",
   "execution_count": null,
   "metadata": {},
   "outputs": [],
   "source": [
    "randsLength = 10**7\n",
    "NotesToWrite(\"randsLength for PanSTARRS: \" + str(randsLength))"
   ]
  },
  {
   "cell_type": "code",
   "execution_count": null,
   "metadata": {},
   "outputs": [],
   "source": [
    "# Pull in All PanSTARRS Data (with a good redshift): \n",
    "\n",
    "qry_PanSTARRS_Data_All = \"SELECT ID, DEC, RA, zSN, zHost FROM PanSTARRSNEW WHERE (zSN > -999) || (zHost > -999)\"\n",
    "NotesToWrite(\"qry_PanSTARRS_Data_All\" + \" \\n\" + qry_PanSTARRS_Data_All)\n",
    "\n",
    "qry_BOSS_Data_SouthAndNorthALL = \"SELECT * FROM CMASSLOWZTOT_South UNION SELECT * FROM CMASSLOWZTOT_North\"\n",
    "NotesToWrite(\"qry_BOSS_Data_SouthAndNorthALL\" + \" \\n\" + qry_BOSS_Data_SouthAndNorthALL)\n",
    "\n",
    "qry_BOSS_Rands_SouthAndNorthLimit = \"\"\"SELECT * FROM CMASSLOWZTOT_South_rands \n",
    "    WHERE `index` IN (SELECT `index`FROM CMASSLOWZTOT_South_rands ORDER BY RANDOM() LIMIT 50000) UNION \n",
    "    SELECT * FROM CMASSLOWZTOT_North_rands \n",
    "    WHERE `index`  IN (SELECT `index` FROM CMASSLOWZTOT_North_rands ORDER BY RANDOM() LIMIT 50000)\"\"\"\n",
    "NotesToWrite(\"qry_BOSS_Rands_SouthAndNorthLimit\" + \" \\n\" + qry_BOSS_Rands_SouthAndNorthLimit)\n"
   ]
  },
  {
   "cell_type": "markdown",
   "metadata": {},
   "source": [
    " <hr style=\"height:3px\"> "
   ]
  },
  {
   "cell_type": "markdown",
   "metadata": {},
   "source": [
    "\n",
    "## 1. Pull in and parse data:\n",
    "\n",
    "note: There are 10 pointings for the PanSTARRS data, we will use all 10 for the Auto Correlation, but when we correlated to CMASS, we need to only use the 9 overlap with CMASS. --- IMPORTANT"
   ]
  },
  {
   "cell_type": "code",
   "execution_count": null,
   "metadata": {},
   "outputs": [],
   "source": [
    "NotesToWrite(\"1. Pull in and parse data\")"
   ]
  },
  {
   "cell_type": "markdown",
   "metadata": {},
   "source": [
    "#### PanSTARRS: "
   ]
  },
  {
   "cell_type": "code",
   "execution_count": null,
   "metadata": {},
   "outputs": [],
   "source": [
    "connPAN = sqlite3.connect(dataPath + 'PanSTARRS.db')\n",
    "PanSTARRSNEW_GoodZ = pd.read_sql(qry_PanSTARRS_Data_All, con=connPAN)\n",
    "NotesToWrite(\"PanSTARRSNEW_GoodZ Database (with 10 pointings) objects: \" + str(len(PanSTARRSNEW_GoodZ)))\n",
    "PanSTARRSNEW_GoodZ.head(3) # 1129 objects over 10 pointings "
   ]
  },
  {
   "cell_type": "markdown",
   "metadata": {},
   "source": [
    "#### CMASS/LOWZ:"
   ]
  },
  {
   "cell_type": "code",
   "execution_count": null,
   "metadata": {},
   "outputs": [],
   "source": [
    "connBOSS = sqlite3.connect(dataPath + 'CMASS_and_LOWZ.db')\n",
    "CMASSLOWZTOT_DF = pd.read_sql(qry_BOSS_Data_SouthAndNorthALL, con=connBOSS)\n",
    "NotesToWrite(\"CMASSLOWZTOT_DF Database objects: \" + str(len(CMASSLOWZTOT_DF)))\n",
    "CMASSLOWZTOT_DF.head(3) # 1.3 million objects"
   ]
  },
  {
   "cell_type": "markdown",
   "metadata": {},
   "source": [
    "#### Pull in the Randoms provided by CMASS:"
   ]
  },
  {
   "cell_type": "code",
   "execution_count": null,
   "metadata": {},
   "outputs": [],
   "source": [
    "connBOSSRands = sqlite3.connect(dataPath + 'CMASS_and_LOWZ_rands.db')\n",
    "CMASSLOWZTOT_DF_rands = pd.read_sql(qry_BOSS_Rands_SouthAndNorthLimit, con=connBOSSRands)\n",
    "CMASSLOWZTOT_DF_rands.to_json(dataPath + \"CMASSLOWZTOT_DF_rands\")\n",
    "NotesToWrite(\"CMASSLOWZTOT_DF_rands Database objects: \" + str(len(CMASSLOWZTOT_DF_rands)))\n",
    "CMASSLOWZTOT_DF_rands.head(3)"
   ]
  },
  {
   "cell_type": "markdown",
   "metadata": {},
   "source": [
    " <hr style=\"height:3px\"> "
   ]
  },
  {
   "cell_type": "markdown",
   "metadata": {},
   "source": [
    "## 2. Create the TreeCorr Catalogs of Data:"
   ]
  },
  {
   "cell_type": "markdown",
   "metadata": {},
   "source": [
    "A set of input data (positions and other quantities) to be correlated.\n",
    "\n",
    "A Catalog object keeps track of the relevant information for a number of objects to be correlated. The objects each have some kind of position (for instance (x,y), (ra,dec), (x,y,z), etc.), and possibly some extra information such as weights (w), shear values (g1,g2), or kappa values (k).\n",
    "\n",
    "The simplest way to build a Catalog is to simply pass in numpy arrays for each piece of information you want included. \n",
    "\n",
    "> cat = treecorr.Catalog(ra=ra, dec=dec, g1=g1, g2=g2, ra_units='hour', dec_units='deg')\n",
    "\n",
    "Other options for reading in from a file, using a config file, etc"
   ]
  },
  {
   "cell_type": "code",
   "execution_count": null,
   "metadata": {},
   "outputs": [],
   "source": [
    "NotesToWrite(\"2. Create the TreeCorr Catalogs of Data:\")"
   ]
  },
  {
   "cell_type": "code",
   "execution_count": null,
   "metadata": {},
   "outputs": [],
   "source": [
    "cat_PanSTARRS_Full = treecorr.Catalog(ra=PanSTARRSNEW_GoodZ['RA'], dec=PanSTARRSNEW_GoodZ['DEC'], ra_units='degrees', dec_units='degrees')\n",
    "NotesToWrite(\"Created cat_PanSTARRS_Full.\")\n",
    "cat_PanSTARRS_Full"
   ]
  },
  {
   "cell_type": "markdown",
   "metadata": {},
   "source": [
    " <hr style=\"height:3px\"> "
   ]
  },
  {
   "cell_type": "markdown",
   "metadata": {},
   "source": [
    "## 3. Create the randoms for PanSTARRS\n",
    "Include all ten pointings for now, can just exclude the pointing that isn't in CMASS when doing the CrossCorr </br>\n",
    "\n",
    "Possibility to ask for mask eventually if we think that it is a limitation </br>"
   ]
  },
  {
   "cell_type": "code",
   "execution_count": null,
   "metadata": {},
   "outputs": [],
   "source": [
    "NotesToWrite(\"3. Create the randoms for PanSTARRS. Include all 10 pointings, delete MD02 later.\")"
   ]
  },
  {
   "cell_type": "code",
   "execution_count": null,
   "metadata": {},
   "outputs": [],
   "source": [
    "ra_min_PanSTARRS = numpy.min(cat_PanSTARRS_Full.ra)\n",
    "ra_max_PanSTARRS = numpy.max(cat_PanSTARRS_Full.ra)\n",
    "dec_min_PanSTARRS = numpy.min(cat_PanSTARRS_Full.dec)\n",
    "dec_max_PanSTARRS = numpy.max(cat_PanSTARRS_Full.dec)\n",
    "print('PanSTARRS ra range = %f .. %f' % (ra_min_PanSTARRS, ra_max_PanSTARRS))\n",
    "print('PanSTARRS dec range = %f .. %f' % (dec_min_PanSTARRS, dec_max_PanSTARRS))\n",
    "\n",
    "rand_ra_PanSTARRS = numpy.random.uniform(ra_min_PanSTARRS, ra_max_PanSTARRS, randsLength)\n",
    "rand_sindec_PanSTARRS = numpy.random.uniform(numpy.sin(dec_min_PanSTARRS), numpy.sin(dec_max_PanSTARRS), randsLength)\n",
    "rand_dec_PanSTARRS = numpy.arcsin(rand_sindec_PanSTARRS)"
   ]
  },
  {
   "cell_type": "markdown",
   "metadata": {},
   "source": [
    "#### Note: MD02 is the one that needs to be eliminated, not in CMASS footprint "
   ]
  },
  {
   "cell_type": "code",
   "execution_count": null,
   "metadata": {},
   "outputs": [],
   "source": [
    "# Got from a paper, need to cite it here:  https://arxiv.org/pdf/1612.05560.pdf\n",
    "\n",
    "pointings = {\"MD01\": [035.875, -04.250], \"MD03\": [130.592, 44.317], \"MD04\": [150.000, 02.200], \n",
    "             \"MD05\": [161.917, 58.083], \"MD06\": [185.000, 47.117], \"MD07\": [213.704, 53.083], \n",
    "             \"MD08\": [242.787, 54.950], \"MD09\": [334.188, 00.283], \"MD10\": [352.312, -00.433], \"MD02\": [053.100, -27.800],}"
   ]
  },
  {
   "cell_type": "code",
   "execution_count": null,
   "metadata": {},
   "outputs": [],
   "source": [
    "# Check how well the randoms cover the same space as the data\n",
    "\n",
    "f1, (ax1a, ax2a, ax3a) = plt.subplots(1, 3, figsize=(20, 5))\n",
    "ax1a.scatter(cat_PanSTARRS_Full.ra * 180/numpy.pi, cat_PanSTARRS_Full.dec * 180/numpy.pi, color='red', s=0.1, marker='x')\n",
    "ax1a.scatter(rand_ra_PanSTARRS * 180/numpy.pi, rand_dec_PanSTARRS * 180/numpy.pi, color='blue', s=0.1)\n",
    "ax1a.set_xlabel('RA (degrees)')\n",
    "ax1a.set_ylabel('Dec (degrees)')\n",
    "ax1a.set_title('Randoms on top of data')\n",
    "\n",
    "# Repeat in the opposite order\n",
    "ax2a.scatter(rand_ra_PanSTARRS * 180/numpy.pi, rand_dec_PanSTARRS * 180/numpy.pi, color='blue', s=0.1, marker='x')\n",
    "ax2a.scatter(cat_PanSTARRS_Full.ra * 180/numpy.pi, cat_PanSTARRS_Full.dec * 180/numpy.pi, color='red', s=0.1)\n",
    "ax2a.set_xlabel('RA (degrees)')\n",
    "ax2a.set_ylabel('Dec (degrees)')\n",
    "ax2a.set_title('Data on top of randoms')\n",
    "\n",
    "# Zoom to look at coverage of randoms and reals\n",
    "ax3a.scatter(rand_ra_PanSTARRS * 180/numpy.pi, rand_dec_PanSTARRS * 180/numpy.pi, color='blue', s=1, marker='x', label='rands')\n",
    "ax3a.scatter(cat_PanSTARRS_Full.ra * 180/numpy.pi, cat_PanSTARRS_Full.dec * 180/numpy.pi, color='red', s=1, label='data')\n",
    "ax3a.set_xlabel('RA (degrees)')\n",
    "ax3a.set_ylabel('Dec (degrees)')\n",
    "ax3a.set_title('Data on top of randoms_Zoom')\n",
    "ax3a.legend(loc = \"upper right\")\n",
    "ax3a.set_xlim(128, 133)\n",
    "ax3a.set_ylim(42, 47)\n",
    "\n",
    "plt.savefig(TESTING_PRODUCTS_PATH + \"/PanSTARRS data and randoms\")\n",
    "\n",
    "plt.show()"
   ]
  },
  {
   "cell_type": "code",
   "execution_count": null,
   "metadata": {},
   "outputs": [],
   "source": [
    "NotesToWrite(\"Plotted: PanSTARRS data and randoms\")"
   ]
  },
  {
   "cell_type": "markdown",
   "metadata": {},
   "source": [
    "\"The telescope illuminates a diameter of 3.3 degrees,  with low distortion, and mild vignetting at the edge of this illuminated region. The field of view is approximately 7 square degrees. The 8  meter  focal  length  atf/4.4  gives  an  approximate  10micron pixel scale of 0.258 arcsec/pixel.\"\n",
    "\n",
    "7 square degrees --> r = 1.49 deg"
   ]
  },
  {
   "cell_type": "code",
   "execution_count": null,
   "metadata": {},
   "outputs": [],
   "source": [
    "radius = (3.3/2) * numpy.pi / 180.0\n",
    "\n",
    "maskRA = []\n",
    "maskDEC = []\n",
    "randoms_Lengths = []\n",
    "\n",
    "for pointing in pointings: \n",
    "    \n",
    "    print(pointings[pointing])\n",
    "    center_dec = pointings[pointing][1] * numpy.pi / 180\n",
    "    center_ra = pointings[pointing][0] * numpy.pi / 180\n",
    "\n",
    "    angular_seps = numpy.arccos(numpy.cos(numpy.pi / 2 - center_dec) * numpy.cos(numpy.pi / 2 - rand_dec_PanSTARRS) + \n",
    "                                numpy.sin(numpy.pi / 2 - center_dec) * numpy.sin(numpy.pi / 2 - rand_dec_PanSTARRS) * \n",
    "                                numpy.cos(center_ra - rand_ra_PanSTARRS))\n",
    "\n",
    "    ras_in_circle = rand_ra_PanSTARRS[angular_seps < radius]\n",
    "    print(len(ras_in_circle))\n",
    "    ras_in_circle = ras_in_circle * 180 / numpy.pi\n",
    "    decs_in_circle = rand_dec_PanSTARRS[angular_seps < radius]\n",
    "    print(len(decs_in_circle))\n",
    "    decs_in_circle = decs_in_circle * 180 / numpy.pi\n",
    "    \n",
    "    maskRA.extend(ras_in_circle)\n",
    "    maskDEC.extend(decs_in_circle)\n",
    "    \n",
    "    randoms_Lengths.append(len(ras_in_circle))\n",
    "    \n",
    "NotesToWrite(\"Populated pointings with randoms. Randoms per pointing: (1, 3-10, 2):\"+ str(randoms_Lengths))"
   ]
  },
  {
   "cell_type": "markdown",
   "metadata": {},
   "source": [
    "## 4. Make PanSTARRS Count-Count Auto Correlation Functions:\n",
    "\n",
    "Typical Usage Pattern:\n",
    "\n",
    "> nn = treecorr.NNCorrelation(config) \n",
    "<br>\n",
    "nn.process(cat)     # For auto-correlation.\n",
    "<br>\n",
    "nn.process(cat1,cat2)   # For cross-correlation.\n",
    "<br>\n",
    "rr.process...           # Likewise for random-random correlations\n",
    "<br>\n",
    "dr.process...        # If desired, also do data-random correlations\n",
    "<br>\n",
    "rd.process...    # For cross-correlations, also do the reverse.\n",
    "<br>\n",
    "nn.write(file_name,rr,dr,rd)  # Write out to a file.\n",
    "<br>\n",
    "xi,varxi = nn.calculateXi(rr,dr,rd)  # Or get the correlation function directly."
   ]
  },
  {
   "cell_type": "code",
   "execution_count": null,
   "metadata": {},
   "outputs": [],
   "source": [
    "NotesToWrite(\"4. Make PanSTARRS Count-Count Auto Correlation Functions:\")"
   ]
  },
  {
   "cell_type": "code",
   "execution_count": null,
   "metadata": {},
   "outputs": [],
   "source": [
    "# Data Auto-correlation: (dd)\n",
    "nn_PanSTARRS_Auto_self = treecorr.NNCorrelation(min_sep=0.01, max_sep=10, bin_size=0.2, sep_units='degrees')\n",
    "nn_PanSTARRS_Auto_self.process(cat_PanSTARRS_Full)\n",
    "\n",
    "cat_rand_PanSTARRS_Full = treecorr.Catalog(ra=maskRA, dec=maskDEC, ra_units='degrees', dec_units='degrees')\n",
    "rr_PanSTARRS_Full = treecorr.NNCorrelation(min_sep=0.01, max_sep=10, bin_size=0.2, sep_units='degrees')\n",
    "rr_PanSTARRS_Full.process(cat_rand_PanSTARRS_Full)\n",
    "\n",
    "dr_PanSTARRS_Full = treecorr.NNCorrelation(min_sep=0.01, max_sep=10, bin_size=0.2, sep_units='degrees')\n",
    "dr_PanSTARRS_Full.process(cat_PanSTARRS_Full, cat_rand_PanSTARRS_Full)\n",
    "\n",
    "r_PanSTARRS_Full = numpy.exp(nn_PanSTARRS_Auto_self.meanlogr)\n",
    "xi_PanSTARRS_Full, varxi_PanSTARRS_Full = nn_PanSTARRS_Auto_self.calculateXi(rr_PanSTARRS_Full, dr_PanSTARRS_Full)\n",
    "sig_PanSTARRS_Full = numpy.sqrt(varxi_PanSTARRS_Full)"
   ]
  },
  {
   "cell_type": "code",
   "execution_count": null,
   "metadata": {},
   "outputs": [],
   "source": [
    "# Plot the Correlation function:\n",
    "plt.plot(r_PanSTARRS_Full, xi_PanSTARRS_Full, color='blue')\n",
    "plt.plot(r_PanSTARRS_Full, -xi_PanSTARRS_Full, color='blue', ls=':')\n",
    "plt.errorbar(r_PanSTARRS_Full[xi_PanSTARRS_Full>0], xi_PanSTARRS_Full[xi_PanSTARRS_Full>0], yerr=sig_PanSTARRS_Full[xi_PanSTARRS_Full>0], color='green', lw=0.5, ls='')\n",
    "plt.errorbar(r_PanSTARRS_Full[xi_PanSTARRS_Full<0], -xi_PanSTARRS_Full[xi_PanSTARRS_Full<0], yerr=sig_PanSTARRS_Full[xi_PanSTARRS_Full<0], color='green', lw=0.5, ls='')\n",
    "leg = plt.errorbar(-r_PanSTARRS_Full, xi_PanSTARRS_Full, yerr=sig_PanSTARRS_Full, color='blue')\n",
    "plt.xscale('log')\n",
    "plt.yscale('log', nonposy='clip')\n",
    "plt.xlabel(r'$\\theta$ (degrees)')\n",
    "plt.legend([leg], [r'$w(\\theta)$'], loc='lower left')\n",
    "plt.xlim([0.01,10])\n",
    "\n",
    "plt.savefig(TESTING_PRODUCTS_PATH + \"/PanSTARRS Auto-Corr with PanSTARRS randoms\")\n",
    "\n",
    "plt.show()"
   ]
  },
  {
   "cell_type": "code",
   "execution_count": null,
   "metadata": {},
   "outputs": [],
   "source": [
    "NotesToWrite(\"Plotted: PanSTARRS Auto-Corr with PanSTARRS randoms\")"
   ]
  },
  {
   "cell_type": "markdown",
   "metadata": {},
   "source": [
    "## 4. Make CMASS Count-Count Auto Correlation Functions:\n",
    "\n",
    "Typical Usage Pattern:\n",
    "\n",
    "> nn = treecorr.NNCorrelation(config) \n",
    "<br>\n",
    "nn.process(cat)     # For auto-correlation.\n",
    "<br>\n",
    "nn.process(cat1,cat2)   # For cross-correlation.\n",
    "<br>\n",
    "rr.process...           # Likewise for random-random correlations\n",
    "<br>\n",
    "dr.process...        # If desired, also do data-random correlations\n",
    "<br>\n",
    "rd.process...    # For cross-correlations, also do the reverse.\n",
    "<br>\n",
    "nn.write(file_name,rr,dr,rd)  # Write out to a file.\n",
    "<br>\n",
    "xi,varxi = nn.calculateXi(rr,dr,rd)  # Or get the correlation function directly."
   ]
  },
  {
   "cell_type": "code",
   "execution_count": null,
   "metadata": {},
   "outputs": [],
   "source": [
    "NotesToWrite(\"4. Make CMASS Count-Count Auto Correlation Functions:\")"
   ]
  },
  {
   "cell_type": "code",
   "execution_count": null,
   "metadata": {},
   "outputs": [],
   "source": [
    "cat_eBOSS = treecorr.Catalog(ra=CMASSLOWZTOT_DF['RA'], dec=CMASSLOWZTOT_DF['DEC'], ra_units='degrees', dec_units='degrees')\n",
    "cat_eBOSS\n"
   ]
  },
  {
   "cell_type": "code",
   "execution_count": null,
   "metadata": {},
   "outputs": [],
   "source": [
    "NotesToWrite(\"Created cat_eBOSS.\")"
   ]
  },
  {
   "cell_type": "code",
   "execution_count": null,
   "metadata": {},
   "outputs": [],
   "source": [
    "nn_eBOSS_Auto_self = treecorr.NNCorrelation(min_sep=0.01, max_sep=10, bin_size=0.2, sep_units='degrees')\n",
    "nn_eBOSS_Auto_self.process(cat_eBOSS)\n",
    "\n",
    "cat_rand_eBOSS = treecorr.Catalog(ra=CMASSLOWZTOT_DF_rands['RA'], dec=CMASSLOWZTOT_DF_rands['DEC'], ra_units='degrees', dec_units='degrees')\n",
    "rr_eBOSS = treecorr.NNCorrelation(min_sep=0.01, max_sep=10, bin_size=0.2, sep_units='degrees')\n",
    "rr_eBOSS.process(cat_rand_eBOSS)\n",
    "\n",
    "dr_eBOSS = treecorr.NNCorrelation(min_sep=0.01, max_sep=10, bin_size=0.2, sep_units='degrees')\n",
    "dr_eBOSS.process(cat_eBOSS, cat_rand_eBOSS)\n",
    "\n",
    "r_eBOSS = numpy.exp(nn_eBOSS_Auto_self.meanlogr)\n",
    "xi_eBOSS, varxi_eBOSS = nn_eBOSS_Auto_self.calculateXi(rr_eBOSS, dr_eBOSS)\n",
    "sig_eBOSS = numpy.sqrt(varxi_eBOSS)"
   ]
  },
  {
   "cell_type": "code",
   "execution_count": null,
   "metadata": {},
   "outputs": [],
   "source": [
    "f3, (ax1c, ax2c) = plt.subplots(1, 2, figsize=(20, 5))\n",
    "\n",
    "ax1c.scatter(cat_eBOSS.ra * 180/numpy.pi, cat_eBOSS.dec * 180/numpy.pi, color='red', s=0.1)\n",
    "ax1c.set_xlabel('RA (degrees)')\n",
    "ax1c.set_ylabel('Dec (degrees)')\n",
    "ax1c.set_title('CMASS/LOWZ Data')\n",
    "\n",
    "# Repeat in the opposite order\n",
    "ax2c.scatter(CMASSLOWZTOT_DF_rands['RA'], CMASSLOWZTOT_DF_rands['DEC'], color='blue', s=0.1)\n",
    "ax2c.set_xlabel('RA (degrees)')\n",
    "ax2c.set_ylabel('Dec (degrees)')\n",
    "ax2c.set_title('CMASS/LOWZ Randoms')\n",
    "\n",
    "plt.savefig(TESTING_PRODUCTS_PATH + \"/CMASS_LOWZ Randoms\")\n",
    "plt.show()"
   ]
  },
  {
   "cell_type": "code",
   "execution_count": null,
   "metadata": {},
   "outputs": [],
   "source": [
    "NotesToWrite(\"Plotted: CMASS_LOWZ Randoms\")"
   ]
  },
  {
   "cell_type": "code",
   "execution_count": null,
   "metadata": {},
   "outputs": [],
   "source": [
    "# Plot the autocorrelation function:\n",
    "\n",
    "plt.plot(r_eBOSS, xi_eBOSS, color='blue')\n",
    "plt.plot(r_eBOSS, -xi_eBOSS, color='blue', ls=':')\n",
    "plt.errorbar(r_eBOSS[xi_eBOSS>0], xi_eBOSS[xi_eBOSS>0], yerr=sig_eBOSS[xi_eBOSS>0], color='green', lw=0.5, ls='')\n",
    "plt.errorbar(r_eBOSS[xi_eBOSS<0], -xi_eBOSS[xi_eBOSS<0], yerr=sig_eBOSS[xi_eBOSS<0], color='green', lw=0.5, ls='')\n",
    "leg = plt.errorbar(-r_eBOSS, xi_eBOSS, yerr=sig_eBOSS, color='blue')\n",
    "plt.xscale('log')\n",
    "plt.yscale('log', nonposy='clip')\n",
    "plt.xlabel(r'$\\theta$ (degrees)')\n",
    "plt.legend([leg], [r'$w(\\theta)$'], loc='lower left')\n",
    "plt.xlim([0.01,10])\n",
    "plt.title(\"eBOSS Auto Corr with eBOSS randoms\")\n",
    "\n",
    "plt.savefig(TESTING_PRODUCTS_PATH + \"/eBOSS Auto Corr with eBOSS randoms\")\n",
    "plt.show()"
   ]
  },
  {
   "cell_type": "code",
   "execution_count": null,
   "metadata": {},
   "outputs": [],
   "source": [
    "NotesToWrite(\"Plotted: eBOSS Auto Corr with eBOSS randoms\")"
   ]
  },
  {
   "cell_type": "markdown",
   "metadata": {},
   "source": [
    "## 5. Analyze if the plots are correct: \n",
    "\n",
    "The CMASS plot should look like this paper's figure 1: </br>\n",
    "\n",
    "https://arxiv.org/pdf/1607.03144.pdf\n",
    "\n"
   ]
  },
  {
   "cell_type": "code",
   "execution_count": null,
   "metadata": {},
   "outputs": [],
   "source": [
    "NotesToWrite(\"5. Analyze if the plots are correct:\")"
   ]
  },
  {
   "cell_type": "markdown",
   "metadata": {},
   "source": [
    "### 5.1 Auto Correlate the CMASS and LOWZ randoms:\n",
    "\n",
    "- Do autoCorr function and choose CMASS to be the data, and LOWZ to be the rands"
   ]
  },
  {
   "cell_type": "code",
   "execution_count": null,
   "metadata": {},
   "outputs": [],
   "source": [
    "NotesToWrite(\"5.1 Auto Correlate the CMASS and LOWZ randoms:\")"
   ]
  },
  {
   "cell_type": "code",
   "execution_count": null,
   "metadata": {},
   "outputs": [],
   "source": [
    "connCMASSRands = sqlite3.connect(DATA_PATH + 'CMASS_rands.db')\n",
    "randSampleQry = \"SELECT * FROM CMASS_South_rands WHERE `index` IN (SELECT `index` FROM CMASS_South_rands ORDER BY RANDOM() LIMIT 50000) UNION SELECT * FROM CMASS_North_rands WHERE `index` IN (SELECT `index` FROM CMASS_North_rands ORDER BY RANDOM() LIMIT 50000)\"\n",
    "CMASS_DF_rands = pd.read_sql(randSampleQry, con=connCMASSRands)\n",
    "CMASS_DF_rands.to_json(DATA_PATH + \"CMASS_DF_rands\")\n",
    "CMASS_DF_rands.head(3)\n"
   ]
  },
  {
   "cell_type": "code",
   "execution_count": null,
   "metadata": {},
   "outputs": [],
   "source": [
    "NotesToWrite(\"CMASS_DF_rands Database objects: \" + str(len(CMASS_DF_rands)))"
   ]
  },
  {
   "cell_type": "code",
   "execution_count": null,
   "metadata": {},
   "outputs": [],
   "source": [
    "connLOWZRands = sqlite3.connect(DATA_PATH + 'LOWZ_rands.db')\n",
    "randSampleQry = \"SELECT * FROM LOWZ_South_rands WHERE `index` IN (SELECT `index` FROM LOWZ_South_rands ORDER BY RANDOM() LIMIT 50000) UNION SELECT * FROM LOWZ_North_rands WHERE `index` IN (SELECT `index` FROM LOWZ_North_rands ORDER BY RANDOM() LIMIT 50000)\"\n",
    "LOWZ_DF_rands = pd.read_sql(randSampleQry, con=connLOWZRands)\n",
    "LOWZ_DF_rands.to_json(DATA_PATH + \"LOWZ_DF_rands\")\n",
    "LOWZ_DF_rands.head(3)"
   ]
  },
  {
   "cell_type": "code",
   "execution_count": null,
   "metadata": {},
   "outputs": [],
   "source": [
    "NotesToWrite(\"LOWZ_DF_rands Database objects: \" + str(len(LOWZ_DF_rands)))"
   ]
  },
  {
   "cell_type": "code",
   "execution_count": null,
   "metadata": {},
   "outputs": [],
   "source": [
    "cat_CMASS_rands = treecorr.Catalog(ra=CMASS_DF_rands['RA'], dec=CMASS_DF_rands['DEC'], ra_units='degrees', dec_units='degrees')\n",
    "cat_CMASS_rands\n",
    "\n",
    "nn_CMASS_Auto_LOWZRands = treecorr.NNCorrelation(min_sep=0.01, max_sep=10, bin_size=0.2, sep_units='degrees')\n",
    "nn_CMASS_Auto_LOWZRands.process(cat_CMASS_rands)\n",
    "\n",
    "cat_rand_LOWZ = treecorr.Catalog(ra=LOWZ_DF_rands['RA'], dec=LOWZ_DF_rands['DEC'], ra_units='degrees', dec_units='degrees')\n",
    "rr_LOWZ_rands = treecorr.NNCorrelation(min_sep=0.01, max_sep=10, bin_size=0.2, sep_units='degrees')\n",
    "rr_LOWZ_rands.process(cat_rand_LOWZ)\n",
    "\n",
    "dr_CMASS_LOWZrands = treecorr.NNCorrelation(min_sep=0.01, max_sep=10, bin_size=0.2, sep_units='degrees')\n",
    "dr_CMASS_LOWZrands.process(cat_CMASS_rands, cat_rand_LOWZ)\n",
    "\n",
    "r_CMASS_LOWZrands = numpy.exp(nn_CMASS_Auto_LOWZRands.meanlogr)\n",
    "xi_CMASS_LOWZrands, varxi_CMASS_LOWZrands = nn_CMASS_Auto_LOWZRands.calculateXi(rr_LOWZ_rands, dr_CMASS_LOWZrands)\n",
    "sig_CMASS_LOWZrands = numpy.sqrt(varxi_CMASS_LOWZrands)"
   ]
  },
  {
   "cell_type": "code",
   "execution_count": null,
   "metadata": {},
   "outputs": [],
   "source": [
    "# Check that the randoms cover the same space as the data\n",
    "\n",
    "f4, (ax1d, ax2d) = plt.subplots(1, 2, figsize=(20, 5))\n",
    "ax1d.scatter(cat_CMASS_rands.ra * 180/numpy.pi, cat_CMASS_rands.dec * 180/numpy.pi, color='blue', s=0.1)\n",
    "ax1d.set_xlabel('RA (degrees)')\n",
    "ax1d.set_ylabel('Dec (degrees)')\n",
    "ax1d.set_title('CMASS Randoms')\n",
    "\n",
    "# Repeat in the opposite order\n",
    "ax2d.scatter(cat_rand_LOWZ.ra * 180/numpy.pi, cat_rand_LOWZ.dec * 180/numpy.pi, color='green', s=0.1)\n",
    "ax2d.set_xlabel('RA (degrees)')\n",
    "ax2d.set_ylabel('Dec (degrees)')\n",
    "ax2d.set_title('LOWZ Randoms')\n",
    "plt.title(\"LOWZ randoms\")\n",
    "\n",
    "plt.savefig(TESTING_PRODUCTS_PATH + \"/CMASS and LOWZ randoms\")\n",
    "plt.show()"
   ]
  },
  {
   "cell_type": "code",
   "execution_count": null,
   "metadata": {},
   "outputs": [],
   "source": [
    "NotesToWrite(\"Plotted: CMASS and LOWZ randoms\")"
   ]
  },
  {
   "cell_type": "code",
   "execution_count": null,
   "metadata": {},
   "outputs": [],
   "source": [
    "# Plot the autocorrelation function:\n",
    "\n",
    "plt.plot(r_CMASS_LOWZrands, xi_CMASS_LOWZrands, color='blue')\n",
    "plt.plot(r_CMASS_LOWZrands, -xi_CMASS_LOWZrands, color='blue', ls=':')\n",
    "plt.errorbar(r_CMASS_LOWZrands[xi_CMASS_LOWZrands>0], xi_CMASS_LOWZrands[xi_CMASS_LOWZrands>0], yerr=sig_CMASS_LOWZrands[xi_CMASS_LOWZrands>0], color='green', lw=0.5, ls='')\n",
    "plt.errorbar(r_CMASS_LOWZrands[xi_CMASS_LOWZrands<0], -xi_CMASS_LOWZrands[xi_CMASS_LOWZrands<0], yerr=sig_CMASS_LOWZrands[xi_CMASS_LOWZrands<0], color='green', lw=0.5, ls='')\n",
    "leg = plt.errorbar(-r_CMASS_LOWZrands, xi_CMASS_LOWZrands, yerr=sig_CMASS_LOWZrands, color='blue')\n",
    "plt.xscale('log')\n",
    "plt.yscale('log', nonposy='clip')\n",
    "plt.xlabel(r'$\\theta$ (degrees)')\n",
    "plt.legend([leg], [r'$w(\\theta)$'], loc='lower left')\n",
    "#plt.xlim([0.01,10])\n",
    "#plt.ylim([0.0, .00001])\n",
    "plt.title(\"CMASS_rands Auto Corr with LOWZ_rands as randoms\")\n",
    "\n",
    "plt.savefig(TESTING_PRODUCTS_PATH + \"/CMASS_rands Auto Corr with LOWZ_rands as randoms\")\n",
    "plt.show()"
   ]
  },
  {
   "cell_type": "code",
   "execution_count": null,
   "metadata": {},
   "outputs": [],
   "source": [
    "NotesToWrite(\"Plotted: CMASS_rands Auto Corr with LOWZ_rands as randoms\")"
   ]
  },
  {
   "cell_type": "markdown",
   "metadata": {},
   "source": [
    "### 5.2 Auto Correlate the CMASS and LOWZ randoms - Reversed:"
   ]
  },
  {
   "cell_type": "code",
   "execution_count": null,
   "metadata": {},
   "outputs": [],
   "source": [
    "NotesToWrite(\"5.2 Auto Correlate the CMASS and LOWZ randoms - Reversed:\")"
   ]
  },
  {
   "cell_type": "code",
   "execution_count": null,
   "metadata": {},
   "outputs": [],
   "source": [
    "cat_LOWZ_rands = treecorr.Catalog(ra=LOWZ_DF_rands['RA'], dec=LOWZ_DF_rands['DEC'], ra_units='degrees', dec_units='degrees')\n",
    "cat_LOWZ_rands\n",
    "\n",
    "nn_LOWZ_Auto_CMASSRands = treecorr.NNCorrelation(min_sep=0.01, max_sep=10, bin_size=0.2, sep_units='degrees')\n",
    "nn_LOWZ_Auto_CMASSRands.process(cat_LOWZ_rands)\n",
    "\n",
    "cat_rand_CMASS = treecorr.Catalog(ra=CMASS_DF_rands['RA'], dec=CMASS_DF_rands['DEC'], ra_units='degrees', dec_units='degrees')\n",
    "rr_CMASS_rands = treecorr.NNCorrelation(min_sep=0.01, max_sep=10, bin_size=0.2, sep_units='degrees')\n",
    "rr_CMASS_rands.process(cat_rand_CMASS)\n",
    "\n",
    "dr_LOWZ_CMASSrands = treecorr.NNCorrelation(min_sep=0.01, max_sep=10, bin_size=0.2, sep_units='degrees')\n",
    "dr_LOWZ_CMASSrands.process(cat_rand_LOWZ, cat_CMASS_rands)\n",
    "\n",
    "r_LOWZ_CMASSrands = numpy.exp(nn_LOWZ_Auto_CMASSRands.meanlogr)\n",
    "xi_LOWZ_CMASSrands, varxi_LOWZ_CMASSrands = nn_LOWZ_Auto_CMASSRands.calculateXi(rr_CMASS_rands, dr_LOWZ_CMASSrands)\n",
    "sig_LOWZ_CMASSrands = numpy.sqrt(varxi_LOWZ_CMASSrands)"
   ]
  },
  {
   "cell_type": "code",
   "execution_count": null,
   "metadata": {},
   "outputs": [],
   "source": [
    "# Plot the autocorrelation function:\n",
    "\n",
    "plt.plot(r_LOWZ_CMASSrands, xi_LOWZ_CMASSrands, color='blue')\n",
    "plt.plot(r_LOWZ_CMASSrands, -xi_LOWZ_CMASSrands, color='blue', ls=':')\n",
    "plt.errorbar(r_LOWZ_CMASSrands[xi_LOWZ_CMASSrands>0], xi_LOWZ_CMASSrands[xi_LOWZ_CMASSrands>0], yerr=sig_LOWZ_CMASSrands[xi_LOWZ_CMASSrands>0], color='green', lw=0.5, ls='')\n",
    "plt.errorbar(r_LOWZ_CMASSrands[xi_LOWZ_CMASSrands<0], -xi_LOWZ_CMASSrands[xi_LOWZ_CMASSrands<0], yerr=sig_LOWZ_CMASSrands[xi_LOWZ_CMASSrands<0], color='green', lw=0.5, ls='')\n",
    "leg = plt.errorbar(-r_LOWZ_CMASSrands, xi_LOWZ_CMASSrands, yerr=sig_LOWZ_CMASSrands, color='blue')\n",
    "plt.xscale('log')\n",
    "plt.yscale('log', nonposy='clip')\n",
    "plt.xlabel(r'$\\theta$ (degrees)')\n",
    "plt.legend([leg], [r'$w(\\theta)$'], loc='lower left')\n",
    "#plt.xlim([0.01,10])\n",
    "#plt.ylim([0.0, .00001])\n",
    "plt.title(\"LOWZ_rands Auto Corr with CMASS_rands as randoms\")\n",
    "\n",
    "plt.savefig(TESTING_PRODUCTS_PATH + \"/LOWZ_rands Auto Corr with CMASS_rands as randoms\")\n",
    "plt.show()"
   ]
  },
  {
   "cell_type": "code",
   "execution_count": null,
   "metadata": {},
   "outputs": [],
   "source": [
    "NotesToWrite(\"Plotted: LOWZ_rands Auto Corr with CMASS_rands as randoms\")"
   ]
  },
  {
   "cell_type": "markdown",
   "metadata": {},
   "source": [
    "## 6. Cross Correlate the eBOSS and PanSTARRS sets\n"
   ]
  },
  {
   "cell_type": "code",
   "execution_count": null,
   "metadata": {},
   "outputs": [],
   "source": [
    "NotesToWrite(\"6. Cross Correlate the eBOSS and PanSTARRS sets\")"
   ]
  },
  {
   "cell_type": "code",
   "execution_count": null,
   "metadata": {},
   "outputs": [],
   "source": [
    "# Need to get just 9 pointings from PanSTARRS: \n",
    "\n",
    "maskRA_overlap = []\n",
    "maskDEC_overlap = []\n",
    "randoms_Lengths_overlap = []\n",
    "\n",
    "for pointing in pointings:\n",
    "    if(pointing == \"MD02\"):\n",
    "        continue\n",
    "    else:\n",
    "        maskRAprevious = len(maskRA_overlap)\n",
    "        X0 = pointings[pointing][0]\n",
    "        Y0 = pointings[pointing][1]\n",
    "        rad = 3.3/2\n",
    "        print(pointings[pointing])\n",
    "\n",
    "        for i in range(len(rand_ra_PanSTARRS)):\n",
    "            #print(rand_ra_PanSTARRS[i], rand_dec_PanSTARRS[i])\n",
    "            X = rand_ra_PanSTARRS[i] * 180 / numpy.pi\n",
    "            Y = rand_dec_PanSTARRS[i] * 180 / numpy.pi\n",
    "\n",
    "            if ((X - X0)**2 + (Y - Y0)**2 < rad**2):\n",
    "                maskRA_overlap.append(X)\n",
    "                maskDEC_overlap.append(Y)\n",
    "        print(len(maskRA_overlap) - maskRAprevious)\n",
    "        randoms_Lengths_overlap.append(len(maskRA_overlap) - maskRAprevious)\n",
    "        "
   ]
  },
  {
   "cell_type": "code",
   "execution_count": null,
   "metadata": {},
   "outputs": [],
   "source": [
    "NotesToWrite(\"Populated pointings with randoms. Randoms per pointing: (1, 3-10, 2):\" + str(randoms_Lengths_overlap))"
   ]
  },
  {
   "cell_type": "code",
   "execution_count": null,
   "metadata": {},
   "outputs": [],
   "source": [
    "connPANoverlap = sqlite3.connect(DATA_PATH + 'PanSTARRS.db')\n",
    "qry = \"SELECT ID, DEC, RA, zSN, zHost FROM PanSTARRSNEW WHERE (DEC > -20) AND ((zSN > -999) OR (zHost > -999))\"\n",
    "PanSTARRSNEW_GoodZ_ovelap = pd.read_sql(qry, con=connPANoverlap)\n",
    "PanSTARRSNEW_GoodZ_ovelap.head(3)"
   ]
  },
  {
   "cell_type": "code",
   "execution_count": null,
   "metadata": {},
   "outputs": [],
   "source": [
    "NotesToWrite(\"PanSTARRSNEW_GoodZ_ovelap Database (with 9 pointings) objects: \" + str(len(PanSTARRSNEW_GoodZ_ovelap)))\n",
    "connPANoverlap.close()"
   ]
  },
  {
   "cell_type": "code",
   "execution_count": null,
   "metadata": {},
   "outputs": [],
   "source": [
    "cat_PanSTARRS_overlap = treecorr.Catalog(ra=PanSTARRSNEW_GoodZ_ovelap['RA'], dec=PanSTARRSNEW_GoodZ_ovelap['DEC'], ra_units='degrees', dec_units='degrees')\n",
    "\n",
    "nn_Pan_xCorr_eBOSS = treecorr.NNCorrelation(min_sep=0.01, max_sep=10, bin_size=0.2, sep_units='degrees')\n",
    "nn_Pan_xCorr_eBOSS.process(cat_PanSTARRS_overlap, cat_eBOSS)\n",
    "\n",
    "cat_rand_Pan_Overlap = treecorr.Catalog(ra=maskRA_overlap, dec=maskDEC_overlap, ra_units='degrees', dec_units='degrees')\n",
    "\n",
    "rr_Pan_xCorr_eBOSS = treecorr.NNCorrelation(min_sep=0.01, max_sep=10, bin_size=0.2, sep_units='degrees')\n",
    "rr_Pan_xCorr_eBOSS.process(cat_rand_Pan_Overlap, cat_rand_eBOSS)\n",
    "\n",
    "dr_Pan_xCorr_eBOSS = treecorr.NNCorrelation(min_sep=0.01, max_sep=10, bin_size=0.2, sep_units='degrees')\n",
    "dr_Pan_xCorr_eBOSS.process(cat_PanSTARRS_overlap, cat_rand_eBOSS)\n",
    "\n",
    "rd_Pan_xCorr_eBOSS = treecorr.NNCorrelation(min_sep=0.01, max_sep=10, bin_size=0.2, sep_units='degrees')\n",
    "rd_Pan_xCorr_eBOSS.process(cat_rand_eBOSS, cat_PanSTARRS_overlap)\n",
    "\n",
    "r_Pan_xCorr_eBOSS = numpy.exp(nn_Pan_xCorr_eBOSS.meanlogr)\n",
    "xi_Pan_xCorr_eBOSS, varxi_Pan_xCorr_eBOSS = nn_Pan_xCorr_eBOSS.calculateXi(rr_Pan_xCorr_eBOSS, dr_Pan_xCorr_eBOSS, rd_Pan_xCorr_eBOSS)\n",
    "sig_Pan_xCorr_eBOSS = numpy.sqrt(varxi_Pan_xCorr_eBOSS)"
   ]
  },
  {
   "cell_type": "code",
   "execution_count": null,
   "metadata": {},
   "outputs": [],
   "source": [
    "# Plot the Cross Correlation function:\n",
    "\n",
    "plt.plot(r_Pan_xCorr_eBOSS, xi_Pan_xCorr_eBOSS, color='blue')\n",
    "plt.plot(r_Pan_xCorr_eBOSS, -xi_Pan_xCorr_eBOSS, color='blue', ls=':')\n",
    "plt.errorbar(r_Pan_xCorr_eBOSS[xi_Pan_xCorr_eBOSS>0], xi_Pan_xCorr_eBOSS[xi_Pan_xCorr_eBOSS>0], yerr=sig_Pan_xCorr_eBOSS[xi_Pan_xCorr_eBOSS>0], color='green', lw=0.5, ls='')\n",
    "plt.errorbar(r_Pan_xCorr_eBOSS[xi_Pan_xCorr_eBOSS<0], -xi_Pan_xCorr_eBOSS[xi_Pan_xCorr_eBOSS<0], yerr=sig_Pan_xCorr_eBOSS[xi_Pan_xCorr_eBOSS<0], color='green', lw=0.5, ls='')\n",
    "leg = plt.errorbar(-r_Pan_xCorr_eBOSS, xi_Pan_xCorr_eBOSS, yerr=sig_Pan_xCorr_eBOSS, color='blue')\n",
    "plt.xscale('log')\n",
    "plt.yscale('log', nonposy='clip')\n",
    "plt.xlabel(r'$\\theta$ (degrees)')\n",
    "plt.legend([leg], [r'$w(\\theta)$'], loc='lower left')\n",
    "#plt.xlim([0.01,10])\n",
    "#plt.ylim([0.0, .00001])\n",
    "plt.title(\"PanSTARRS cross Correlation with eBOSS\")\n",
    "\n",
    "plt.savefig(TESTING_PRODUCTS_PATH + \"/PanSTARRS cross Correlation with eBOSS\")\n",
    "plt.show()\n"
   ]
  },
  {
   "cell_type": "code",
   "execution_count": null,
   "metadata": {},
   "outputs": [],
   "source": [
    "NotesToWrite(\"Plotted: PanSTARRS cross Correlation with eBOSS\")"
   ]
  },
  {
   "cell_type": "markdown",
   "metadata": {},
   "source": [
    "### 5.3 Auto Correlate CMASS randoms and CMASS randoms:"
   ]
  },
  {
   "cell_type": "code",
   "execution_count": null,
   "metadata": {},
   "outputs": [],
   "source": [
    "NotesToWrite(\"5.3 Auto Correlate CMASS randoms and CMASS randoms:\")"
   ]
  },
  {
   "cell_type": "code",
   "execution_count": null,
   "metadata": {},
   "outputs": [],
   "source": [
    "connCMASSRands = sqlite3.connect(DATA_PATH + 'CMASS_rands.db')\n",
    "randSampleQry = \"SELECT * FROM CMASS_South_rands WHERE `index` IN (SELECT `index` FROM CMASS_South_rands ORDER BY RANDOM() LIMIT 50000) UNION SELECT * FROM CMASS_North_rands WHERE `index` IN (SELECT `index` FROM CMASS_North_rands ORDER BY RANDOM() LIMIT 50000)\"\n",
    "CMASS_DF_rands_Sample1 = pd.read_sql(randSampleQry, con=connCMASSRands)\n",
    "CMASS_DF_rands_Sample1.to_json(DATA_PATH + \"CMASS_DF_rands\")\n",
    "CMASS_DF_rands_Sample1.head(3)"
   ]
  },
  {
   "cell_type": "code",
   "execution_count": null,
   "metadata": {},
   "outputs": [],
   "source": [
    "NotesToWrite(\"CMASS_DF_rands_Sample1 Database objects: \" + str(len(CMASS_DF_rands_Sample1)))\n",
    "connCMASSRands.close()"
   ]
  },
  {
   "cell_type": "code",
   "execution_count": null,
   "metadata": {},
   "outputs": [],
   "source": [
    "connCMASSRands = sqlite3.connect(DATA_PATH + 'CMASS_rands.db')\n",
    "randSampleQry = \"SELECT * FROM CMASS_South_rands WHERE `index` IN (SELECT `index` FROM CMASS_South_rands ORDER BY RANDOM() LIMIT 50000) UNION SELECT * FROM CMASS_North_rands WHERE `index` IN (SELECT `index` FROM CMASS_North_rands ORDER BY RANDOM() LIMIT 50000)\"\n",
    "CMASS_DF_rands_Sample2 = pd.read_sql(randSampleQry, con=connCMASSRands)\n",
    "CMASS_DF_rands.to_json(DATA_PATH + \"CMASS_DF_rands_Sample2\")\n",
    "CMASS_DF_rands_Sample2.head(3)"
   ]
  },
  {
   "cell_type": "code",
   "execution_count": null,
   "metadata": {},
   "outputs": [],
   "source": [
    "NotesToWrite(\"CMASS_DF_rands_Sample2 Database objects: \" + str(len(CMASS_DF_rands_Sample2)))\n",
    "connCMASSRands.close()"
   ]
  },
  {
   "cell_type": "code",
   "execution_count": null,
   "metadata": {},
   "outputs": [],
   "source": [
    "cat_CMASS_rands_sample1 = treecorr.Catalog(ra=CMASS_DF_rands_Sample1['RA'], dec=CMASS_DF_rands_Sample1['DEC'], ra_units='degrees', dec_units='degrees')\n",
    "cat_CMASS_rands_sample1\n",
    "\n",
    "nn_CMASS_Auto_CMASSRands = treecorr.NNCorrelation(min_sep=0.01, max_sep=10, bin_size=0.2, sep_units='degrees')\n",
    "nn_CMASS_Auto_CMASSRands.process(cat_CMASS_rands_sample1)\n",
    "\n",
    "cat_CMASS_rands_sample2 = treecorr.Catalog(ra=CMASS_DF_rands_Sample2['RA'], dec=CMASS_DF_rands_Sample2['DEC'], ra_units='degrees', dec_units='degrees')\n",
    "rr_CMASS_Auto_CMASSRands = treecorr.NNCorrelation(min_sep=0.01, max_sep=10, bin_size=0.2, sep_units='degrees')\n",
    "rr_CMASS_Auto_CMASSRands.process(cat_CMASS_rands_sample2)\n",
    "\n",
    "dr_CMASS_Auto_CMASSRands = treecorr.NNCorrelation(min_sep=0.01, max_sep=10, bin_size=0.2, sep_units='degrees')\n",
    "dr_CMASS_Auto_CMASSRands.process(cat_CMASS_rands_sample1, cat_CMASS_rands_sample2)\n",
    "\n",
    "r_CMASS_Auto_CMASSRands = numpy.exp(nn_CMASS_Auto_CMASSRands.meanlogr)\n",
    "xi_CMASS_Auto_CMASSRands, varxi_CMASS_Auto_CMASSRands = nn_CMASS_Auto_CMASSRands.calculateXi(rr_CMASS_Auto_CMASSRands, dr_CMASS_Auto_CMASSRands)\n",
    "sig_CMASS_Auto_CMASSRands = numpy.sqrt(varxi_CMASS_Auto_CMASSRands)"
   ]
  },
  {
   "cell_type": "code",
   "execution_count": null,
   "metadata": {},
   "outputs": [],
   "source": [
    "# Check that the randoms cover the same space as the data\n",
    "\n",
    "f4, (ax1d) = plt.subplots(1, 1, figsize=(10, 10))\n",
    "ax1d.scatter(cat_CMASS_rands_sample1.ra * 180/numpy.pi, cat_CMASS_rands_sample1.dec * 180/numpy.pi, color='blue', s=0.1)\n",
    "ax1d.scatter(cat_CMASS_rands_sample2.ra * 180/numpy.pi, cat_CMASS_rands_sample2.dec * 180/numpy.pi, color='green', s=0.1)\n",
    "ax1d.set_xlabel('RA (degrees)')\n",
    "ax1d.set_ylabel('Dec (degrees)')\n",
    "ax1d.set_title('CMASS Randoms')\n",
    "ax1d.set_xlim(128, 133)\n",
    "ax1d.set_ylim(42, 47)\n",
    "plt.title(\"CMASS and CMASS randoms\")\n",
    "\n",
    "plt.savefig(TESTING_PRODUCTS_PATH + \"/CMASS and CMASS randoms\")\n",
    "plt.show()\n"
   ]
  },
  {
   "cell_type": "code",
   "execution_count": null,
   "metadata": {},
   "outputs": [],
   "source": [
    "NotesToWrite(\"Plotted: CMASS and CMASS randoms\")"
   ]
  },
  {
   "cell_type": "code",
   "execution_count": null,
   "metadata": {},
   "outputs": [],
   "source": [
    "# Plot the autocorrelation function:\n",
    "\n",
    "plt.plot(r_CMASS_Auto_CMASSRands, xi_CMASS_Auto_CMASSRands, color='blue')\n",
    "plt.plot(r_CMASS_Auto_CMASSRands, -xi_CMASS_Auto_CMASSRands, color='blue', ls=':')\n",
    "plt.errorbar(r_CMASS_Auto_CMASSRands[xi_CMASS_Auto_CMASSRands>0], xi_CMASS_Auto_CMASSRands[xi_CMASS_Auto_CMASSRands>0], yerr=sig_CMASS_Auto_CMASSRands[xi_CMASS_Auto_CMASSRands>0], color='green', lw=0.5, ls='')\n",
    "plt.errorbar(r_CMASS_Auto_CMASSRands[xi_CMASS_Auto_CMASSRands<0], -xi_CMASS_Auto_CMASSRands[xi_CMASS_Auto_CMASSRands<0], yerr=sig_CMASS_Auto_CMASSRands[xi_CMASS_Auto_CMASSRands<0], color='green', lw=0.5, ls='')\n",
    "leg = plt.errorbar(-r_CMASS_Auto_CMASSRands, xi_CMASS_Auto_CMASSRands, yerr=sig_CMASS_Auto_CMASSRands, color='blue')\n",
    "plt.xscale('log')\n",
    "#plt.yscale('log', nonposy='clip')\n",
    "plt.xlabel(r'$\\theta$ (degrees)')\n",
    "plt.legend([leg], [r'$w(\\theta)$'], loc='lower left')\n",
    "#plt.xlim([0.01,10])\n",
    "#plt.ylim([0.0, .00001])\n",
    "plt.title(\"CMASS_rands Auto Corr with CMASS_rands as randoms\")\n",
    "\n",
    "plt.savefig(TESTING_PRODUCTS_PATH + \"/CMASS_rands Auto Corr with CMASS_rands as randoms\")\n",
    "plt.show()"
   ]
  },
  {
   "cell_type": "code",
   "execution_count": null,
   "metadata": {},
   "outputs": [],
   "source": [
    "NotesToWrite(\"Plotted: CMASS_rands Auto Corr with CMASS_rands as randoms\")"
   ]
  },
  {
   "cell_type": "markdown",
   "metadata": {},
   "source": [
    "### 5.4 Auto Correlate LOWZ randoms and LOWZ randoms:"
   ]
  },
  {
   "cell_type": "code",
   "execution_count": null,
   "metadata": {},
   "outputs": [],
   "source": [
    "NotesToWrite(\"5.3 Auto Correlate LOWZ randoms and LOWZ randoms:\")"
   ]
  },
  {
   "cell_type": "code",
   "execution_count": null,
   "metadata": {},
   "outputs": [],
   "source": [
    "connLOWZRands = sqlite3.connect(DATA_PATH + 'LOWZ_rands.db')\n",
    "randSampleQry = \"SELECT * FROM LOWZ_South_rands WHERE `index` IN (SELECT `index` FROM LOWZ_South_rands ORDER BY RANDOM() LIMIT 50000) UNION SELECT * FROM LOWZ_North_rands WHERE `index` IN (SELECT `index` FROM LOWZ_North_rands ORDER BY RANDOM() LIMIT 50000)\"\n",
    "LOWZ_DF_rands_Sample1 = pd.read_sql(randSampleQry, con=connLOWZRands)\n",
    "LOWZ_DF_rands_Sample1.to_json(DATA_PATH + \"LOWZ_DF_rands\")\n",
    "LOWZ_DF_rands_Sample1.head(3)"
   ]
  },
  {
   "cell_type": "code",
   "execution_count": null,
   "metadata": {},
   "outputs": [],
   "source": [
    "NotesToWrite(\"LOWZ_DF_rands_Sample1 Database objects: \" + str(len(LOWZ_DF_rands_Sample1)))\n",
    "connCMASSRands.close()"
   ]
  },
  {
   "cell_type": "code",
   "execution_count": null,
   "metadata": {},
   "outputs": [],
   "source": [
    "connLOWZRands = sqlite3.connect(DATA_PATH + 'LOWZ_rands.db')\n",
    "randSampleQry = \"SELECT * FROM LOWZ_South_rands WHERE `index` IN (SELECT `index` FROM LOWZ_South_rands ORDER BY RANDOM() LIMIT 50000) UNION SELECT * FROM LOWZ_North_rands WHERE `index` IN (SELECT `index` FROM LOWZ_North_rands ORDER BY RANDOM() LIMIT 50000)\"\n",
    "LOWZ_DF_rands_Sample2 = pd.read_sql(randSampleQry, con=connLOWZRands)\n",
    "LOWZ_DF_rands.to_json(DATA_PATH + \"LOWZ_DF_rands_Sample2\")\n",
    "LOWZ_DF_rands_Sample2.head(3)"
   ]
  },
  {
   "cell_type": "code",
   "execution_count": null,
   "metadata": {},
   "outputs": [],
   "source": [
    "NotesToWrite(\"LOWZ_DF_rands_Sample2 Database objects: \" + str(len(LOWZ_DF_rands_Sample2)))\n",
    "connCMASSRands.close()"
   ]
  },
  {
   "cell_type": "code",
   "execution_count": null,
   "metadata": {},
   "outputs": [],
   "source": [
    "cat_LOWZ_rands_sample1 = treecorr.Catalog(ra=LOWZ_DF_rands_Sample1['RA'], dec=LOWZ_DF_rands_Sample1['DEC'], ra_units='degrees', dec_units='degrees')\n",
    "cat_LOWZ_rands_sample1\n",
    "\n",
    "nn_LOWZ_Auto_LOWZRands = treecorr.NNCorrelation(min_sep=0.01, max_sep=10, bin_size=0.2, sep_units='degrees')\n",
    "nn_LOWZ_Auto_LOWZRands.process(cat_LOWZ_rands_sample1)\n",
    "\n",
    "cat_LOWZ_rands_sample2 = treecorr.Catalog(ra=CMASS_DF_rands_Sample2['RA'], dec=CMASS_DF_rands_Sample2['DEC'], ra_units='degrees', dec_units='degrees')\n",
    "rr_LOWZ_Auto_LOWZRands = treecorr.NNCorrelation(min_sep=0.01, max_sep=10, bin_size=0.2, sep_units='degrees')\n",
    "rr_LOWZ_Auto_LOWZRands.process(cat_LOWZ_rands_sample2)\n",
    "\n",
    "dr_LOWZ_Auto_LOWZRands = treecorr.NNCorrelation(min_sep=0.01, max_sep=10, bin_size=0.2, sep_units='degrees')\n",
    "dr_LOWZ_Auto_LOWZRands.process(cat_LOWZ_rands_sample1, cat_LOWZ_rands_sample2)\n",
    "\n",
    "r_LOWZ_Auto_LOWZRands = numpy.exp(nn_LOWZ_Auto_LOWZRands.meanlogr)\n",
    "xi_LOWZ_Auto_LOWZRands, varxi_LOWZ_Auto_LOWZRands = nn_LOWZ_Auto_LOWZRands.calculateXi(rr_LOWZ_Auto_LOWZRands, dr_LOWZ_Auto_LOWZRands)\n",
    "sig_LOWZ_Auto_LOWZRands = numpy.sqrt(varxi_LOWZ_Auto_LOWZRands)"
   ]
  },
  {
   "cell_type": "code",
   "execution_count": null,
   "metadata": {},
   "outputs": [],
   "source": [
    "# Check that the randoms cover the same space as the data\n",
    "\n",
    "f4, (ax1d) = plt.subplots(1, 1, figsize=(10, 10))\n",
    "ax1d.scatter(cat_LOWZ_rands_sample1.ra * 180/numpy.pi, cat_LOWZ_rands_sample1.dec * 180/numpy.pi, color='blue', s=0.1)\n",
    "ax1d.scatter(cat_LOWZ_rands_sample2.ra * 180/numpy.pi, cat_LOWZ_rands_sample2.dec * 180/numpy.pi, color='green', s=0.1)\n",
    "ax1d.set_xlabel('RA (degrees)')\n",
    "ax1d.set_ylabel('Dec (degrees)')\n",
    "ax1d.set_title('CMASS Randoms')\n",
    "ax1d.set_xlim(128, 133)\n",
    "ax1d.set_ylim(42, 47)\n",
    "plt.title(\"LOWZ and LOWZ randoms\")\n",
    "\n",
    "plt.savefig(TESTING_PRODUCTS_PATH + \"/LOWZ and LOWZ randoms\")\n",
    "plt.show()"
   ]
  },
  {
   "cell_type": "code",
   "execution_count": null,
   "metadata": {},
   "outputs": [],
   "source": [
    "NotesToWrite(\"Plotted: LOWZ and LOWZ randoms\")"
   ]
  },
  {
   "cell_type": "code",
   "execution_count": null,
   "metadata": {},
   "outputs": [],
   "source": [
    "# Plot the autocorrelation function:\n",
    "\n",
    "plt.plot(r_LOWZ_Auto_LOWZRands, xi_LOWZ_Auto_LOWZRands, color='blue')\n",
    "plt.plot(r_LOWZ_Auto_LOWZRands, -xi_LOWZ_Auto_LOWZRands, color='blue', ls=':')\n",
    "plt.errorbar(r_LOWZ_Auto_LOWZRands[xi_LOWZ_Auto_LOWZRands>0], xi_LOWZ_Auto_LOWZRands[xi_LOWZ_Auto_LOWZRands>0], yerr=sig_LOWZ_Auto_LOWZRands[xi_LOWZ_Auto_LOWZRands>0], color='green', lw=0.5, ls='')\n",
    "plt.errorbar(r_LOWZ_Auto_LOWZRands[xi_LOWZ_Auto_LOWZRands<0], -xi_LOWZ_Auto_LOWZRands[xi_LOWZ_Auto_LOWZRands<0], yerr=sig_LOWZ_Auto_LOWZRands[xi_LOWZ_Auto_LOWZRands<0], color='green', lw=0.5, ls='')\n",
    "leg = plt.errorbar(-r_LOWZ_Auto_LOWZRands, xi_LOWZ_Auto_LOWZRands, yerr=sig_LOWZ_Auto_LOWZRands, color='blue')\n",
    "plt.xscale('log')\n",
    "#plt.yscale('log', nonposy='clip')\n",
    "plt.xlabel(r'$\\theta$ (degrees)')\n",
    "plt.legend([leg], [r'$w(\\theta)$'], loc='lower left')\n",
    "#plt.xlim([0.01,10])\n",
    "#plt.ylim([0.0, .00001])\n",
    "plt.title(\"LOWZ_rands Auto Corr with LOWZ_rands as randoms\")\n",
    "\n",
    "plt.savefig(TESTING_PRODUCTS_PATH + \"/LOWZ_rands Auto Corr with LOWZ_rands as randoms\")\n",
    "plt.show()"
   ]
  },
  {
   "cell_type": "code",
   "execution_count": null,
   "metadata": {},
   "outputs": [],
   "source": [
    "NotesToWrite(\"Plotted: LOWZ_rands Auto Corr with LOWZ_rands as randoms\")"
   ]
  },
  {
   "cell_type": "code",
   "execution_count": null,
   "metadata": {},
   "outputs": [],
   "source": [
    "NotesToWrite(\"Program is done.\")"
   ]
  }
 ],
 "metadata": {
  "kernelspec": {
   "display_name": "ccl",
   "language": "python",
   "name": "ccl"
  },
  "language_info": {
   "codemirror_mode": {
    "name": "ipython",
    "version": 3
   },
   "file_extension": ".py",
   "mimetype": "text/x-python",
   "name": "python",
   "nbconvert_exporter": "python",
   "pygments_lexer": "ipython3",
   "version": "3.7.6"
  }
 },
 "nbformat": 4,
 "nbformat_minor": 2
}
