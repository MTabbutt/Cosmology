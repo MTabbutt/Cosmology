{
 "cells": [
  {
   "cell_type": "markdown",
   "metadata": {},
   "source": [
    "<Strong> Note to the reader: </Strong> This notebook currently calculates the cross correlation of the PanSTARRS SuperNova set with the LOWZ and CMASS galaxy catalogs from eBOSS (SDSS). There are also some trouble shooting/data validation calculations along the way. </br>\n",
    "\n",
    "Annotations about TreeCorr are taken from the documentation and all credit goes to Mike Jarvis. </br>\n",
    "\n",
    "https://rmjarvis.github.io/TreeCorr/_build/html/overview.html </br>\n",
    "\n",
    "-MT 6/11/20"
   ]
  },
  {
   "cell_type": "markdown",
   "metadata": {},
   "source": [
    "#### List of changes/fixes that are not resolved: \n",
    "\n",
    "- Data for panstarrs is outside the pointing? --- NEED TO INVESTIGATE \n",
    "- Corr func asymptotes to .2 instead of zero? --- NEED TO DO \n",
    "- Theory calculuation --- NEED TO SWITCH TO DOING \n",
    "- Better way to populate the randoms into the mask? Apply the mask over top? --- FIX ME (Eventually)"
   ]
  },
  {
   "cell_type": "markdown",
   "metadata": {},
   "source": [
    "### Imports and formatting: "
   ]
  },
  {
   "cell_type": "code",
   "execution_count": 1,
   "metadata": {},
   "outputs": [
    {
     "data": {
      "text/html": [
       "<style>.container { width:100% !important; }</style>"
      ],
      "text/plain": [
       "<IPython.core.display.HTML object>"
      ]
     },
     "metadata": {},
     "output_type": "display_data"
    }
   ],
   "source": [
    "# Make Jupyter Notebook full screen \n",
    "from IPython.core.display import display, HTML\n",
    "display(HTML(\"<style>.container { width:100% !important; }</style>\"))\n",
    "from IPython.display import Image"
   ]
  },
  {
   "cell_type": "code",
   "execution_count": 2,
   "metadata": {},
   "outputs": [],
   "source": [
    "#plt.switch_backend('agg') #For HEP, matplotlib x windows issues see python version for more usage \n",
    "import treecorr\n",
    "import numpy\n",
    "import matplotlib\n",
    "import matplotlib.pyplot as plt\n",
    "import pandas as pd\n",
    "import sqlite3\n",
    "import os\n",
    "import datetime"
   ]
  },
  {
   "cell_type": "markdown",
   "metadata": {},
   "source": [
    "### Define notebook wide functions and data paths to use:"
   ]
  },
  {
   "cell_type": "code",
   "execution_count": 3,
   "metadata": {},
   "outputs": [],
   "source": [
    "dataPath = '/Users/megantabbutt/CosmologyDataProducts/'\n",
    "#dataPath = '/afs/hep.wisc.edu/home/tabbutt/private/CosmologyDataProducts/'\n",
    "\n",
    "testingProductsPath = \"/Users/megantabbutt/Cosmology/Cosmology/SNe CrossCorrelations/VerificationTestingProducts/\"\n",
    "\n",
    "# Python has datename, savfig folder fields, usually don't save this code just for monkeying around... \n",
    "# If wanted to save some plots, should invoke this, and add text file to the folder with notes for that run \n",
    "\n",
    "date = ' 05_29_20_12pm'"
   ]
  },
  {
   "cell_type": "code",
   "execution_count": 4,
   "metadata": {},
   "outputs": [],
   "source": [
    "# Define the paths for local and HEP machines:\n",
    "DATA_PATH = '/Users/megantabbutt/CosmologyDataProducts/'\n",
    "#DATA_PATH = '/afs/hep.wisc.edu/home/tabbutt/private/CosmologyDataProducts/'\n",
    "\n",
    "TESTING_PRODUCTS_PATH = \"/Users/megantabbutt/Cosmology/Cosmology/SNe CrossCorrelations/VerificationTestingProducts/\"\n",
    "#TESTING_PRODUCTS_PATH = \"/afs/hep.wisc.edu/home/tabbutt/public/Cosmology/SNe CrossCorrelations/VerificationTestingProducts/\"\n",
    "\n",
    "# Create the directory to save to and a file with info about this run:\n",
    "DATE = datetime.datetime.now().strftime(\"%d_%m_%Y_%H_%M\")\n",
    "CURRENT_DIRECTORY = DATE\n",
    "TESTING_PRODUCTS_PATH = TESTING_PRODUCTS_PATH + CURRENT_DIRECTORY\n",
    "\n",
    "os.mkdir(TESTING_PRODUCTS_PATH)\n",
    "\n",
    "NOTES_NAME = \"/RUNNING_NOTES_\" + DATE + \".txt\"\n",
    "NOTES_PATH = TESTING_PRODUCTS_PATH + NOTES_NAME"
   ]
  },
  {
   "cell_type": "markdown",
   "metadata": {},
   "source": [
    "### Start writing notes to textfile:\n",
    "Write notes about:\n",
    "- Steps completed in program\n",
    "- plot made and saved to folder\n",
    "- Amount of data points, randoms points in plots and data runs"
   ]
  },
  {
   "cell_type": "code",
   "execution_count": 5,
   "metadata": {},
   "outputs": [],
   "source": [
    "# Write an opening note in the file:\n",
    "NOTES = open(NOTES_PATH, \"a\")\n",
    "NOTES.write(\"Created Running notes file for tracking details about this run and products produced/saved\")\n",
    "NOTES.write(\"\\n \\n\")\n",
    "NOTES.close()"
   ]
  },
  {
   "cell_type": "markdown",
   "metadata": {},
   "source": [
    " <hr style=\"height:3px\"> "
   ]
  },
  {
   "cell_type": "markdown",
   "metadata": {},
   "source": [
    "\n",
    "## 0. Pull in and parse data:\n",
    "\n",
    "note: There are 10 pointings for the PanSTARRS data, we will use all 10 for the Auto Correlation, but when we correlated to CMASS, we need to only use the 9 overlap with CMASS. --- IMPORTANT"
   ]
  },
  {
   "cell_type": "code",
   "execution_count": 6,
   "metadata": {},
   "outputs": [],
   "source": [
    "NOTES = open(NOTES_PATH, \"a\")\n",
    "NOTES.write(\"0. Pull in and parse data:\")\n",
    "NOTES.write(\"\\n \\n\")\n",
    "NOTES.close()"
   ]
  },
  {
   "cell_type": "markdown",
   "metadata": {},
   "source": [
    "#### PanSTARRS: "
   ]
  },
  {
   "cell_type": "code",
   "execution_count": 7,
   "metadata": {},
   "outputs": [
    {
     "data": {
      "text/html": [
       "<div>\n",
       "<style scoped>\n",
       "    .dataframe tbody tr th:only-of-type {\n",
       "        vertical-align: middle;\n",
       "    }\n",
       "\n",
       "    .dataframe tbody tr th {\n",
       "        vertical-align: top;\n",
       "    }\n",
       "\n",
       "    .dataframe thead th {\n",
       "        text-align: right;\n",
       "    }\n",
       "</style>\n",
       "<table border=\"1\" class=\"dataframe\">\n",
       "  <thead>\n",
       "    <tr style=\"text-align: right;\">\n",
       "      <th></th>\n",
       "      <th>ID</th>\n",
       "      <th>DEC</th>\n",
       "      <th>RA</th>\n",
       "      <th>zSN</th>\n",
       "      <th>zHost</th>\n",
       "    </tr>\n",
       "  </thead>\n",
       "  <tbody>\n",
       "    <tr>\n",
       "      <th>0</th>\n",
       "      <td>ps0909006</td>\n",
       "      <td>1.184831</td>\n",
       "      <td>333.9500</td>\n",
       "      <td>0.284</td>\n",
       "      <td>-999.0</td>\n",
       "    </tr>\n",
       "    <tr>\n",
       "      <th>1</th>\n",
       "      <td>ps0909010</td>\n",
       "      <td>-4.078911</td>\n",
       "      <td>37.1182</td>\n",
       "      <td>0.270</td>\n",
       "      <td>-999.0</td>\n",
       "    </tr>\n",
       "    <tr>\n",
       "      <th>2</th>\n",
       "      <td>ps0910017</td>\n",
       "      <td>-5.023289</td>\n",
       "      <td>35.2775</td>\n",
       "      <td>0.320</td>\n",
       "      <td>-999.0</td>\n",
       "    </tr>\n",
       "  </tbody>\n",
       "</table>\n",
       "</div>"
      ],
      "text/plain": [
       "          ID       DEC        RA    zSN  zHost\n",
       "0  ps0909006  1.184831  333.9500  0.284 -999.0\n",
       "1  ps0909010 -4.078911   37.1182  0.270 -999.0\n",
       "2  ps0910017 -5.023289   35.2775  0.320 -999.0"
      ]
     },
     "execution_count": 7,
     "metadata": {},
     "output_type": "execute_result"
    }
   ],
   "source": [
    "connPAN = sqlite3.connect(dataPath + 'PanSTARRS.db')\n",
    "\n",
    "qry = \"SELECT ID, DEC, RA, zSN, zHost FROM PanSTARRSNEW WHERE (zSN > -999) || (zHost > -999)\"\n",
    "\n",
    "PanSTARRSNEW_GoodZ = pd.read_sql(qry, con=connPAN)\n",
    "PanSTARRSNEW_GoodZ.head(3) # 1129 objects over 10 pointings "
   ]
  },
  {
   "cell_type": "code",
   "execution_count": 8,
   "metadata": {},
   "outputs": [],
   "source": [
    "NOTES = open(NOTES_PATH, \"a\")\n",
    "NOTES.write(\"PanSTARRSNEW_GoodZ Database (with 10 pointings) objects: \" + str(len(PanSTARRSNEW_GoodZ)))\n",
    "NOTES.write(\"\\n \\n\")\n",
    "NOTES.close()\n",
    "connPAN.close()"
   ]
  },
  {
   "cell_type": "markdown",
   "metadata": {},
   "source": [
    "#### CMASS/LOWZ:"
   ]
  },
  {
   "cell_type": "code",
   "execution_count": 9,
   "metadata": {},
   "outputs": [
    {
     "data": {
      "text/html": [
       "<div>\n",
       "<style scoped>\n",
       "    .dataframe tbody tr th:only-of-type {\n",
       "        vertical-align: middle;\n",
       "    }\n",
       "\n",
       "    .dataframe tbody tr th {\n",
       "        vertical-align: top;\n",
       "    }\n",
       "\n",
       "    .dataframe thead th {\n",
       "        text-align: right;\n",
       "    }\n",
       "</style>\n",
       "<table border=\"1\" class=\"dataframe\">\n",
       "  <thead>\n",
       "    <tr style=\"text-align: right;\">\n",
       "      <th></th>\n",
       "      <th>index</th>\n",
       "      <th>RA</th>\n",
       "      <th>DEC</th>\n",
       "      <th>Z</th>\n",
       "      <th>NZ</th>\n",
       "    </tr>\n",
       "  </thead>\n",
       "  <tbody>\n",
       "    <tr>\n",
       "      <th>0</th>\n",
       "      <td>0</td>\n",
       "      <td>195.071285</td>\n",
       "      <td>-0.590771</td>\n",
       "      <td>0.465648</td>\n",
       "      <td>0.000345</td>\n",
       "    </tr>\n",
       "    <tr>\n",
       "      <th>1</th>\n",
       "      <td>0</td>\n",
       "      <td>321.480329</td>\n",
       "      <td>9.973440</td>\n",
       "      <td>0.301401</td>\n",
       "      <td>0.000390</td>\n",
       "    </tr>\n",
       "    <tr>\n",
       "      <th>2</th>\n",
       "      <td>1</td>\n",
       "      <td>195.022992</td>\n",
       "      <td>-0.610999</td>\n",
       "      <td>0.565802</td>\n",
       "      <td>0.000319</td>\n",
       "    </tr>\n",
       "  </tbody>\n",
       "</table>\n",
       "</div>"
      ],
      "text/plain": [
       "   index          RA       DEC         Z        NZ\n",
       "0      0  195.071285 -0.590771  0.465648  0.000345\n",
       "1      0  321.480329  9.973440  0.301401  0.000390\n",
       "2      1  195.022992 -0.610999  0.565802  0.000319"
      ]
     },
     "execution_count": 9,
     "metadata": {},
     "output_type": "execute_result"
    }
   ],
   "source": [
    "connBOSS = sqlite3.connect(dataPath + 'CMASS_and_LOWZ.db')\n",
    "\n",
    "qry = \"SELECT * FROM CMASSLOWZTOT_South UNION SELECT * FROM CMASSLOWZTOT_North\"\n",
    "\n",
    "CMASSLOWZTOT_DF = pd.read_sql(qry, con=connBOSS)\n",
    "CMASSLOWZTOT_DF.head(3) # 1.3 million objects"
   ]
  },
  {
   "cell_type": "code",
   "execution_count": 10,
   "metadata": {},
   "outputs": [],
   "source": [
    "NOTES = open(NOTES_PATH, \"a\")\n",
    "NOTES.write(\"CMASSLOWZTOT_DF Database objects: \" + str(len(CMASSLOWZTOT_DF)))\n",
    "NOTES.write(\"\\n \\n\")\n",
    "NOTES.close()\n",
    "connBOSS.close()"
   ]
  },
  {
   "cell_type": "markdown",
   "metadata": {},
   "source": [
    "#### Pull in the Randoms provided by CMASS:"
   ]
  },
  {
   "cell_type": "code",
   "execution_count": 11,
   "metadata": {},
   "outputs": [
    {
     "data": {
      "text/html": [
       "<div>\n",
       "<style scoped>\n",
       "    .dataframe tbody tr th:only-of-type {\n",
       "        vertical-align: middle;\n",
       "    }\n",
       "\n",
       "    .dataframe tbody tr th {\n",
       "        vertical-align: top;\n",
       "    }\n",
       "\n",
       "    .dataframe thead th {\n",
       "        text-align: right;\n",
       "    }\n",
       "</style>\n",
       "<table border=\"1\" class=\"dataframe\">\n",
       "  <thead>\n",
       "    <tr style=\"text-align: right;\">\n",
       "      <th></th>\n",
       "      <th>index</th>\n",
       "      <th>RA</th>\n",
       "      <th>DEC</th>\n",
       "      <th>Z</th>\n",
       "      <th>NZ</th>\n",
       "    </tr>\n",
       "  </thead>\n",
       "  <tbody>\n",
       "    <tr>\n",
       "      <th>0</th>\n",
       "      <td>17347</td>\n",
       "      <td>134.516067</td>\n",
       "      <td>17.191827</td>\n",
       "      <td>0.583448</td>\n",
       "      <td>0.000258</td>\n",
       "    </tr>\n",
       "    <tr>\n",
       "      <th>1</th>\n",
       "      <td>51462</td>\n",
       "      <td>0.917810</td>\n",
       "      <td>-3.536403</td>\n",
       "      <td>0.505096</td>\n",
       "      <td>0.000404</td>\n",
       "    </tr>\n",
       "    <tr>\n",
       "      <th>2</th>\n",
       "      <td>53783</td>\n",
       "      <td>42.716484</td>\n",
       "      <td>3.059028</td>\n",
       "      <td>0.313668</td>\n",
       "      <td>0.000351</td>\n",
       "    </tr>\n",
       "  </tbody>\n",
       "</table>\n",
       "</div>"
      ],
      "text/plain": [
       "   index          RA        DEC         Z        NZ\n",
       "0  17347  134.516067  17.191827  0.583448  0.000258\n",
       "1  51462    0.917810  -3.536403  0.505096  0.000404\n",
       "2  53783   42.716484   3.059028  0.313668  0.000351"
      ]
     },
     "execution_count": 11,
     "metadata": {},
     "output_type": "execute_result"
    }
   ],
   "source": [
    "connBOSSRands = sqlite3.connect(dataPath + 'CMASS_and_LOWZ_rands.db')\n",
    "randSampleQry = \"SELECT * FROM CMASSLOWZTOT_South_rands WHERE `index` IN (SELECT `index` FROM CMASSLOWZTOT_South_rands ORDER BY RANDOM() LIMIT 500) UNION SELECT * FROM CMASSLOWZTOT_North_rands WHERE `index` IN (SELECT `index` FROM CMASSLOWZTOT_North_rands ORDER BY RANDOM() LIMIT 500)\"\n",
    "#randQry = \"SELECT * FROM CMASSLOWZTOT_South_rands UNION SELECT * FROM CMASSLOWZTOT_North_rands\"\n",
    "\n",
    "CMASSLOWZTOT_DF_rands = pd.read_sql(randSampleQry, con=connBOSSRands)\n",
    "CMASSLOWZTOT_DF_rands.to_json(dataPath + \"CMASSLOWZTOT_DF_rands\")\n",
    "CMASSLOWZTOT_DF_rands.head(3)"
   ]
  },
  {
   "cell_type": "code",
   "execution_count": 12,
   "metadata": {},
   "outputs": [],
   "source": [
    "NOTES = open(NOTES_PATH, \"a\")\n",
    "NOTES.write(\"CMASSLOWZTOT_DF_rands Database objects: \" + str(len(CMASSLOWZTOT_DF_rands)))\n",
    "NOTES.write(\"\\n \\n\")\n",
    "NOTES.close()\n",
    "connBOSSRands.close()"
   ]
  },
  {
   "cell_type": "markdown",
   "metadata": {},
   "source": [
    " <hr style=\"height:3px\"> "
   ]
  },
  {
   "cell_type": "markdown",
   "metadata": {},
   "source": [
    "## 1. Create the TreeCorr Catalogs of Data:"
   ]
  },
  {
   "cell_type": "markdown",
   "metadata": {},
   "source": [
    "A set of input data (positions and other quantities) to be correlated.\n",
    "\n",
    "A Catalog object keeps track of the relevant information for a number of objects to be correlated. The objects each have some kind of position (for instance (x,y), (ra,dec), (x,y,z), etc.), and possibly some extra information such as weights (w), shear values (g1,g2), or kappa values (k).\n",
    "\n",
    "The simplest way to build a Catalog is to simply pass in numpy arrays for each piece of information you want included. \n",
    "\n",
    "> cat = treecorr.Catalog(ra=ra, dec=dec, g1=g1, g2=g2, ra_units='hour', dec_units='deg')\n",
    "\n",
    "Other options for reading in from a file, using a config file, etc"
   ]
  },
  {
   "cell_type": "code",
   "execution_count": 13,
   "metadata": {},
   "outputs": [],
   "source": [
    "NOTES = open(NOTES_PATH, \"a\")\n",
    "NOTES.write(\"1. Create the TreeCorr Catalogs of Data:\")\n",
    "NOTES.write(\"\\n \\n\")\n",
    "NOTES.close()"
   ]
  },
  {
   "cell_type": "code",
   "execution_count": 14,
   "metadata": {},
   "outputs": [
    {
     "data": {
      "text/plain": [
       "Catalog(x=array([ 0.89821907,  0.79537251,  0.81322895, ..., -0.44845015,\n",
       "       -0.86674663, -0.46424765]),y=array([-0.43906143,  0.60193276,  0.57531887, ...,  0.53951108,\n",
       "        0.49764081,  0.55135371]),z=array([ 0.02067772, -0.07113031, -0.08756066, ...,  0.71261508,\n",
       "        0.033225  ,  0.69316896]),ra=array([5.82852704, 0.6478348 , 0.61570853, ..., 2.26428363, 2.62039894,\n",
       "       2.2706359 ]),dec=array([ 0.02067919, -0.07119043, -0.08767293, ...,  0.79321874,\n",
       "        0.03323112,  0.76587641]),w=array([1., 1., 1., ..., 1., 1., 1.]))"
      ]
     },
     "execution_count": 14,
     "metadata": {},
     "output_type": "execute_result"
    }
   ],
   "source": [
    "cat_PanSTARRS_Full = treecorr.Catalog(ra=PanSTARRSNEW_GoodZ['RA'], dec=PanSTARRSNEW_GoodZ['DEC'], ra_units='degrees', dec_units='degrees')\n",
    "cat_PanSTARRS_Full\n"
   ]
  },
  {
   "cell_type": "code",
   "execution_count": 15,
   "metadata": {},
   "outputs": [],
   "source": [
    "NOTES = open(NOTES_PATH, \"a\")\n",
    "NOTES.write(\"Created cat_PanSTARRS_Full.\")\n",
    "NOTES.write(\"\\n \\n\")\n",
    "NOTES.close()"
   ]
  },
  {
   "cell_type": "markdown",
   "metadata": {},
   "source": [
    "## 2. Create the randoms for PanSTARRS\n",
    "Include all ten pointings for now, can just exclude the pointing that isn't in CMASS when doing the CrossCorr </br>\n",
    "\n",
    "Possibility to ask for mask eventually if we think that it is a limitation </br>"
   ]
  },
  {
   "cell_type": "code",
   "execution_count": 16,
   "metadata": {},
   "outputs": [],
   "source": [
    "NOTES = open(NOTES_PATH, \"a\")\n",
    "NOTES.write(\"2. Create the randoms for PanSTARRS. Include all 10 pointings, delete MD02 later.\")\n",
    "NOTES.write(\"\\n \\n\")\n",
    "NOTES.close()"
   ]
  },
  {
   "cell_type": "code",
   "execution_count": 17,
   "metadata": {},
   "outputs": [],
   "source": [
    "# Change this for more and less, 10E5 good for personal laptop ~5min run time\n",
    "randsLength = 10**4\n",
    "\n",
    "NOTES = open(NOTES_PATH, \"a\")\n",
    "NOTES.write(\"randsLength: \" + str(randsLength))\n",
    "NOTES.write(\"\\n \\n\")\n",
    "NOTES.close()"
   ]
  },
  {
   "cell_type": "code",
   "execution_count": 18,
   "metadata": {},
   "outputs": [
    {
     "name": "stdout",
     "output_type": "stream",
     "text": [
      "PanSTARRS ra range = 0.600713 .. 6.172202\n",
      "PanSTARRS dec range = -0.506386 .. 1.038391\n"
     ]
    }
   ],
   "source": [
    "ra_min_PanSTARRS = numpy.min(cat_PanSTARRS_Full.ra)\n",
    "ra_max_PanSTARRS = numpy.max(cat_PanSTARRS_Full.ra)\n",
    "dec_min_PanSTARRS = numpy.min(cat_PanSTARRS_Full.dec)\n",
    "dec_max_PanSTARRS = numpy.max(cat_PanSTARRS_Full.dec)\n",
    "print('PanSTARRS ra range = %f .. %f' % (ra_min_PanSTARRS, ra_max_PanSTARRS))\n",
    "print('PanSTARRS dec range = %f .. %f' % (dec_min_PanSTARRS, dec_max_PanSTARRS))\n",
    "\n",
    "rand_ra_PanSTARRS = numpy.random.uniform(ra_min_PanSTARRS, ra_max_PanSTARRS, randsLength)\n",
    "rand_sindec_PanSTARRS = numpy.random.uniform(numpy.sin(dec_min_PanSTARRS), numpy.sin(dec_max_PanSTARRS), randsLength)\n",
    "rand_dec_PanSTARRS = numpy.arcsin(rand_sindec_PanSTARRS)"
   ]
  },
  {
   "cell_type": "markdown",
   "metadata": {},
   "source": [
    "#### Note: MD02 is the one that needs to be eliminated, not in CMASS footprint "
   ]
  },
  {
   "cell_type": "code",
   "execution_count": 19,
   "metadata": {},
   "outputs": [],
   "source": [
    "# Got from a paper, need to cite it here:  https://arxiv.org/pdf/1612.05560.pdf\n",
    "\n",
    "pointings = {\"MD01\": [035.875, -04.250], \"MD03\": [130.592, 44.317], \"MD04\": [150.000, 02.200], \n",
    "             \"MD05\": [161.917, 58.083], \"MD06\": [185.000, 47.117], \"MD07\": [213.704, 53.083], \n",
    "             \"MD08\": [242.787, 54.950], \"MD09\": [334.188, 00.283], \"MD10\": [352.312, -00.433], \"MD02\": [053.100, -27.800],}"
   ]
  },
  {
   "cell_type": "code",
   "execution_count": 20,
   "metadata": {},
   "outputs": [
    {
     "data": {
      "image/png": "[encoded data removed]",
      "text/plain": [
       "<Figure size 1440x360 with 3 Axes>"
      ]
     },
     "metadata": {
      "needs_background": "light"
     },
     "output_type": "display_data"
    }
   ],
   "source": [
    "# Check how well the randoms cover the same space as the data\n",
    "\n",
    "f1, (ax1a, ax2a, ax3a) = plt.subplots(1, 3, figsize=(20, 5))\n",
    "ax1a.scatter(cat_PanSTARRS_Full.ra * 180/numpy.pi, cat_PanSTARRS_Full.dec * 180/numpy.pi, color='red', s=0.1, marker='x')\n",
    "ax1a.scatter(rand_ra_PanSTARRS * 180/numpy.pi, rand_dec_PanSTARRS * 180/numpy.pi, color='blue', s=0.1)\n",
    "ax1a.set_xlabel('RA (degrees)')\n",
    "ax1a.set_ylabel('Dec (degrees)')\n",
    "ax1a.set_title('Randoms on top of data')\n",
    "\n",
    "# Repeat in the opposite order\n",
    "ax2a.scatter(rand_ra_PanSTARRS * 180/numpy.pi, rand_dec_PanSTARRS * 180/numpy.pi, color='blue', s=0.1, marker='x')\n",
    "ax2a.scatter(cat_PanSTARRS_Full.ra * 180/numpy.pi, cat_PanSTARRS_Full.dec * 180/numpy.pi, color='red', s=0.1)\n",
    "ax2a.set_xlabel('RA (degrees)')\n",
    "ax2a.set_ylabel('Dec (degrees)')\n",
    "ax2a.set_title('Data on top of randoms')\n",
    "\n",
    "# Zoom to look at coverage of randoms and reals\n",
    "ax3a.scatter(rand_ra_PanSTARRS * 180/numpy.pi, rand_dec_PanSTARRS * 180/numpy.pi, color='blue', s=1, marker='x', label='rands')\n",
    "ax3a.scatter(cat_PanSTARRS_Full.ra * 180/numpy.pi, cat_PanSTARRS_Full.dec * 180/numpy.pi, color='red', s=1, label='data')\n",
    "ax3a.set_xlabel('RA (degrees)')\n",
    "ax3a.set_ylabel('Dec (degrees)')\n",
    "ax3a.set_title('Data on top of randoms_Zoom')\n",
    "ax3a.legend(loc = \"upper right\")\n",
    "ax3a.set_xlim(128, 133)\n",
    "ax3a.set_ylim(42, 47)\n",
    "\n",
    "plt.savefig(TESTING_PRODUCTS_PATH + \"/PanSTARRS data and randoms\")\n",
    "\n",
    "plt.show()"
   ]
  },
  {
   "cell_type": "code",
   "execution_count": 21,
   "metadata": {},
   "outputs": [],
   "source": [
    "NOTES = open(NOTES_PATH, \"a\")\n",
    "NOTES.write(\"Plotted: PanSTARRS data and randoms\")\n",
    "NOTES.write(\"\\n \\n\")\n",
    "NOTES.close()"
   ]
  },
  {
   "cell_type": "markdown",
   "metadata": {},
   "source": [
    "\"The telescope illuminates a diameter of 3.3 degrees,  with low distortion, and mild vignetting at the edge of this illuminated region. The field of view is approximately 7 square degrees. The 8  meter  focal  length  atf/4.4  gives  an  approximate  10micron pixel scale of 0.258 arcsec/pixel.\"\n",
    "\n",
    "7 square degrees --> r = 1.49 deg"
   ]
  },
  {
   "cell_type": "code",
   "execution_count": 22,
   "metadata": {},
   "outputs": [
    {
     "name": "stdout",
     "output_type": "stream",
     "text": [
      "[35.875, -4.25]\n",
      "4\n",
      "[130.592, 44.317]\n",
      "2\n",
      "[150.0, 2.2]\n",
      "2\n",
      "[161.917, 58.083]\n",
      "3\n",
      "[185.0, 47.117]\n",
      "6\n",
      "[213.704, 53.083]\n",
      "3\n",
      "[242.787, 54.95]\n",
      "2\n",
      "[334.188, 0.283]\n",
      "3\n",
      "[352.312, -0.433]\n",
      "7\n",
      "[53.1, -27.8]\n",
      "2\n"
     ]
    }
   ],
   "source": [
    "# Make a mask that consists of the ten pointings populated with the randoms that are in it...\n",
    "# Def a better way to do this? \n",
    "\n",
    "maskRA = []\n",
    "maskDEC = []\n",
    "randoms_Lengths = []\n",
    "\n",
    "for pointing in pointings: \n",
    "    maskRAprevious = len(maskRA)\n",
    "    X0 = pointings[pointing][0]\n",
    "    Y0 = pointings[pointing][1]\n",
    "    rad = 3.3/2\n",
    "    print(pointings[pointing])\n",
    "    \n",
    "    for i in range(len(rand_ra_PanSTARRS)):\n",
    "        #print(rand_ra_PanSTARRS[i], rand_dec_PanSTARRS[i])\n",
    "        X = rand_ra_PanSTARRS[i] * 180 / numpy.pi\n",
    "        Y = rand_dec_PanSTARRS[i] * 180 / numpy.pi\n",
    "        \n",
    "        if ((X - X0)**2 + (Y - Y0)**2 < rad**2):\n",
    "            maskRA.append(X)\n",
    "            maskDEC.append(Y)\n",
    "    print(len(maskRA) - maskRAprevious)\n",
    "    randoms_Lengths.append(len(maskRA) - maskRAprevious)"
   ]
  },
  {
   "cell_type": "code",
   "execution_count": 23,
   "metadata": {},
   "outputs": [],
   "source": [
    "NOTES = open(NOTES_PATH, \"a\")\n",
    "NOTES.write(\"Populated pointings with randoms. Randoms per pointing: (1, 3-10, 2):\")\n",
    "NOTES.write(str(randoms_Lengths))\n",
    "NOTES.write(\"\\n \\n\")\n",
    "NOTES.close()"
   ]
  },
  {
   "cell_type": "markdown",
   "metadata": {},
   "source": [
    "## 3. Make PanSTARRS Count-Count Auto Correlation Functions:\n",
    "\n",
    "Typical Usage Pattern:\n",
    "\n",
    "> nn = treecorr.NNCorrelation(config) \n",
    "<br>\n",
    "nn.process(cat)     # For auto-correlation.\n",
    "<br>\n",
    "nn.process(cat1,cat2)   # For cross-correlation.\n",
    "<br>\n",
    "rr.process...           # Likewise for random-random correlations\n",
    "<br>\n",
    "dr.process...        # If desired, also do data-random correlations\n",
    "<br>\n",
    "rd.process...    # For cross-correlations, also do the reverse.\n",
    "<br>\n",
    "nn.write(file_name,rr,dr,rd)  # Write out to a file.\n",
    "<br>\n",
    "xi,varxi = nn.calculateXi(rr,dr,rd)  # Or get the correlation function directly."
   ]
  },
  {
   "cell_type": "code",
   "execution_count": 24,
   "metadata": {},
   "outputs": [],
   "source": [
    "NOTES = open(NOTES_PATH, \"a\")\n",
    "NOTES.write(\"3. Make PanSTARRS Count-Count Auto Correlation Functions:\")\n",
    "NOTES.write(\"\\n \\n\")\n",
    "NOTES.close()"
   ]
  },
  {
   "cell_type": "code",
   "execution_count": 25,
   "metadata": {},
   "outputs": [
    {
     "name": "stdout",
     "output_type": "stream",
     "text": [
      "Warning: Some bins for the randoms had no pairs.\n"
     ]
    }
   ],
   "source": [
    "# Data Auto-correlation: (dd)\n",
    "nn_PanSTARRS_Auto_self = treecorr.NNCorrelation(min_sep=0.01, max_sep=10, bin_size=0.2, sep_units='degrees')\n",
    "nn_PanSTARRS_Auto_self.process(cat_PanSTARRS_Full)\n",
    "\n",
    "cat_rand_PanSTARRS_Full = treecorr.Catalog(ra=maskRA, dec=maskDEC, ra_units='degrees', dec_units='degrees')\n",
    "rr_PanSTARRS_Full = treecorr.NNCorrelation(min_sep=0.01, max_sep=10, bin_size=0.2, sep_units='degrees')\n",
    "rr_PanSTARRS_Full.process(cat_rand_PanSTARRS_Full)\n",
    "\n",
    "dr_PanSTARRS_Full = treecorr.NNCorrelation(min_sep=0.01, max_sep=10, bin_size=0.2, sep_units='degrees')\n",
    "dr_PanSTARRS_Full.process(cat_PanSTARRS_Full, cat_rand_PanSTARRS_Full)\n",
    "\n",
    "r_PanSTARRS_Full = numpy.exp(nn_PanSTARRS_Auto_self.meanlogr)\n",
    "xi_PanSTARRS_Full, varxi_PanSTARRS_Full = nn_PanSTARRS_Auto_self.calculateXi(rr_PanSTARRS_Full, dr_PanSTARRS_Full)\n",
    "sig_PanSTARRS_Full = numpy.sqrt(varxi_PanSTARRS_Full)"
   ]
  },
  {
   "cell_type": "code",
   "execution_count": 26,
   "metadata": {},
   "outputs": [
    {
     "data": {
      "image/png": "[encoded data removed]",
      "text/plain": [
       "<Figure size 432x288 with 1 Axes>"
      ]
     },
     "metadata": {
      "needs_background": "light"
     },
     "output_type": "display_data"
    }
   ],
   "source": [
    "# Plot the Correlation function:\n",
    "\n",
    "# Plot the Correlation function:\n",
    "plt.plot(r_PanSTARRS_Full, xi_PanSTARRS_Full, color='blue')\n",
    "plt.plot(r_PanSTARRS_Full, -xi_PanSTARRS_Full, color='blue', ls=':')\n",
    "plt.errorbar(r_PanSTARRS_Full[xi_PanSTARRS_Full>0], xi_PanSTARRS_Full[xi_PanSTARRS_Full>0], yerr=sig_PanSTARRS_Full[xi_PanSTARRS_Full>0], color='green', lw=0.5, ls='')\n",
    "plt.errorbar(r_PanSTARRS_Full[xi_PanSTARRS_Full<0], -xi_PanSTARRS_Full[xi_PanSTARRS_Full<0], yerr=sig_PanSTARRS_Full[xi_PanSTARRS_Full<0], color='green', lw=0.5, ls='')\n",
    "leg = plt.errorbar(-r_PanSTARRS_Full, xi_PanSTARRS_Full, yerr=sig_PanSTARRS_Full, color='blue')\n",
    "plt.xscale('log')\n",
    "plt.yscale('log', nonposy='clip')\n",
    "plt.xlabel(r'$\\theta$ (degrees)')\n",
    "plt.legend([leg], [r'$w(\\theta)$'], loc='lower left')\n",
    "plt.xlim([0.01,10])\n",
    "\n",
    "plt.savefig(TESTING_PRODUCTS_PATH + \"/PanSTARRS Auto-Corr with PanSTARRS randoms\")\n",
    "\n",
    "plt.show()"
   ]
  },
  {
   "cell_type": "code",
   "execution_count": 27,
   "metadata": {},
   "outputs": [],
   "source": [
    "NOTES = open(NOTES_PATH, \"a\")\n",
    "NOTES.write(\"Plotted: PanSTARRS Auto-Corr with PanSTARRS randoms\")\n",
    "NOTES.write(\"\\n \\n\")\n",
    "NOTES.close()"
   ]
  },
  {
   "cell_type": "markdown",
   "metadata": {},
   "source": [
    "## 4. Make CMASS Count-Count Auto Correlation Functions:\n",
    "\n",
    "Typical Usage Pattern:\n",
    "\n",
    "> nn = treecorr.NNCorrelation(config) \n",
    "<br>\n",
    "nn.process(cat)     # For auto-correlation.\n",
    "<br>\n",
    "nn.process(cat1,cat2)   # For cross-correlation.\n",
    "<br>\n",
    "rr.process...           # Likewise for random-random correlations\n",
    "<br>\n",
    "dr.process...        # If desired, also do data-random correlations\n",
    "<br>\n",
    "rd.process...    # For cross-correlations, also do the reverse.\n",
    "<br>\n",
    "nn.write(file_name,rr,dr,rd)  # Write out to a file.\n",
    "<br>\n",
    "xi,varxi = nn.calculateXi(rr,dr,rd)  # Or get the correlation function directly."
   ]
  },
  {
   "cell_type": "code",
   "execution_count": 28,
   "metadata": {},
   "outputs": [],
   "source": [
    "NOTES = open(NOTES_PATH, \"a\")\n",
    "NOTES.write(\"4. Make CMASS Count-Count Auto Correlation Functions:\")\n",
    "NOTES.write(\"\\n \\n\")\n",
    "NOTES.close()"
   ]
  },
  {
   "cell_type": "code",
   "execution_count": 29,
   "metadata": {},
   "outputs": [
    {
     "data": {
      "text/plain": [
       "Catalog(x=array([-0.96555174,  0.77057095, -0.96576697, ..., -0.75908709,\n",
       "       -0.75899836, -0.75843631]),y=array([-0.26000679, -0.61337188, -0.25919189, ..., -0.07245224,\n",
       "       -0.07669372, -0.07611541]),z=array([-0.01031072,  0.17319164, -0.01066374, ...,  0.64694471,\n",
       "        0.64655979,  0.64728727]),ra=array([3.4046362 , 5.61089021, 3.40379332, ..., 3.23675093, 3.2422968 ,\n",
       "       3.24161609]),dec=array([-0.0103109 ,  0.17406936, -0.01066394, ...,  0.70357085,\n",
       "        0.70306617,  0.70402018]),w=array([1., 1., 1., ..., 1., 1., 1.]))"
      ]
     },
     "execution_count": 29,
     "metadata": {},
     "output_type": "execute_result"
    }
   ],
   "source": [
    "cat_eBOSS = treecorr.Catalog(ra=CMASSLOWZTOT_DF['RA'], dec=CMASSLOWZTOT_DF['DEC'], ra_units='degrees', dec_units='degrees')\n",
    "cat_eBOSS\n"
   ]
  },
  {
   "cell_type": "code",
   "execution_count": 30,
   "metadata": {},
   "outputs": [],
   "source": [
    "NOTES = open(NOTES_PATH, \"a\")\n",
    "NOTES.write(\"Created cat_eBOSS.\")\n",
    "NOTES.write(\"\\n \\n\")\n",
    "NOTES.close()"
   ]
  },
  {
   "cell_type": "code",
   "execution_count": 31,
   "metadata": {},
   "outputs": [
    {
     "name": "stdout",
     "output_type": "stream",
     "text": [
      "Warning: Some bins for the randoms had no pairs.\n"
     ]
    }
   ],
   "source": [
    "nn_eBOSS_Auto_self = treecorr.NNCorrelation(min_sep=0.01, max_sep=10, bin_size=0.2, sep_units='degrees')\n",
    "nn_eBOSS_Auto_self.process(cat_eBOSS)\n",
    "\n",
    "cat_rand_eBOSS = treecorr.Catalog(ra=CMASSLOWZTOT_DF_rands['RA'], dec=CMASSLOWZTOT_DF_rands['DEC'], ra_units='degrees', dec_units='degrees')\n",
    "rr_eBOSS = treecorr.NNCorrelation(min_sep=0.01, max_sep=10, bin_size=0.2, sep_units='degrees')\n",
    "rr_eBOSS.process(cat_rand_eBOSS)\n",
    "\n",
    "dr_eBOSS = treecorr.NNCorrelation(min_sep=0.01, max_sep=10, bin_size=0.2, sep_units='degrees')\n",
    "dr_eBOSS.process(cat_eBOSS, cat_rand_eBOSS)\n",
    "\n",
    "r_eBOSS = numpy.exp(nn_eBOSS_Auto_self.meanlogr)\n",
    "xi_eBOSS, varxi_eBOSS = nn_eBOSS_Auto_self.calculateXi(rr_eBOSS, dr_eBOSS)\n",
    "sig_eBOSS = numpy.sqrt(varxi_eBOSS)"
   ]
  },
  {
   "cell_type": "code",
   "execution_count": 32,
   "metadata": {},
   "outputs": [
    {
     "data": {
      "image/png": "[encoded data removed]",
      "text/plain": [
       "<Figure size 1440x360 with 2 Axes>"
      ]
     },
     "metadata": {
      "needs_background": "light"
     },
     "output_type": "display_data"
    }
   ],
   "source": [
    "f3, (ax1c, ax2c) = plt.subplots(1, 2, figsize=(20, 5))\n",
    "\n",
    "ax1c.scatter(cat_eBOSS.ra * 180/numpy.pi, cat_eBOSS.dec * 180/numpy.pi, color='red', s=0.1)\n",
    "ax1c.set_xlabel('RA (degrees)')\n",
    "ax1c.set_ylabel('Dec (degrees)')\n",
    "ax1c.set_title('CMASS/LOWZ Data')\n",
    "\n",
    "# Repeat in the opposite order\n",
    "ax2c.scatter(CMASSLOWZTOT_DF_rands['RA'], CMASSLOWZTOT_DF_rands['DEC'], color='blue', s=0.1)\n",
    "ax2c.set_xlabel('RA (degrees)')\n",
    "ax2c.set_ylabel('Dec (degrees)')\n",
    "ax2c.set_title('CMASS/LOWZ Randoms')\n",
    "\n",
    "plt.savefig(TESTING_PRODUCTS_PATH + \"/CMASS_LOWZ Randoms\")\n",
    "plt.show()"
   ]
  },
  {
   "cell_type": "code",
   "execution_count": 33,
   "metadata": {},
   "outputs": [],
   "source": [
    "NOTES = open(NOTES_PATH, \"a\")\n",
    "NOTES.write(\"Plotted: CMASS_LOWZ Randoms\")\n",
    "NOTES.write(\"\\n \\n\")\n",
    "NOTES.close()"
   ]
  },
  {
   "cell_type": "code",
   "execution_count": 34,
   "metadata": {},
   "outputs": [
    {
     "data": {
      "image/png": "[encoded data removed]",
      "text/plain": [
       "<Figure size 432x288 with 1 Axes>"
      ]
     },
     "metadata": {
      "needs_background": "light"
     },
     "output_type": "display_data"
    }
   ],
   "source": [
    "# Plot the autocorrelation function:\n",
    "\n",
    "plt.plot(r_eBOSS, xi_eBOSS, color='blue')\n",
    "plt.plot(r_eBOSS, -xi_eBOSS, color='blue', ls=':')\n",
    "plt.errorbar(r_eBOSS[xi_eBOSS>0], xi_eBOSS[xi_eBOSS>0], yerr=sig_eBOSS[xi_eBOSS>0], color='green', lw=0.5, ls='')\n",
    "plt.errorbar(r_eBOSS[xi_eBOSS<0], -xi_eBOSS[xi_eBOSS<0], yerr=sig_eBOSS[xi_eBOSS<0], color='green', lw=0.5, ls='')\n",
    "leg = plt.errorbar(-r_eBOSS, xi_eBOSS, yerr=sig_eBOSS, color='blue')\n",
    "plt.xscale('log')\n",
    "plt.yscale('log', nonposy='clip')\n",
    "plt.xlabel(r'$\\theta$ (degrees)')\n",
    "plt.legend([leg], [r'$w(\\theta)$'], loc='lower left')\n",
    "plt.xlim([0.01,10])\n",
    "plt.title(\"eBOSS Auto Corr with eBOSS randoms\")\n",
    "\n",
    "plt.savefig(TESTING_PRODUCTS_PATH + \"/eBOSS Auto Corr with eBOSS randoms\")\n",
    "plt.show()"
   ]
  },
  {
   "cell_type": "code",
   "execution_count": 35,
   "metadata": {},
   "outputs": [],
   "source": [
    "NOTES = open(NOTES_PATH, \"a\")\n",
    "NOTES.write(\"Plotted: eBOSS Auto Corr with eBOSS randoms\")\n",
    "NOTES.write(\"\\n \\n\")\n",
    "NOTES.close()"
   ]
  },
  {
   "cell_type": "markdown",
   "metadata": {},
   "source": [
    "## 5. Analyze if the plots are correct: \n",
    "\n",
    "The CMASS plot should look like this paper's figure 1: </br>\n",
    "\n",
    "https://arxiv.org/pdf/1607.03144.pdf\n",
    "\n"
   ]
  },
  {
   "cell_type": "code",
   "execution_count": 36,
   "metadata": {},
   "outputs": [],
   "source": [
    "NOTES = open(NOTES_PATH, \"a\")\n",
    "NOTES.write(\"5. Analyze if the plots are correct:\")\n",
    "NOTES.write(\"\\n \\n\")\n",
    "NOTES.close()"
   ]
  },
  {
   "cell_type": "markdown",
   "metadata": {},
   "source": [
    "### 5.1 Auto Correlate the CMASS and LOWZ randoms:\n",
    "\n",
    "- Do autoCorr function and choose CMASS to be the data, and LOWZ to be the rands"
   ]
  },
  {
   "cell_type": "code",
   "execution_count": 37,
   "metadata": {},
   "outputs": [],
   "source": [
    "NOTES = open(NOTES_PATH, \"a\")\n",
    "NOTES.write(\"5.1 Auto Correlate the CMASS and LOWZ randoms:\")\n",
    "NOTES.write(\"\\n \\n\")\n",
    "NOTES.close()"
   ]
  },
  {
   "cell_type": "code",
   "execution_count": 38,
   "metadata": {},
   "outputs": [
    {
     "data": {
      "text/html": [
       "<div>\n",
       "<style scoped>\n",
       "    .dataframe tbody tr th:only-of-type {\n",
       "        vertical-align: middle;\n",
       "    }\n",
       "\n",
       "    .dataframe tbody tr th {\n",
       "        vertical-align: top;\n",
       "    }\n",
       "\n",
       "    .dataframe thead th {\n",
       "        text-align: right;\n",
       "    }\n",
       "</style>\n",
       "<table border=\"1\" class=\"dataframe\">\n",
       "  <thead>\n",
       "    <tr style=\"text-align: right;\">\n",
       "      <th></th>\n",
       "      <th>index</th>\n",
       "      <th>RA</th>\n",
       "      <th>DEC</th>\n",
       "      <th>Z</th>\n",
       "      <th>NZ</th>\n",
       "    </tr>\n",
       "  </thead>\n",
       "  <tbody>\n",
       "    <tr>\n",
       "      <th>0</th>\n",
       "      <td>2814</td>\n",
       "      <td>7.312641</td>\n",
       "      <td>6.973274</td>\n",
       "      <td>0.694081</td>\n",
       "      <td>0.000051</td>\n",
       "    </tr>\n",
       "    <tr>\n",
       "      <th>1</th>\n",
       "      <td>46176</td>\n",
       "      <td>357.106738</td>\n",
       "      <td>-9.844463</td>\n",
       "      <td>0.566202</td>\n",
       "      <td>0.000310</td>\n",
       "    </tr>\n",
       "    <tr>\n",
       "      <th>2</th>\n",
       "      <td>91199</td>\n",
       "      <td>2.467615</td>\n",
       "      <td>25.634150</td>\n",
       "      <td>0.516845</td>\n",
       "      <td>0.000371</td>\n",
       "    </tr>\n",
       "  </tbody>\n",
       "</table>\n",
       "</div>"
      ],
      "text/plain": [
       "   index          RA        DEC         Z        NZ\n",
       "0   2814    7.312641   6.973274  0.694081  0.000051\n",
       "1  46176  357.106738  -9.844463  0.566202  0.000310\n",
       "2  91199    2.467615  25.634150  0.516845  0.000371"
      ]
     },
     "execution_count": 38,
     "metadata": {},
     "output_type": "execute_result"
    }
   ],
   "source": [
    "connCMASSRands = sqlite3.connect(DATA_PATH + 'CMASS_rands.db')\n",
    "randSampleQry = \"SELECT * FROM CMASS_South_rands WHERE `index` IN (SELECT `index` FROM CMASS_South_rands ORDER BY RANDOM() LIMIT 500) UNION SELECT * FROM CMASS_North_rands WHERE `index` IN (SELECT `index` FROM CMASS_North_rands ORDER BY RANDOM() LIMIT 500)\"\n",
    "CMASS_DF_rands = pd.read_sql(randSampleQry, con=connCMASSRands)\n",
    "CMASS_DF_rands.to_json(DATA_PATH + \"CMASS_DF_rands\")\n",
    "CMASS_DF_rands.head(3)\n"
   ]
  },
  {
   "cell_type": "code",
   "execution_count": 39,
   "metadata": {},
   "outputs": [],
   "source": [
    "NOTES = open(NOTES_PATH, \"a\")\n",
    "NOTES.write(\"CMASS_DF_rands Database objects: \" + str(len(CMASS_DF_rands)))\n",
    "NOTES.write(\"\\n \\n\")\n",
    "NOTES.close()\n",
    "connCMASSRands.close()"
   ]
  },
  {
   "cell_type": "code",
   "execution_count": 40,
   "metadata": {},
   "outputs": [
    {
     "data": {
      "text/html": [
       "<div>\n",
       "<style scoped>\n",
       "    .dataframe tbody tr th:only-of-type {\n",
       "        vertical-align: middle;\n",
       "    }\n",
       "\n",
       "    .dataframe tbody tr th {\n",
       "        vertical-align: top;\n",
       "    }\n",
       "\n",
       "    .dataframe thead th {\n",
       "        text-align: right;\n",
       "    }\n",
       "</style>\n",
       "<table border=\"1\" class=\"dataframe\">\n",
       "  <thead>\n",
       "    <tr style=\"text-align: right;\">\n",
       "      <th></th>\n",
       "      <th>index</th>\n",
       "      <th>RA</th>\n",
       "      <th>DEC</th>\n",
       "      <th>Z</th>\n",
       "      <th>NZ</th>\n",
       "    </tr>\n",
       "  </thead>\n",
       "  <tbody>\n",
       "    <tr>\n",
       "      <th>0</th>\n",
       "      <td>4664</td>\n",
       "      <td>346.622826</td>\n",
       "      <td>6.917903</td>\n",
       "      <td>0.399696</td>\n",
       "      <td>0.000219</td>\n",
       "    </tr>\n",
       "    <tr>\n",
       "      <th>1</th>\n",
       "      <td>14374</td>\n",
       "      <td>1.720614</td>\n",
       "      <td>11.545639</td>\n",
       "      <td>0.193761</td>\n",
       "      <td>0.000489</td>\n",
       "    </tr>\n",
       "    <tr>\n",
       "      <th>2</th>\n",
       "      <td>14381</td>\n",
       "      <td>120.727931</td>\n",
       "      <td>23.077144</td>\n",
       "      <td>0.093995</td>\n",
       "      <td>0.001161</td>\n",
       "    </tr>\n",
       "  </tbody>\n",
       "</table>\n",
       "</div>"
      ],
      "text/plain": [
       "   index          RA        DEC         Z        NZ\n",
       "0   4664  346.622826   6.917903  0.399696  0.000219\n",
       "1  14374    1.720614  11.545639  0.193761  0.000489\n",
       "2  14381  120.727931  23.077144  0.093995  0.001161"
      ]
     },
     "execution_count": 40,
     "metadata": {},
     "output_type": "execute_result"
    }
   ],
   "source": [
    "connLOWZRands = sqlite3.connect(DATA_PATH + 'LOWZ_rands.db')\n",
    "randSampleQry = \"SELECT * FROM LOWZ_South_rands WHERE `index` IN (SELECT `index` FROM LOWZ_South_rands ORDER BY RANDOM() LIMIT 500) UNION SELECT * FROM LOWZ_North_rands WHERE `index` IN (SELECT `index` FROM LOWZ_North_rands ORDER BY RANDOM() LIMIT 500)\"\n",
    "LOWZ_DF_rands = pd.read_sql(randSampleQry, con=connLOWZRands)\n",
    "LOWZ_DF_rands.to_json(DATA_PATH + \"LOWZ_DF_rands\")\n",
    "LOWZ_DF_rands.head(3)"
   ]
  },
  {
   "cell_type": "code",
   "execution_count": 41,
   "metadata": {},
   "outputs": [],
   "source": [
    "NOTES = open(NOTES_PATH, \"a\")\n",
    "NOTES.write(\"LOWZ_DF_rands Database objects: \" + str(len(LOWZ_DF_rands)))\n",
    "NOTES.write(\"\\n \\n\")\n",
    "NOTES.close()\n",
    "connLOWZRands.close()"
   ]
  },
  {
   "cell_type": "code",
   "execution_count": 42,
   "metadata": {},
   "outputs": [
    {
     "name": "stdout",
     "output_type": "stream",
     "text": [
      "Warning: Some bins for the randoms had no pairs.\n"
     ]
    }
   ],
   "source": [
    "cat_CMASS_rands = treecorr.Catalog(ra=CMASS_DF_rands['RA'], dec=CMASS_DF_rands['DEC'], ra_units='degrees', dec_units='degrees')\n",
    "cat_CMASS_rands\n",
    "\n",
    "nn_CMASS_Auto_LOWZRands = treecorr.NNCorrelation(min_sep=0.01, max_sep=10, bin_size=0.2, sep_units='degrees')\n",
    "nn_CMASS_Auto_LOWZRands.process(cat_CMASS_rands)\n",
    "\n",
    "cat_rand_LOWZ = treecorr.Catalog(ra=LOWZ_DF_rands['RA'], dec=LOWZ_DF_rands['DEC'], ra_units='degrees', dec_units='degrees')\n",
    "rr_LOWZ_rands = treecorr.NNCorrelation(min_sep=0.01, max_sep=10, bin_size=0.2, sep_units='degrees')\n",
    "rr_LOWZ_rands.process(cat_rand_LOWZ)\n",
    "\n",
    "dr_CMASS_LOWZrands = treecorr.NNCorrelation(min_sep=0.01, max_sep=10, bin_size=0.2, sep_units='degrees')\n",
    "dr_CMASS_LOWZrands.process(cat_CMASS_rands, cat_rand_LOWZ)\n",
    "\n",
    "r_CMASS_LOWZrands = numpy.exp(nn_CMASS_Auto_LOWZRands.meanlogr)\n",
    "xi_CMASS_LOWZrands, varxi_CMASS_LOWZrands = nn_CMASS_Auto_LOWZRands.calculateXi(rr_LOWZ_rands, dr_CMASS_LOWZrands)\n",
    "sig_CMASS_LOWZrands = numpy.sqrt(varxi_CMASS_LOWZrands)"
   ]
  },
  {
   "cell_type": "code",
   "execution_count": 43,
   "metadata": {},
   "outputs": [
    {
     "data": {
      "image/png": "[encoded data removed]",
      "text/plain": [
       "<Figure size 1440x360 with 2 Axes>"
      ]
     },
     "metadata": {
      "needs_background": "light"
     },
     "output_type": "display_data"
    }
   ],
   "source": [
    "# Check that the randoms cover the same space as the data\n",
    "\n",
    "f4, (ax1d, ax2d) = plt.subplots(1, 2, figsize=(20, 5))\n",
    "ax1d.scatter(cat_CMASS_rands.ra * 180/numpy.pi, cat_CMASS_rands.dec * 180/numpy.pi, color='blue', s=0.1)\n",
    "ax1d.set_xlabel('RA (degrees)')\n",
    "ax1d.set_ylabel('Dec (degrees)')\n",
    "ax1d.set_title('CMASS Randoms')\n",
    "\n",
    "# Repeat in the opposite order\n",
    "ax2d.scatter(cat_rand_LOWZ.ra * 180/numpy.pi, cat_rand_LOWZ.dec * 180/numpy.pi, color='green', s=0.1)\n",
    "ax2d.set_xlabel('RA (degrees)')\n",
    "ax2d.set_ylabel('Dec (degrees)')\n",
    "ax2d.set_title('LOWZ Randoms')\n",
    "plt.title(\"LOWZ randoms\")\n",
    "\n",
    "plt.savefig(TESTING_PRODUCTS_PATH + \"/CMASS and LOWZ randoms\")\n",
    "plt.show()"
   ]
  },
  {
   "cell_type": "code",
   "execution_count": 44,
   "metadata": {},
   "outputs": [],
   "source": [
    "NOTES = open(NOTES_PATH, \"a\")\n",
    "NOTES.write(\"Plotted: CMASS and LOWZ randoms\")\n",
    "NOTES.write(\"\\n \\n\")\n",
    "NOTES.close()"
   ]
  },
  {
   "cell_type": "code",
   "execution_count": 45,
   "metadata": {},
   "outputs": [
    {
     "data": {
      "image/png": "[encoded data removed]",
      "text/plain": [
       "<Figure size 432x288 with 1 Axes>"
      ]
     },
     "metadata": {
      "needs_background": "light"
     },
     "output_type": "display_data"
    }
   ],
   "source": [
    "# Plot the autocorrelation function:\n",
    "\n",
    "plt.plot(r_CMASS_LOWZrands, xi_CMASS_LOWZrands, color='blue')\n",
    "plt.plot(r_CMASS_LOWZrands, -xi_CMASS_LOWZrands, color='blue', ls=':')\n",
    "plt.errorbar(r_CMASS_LOWZrands[xi_CMASS_LOWZrands>0], xi_CMASS_LOWZrands[xi_CMASS_LOWZrands>0], yerr=sig_CMASS_LOWZrands[xi_CMASS_LOWZrands>0], color='green', lw=0.5, ls='')\n",
    "plt.errorbar(r_CMASS_LOWZrands[xi_CMASS_LOWZrands<0], -xi_CMASS_LOWZrands[xi_CMASS_LOWZrands<0], yerr=sig_CMASS_LOWZrands[xi_CMASS_LOWZrands<0], color='green', lw=0.5, ls='')\n",
    "leg = plt.errorbar(-r_CMASS_LOWZrands, xi_CMASS_LOWZrands, yerr=sig_CMASS_LOWZrands, color='blue')\n",
    "plt.xscale('log')\n",
    "plt.yscale('log', nonposy='clip')\n",
    "plt.xlabel(r'$\\theta$ (degrees)')\n",
    "plt.legend([leg], [r'$w(\\theta)$'], loc='lower left')\n",
    "#plt.xlim([0.01,10])\n",
    "#plt.ylim([0.0, .00001])\n",
    "plt.title(\"CMASS_rands Auto Corr with LOWZ_rands as randoms\")\n",
    "\n",
    "plt.savefig(TESTING_PRODUCTS_PATH + \"/CMASS_rands Auto Corr with LOWZ_rands as randoms\")\n",
    "plt.show()"
   ]
  },
  {
   "cell_type": "code",
   "execution_count": 46,
   "metadata": {},
   "outputs": [],
   "source": [
    "NOTES = open(NOTES_PATH, \"a\")\n",
    "NOTES.write(\"Plotted: CMASS_rands Auto Corr with LOWZ_rands as randoms\")\n",
    "NOTES.write(\"\\n \\n\")\n",
    "NOTES.close()"
   ]
  },
  {
   "cell_type": "markdown",
   "metadata": {},
   "source": [
    "### 5.2 Auto Correlate the CMASS and LOWZ randoms - Reversed:"
   ]
  },
  {
   "cell_type": "code",
   "execution_count": 47,
   "metadata": {},
   "outputs": [],
   "source": [
    "NOTES = open(NOTES_PATH, \"a\")\n",
    "NOTES.write(\"5.2 Auto Correlate the CMASS and LOWZ randoms - Reversed:\")\n",
    "NOTES.write(\"\\n \\n\")\n",
    "NOTES.close()"
   ]
  },
  {
   "cell_type": "code",
   "execution_count": 48,
   "metadata": {},
   "outputs": [
    {
     "name": "stdout",
     "output_type": "stream",
     "text": [
      "Warning: Some bins for the randoms had no pairs.\n"
     ]
    }
   ],
   "source": [
    "cat_LOWZ_rands = treecorr.Catalog(ra=LOWZ_DF_rands['RA'], dec=LOWZ_DF_rands['DEC'], ra_units='degrees', dec_units='degrees')\n",
    "cat_LOWZ_rands\n",
    "\n",
    "nn_LOWZ_Auto_CMASSRands = treecorr.NNCorrelation(min_sep=0.01, max_sep=10, bin_size=0.2, sep_units='degrees')\n",
    "nn_LOWZ_Auto_CMASSRands.process(cat_LOWZ_rands)\n",
    "\n",
    "cat_rand_CMASS = treecorr.Catalog(ra=CMASS_DF_rands['RA'], dec=CMASS_DF_rands['DEC'], ra_units='degrees', dec_units='degrees')\n",
    "rr_CMASS_rands = treecorr.NNCorrelation(min_sep=0.01, max_sep=10, bin_size=0.2, sep_units='degrees')\n",
    "rr_CMASS_rands.process(cat_rand_CMASS)\n",
    "\n",
    "dr_LOWZ_CMASSrands = treecorr.NNCorrelation(min_sep=0.01, max_sep=10, bin_size=0.2, sep_units='degrees')\n",
    "dr_LOWZ_CMASSrands.process(cat_rand_LOWZ, cat_CMASS_rands)\n",
    "\n",
    "r_LOWZ_CMASSrands = numpy.exp(nn_LOWZ_Auto_CMASSRands.meanlogr)\n",
    "xi_LOWZ_CMASSrands, varxi_LOWZ_CMASSrands = nn_LOWZ_Auto_CMASSRands.calculateXi(rr_CMASS_rands, dr_LOWZ_CMASSrands)\n",
    "sig_LOWZ_CMASSrands = numpy.sqrt(varxi_LOWZ_CMASSrands)"
   ]
  },
  {
   "cell_type": "code",
   "execution_count": 49,
   "metadata": {},
   "outputs": [
    {
     "data": {
      "image/png": "[encoded data removed]",
      "text/plain": [
       "<Figure size 432x288 with 1 Axes>"
      ]
     },
     "metadata": {
      "needs_background": "light"
     },
     "output_type": "display_data"
    }
   ],
   "source": [
    "# Plot the autocorrelation function:\n",
    "\n",
    "plt.plot(r_LOWZ_CMASSrands, xi_LOWZ_CMASSrands, color='blue')\n",
    "plt.plot(r_LOWZ_CMASSrands, -xi_LOWZ_CMASSrands, color='blue', ls=':')\n",
    "plt.errorbar(r_LOWZ_CMASSrands[xi_LOWZ_CMASSrands>0], xi_LOWZ_CMASSrands[xi_LOWZ_CMASSrands>0], yerr=sig_LOWZ_CMASSrands[xi_LOWZ_CMASSrands>0], color='green', lw=0.5, ls='')\n",
    "plt.errorbar(r_LOWZ_CMASSrands[xi_LOWZ_CMASSrands<0], -xi_LOWZ_CMASSrands[xi_LOWZ_CMASSrands<0], yerr=sig_LOWZ_CMASSrands[xi_LOWZ_CMASSrands<0], color='green', lw=0.5, ls='')\n",
    "leg = plt.errorbar(-r_LOWZ_CMASSrands, xi_LOWZ_CMASSrands, yerr=sig_LOWZ_CMASSrands, color='blue')\n",
    "plt.xscale('log')\n",
    "plt.yscale('log', nonposy='clip')\n",
    "plt.xlabel(r'$\\theta$ (degrees)')\n",
    "plt.legend([leg], [r'$w(\\theta)$'], loc='lower left')\n",
    "#plt.xlim([0.01,10])\n",
    "#plt.ylim([0.0, .00001])\n",
    "plt.title(\"LOWZ_rands Auto Corr with CMASS_rands as randoms\")\n",
    "\n",
    "plt.savefig(TESTING_PRODUCTS_PATH + \"/LOWZ_rands Auto Corr with CMASS_rands as randoms\")\n",
    "plt.show()"
   ]
  },
  {
   "cell_type": "code",
   "execution_count": 50,
   "metadata": {},
   "outputs": [],
   "source": [
    "NOTES = open(NOTES_PATH, \"a\")\n",
    "NOTES.write(\"Plotted: LOWZ_rands Auto Corr with CMASS_rands as randoms\")\n",
    "NOTES.write(\"\\n \\n\")\n",
    "NOTES.close()"
   ]
  },
  {
   "cell_type": "markdown",
   "metadata": {},
   "source": [
    "## 6. Cross Correlate the eBOSS and PanSTARRS sets\n"
   ]
  },
  {
   "cell_type": "code",
   "execution_count": 51,
   "metadata": {},
   "outputs": [],
   "source": [
    "NOTES = open(NOTES_PATH, \"a\")\n",
    "NOTES.write(\"6. Cross Correlate the eBOSS and PanSTARRS sets\")\n",
    "NOTES.write(\"\\n \\n\")\n",
    "NOTES.close()"
   ]
  },
  {
   "cell_type": "code",
   "execution_count": 52,
   "metadata": {},
   "outputs": [
    {
     "name": "stdout",
     "output_type": "stream",
     "text": [
      "[35.875, -4.25]\n",
      "4\n",
      "[130.592, 44.317]\n",
      "2\n",
      "[150.0, 2.2]\n",
      "2\n",
      "[161.917, 58.083]\n",
      "3\n",
      "[185.0, 47.117]\n",
      "6\n",
      "[213.704, 53.083]\n",
      "3\n",
      "[242.787, 54.95]\n",
      "2\n",
      "[334.188, 0.283]\n",
      "3\n",
      "[352.312, -0.433]\n",
      "7\n"
     ]
    }
   ],
   "source": [
    "# Need to get just 9 pointings from PanSTARRS: \n",
    "\n",
    "maskRA_overlap = []\n",
    "maskDEC_overlap = []\n",
    "randoms_Lengths_overlap = []\n",
    "\n",
    "for pointing in pointings:\n",
    "    if(pointing == \"MD02\"):\n",
    "        continue\n",
    "    else:\n",
    "        maskRAprevious = len(maskRA_overlap)\n",
    "        X0 = pointings[pointing][0]\n",
    "        Y0 = pointings[pointing][1]\n",
    "        rad = 3.3/2\n",
    "        print(pointings[pointing])\n",
    "\n",
    "        for i in range(len(rand_ra_PanSTARRS)):\n",
    "            #print(rand_ra_PanSTARRS[i], rand_dec_PanSTARRS[i])\n",
    "            X = rand_ra_PanSTARRS[i] * 180 / numpy.pi\n",
    "            Y = rand_dec_PanSTARRS[i] * 180 / numpy.pi\n",
    "\n",
    "            if ((X - X0)**2 + (Y - Y0)**2 < rad**2):\n",
    "                maskRA_overlap.append(X)\n",
    "                maskDEC_overlap.append(Y)\n",
    "        print(len(maskRA_overlap) - maskRAprevious)\n",
    "        randoms_Lengths_overlap.append(len(maskRA_overlap) - maskRAprevious)\n",
    "        "
   ]
  },
  {
   "cell_type": "code",
   "execution_count": 53,
   "metadata": {},
   "outputs": [],
   "source": [
    "NOTES = open(NOTES_PATH, \"a\")\n",
    "NOTES.write(\"Populated pointings with randoms. Randoms per pointing: (1, 3-10, 2):\")\n",
    "NOTES.write(str(randoms_Lengths_overlap))\n",
    "NOTES.write(\"\\n \\n\")\n",
    "NOTES.close()"
   ]
  },
  {
   "cell_type": "code",
   "execution_count": 54,
   "metadata": {},
   "outputs": [
    {
     "data": {
      "text/html": [
       "<div>\n",
       "<style scoped>\n",
       "    .dataframe tbody tr th:only-of-type {\n",
       "        vertical-align: middle;\n",
       "    }\n",
       "\n",
       "    .dataframe tbody tr th {\n",
       "        vertical-align: top;\n",
       "    }\n",
       "\n",
       "    .dataframe thead th {\n",
       "        text-align: right;\n",
       "    }\n",
       "</style>\n",
       "<table border=\"1\" class=\"dataframe\">\n",
       "  <thead>\n",
       "    <tr style=\"text-align: right;\">\n",
       "      <th></th>\n",
       "      <th>ID</th>\n",
       "      <th>DEC</th>\n",
       "      <th>RA</th>\n",
       "      <th>zSN</th>\n",
       "      <th>zHost</th>\n",
       "    </tr>\n",
       "  </thead>\n",
       "  <tbody>\n",
       "    <tr>\n",
       "      <th>0</th>\n",
       "      <td>ps0909006</td>\n",
       "      <td>1.184831</td>\n",
       "      <td>333.9500</td>\n",
       "      <td>0.284</td>\n",
       "      <td>-999.0</td>\n",
       "    </tr>\n",
       "    <tr>\n",
       "      <th>1</th>\n",
       "      <td>ps0909010</td>\n",
       "      <td>-4.078911</td>\n",
       "      <td>37.1182</td>\n",
       "      <td>0.270</td>\n",
       "      <td>-999.0</td>\n",
       "    </tr>\n",
       "    <tr>\n",
       "      <th>2</th>\n",
       "      <td>ps0910017</td>\n",
       "      <td>-5.023289</td>\n",
       "      <td>35.2775</td>\n",
       "      <td>0.320</td>\n",
       "      <td>-999.0</td>\n",
       "    </tr>\n",
       "  </tbody>\n",
       "</table>\n",
       "</div>"
      ],
      "text/plain": [
       "          ID       DEC        RA    zSN  zHost\n",
       "0  ps0909006  1.184831  333.9500  0.284 -999.0\n",
       "1  ps0909010 -4.078911   37.1182  0.270 -999.0\n",
       "2  ps0910017 -5.023289   35.2775  0.320 -999.0"
      ]
     },
     "execution_count": 54,
     "metadata": {},
     "output_type": "execute_result"
    }
   ],
   "source": [
    "connPANoverlap = sqlite3.connect(DATA_PATH + 'PanSTARRS.db')\n",
    "qry = \"SELECT ID, DEC, RA, zSN, zHost FROM PanSTARRSNEW WHERE (DEC > -20) AND ((zSN > -999) OR (zHost > -999))\"\n",
    "PanSTARRSNEW_GoodZ_ovelap = pd.read_sql(qry, con=connPANoverlap)\n",
    "PanSTARRSNEW_GoodZ_ovelap.head(3)"
   ]
  },
  {
   "cell_type": "code",
   "execution_count": 55,
   "metadata": {},
   "outputs": [],
   "source": [
    "NOTES = open(NOTES_PATH, \"a\")\n",
    "NOTES.write(\"PanSTARRSNEW_GoodZ_ovelap Database (with 9 pointings) objects: \" + str(len(PanSTARRSNEW_GoodZ_ovelap)))\n",
    "NOTES.write(\"\\n \\n\")\n",
    "NOTES.close()\n",
    "connPANoverlap.close()"
   ]
  },
  {
   "cell_type": "code",
   "execution_count": 56,
   "metadata": {},
   "outputs": [
    {
     "name": "stdout",
     "output_type": "stream",
     "text": [
      "Warning: Some bins for the randoms had no pairs.\n"
     ]
    }
   ],
   "source": [
    "cat_PanSTARRS_overlap = treecorr.Catalog(ra=PanSTARRSNEW_GoodZ_ovelap['RA'], dec=PanSTARRSNEW_GoodZ_ovelap['DEC'], ra_units='degrees', dec_units='degrees')\n",
    "\n",
    "nn_Pan_xCorr_eBOSS = treecorr.NNCorrelation(min_sep=0.01, max_sep=10, bin_size=0.2, sep_units='degrees')\n",
    "nn_Pan_xCorr_eBOSS.process(cat_PanSTARRS_overlap, cat_eBOSS)\n",
    "\n",
    "cat_rand_Pan_Overlap = treecorr.Catalog(ra=maskRA_overlap, dec=maskDEC_overlap, ra_units='degrees', dec_units='degrees')\n",
    "\n",
    "rr_Pan_xCorr_eBOSS = treecorr.NNCorrelation(min_sep=0.01, max_sep=10, bin_size=0.2, sep_units='degrees')\n",
    "rr_Pan_xCorr_eBOSS.process(cat_rand_Pan_Overlap, cat_rand_eBOSS)\n",
    "\n",
    "dr_Pan_xCorr_eBOSS = treecorr.NNCorrelation(min_sep=0.01, max_sep=10, bin_size=0.2, sep_units='degrees')\n",
    "dr_Pan_xCorr_eBOSS.process(cat_PanSTARRS_overlap, cat_rand_eBOSS)\n",
    "\n",
    "rd_Pan_xCorr_eBOSS = treecorr.NNCorrelation(min_sep=0.01, max_sep=10, bin_size=0.2, sep_units='degrees')\n",
    "rd_Pan_xCorr_eBOSS.process(cat_rand_eBOSS, cat_PanSTARRS_overlap)\n",
    "\n",
    "r_Pan_xCorr_eBOSS = numpy.exp(nn_Pan_xCorr_eBOSS.meanlogr)\n",
    "xi_Pan_xCorr_eBOSS, varxi_Pan_xCorr_eBOSS = nn_Pan_xCorr_eBOSS.calculateXi(rr_Pan_xCorr_eBOSS, dr_Pan_xCorr_eBOSS, rd_Pan_xCorr_eBOSS)\n",
    "sig_Pan_xCorr_eBOSS = numpy.sqrt(varxi_Pan_xCorr_eBOSS)"
   ]
  },
  {
   "cell_type": "code",
   "execution_count": 57,
   "metadata": {},
   "outputs": [
    {
     "data": {
      "image/png": "[encoded data removed]",
      "text/plain": [
       "<Figure size 432x288 with 1 Axes>"
      ]
     },
     "metadata": {
      "needs_background": "light"
     },
     "output_type": "display_data"
    }
   ],
   "source": [
    "# Plot the Cross Correlation function:\n",
    "\n",
    "plt.plot(r_Pan_xCorr_eBOSS, xi_Pan_xCorr_eBOSS, color='blue')\n",
    "plt.plot(r_Pan_xCorr_eBOSS, -xi_Pan_xCorr_eBOSS, color='blue', ls=':')\n",
    "plt.errorbar(r_Pan_xCorr_eBOSS[xi_Pan_xCorr_eBOSS>0], xi_Pan_xCorr_eBOSS[xi_Pan_xCorr_eBOSS>0], yerr=sig_Pan_xCorr_eBOSS[xi_Pan_xCorr_eBOSS>0], color='green', lw=0.5, ls='')\n",
    "plt.errorbar(r_Pan_xCorr_eBOSS[xi_Pan_xCorr_eBOSS<0], -xi_Pan_xCorr_eBOSS[xi_Pan_xCorr_eBOSS<0], yerr=sig_Pan_xCorr_eBOSS[xi_Pan_xCorr_eBOSS<0], color='green', lw=0.5, ls='')\n",
    "leg = plt.errorbar(-r_Pan_xCorr_eBOSS, xi_Pan_xCorr_eBOSS, yerr=sig_Pan_xCorr_eBOSS, color='blue')\n",
    "plt.xscale('log')\n",
    "plt.yscale('log', nonposy='clip')\n",
    "plt.xlabel(r'$\\theta$ (degrees)')\n",
    "plt.legend([leg], [r'$w(\\theta)$'], loc='lower left')\n",
    "#plt.xlim([0.01,10])\n",
    "#plt.ylim([0.0, .00001])\n",
    "plt.title(\"PanSTARRS cross Correlation with eBOSS\")\n",
    "\n",
    "plt.savefig(TESTING_PRODUCTS_PATH + \"/PanSTARRS cross Correlation with eBOSS\")\n",
    "plt.show()\n"
   ]
  },
  {
   "cell_type": "code",
   "execution_count": 58,
   "metadata": {},
   "outputs": [],
   "source": [
    "NOTES = open(NOTES_PATH, \"a\")\n",
    "NOTES.write(\"Plotted: PanSTARRS cross Correlation with eBOSS\")\n",
    "NOTES.write(\"\\n \\n\")\n",
    "NOTES.close()"
   ]
  },
  {
   "cell_type": "markdown",
   "metadata": {},
   "source": [
    "### 5.3 Auto Correlate CMASS randoms and CMASS randoms:"
   ]
  },
  {
   "cell_type": "code",
   "execution_count": 59,
   "metadata": {},
   "outputs": [],
   "source": [
    "NOTES = open(NOTES_PATH, \"a\")\n",
    "NOTES.write(\"5.3 Auto Correlate CMASS randoms and CMASS randoms:\")\n",
    "NOTES.write(\"\\n \\n\")\n",
    "NOTES.close()"
   ]
  },
  {
   "cell_type": "code",
   "execution_count": 60,
   "metadata": {},
   "outputs": [
    {
     "data": {
      "text/html": [
       "<div>\n",
       "<style scoped>\n",
       "    .dataframe tbody tr th:only-of-type {\n",
       "        vertical-align: middle;\n",
       "    }\n",
       "\n",
       "    .dataframe tbody tr th {\n",
       "        vertical-align: top;\n",
       "    }\n",
       "\n",
       "    .dataframe thead th {\n",
       "        text-align: right;\n",
       "    }\n",
       "</style>\n",
       "<table border=\"1\" class=\"dataframe\">\n",
       "  <thead>\n",
       "    <tr style=\"text-align: right;\">\n",
       "      <th></th>\n",
       "      <th>index</th>\n",
       "      <th>RA</th>\n",
       "      <th>DEC</th>\n",
       "      <th>Z</th>\n",
       "      <th>NZ</th>\n",
       "    </tr>\n",
       "  </thead>\n",
       "  <tbody>\n",
       "    <tr>\n",
       "      <th>0</th>\n",
       "      <td>7667</td>\n",
       "      <td>353.781308</td>\n",
       "      <td>30.292585</td>\n",
       "      <td>0.500650</td>\n",
       "      <td>0.000404</td>\n",
       "    </tr>\n",
       "    <tr>\n",
       "      <th>1</th>\n",
       "      <td>23303</td>\n",
       "      <td>127.045765</td>\n",
       "      <td>41.773919</td>\n",
       "      <td>0.622850</td>\n",
       "      <td>0.000163</td>\n",
       "    </tr>\n",
       "    <tr>\n",
       "      <th>2</th>\n",
       "      <td>24180</td>\n",
       "      <td>21.793199</td>\n",
       "      <td>6.176885</td>\n",
       "      <td>0.593601</td>\n",
       "      <td>0.000251</td>\n",
       "    </tr>\n",
       "  </tbody>\n",
       "</table>\n",
       "</div>"
      ],
      "text/plain": [
       "   index          RA        DEC         Z        NZ\n",
       "0   7667  353.781308  30.292585  0.500650  0.000404\n",
       "1  23303  127.045765  41.773919  0.622850  0.000163\n",
       "2  24180   21.793199   6.176885  0.593601  0.000251"
      ]
     },
     "execution_count": 60,
     "metadata": {},
     "output_type": "execute_result"
    }
   ],
   "source": [
    "connCMASSRands = sqlite3.connect(DATA_PATH + 'CMASS_rands.db')\n",
    "randSampleQry = \"SELECT * FROM CMASS_South_rands WHERE `index` IN (SELECT `index` FROM CMASS_South_rands ORDER BY RANDOM() LIMIT 500) UNION SELECT * FROM CMASS_North_rands WHERE `index` IN (SELECT `index` FROM CMASS_North_rands ORDER BY RANDOM() LIMIT 500)\"\n",
    "CMASS_DF_rands_Sample1 = pd.read_sql(randSampleQry, con=connCMASSRands)\n",
    "CMASS_DF_rands_Sample1.to_json(DATA_PATH + \"CMASS_DF_rands\")\n",
    "CMASS_DF_rands_Sample1.head(3)"
   ]
  },
  {
   "cell_type": "code",
   "execution_count": 61,
   "metadata": {},
   "outputs": [],
   "source": [
    "NOTES = open(NOTES_PATH, \"a\")\n",
    "NOTES.write(\"CMASS_DF_rands_Sample1 Database objects: \" + str(len(CMASS_DF_rands_Sample1)))\n",
    "NOTES.write(\"\\n \\n\")\n",
    "NOTES.close()\n",
    "connCMASSRands.close()"
   ]
  },
  {
   "cell_type": "code",
   "execution_count": 62,
   "metadata": {},
   "outputs": [
    {
     "data": {
      "text/html": [
       "<div>\n",
       "<style scoped>\n",
       "    .dataframe tbody tr th:only-of-type {\n",
       "        vertical-align: middle;\n",
       "    }\n",
       "\n",
       "    .dataframe tbody tr th {\n",
       "        vertical-align: top;\n",
       "    }\n",
       "\n",
       "    .dataframe thead th {\n",
       "        text-align: right;\n",
       "    }\n",
       "</style>\n",
       "<table border=\"1\" class=\"dataframe\">\n",
       "  <thead>\n",
       "    <tr style=\"text-align: right;\">\n",
       "      <th></th>\n",
       "      <th>index</th>\n",
       "      <th>RA</th>\n",
       "      <th>DEC</th>\n",
       "      <th>Z</th>\n",
       "      <th>NZ</th>\n",
       "    </tr>\n",
       "  </thead>\n",
       "  <tbody>\n",
       "    <tr>\n",
       "      <th>0</th>\n",
       "      <td>15057</td>\n",
       "      <td>347.235315</td>\n",
       "      <td>-0.037726</td>\n",
       "      <td>0.591337</td>\n",
       "      <td>0.000253</td>\n",
       "    </tr>\n",
       "    <tr>\n",
       "      <th>1</th>\n",
       "      <td>51041</td>\n",
       "      <td>346.077183</td>\n",
       "      <td>5.030838</td>\n",
       "      <td>0.455711</td>\n",
       "      <td>0.000294</td>\n",
       "    </tr>\n",
       "    <tr>\n",
       "      <th>2</th>\n",
       "      <td>52102</td>\n",
       "      <td>205.573327</td>\n",
       "      <td>17.101305</td>\n",
       "      <td>0.646042</td>\n",
       "      <td>0.000117</td>\n",
       "    </tr>\n",
       "  </tbody>\n",
       "</table>\n",
       "</div>"
      ],
      "text/plain": [
       "   index          RA        DEC         Z        NZ\n",
       "0  15057  347.235315  -0.037726  0.591337  0.000253\n",
       "1  51041  346.077183   5.030838  0.455711  0.000294\n",
       "2  52102  205.573327  17.101305  0.646042  0.000117"
      ]
     },
     "execution_count": 62,
     "metadata": {},
     "output_type": "execute_result"
    }
   ],
   "source": [
    "connCMASSRands = sqlite3.connect(DATA_PATH + 'CMASS_rands.db')\n",
    "randSampleQry = \"SELECT * FROM CMASS_South_rands WHERE `index` IN (SELECT `index` FROM CMASS_South_rands ORDER BY RANDOM() LIMIT 500) UNION SELECT * FROM CMASS_North_rands WHERE `index` IN (SELECT `index` FROM CMASS_North_rands ORDER BY RANDOM() LIMIT 500)\"\n",
    "CMASS_DF_rands_Sample2 = pd.read_sql(randSampleQry, con=connCMASSRands)\n",
    "CMASS_DF_rands.to_json(DATA_PATH + \"CMASS_DF_rands_Sample2\")\n",
    "CMASS_DF_rands_Sample2.head(3)"
   ]
  },
  {
   "cell_type": "code",
   "execution_count": 64,
   "metadata": {},
   "outputs": [],
   "source": [
    "NOTES = open(NOTES_PATH, \"a\")\n",
    "NOTES.write(\"CMASS_DF_rands_Sample2 Database objects: \" + str(len(CMASS_DF_rands_Sample2)))\n",
    "NOTES.write(\"\\n \\n\")\n",
    "NOTES.close()\n",
    "connCMASSRands.close()"
   ]
  },
  {
   "cell_type": "code",
   "execution_count": 65,
   "metadata": {},
   "outputs": [
    {
     "name": "stdout",
     "output_type": "stream",
     "text": [
      "Warning: Some bins for the randoms had no pairs.\n"
     ]
    }
   ],
   "source": [
    "cat_CMASS_rands_sample1 = treecorr.Catalog(ra=CMASS_DF_rands_Sample1['RA'], dec=CMASS_DF_rands_Sample1['DEC'], ra_units='degrees', dec_units='degrees')\n",
    "cat_CMASS_rands_sample1\n",
    "\n",
    "nn_CMASS_Auto_CMASSRands = treecorr.NNCorrelation(min_sep=0.01, max_sep=10, bin_size=0.2, sep_units='degrees')\n",
    "nn_CMASS_Auto_CMASSRands.process(cat_CMASS_rands_sample1)\n",
    "\n",
    "cat_CMASS_rands_sample2 = treecorr.Catalog(ra=CMASS_DF_rands_Sample2['RA'], dec=CMASS_DF_rands_Sample2['DEC'], ra_units='degrees', dec_units='degrees')\n",
    "rr_CMASS_Auto_CMASSRands = treecorr.NNCorrelation(min_sep=0.01, max_sep=10, bin_size=0.2, sep_units='degrees')\n",
    "rr_CMASS_Auto_CMASSRands.process(cat_CMASS_rands_sample2)\n",
    "\n",
    "dr_CMASS_Auto_CMASSRands = treecorr.NNCorrelation(min_sep=0.01, max_sep=10, bin_size=0.2, sep_units='degrees')\n",
    "dr_CMASS_Auto_CMASSRands.process(cat_CMASS_rands_sample1, cat_CMASS_rands_sample2)\n",
    "\n",
    "r_CMASS_Auto_CMASSRands = numpy.exp(nn_CMASS_Auto_CMASSRands.meanlogr)\n",
    "xi_CMASS_Auto_CMASSRands, varxi_CMASS_Auto_CMASSRands = nn_CMASS_Auto_CMASSRands.calculateXi(rr_CMASS_Auto_CMASSRands, dr_CMASS_Auto_CMASSRands)\n",
    "sig_CMASS_Auto_CMASSRands = numpy.sqrt(varxi_CMASS_Auto_CMASSRands)"
   ]
  },
  {
   "cell_type": "code",
   "execution_count": 66,
   "metadata": {},
   "outputs": [
    {
     "data": {
      "image/png": "[encoded data removed]",
      "text/plain": [
       "<Figure size 720x720 with 1 Axes>"
      ]
     },
     "metadata": {
      "needs_background": "light"
     },
     "output_type": "display_data"
    }
   ],
   "source": [
    "# Check that the randoms cover the same space as the data\n",
    "\n",
    "f4, (ax1d) = plt.subplots(1, 1, figsize=(10, 10))\n",
    "ax1d.scatter(cat_CMASS_rands_sample1.ra * 180/numpy.pi, cat_CMASS_rands_sample1.dec * 180/numpy.pi, color='blue', s=0.1)\n",
    "ax1d.scatter(cat_CMASS_rands_sample2.ra * 180/numpy.pi, cat_CMASS_rands_sample2.dec * 180/numpy.pi, color='green', s=0.1)\n",
    "ax1d.set_xlabel('RA (degrees)')\n",
    "ax1d.set_ylabel('Dec (degrees)')\n",
    "ax1d.set_title('CMASS Randoms')\n",
    "ax1d.set_xlim(128, 133)\n",
    "ax1d.set_ylim(42, 47)\n",
    "plt.title(\"CMASS and CMASS randoms\")\n",
    "\n",
    "plt.savefig(TESTING_PRODUCTS_PATH + \"/CMASS and CMASS randoms\")\n",
    "plt.show()\n"
   ]
  },
  {
   "cell_type": "code",
   "execution_count": 67,
   "metadata": {},
   "outputs": [],
   "source": [
    "plt.close()\n",
    "NOTES = open(NOTES_PATH, \"a\")\n",
    "NOTES.write(\"Plotted: CMASS and CMASS randoms\")\n",
    "NOTES.write(\"\\n \\n\")\n",
    "NOTES.close()"
   ]
  },
  {
   "cell_type": "code",
   "execution_count": 68,
   "metadata": {},
   "outputs": [
    {
     "data": {
      "image/png": "[encoded data removed]",
      "text/plain": [
       "<Figure size 432x288 with 1 Axes>"
      ]
     },
     "metadata": {
      "needs_background": "light"
     },
     "output_type": "display_data"
    }
   ],
   "source": [
    "# Plot the autocorrelation function:\n",
    "\n",
    "plt.plot(r_CMASS_Auto_CMASSRands, xi_CMASS_Auto_CMASSRands, color='blue')\n",
    "plt.plot(r_CMASS_Auto_CMASSRands, -xi_CMASS_Auto_CMASSRands, color='blue', ls=':')\n",
    "plt.errorbar(r_CMASS_Auto_CMASSRands[xi_CMASS_Auto_CMASSRands>0], xi_CMASS_Auto_CMASSRands[xi_CMASS_Auto_CMASSRands>0], yerr=sig_CMASS_Auto_CMASSRands[xi_CMASS_Auto_CMASSRands>0], color='green', lw=0.5, ls='')\n",
    "plt.errorbar(r_CMASS_Auto_CMASSRands[xi_CMASS_Auto_CMASSRands<0], -xi_CMASS_Auto_CMASSRands[xi_CMASS_Auto_CMASSRands<0], yerr=sig_CMASS_Auto_CMASSRands[xi_CMASS_Auto_CMASSRands<0], color='green', lw=0.5, ls='')\n",
    "leg = plt.errorbar(-r_CMASS_Auto_CMASSRands, xi_CMASS_Auto_CMASSRands, yerr=sig_CMASS_Auto_CMASSRands, color='blue')\n",
    "plt.xscale('log')\n",
    "#plt.yscale('log', nonposy='clip')\n",
    "plt.xlabel(r'$\\theta$ (degrees)')\n",
    "plt.legend([leg], [r'$w(\\theta)$'], loc='lower left')\n",
    "#plt.xlim([0.01,10])\n",
    "#plt.ylim([0.0, .00001])\n",
    "plt.title(\"CMASS_rands Auto Corr with CMASS_rands as randoms\")\n",
    "\n",
    "plt.savefig(TESTING_PRODUCTS_PATH + \"/CMASS_rands Auto Corr with CMASS_rands as randoms\")\n",
    "plt.show()\n"
   ]
  },
  {
   "cell_type": "code",
   "execution_count": 70,
   "metadata": {},
   "outputs": [],
   "source": [
    "NOTES = open(NOTES_PATH, \"a\")\n",
    "NOTES.write(\"Plotted: CMASS_rands Auto Corr with CMASS_rands as randoms\")\n",
    "NOTES.write(\"\\n \\n\")\n",
    "NOTES.close()"
   ]
  },
  {
   "cell_type": "markdown",
   "metadata": {},
   "source": [
    "### 5.4 Auto Correlate LOWZ randoms and LOWZ randoms:"
   ]
  },
  {
   "cell_type": "code",
   "execution_count": 71,
   "metadata": {},
   "outputs": [],
   "source": [
    "NOTES = open(NOTES_PATH, \"a\")\n",
    "NOTES.write(\"5.3 Auto Correlate LOWZ randoms and LOWZ randoms:\")\n",
    "NOTES.write(\"\\n \\n\")\n",
    "NOTES.close()"
   ]
  },
  {
   "cell_type": "code",
   "execution_count": 72,
   "metadata": {},
   "outputs": [
    {
     "data": {
      "text/html": [
       "<div>\n",
       "<style scoped>\n",
       "    .dataframe tbody tr th:only-of-type {\n",
       "        vertical-align: middle;\n",
       "    }\n",
       "\n",
       "    .dataframe tbody tr th {\n",
       "        vertical-align: top;\n",
       "    }\n",
       "\n",
       "    .dataframe thead th {\n",
       "        text-align: right;\n",
       "    }\n",
       "</style>\n",
       "<table border=\"1\" class=\"dataframe\">\n",
       "  <thead>\n",
       "    <tr style=\"text-align: right;\">\n",
       "      <th></th>\n",
       "      <th>index</th>\n",
       "      <th>RA</th>\n",
       "      <th>DEC</th>\n",
       "      <th>Z</th>\n",
       "      <th>NZ</th>\n",
       "    </tr>\n",
       "  </thead>\n",
       "  <tbody>\n",
       "    <tr>\n",
       "      <th>0</th>\n",
       "      <td>2884</td>\n",
       "      <td>337.121970</td>\n",
       "      <td>24.430151</td>\n",
       "      <td>0.244201</td>\n",
       "      <td>0.000365</td>\n",
       "    </tr>\n",
       "    <tr>\n",
       "      <th>1</th>\n",
       "      <td>5650</td>\n",
       "      <td>334.322944</td>\n",
       "      <td>29.214530</td>\n",
       "      <td>0.449755</td>\n",
       "      <td>0.000088</td>\n",
       "    </tr>\n",
       "    <tr>\n",
       "      <th>2</th>\n",
       "      <td>8909</td>\n",
       "      <td>323.649876</td>\n",
       "      <td>7.422886</td>\n",
       "      <td>0.188394</td>\n",
       "      <td>0.000555</td>\n",
       "    </tr>\n",
       "  </tbody>\n",
       "</table>\n",
       "</div>"
      ],
      "text/plain": [
       "   index          RA        DEC         Z        NZ\n",
       "0   2884  337.121970  24.430151  0.244201  0.000365\n",
       "1   5650  334.322944  29.214530  0.449755  0.000088\n",
       "2   8909  323.649876   7.422886  0.188394  0.000555"
      ]
     },
     "execution_count": 72,
     "metadata": {},
     "output_type": "execute_result"
    }
   ],
   "source": [
    "connLOWZRands = sqlite3.connect(DATA_PATH + 'LOWZ_rands.db')\n",
    "randSampleQry = \"SELECT * FROM LOWZ_South_rands WHERE `index` IN (SELECT `index` FROM LOWZ_South_rands ORDER BY RANDOM() LIMIT 500) UNION SELECT * FROM LOWZ_North_rands WHERE `index` IN (SELECT `index` FROM LOWZ_North_rands ORDER BY RANDOM() LIMIT 500)\"\n",
    "LOWZ_DF_rands_Sample1 = pd.read_sql(randSampleQry, con=connLOWZRands)\n",
    "LOWZ_DF_rands_Sample1.to_json(DATA_PATH + \"LOWZ_DF_rands\")\n",
    "LOWZ_DF_rands_Sample1.head(3)"
   ]
  },
  {
   "cell_type": "code",
   "execution_count": 73,
   "metadata": {},
   "outputs": [],
   "source": [
    "NOTES = open(NOTES_PATH, \"a\")\n",
    "NOTES.write(\"LOWZ_DF_rands_Sample1 Database objects: \" + str(len(LOWZ_DF_rands_Sample1)))\n",
    "NOTES.write(\"\\n \\n\")\n",
    "NOTES.close()\n",
    "connCMASSRands.close()"
   ]
  },
  {
   "cell_type": "code",
   "execution_count": 74,
   "metadata": {},
   "outputs": [
    {
     "data": {
      "text/html": [
       "<div>\n",
       "<style scoped>\n",
       "    .dataframe tbody tr th:only-of-type {\n",
       "        vertical-align: middle;\n",
       "    }\n",
       "\n",
       "    .dataframe tbody tr th {\n",
       "        vertical-align: top;\n",
       "    }\n",
       "\n",
       "    .dataframe thead th {\n",
       "        text-align: right;\n",
       "    }\n",
       "</style>\n",
       "<table border=\"1\" class=\"dataframe\">\n",
       "  <thead>\n",
       "    <tr style=\"text-align: right;\">\n",
       "      <th></th>\n",
       "      <th>index</th>\n",
       "      <th>RA</th>\n",
       "      <th>DEC</th>\n",
       "      <th>Z</th>\n",
       "      <th>NZ</th>\n",
       "    </tr>\n",
       "  </thead>\n",
       "  <tbody>\n",
       "    <tr>\n",
       "      <th>0</th>\n",
       "      <td>2025</td>\n",
       "      <td>337.378678</td>\n",
       "      <td>3.354430</td>\n",
       "      <td>0.443831</td>\n",
       "      <td>0.000102</td>\n",
       "    </tr>\n",
       "    <tr>\n",
       "      <th>1</th>\n",
       "      <td>2528</td>\n",
       "      <td>170.647960</td>\n",
       "      <td>34.682031</td>\n",
       "      <td>0.127986</td>\n",
       "      <td>0.000758</td>\n",
       "    </tr>\n",
       "    <tr>\n",
       "      <th>2</th>\n",
       "      <td>21275</td>\n",
       "      <td>20.289347</td>\n",
       "      <td>10.388098</td>\n",
       "      <td>0.292691</td>\n",
       "      <td>0.000349</td>\n",
       "    </tr>\n",
       "  </tbody>\n",
       "</table>\n",
       "</div>"
      ],
      "text/plain": [
       "   index          RA        DEC         Z        NZ\n",
       "0   2025  337.378678   3.354430  0.443831  0.000102\n",
       "1   2528  170.647960  34.682031  0.127986  0.000758\n",
       "2  21275   20.289347  10.388098  0.292691  0.000349"
      ]
     },
     "execution_count": 74,
     "metadata": {},
     "output_type": "execute_result"
    }
   ],
   "source": [
    "connLOWZRands = sqlite3.connect(DATA_PATH + 'LOWZ_rands.db')\n",
    "randSampleQry = \"SELECT * FROM LOWZ_South_rands WHERE `index` IN (SELECT `index` FROM LOWZ_South_rands ORDER BY RANDOM() LIMIT 500) UNION SELECT * FROM LOWZ_North_rands WHERE `index` IN (SELECT `index` FROM LOWZ_North_rands ORDER BY RANDOM() LIMIT 500)\"\n",
    "LOWZ_DF_rands_Sample2 = pd.read_sql(randSampleQry, con=connLOWZRands)\n",
    "LOWZ_DF_rands.to_json(DATA_PATH + \"LOWZ_DF_rands_Sample2\")\n",
    "LOWZ_DF_rands_Sample2.head(3)"
   ]
  },
  {
   "cell_type": "code",
   "execution_count": 75,
   "metadata": {},
   "outputs": [],
   "source": [
    "NOTES = open(NOTES_PATH, \"a\")\n",
    "NOTES.write(\"LOWZ_DF_rands_Sample2 Database objects: \" + str(len(LOWZ_DF_rands_Sample2)))\n",
    "NOTES.write(\"\\n \\n\")\n",
    "NOTES.close()\n",
    "connCMASSRands.close()"
   ]
  },
  {
   "cell_type": "code",
   "execution_count": 76,
   "metadata": {},
   "outputs": [
    {
     "name": "stdout",
     "output_type": "stream",
     "text": [
      "Warning: Some bins for the randoms had no pairs.\n"
     ]
    }
   ],
   "source": [
    "cat_LOWZ_rands_sample1 = treecorr.Catalog(ra=LOWZ_DF_rands_Sample1['RA'], dec=LOWZ_DF_rands_Sample1['DEC'], ra_units='degrees', dec_units='degrees')\n",
    "cat_LOWZ_rands_sample1\n",
    "\n",
    "nn_LOWZ_Auto_LOWZRands = treecorr.NNCorrelation(min_sep=0.01, max_sep=10, bin_size=0.2, sep_units='degrees')\n",
    "nn_LOWZ_Auto_LOWZRands.process(cat_LOWZ_rands_sample1)\n",
    "\n",
    "cat_LOWZ_rands_sample2 = treecorr.Catalog(ra=CMASS_DF_rands_Sample2['RA'], dec=CMASS_DF_rands_Sample2['DEC'], ra_units='degrees', dec_units='degrees')\n",
    "rr_LOWZ_Auto_LOWZRands = treecorr.NNCorrelation(min_sep=0.01, max_sep=10, bin_size=0.2, sep_units='degrees')\n",
    "rr_LOWZ_Auto_LOWZRands.process(cat_LOWZ_rands_sample2)\n",
    "\n",
    "dr_LOWZ_Auto_LOWZRands = treecorr.NNCorrelation(min_sep=0.01, max_sep=10, bin_size=0.2, sep_units='degrees')\n",
    "dr_LOWZ_Auto_LOWZRands.process(cat_LOWZ_rands_sample1, cat_LOWZ_rands_sample2)\n",
    "\n",
    "r_LOWZ_Auto_LOWZRands = numpy.exp(nn_LOWZ_Auto_LOWZRands.meanlogr)\n",
    "xi_LOWZ_Auto_LOWZRands, varxi_LOWZ_Auto_LOWZRands = nn_LOWZ_Auto_LOWZRands.calculateXi(rr_LOWZ_Auto_LOWZRands, dr_LOWZ_Auto_LOWZRands)\n",
    "sig_LOWZ_Auto_LOWZRands = numpy.sqrt(varxi_LOWZ_Auto_LOWZRands)"
   ]
  },
  {
   "cell_type": "code",
   "execution_count": 77,
   "metadata": {},
   "outputs": [
    {
     "data": {
      "image/png": "[encoded data removed]",
      "text/plain": [
       "<Figure size 720x720 with 1 Axes>"
      ]
     },
     "metadata": {
      "needs_background": "light"
     },
     "output_type": "display_data"
    }
   ],
   "source": [
    "# Check that the randoms cover the same space as the data\n",
    "\n",
    "f4, (ax1d) = plt.subplots(1, 1, figsize=(10, 10))\n",
    "ax1d.scatter(cat_LOWZ_rands_sample1.ra * 180/numpy.pi, cat_LOWZ_rands_sample1.dec * 180/numpy.pi, color='blue', s=0.1)\n",
    "ax1d.scatter(cat_LOWZ_rands_sample2.ra * 180/numpy.pi, cat_LOWZ_rands_sample2.dec * 180/numpy.pi, color='green', s=0.1)\n",
    "ax1d.set_xlabel('RA (degrees)')\n",
    "ax1d.set_ylabel('Dec (degrees)')\n",
    "ax1d.set_title('CMASS Randoms')\n",
    "ax1d.set_xlim(128, 133)\n",
    "ax1d.set_ylim(42, 47)\n",
    "plt.title(\"LOWZ and LOWZ randoms\")\n",
    "\n",
    "plt.savefig(TESTING_PRODUCTS_PATH + \"/LOWZ and LOWZ randoms\")\n",
    "plt.show()"
   ]
  },
  {
   "cell_type": "code",
   "execution_count": 78,
   "metadata": {},
   "outputs": [],
   "source": [
    "NOTES = open(NOTES_PATH, \"a\")\n",
    "NOTES.write(\"Plotted: LOWZ and LOWZ randoms\")\n",
    "NOTES.write(\"\\n \\n\")\n",
    "NOTES.close()"
   ]
  },
  {
   "cell_type": "code",
   "execution_count": 79,
   "metadata": {},
   "outputs": [
    {
     "data": {
      "image/png": "[encoded data removed]",
      "text/plain": [
       "<Figure size 432x288 with 1 Axes>"
      ]
     },
     "metadata": {
      "needs_background": "light"
     },
     "output_type": "display_data"
    }
   ],
   "source": [
    "# Plot the autocorrelation function:\n",
    "\n",
    "plt.plot(r_LOWZ_Auto_LOWZRands, xi_LOWZ_Auto_LOWZRands, color='blue')\n",
    "plt.plot(r_LOWZ_Auto_LOWZRands, -xi_LOWZ_Auto_LOWZRands, color='blue', ls=':')\n",
    "plt.errorbar(r_LOWZ_Auto_LOWZRands[xi_LOWZ_Auto_LOWZRands>0], xi_LOWZ_Auto_LOWZRands[xi_LOWZ_Auto_LOWZRands>0], yerr=sig_LOWZ_Auto_LOWZRands[xi_LOWZ_Auto_LOWZRands>0], color='green', lw=0.5, ls='')\n",
    "plt.errorbar(r_LOWZ_Auto_LOWZRands[xi_LOWZ_Auto_LOWZRands<0], -xi_LOWZ_Auto_LOWZRands[xi_LOWZ_Auto_LOWZRands<0], yerr=sig_LOWZ_Auto_LOWZRands[xi_LOWZ_Auto_LOWZRands<0], color='green', lw=0.5, ls='')\n",
    "leg = plt.errorbar(-r_LOWZ_Auto_LOWZRands, xi_LOWZ_Auto_LOWZRands, yerr=sig_LOWZ_Auto_LOWZRands, color='blue')\n",
    "plt.xscale('log')\n",
    "#plt.yscale('log', nonposy='clip')\n",
    "plt.xlabel(r'$\\theta$ (degrees)')\n",
    "plt.legend([leg], [r'$w(\\theta)$'], loc='lower left')\n",
    "#plt.xlim([0.01,10])\n",
    "#plt.ylim([0.0, .00001])\n",
    "plt.title(\"LOWZ_rands Auto Corr with LOWZ_rands as randoms\")\n",
    "\n",
    "plt.savefig(TESTING_PRODUCTS_PATH + \"/LOWZ_rands Auto Corr with LOWZ_rands as randoms\")\n",
    "plt.show()"
   ]
  },
  {
   "cell_type": "code",
   "execution_count": 80,
   "metadata": {},
   "outputs": [],
   "source": [
    "NOTES = open(NOTES_PATH, \"a\")\n",
    "NOTES.write(\"Plotted: LOWZ_rands Auto Corr with LOWZ_rands as randoms\")\n",
    "NOTES.write(\"\\n \\n\")\n",
    "NOTES.close()"
   ]
  },
  {
   "cell_type": "code",
   "execution_count": 81,
   "metadata": {},
   "outputs": [],
   "source": [
    "NOTES = open(NOTES_PATH, \"a\")\n",
    "NOTES.write(\"Program is done.\")\n",
    "NOTES.write(\"\\n \\n\")\n",
    "NOTES.close()"
   ]
  },
  {
   "cell_type": "code",
   "execution_count": null,
   "metadata": {},
   "outputs": [],
   "source": []
  }
 ],
 "metadata": {
  "kernelspec": {
   "display_name": "ccl",
   "language": "python",
   "name": "ccl"
  },
  "language_info": {
   "codemirror_mode": {
    "name": "ipython",
    "version": 3
   },
   "file_extension": ".py",
   "mimetype": "text/x-python",
   "name": "python",
   "nbconvert_exporter": "python",
   "pygments_lexer": "ipython3",
   "version": "3.7.6"
  }
 },
 "nbformat": 4,
 "nbformat_minor": 2
}
