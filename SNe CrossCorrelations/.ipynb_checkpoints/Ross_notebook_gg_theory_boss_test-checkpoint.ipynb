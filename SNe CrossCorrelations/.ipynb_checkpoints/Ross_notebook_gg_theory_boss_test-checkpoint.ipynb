{
 "cells": [
  {
   "cell_type": "code",
   "execution_count": 1,
   "metadata": {},
   "outputs": [
    {
     "data": {
      "text/html": [
       "<style>.container { width:100% !important; }</style>"
      ],
      "text/plain": [
       "<IPython.core.display.HTML object>"
      ]
     },
     "metadata": {},
     "output_type": "display_data"
    }
   ],
   "source": [
    "# Make Jupyter Notebook full screen \n",
    "from IPython.core.display import display, HTML\n",
    "display(HTML(\"<style>.container { width:100% !important; }</style>\"))\n",
    "from IPython.display import Image"
   ]
  },
  {
   "cell_type": "code",
   "execution_count": 8,
   "metadata": {},
   "outputs": [],
   "source": [
    "import numpy as np\n",
    "import scipy as sp\n",
    "from scipy import integrate\n",
    "from scipy import interpolate\n",
    "from scipy.interpolate import interp1d, UnivariateSpline,splrep\n",
    "from scipy.integrate import quad, dblquad\n",
    "from scipy.special import j0\n",
    "from scipy.misc import derivative\n",
    "import matplotlib.pyplot as plt\n",
    "from matplotlib.pyplot import *\n",
    "import datetime\n",
    "from astropy.table import Table\n",
    "#import fitsio"
   ]
  },
  {
   "cell_type": "markdown",
   "metadata": {},
   "source": [
    "### >>> This cell is different, I use H0 = 67, Ross uses 100"
   ]
  },
  {
   "cell_type": "code",
   "execution_count": 3,
   "metadata": {},
   "outputs": [
    {
     "data": {
      "text/plain": [
       "300.5228776649126"
      ]
     },
     "execution_count": 3,
     "metadata": {},
     "output_type": "execute_result"
    }
   ],
   "source": [
    "def H(a):\n",
    "    H0=100\n",
    "    om=0.3089\n",
    "    ol=1.-om\n",
    "    result=H0*((om/(1.*a**3))+ol)**0.5\n",
    "    return result\n",
    "\n",
    "a = 1.0 / (1.0 + 2.0)\n",
    "H(a)"
   ]
  },
  {
   "cell_type": "code",
   "execution_count": 4,
   "metadata": {},
   "outputs": [
    {
     "data": {
      "text/plain": [
       "3601.096289906997"
      ]
     },
     "execution_count": 4,
     "metadata": {},
     "output_type": "execute_result"
    }
   ],
   "source": [
    "def chi(z):\n",
    "    athen=1/(1+z)\n",
    "    c=3.*10**5\n",
    "    chiint=integrate.quad(lambda a: 1/((a**2)*H(a)), athen, 1)\n",
    "    result=c*chiint[0]\n",
    "    return result\n",
    "\n",
    "chi(2.0)"
   ]
  },
  {
   "cell_type": "markdown",
   "metadata": {},
   "source": [
    "### >>> Agree with Ross again with little h definition"
   ]
  },
  {
   "cell_type": "code",
   "execution_count": 5,
   "metadata": {},
   "outputs": [
    {
     "name": "stdout",
     "output_type": "stream",
     "text": [
      "0.03359654087434861\n",
      "0.36557790249865\n",
      "0.4991677132128007\n",
      "0.800533726130937\n",
      "1.3746073586234788\n"
     ]
    }
   ],
   "source": [
    "zs201=np.arange(201)*0.01\n",
    "chiarray=np.zeros(201)\n",
    "for i in range(0,201):\n",
    "    chiarray[i]=chi(zs201[i])\n",
    "\n",
    "zchiinterp=sp.interpolate.InterpolatedUnivariateSpline(chiarray,zs201,k=5)\n",
    "\n",
    "h=0.6774\n",
    "def zchi(chi):\n",
    "    result=zchiinterp(chi)\n",
    "    return result\n",
    "\n",
    "#check with ned wright site\n",
    "print(zchi(100))\n",
    "print(zchi(1000))\n",
    "print(zchi(1317))  #my chis are true chi*h....so this is 1945 real mpc\n",
    "print(zchi(1945))  #this is 2871 real mpc\n",
    "print(zchi(2871))"
   ]
  },
  {
   "cell_type": "code",
   "execution_count": 6,
   "metadata": {},
   "outputs": [
    {
     "data": {
      "image/png": "[encoded data removed]",
      "text/plain": [
       "<Figure size 432x288 with 1 Axes>"
      ]
     },
     "metadata": {
      "needs_background": "light"
     },
     "output_type": "display_data"
    }
   ],
   "source": [
    "derivarray=np.zeros(201)\n",
    "for j in range(0,201):\n",
    "    derivarray[j]=derivative(zchi,chiarray[j])\n",
    "\n",
    "#print (chiarray)\n",
    "#print (derivarray)\n",
    "plt.plot(chiarray[1:200]/h,derivarray[1:200]*h)\n",
    "plt.xlabel('chi')\n",
    "plt.ylabel('deriv z(chi)')\n",
    "plt.show()"
   ]
  },
  {
   "cell_type": "markdown",
   "metadata": {},
   "source": [
    "### We agree up to this point. "
   ]
  },
  {
   "cell_type": "code",
   "execution_count": 12,
   "metadata": {},
   "outputs": [
    {
     "data": {
      "image/png": "[encoded data removed]",
      "text/plain": [
       "<Figure size 432x288 with 1 Axes>"
      ]
     },
     "metadata": {
      "needs_background": "light"
     },
     "output_type": "display_data"
    }
   ],
   "source": [
    "CMASSLOWZTOT_South_Tbl = Table.read('/Users/megantabbutt/CosmologyDataProducts/' \n",
    "                                    + 'galaxy_DR12v5_CMASSLOWZTOT_South.fits', format='fits')\n",
    "del CMASSLOWZTOT_South_Tbl['FRACPSF', 'EXPFLUX', 'DEVFLUX', 'PSFFLUX', 'MODELFLUX', 'FIBER2FLUX', 'R_DEV', 'EXTINCTION', \n",
    "                           'PSF_FWHM', 'SKYFLUX', 'IMAGE_DEPTH', 'TILE', 'RERUN', 'CAMCOL', 'FIELD', 'ID', 'ICHUNK', 'RUN', \n",
    "                          'IPOLY', 'AIRMASS', 'EB_MINUS_V', 'IMATCH', 'WEIGHT_FKP', 'WEIGHT_CP', 'WEIGHT_NOZ', 'WEIGHT_STAR',\n",
    "                          'WEIGHT_SEEING', 'WEIGHT_SYSTOT', 'COMP', 'PLATE', 'FIBERID', 'MJD', 'FINALN', 'SPECTILE', 'ICOLLIDED', \n",
    "                          'INGROUP', 'MULTGROUP', 'ISECT']\n",
    "CMASSLOWZTOT_South_DF = CMASSLOWZTOT_South_Tbl.to_pandas()\n",
    "#CMASSLOWZTOT_South_DF.head(3)\n",
    "\n",
    "zs1=np.arange(101)*0.01+0.\n",
    "zs=np.arange(100)*0.01+0.005\n",
    "b=plt.hist(CMASSLOWZTOT_South_DF['Z'],bins=zs1)\n",
    "pz=b[0]\n",
    "pz=pz*100/np.sum(b[0])\n",
    "plt.show()"
   ]
  },
  {
   "cell_type": "code",
   "execution_count": 14,
   "metadata": {},
   "outputs": [
    {
     "name": "stdout",
     "output_type": "stream",
     "text": [
      "normal (1.0001082842865217, 4.630657846275047e-08)\n"
     ]
    },
    {
     "name": "stderr",
     "output_type": "stream",
     "text": [
      "/Users/megantabbutt/Library/Python/3.7/lib/python/site-packages/ipykernel_launcher.py:8: IntegrationWarning: The maximum number of subdivisions (50) has been achieved.\n",
      "  If increasing the limit yields no improvement it is advised to analyze \n",
      "  the integrand in order to determine the difficulties.  If the position of a \n",
      "  local difficulty can be determined (singularity, discontinuity) one will \n",
      "  probably gain from splitting up the interval and calling the integrator \n",
      "  on the subranges.  Perhaps a special-purpose integrator should be used.\n",
      "  \n"
     ]
    },
    {
     "data": {
      "image/png": "[encoded data removed]",
      "text/plain": [
       "<Figure size 432x288 with 1 Axes>"
      ]
     },
     "metadata": {
      "needs_background": "light"
     },
     "output_type": "display_data"
    }
   ],
   "source": [
    "W2 = sp.interpolate.InterpolatedUnivariateSpline(zs,pz,k=5)\n",
    "\n",
    "w2array=np.zeros(len(zs))\n",
    "for j in range(0,len(w2array)):\n",
    "    w2array[j]=W2(zs[j])\n",
    "\n",
    "plt.plot(zs,w2array)\n",
    "normal=integrate.quad(lambda z: W2(z),0.0,1.0)\n",
    "print ('normal', normal)\n",
    "plt.show()"
   ]
  },
  {
   "cell_type": "markdown",
   "metadata": {},
   "source": [
    "### Kinda agree here?  ^^^ question about oscillation in mine, maybe should smooth?"
   ]
  },
  {
   "cell_type": "code",
   "execution_count": 16,
   "metadata": {},
   "outputs": [
    {
     "name": "stdout",
     "output_type": "stream",
     "text": [
      "normal2 (1.0001083077098847, 1.1990569142542913e-07)\n"
     ]
    },
    {
     "name": "stderr",
     "output_type": "stream",
     "text": [
      "/Users/megantabbutt/Library/Python/3.7/lib/python/site-packages/ipykernel_launcher.py:1: IntegrationWarning: The maximum number of subdivisions (50) has been achieved.\n",
      "  If increasing the limit yields no improvement it is advised to analyze \n",
      "  the integrand in order to determine the difficulties.  If the position of a \n",
      "  local difficulty can be determined (singularity, discontinuity) one will \n",
      "  probably gain from splitting up the interval and calling the integrator \n",
      "  on the subranges.  Perhaps a special-purpose integrator should be used.\n",
      "  \"\"\"Entry point for launching an IPython kernel.\n"
     ]
    },
    {
     "data": {
      "image/png": "[encoded data removed]",
      "text/plain": [
       "<Figure size 432x288 with 1 Axes>"
      ]
     },
     "metadata": {
      "needs_background": "light"
     },
     "output_type": "display_data"
    }
   ],
   "source": [
    "normal2=integrate.quad(lambda chi: W2(zchi(chi))*derivative(zchi,chi),chi(0.0),chi(1.0))\n",
    "print ('normal2',normal2)\n",
    "\n",
    "newchiarray=np.zeros(len(zs))\n",
    "for p in range(0,len(newchiarray)):\n",
    "    newchiarray[p]=chi(zs[p])\n",
    "\n",
    "w22array=np.zeros(len(zs))\n",
    "for jj in range(0,len(w22array)):\n",
    "    w22array[jj]=W2(zchi(newchiarray[jj]))*derivative(zchi,newchiarray[jj])\n",
    "plt.plot(newchiarray,w22array)\n",
    "plt.title('n(z(chi))*dz/dchi')\n",
    "plt.show()"
   ]
  },
  {
   "cell_type": "markdown",
   "metadata": {},
   "source": [
    "### We still agree here"
   ]
  },
  {
   "cell_type": "code",
   "execution_count": null,
   "metadata": {},
   "outputs": [],
   "source": []
  }
 ],
 "metadata": {
  "kernelspec": {
   "display_name": "Python 3",
   "language": "python",
   "name": "python3"
  },
  "language_info": {
   "codemirror_mode": {
    "name": "ipython",
    "version": 3
   },
   "file_extension": ".py",
   "mimetype": "text/x-python",
   "name": "python",
   "nbconvert_exporter": "python",
   "pygments_lexer": "ipython3",
   "version": "3.7.3"
  }
 },
 "nbformat": 4,
 "nbformat_minor": 4
}
