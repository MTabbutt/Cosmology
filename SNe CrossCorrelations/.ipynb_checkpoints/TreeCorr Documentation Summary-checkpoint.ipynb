{
 "cells": [
  {
   "cell_type": "markdown",
   "metadata": {},
   "source": [
    "<Strong>Current versions notes to reader: </Strong> This needs to be updated into a better tutorial. The point of this notebook was to bridge the divide b/w the Documentation for TreeCorr which is complete but long and the correlation code of mine that has too much superfluos detail. This is currently on the back burner due to me wanting to charge ahead with limited time to do so in. -MMT 4/15/20\n",
    "\n",
    "Note: Why doesn't Jupyter offer spellcheck? "
   ]
  },
  {
   "cell_type": "markdown",
   "metadata": {},
   "source": [
    "# TreeCorr Documentation Summary:\n",
    "\n",
    "### Text clipped from: https://rmjarvis.github.io/TreeCorr/_build/html/\n",
    "#### All credit goes to RM Jarvis. "
   ]
  },
  {
   "cell_type": "code",
   "execution_count": 1,
   "metadata": {},
   "outputs": [],
   "source": [
    "import treecorr"
   ]
  },
  {
   "cell_type": "markdown",
   "metadata": {},
   "source": [
    "<h2> 1. Input Data"
   ]
  },
  {
   "cell_type": "markdown",
   "metadata": {},
   "source": [
    "> classtreecorr.Catalog(file_name=None, config=None, num=0, logger=None, is_rand=False, x=None, y=None, z=None, ra=None, dec=None, r=None, w=None, wpos=None, flag=None, g1=None, g2=None, k=None, **kwargs)\n",
    "\n",
    "The simplest way to build a Catalog is to simply pass in numpy arrays for each piece of information you want included. \n",
    "\n",
    "Each of these input paramters should be a numpy array, where each corresponding element is the value for that object. Of course, all the arrays should be the same size.\n",
    "\n",
    "In some cases, there are additional required parameters. For instance, with RA and Dec positions, you need to declare what units the input values are given:\n",
    "\n",
    "> cat = treecorr.Catalog(ra=ra, dec=dec, g1=g1, g2=g2, ra_units='hour', dec_units='deg')\n",
    "\n",
    "\n",
    "<strong> As np array: <br/> </strong>\n",
    "x – The x positions <br/>\n",
    "y – The y positions <br/>\n",
    "z – The z positions <br/>\n",
    "ra – The right ascension <br/>\n",
    "dec – The declination <br/>\n",
    "r – The distance <br/>\n",
    "g1 – The g1 component of the shear <br/>\n",
    "g2 – The g2 component of the shear <br/>\n",
    "k – The convergence <br/>\n",
    "<strong> Other: <br/> </strong>\n",
    "ra_units (str) – The units to use for ra. Valid options: arcsec, arcmin, degrees, hours, radians. <br/>\n",
    "dec_units (str) – The units to use for dec. Valid options: arcsec, arcmin, degrees, hours, radians. <br/>"
   ]
  },
  {
   "cell_type": "markdown",
   "metadata": {},
   "source": [
    "You can also initialize a Catalog by reading in columns from a file. For instance:\n",
    "\n",
    "> cat = treecorr.Catalog('data.fits', ra_col='ALPHA2000', dec_col='DELTA2000', g1_col='E1', g2_col='E2', ra_units='deg', dec_units='deg')"
   ]
  },
  {
   "cell_type": "markdown",
   "metadata": {},
   "source": [
    "<h2> 2. Count Count Correlation Functions:"
   ]
  },
  {
   "cell_type": "markdown",
   "metadata": {},
   "source": [
    "This class handles the calculation and storage of a 2-point count-count correlation function. i.e. the regular density correlation function.\n",
    "\n",
    "> treecorr.NNCorrelation(config=None, logger=None, **kwargs)\n",
    "\n",
    "<strong> Attributes:</strong> </br>\n",
    "\n",
    "nbins – The number of bins in logr </br>\n",
    "\n",
    "bin_size – The size of the bins in logr </br>\n",
    "\n",
    "min_sep – The minimum separation being considered </br> \n",
    "\n",
    "max_sep – The maximum separation being considered </br>"
   ]
  },
  {
   "cell_type": "code",
   "execution_count": null,
   "metadata": {},
   "outputs": [],
   "source": []
  }
 ],
 "metadata": {
  "kernelspec": {
   "display_name": "Python 3",
   "language": "python",
   "name": "python3"
  },
  "language_info": {
   "codemirror_mode": {
    "name": "ipython",
    "version": 3
   },
   "file_extension": ".py",
   "mimetype": "text/x-python",
   "name": "python",
   "nbconvert_exporter": "python",
   "pygments_lexer": "ipython3",
   "version": "3.7.2"
  }
 },
 "nbformat": 4,
 "nbformat_minor": 2
}
