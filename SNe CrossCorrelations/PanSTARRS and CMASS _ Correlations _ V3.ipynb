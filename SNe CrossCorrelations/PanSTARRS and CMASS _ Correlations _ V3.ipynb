{
 "cells": [
  {
   "cell_type": "code",
   "execution_count": 1,
   "metadata": {},
   "outputs": [],
   "source": [
    "import treecorr\n",
    "import numpy\n",
    "import matplotlib.pyplot as plt\n",
    "import pandas as pd\n",
    "import sqlite3\n",
    "import os\n",
    "import datetime"
   ]
  },
  {
   "cell_type": "code",
   "execution_count": 2,
   "metadata": {},
   "outputs": [
    {
     "ename": "FileNotFoundError",
     "evalue": "[Errno 2] No such file or directory: '/afs/hep.wisc.edu/home/tabbutt/public/Cosmology/SNe CrossCorrelations/VerificationTestingProducts/25_09_2020_10_09'",
     "output_type": "error",
     "traceback": [
      "\u001b[0;31m---------------------------------------------------------------------------\u001b[0m",
      "\u001b[0;31mFileNotFoundError\u001b[0m                         Traceback (most recent call last)",
      "\u001b[0;32m<ipython-input-2-0c96f2474c89>\u001b[0m in \u001b[0;36m<module>\u001b[0;34m\u001b[0m\n\u001b[1;32m     11\u001b[0m \u001b[0mTESTING_PRODUCTS_PATH\u001b[0m \u001b[0;34m=\u001b[0m \u001b[0mTESTING_PRODUCTS_PATH\u001b[0m \u001b[0;34m+\u001b[0m \u001b[0mCURRENT_DIRECTORY\u001b[0m\u001b[0;34m\u001b[0m\u001b[0;34m\u001b[0m\u001b[0m\n\u001b[1;32m     12\u001b[0m \u001b[0;34m\u001b[0m\u001b[0m\n\u001b[0;32m---> 13\u001b[0;31m \u001b[0mos\u001b[0m\u001b[0;34m.\u001b[0m\u001b[0mmkdir\u001b[0m\u001b[0;34m(\u001b[0m\u001b[0mTESTING_PRODUCTS_PATH\u001b[0m\u001b[0;34m)\u001b[0m\u001b[0;34m\u001b[0m\u001b[0;34m\u001b[0m\u001b[0m\n\u001b[0m\u001b[1;32m     14\u001b[0m \u001b[0;34m\u001b[0m\u001b[0m\n\u001b[1;32m     15\u001b[0m \u001b[0mNOTES_NAME\u001b[0m \u001b[0;34m=\u001b[0m \u001b[0;34m\"/RUNNING_NOTES_\"\u001b[0m \u001b[0;34m+\u001b[0m \u001b[0mDATE\u001b[0m \u001b[0;34m+\u001b[0m \u001b[0;34m\".txt\"\u001b[0m\u001b[0;34m\u001b[0m\u001b[0;34m\u001b[0m\u001b[0m\n",
      "\u001b[0;31mFileNotFoundError\u001b[0m: [Errno 2] No such file or directory: '/afs/hep.wisc.edu/home/tabbutt/public/Cosmology/SNe CrossCorrelations/VerificationTestingProducts/25_09_2020_10_09'"
     ]
    }
   ],
   "source": [
    "# Define the paths for local and HEP machines:\n",
    "#DATA_PATH = '/Users/megantabbutt/CosmologyDataProducts/'\n",
    "DATA_PATH = '/afs/hep.wisc.edu/home/tabbutt/private/CosmologyDataProducts/'\n",
    "\n",
    "#TESTING_PRODUCTS_PATH = \"/Users/megantabbutt/Cosmology/Cosmology/SNe CrossCorrelations/VerificationTestingProducts/\"\n",
    "TESTING_PRODUCTS_PATH = \"/afs/hep.wisc.edu/home/tabbutt/public/Cosmology/SNe CrossCorrelations/VerificationTestingProducts/\"\n",
    "\n",
    "# Create the directory to save to and a file with info about this run:\n",
    "DATE = datetime.datetime.now().strftime(\"%d_%m_%Y_%H_%M\")\n",
    "CURRENT_DIRECTORY = DATE\n",
    "TESTING_PRODUCTS_PATH = TESTING_PRODUCTS_PATH + CURRENT_DIRECTORY\n",
    "\n",
    "os.mkdir(TESTING_PRODUCTS_PATH)\n",
    "\n",
    "NOTES_NAME = \"/RUNNING_NOTES_\" + DATE + \".txt\"\n",
    "NOTES_PATH = TESTING_PRODUCTS_PATH + NOTES_NAME\n",
    "\n",
    "# Write an opening note in the file:\n",
    "NOTES = open(NOTES_PATH, \"a\")\n",
    "NOTES.write(\"Created Running notes file for tracking details about this run and products produced/saved\")\n",
    "NOTES.write(\"\\n \\n\")\n",
    "NOTES.close()"
   ]
  },
  {
   "cell_type": "code",
   "execution_count": null,
   "metadata": {},
   "outputs": [],
   "source": []
  }
 ],
 "metadata": {
  "kernelspec": {
   "display_name": "Python 3",
   "language": "python",
   "name": "python3"
  },
  "language_info": {
   "codemirror_mode": {
    "name": "ipython",
    "version": 3
   },
   "file_extension": ".py",
   "mimetype": "text/x-python",
   "name": "python",
   "nbconvert_exporter": "python",
   "pygments_lexer": "ipython3",
   "version": "3.7.3"
  }
 },
 "nbformat": 4,
 "nbformat_minor": 2
}
