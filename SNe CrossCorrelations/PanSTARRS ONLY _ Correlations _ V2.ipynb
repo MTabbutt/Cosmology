{
 "cells": [
  {
   "cell_type": "markdown",
   "metadata": {},
   "source": [
    "# Warning:\n",
    "## This is a copy of a more complete notebook that only computes the panstarrs autocorrelation function!!!!"
   ]
  },
  {
   "cell_type": "markdown",
   "metadata": {},
   "source": [
    "<Strong> Note to the reader: </Strong> This notebook currently calculates the cross correlation of the PanSTARRS SuperNova set with the LOWZ and CMASS galaxy catalogs from BOSS (SDSS). There are also some trouble shooting/data validation calculations along the way. </br>\n",
    "\n",
    "Annotations about TreeCorr are taken from the documentation and all credit goes to Mike Jarvis. </br>\n",
    "\n",
    "https://rmjarvis.github.io/TreeCorr/_build/html/overview.html </br>\n",
    "\n",
    "V2: Create functions for easier readability and adaptability. \n",
    "\n",
    "-MT 6/15/20"
   ]
  },
  {
   "cell_type": "markdown",
   "metadata": {},
   "source": [
    "#### List of changes/fixes that are not resolved: \n",
    " \n",
    "- Create Correlation creating function\n",
    "- Make all queries at the start of the program --- PROGRESS\n",
    "- Corr func asymptotes to .2 instead of zero? --- NEED TO DO \n",
    "- Theory calculuation --- NEED TO SWITCH TO DOING "
   ]
  },
  {
   "cell_type": "markdown",
   "metadata": {},
   "source": [
    "### Imports and formatting: "
   ]
  },
  {
   "cell_type": "code",
   "execution_count": 1,
   "metadata": {},
   "outputs": [
    {
     "data": {
      "text/html": [
       "<style>.container { width:100% !important; }</style>"
      ],
      "text/plain": [
       "<IPython.core.display.HTML object>"
      ]
     },
     "metadata": {},
     "output_type": "display_data"
    }
   ],
   "source": [
    "# Make Jupyter Notebook full screen \n",
    "from IPython.core.display import display, HTML\n",
    "display(HTML(\"<style>.container { width:100% !important; }</style>\"))\n",
    "from IPython.display import Image"
   ]
  },
  {
   "cell_type": "code",
   "execution_count": 2,
   "metadata": {},
   "outputs": [],
   "source": [
    "#plt.switch_backend('agg') #For HEP, matplotlib x windows issues see python version for more usage \n",
    "import treecorr\n",
    "import numpy\n",
    "import matplotlib\n",
    "import matplotlib.pyplot as plt\n",
    "import pandas as pd\n",
    "import sqlite3\n",
    "import os\n",
    "import datetime"
   ]
  },
  {
   "cell_type": "markdown",
   "metadata": {},
   "source": [
    "### Define notebook wide data paths to use:"
   ]
  },
  {
   "cell_type": "code",
   "execution_count": 3,
   "metadata": {},
   "outputs": [],
   "source": [
    "#dataPath = '/Users/megantabbutt/CosmologyDataProducts/'\n",
    "#dataPath = '/afs/hep.wisc.edu/home/tabbutt/private/CosmologyDataProducts/'\n",
    "\n",
    "#testingProductsPath = \"/Users/megantabbutt/Cosmology/Cosmology/SNe CrossCorrelations/VerificationTestingProducts/\"\n",
    "\n",
    "# Python has datename, savfig folder fields, usually don't save this code just for monkeying around... \n",
    "# If wanted to save some plots, should invoke this, and add text file to the folder with notes for that run \n",
    "\n",
    "#date = ' 05_29_20_12pm'"
   ]
  },
  {
   "cell_type": "code",
   "execution_count": 4,
   "metadata": {},
   "outputs": [],
   "source": [
    "# Define the paths for local and HEP machines:\n",
    "DATA_PATH = '/Users/megantabbutt/CosmologyDataProducts/'\n",
    "#DATA_PATH = '/afs/hep.wisc.edu/home/tabbutt/private/CosmologyDataProducts/'\n",
    "\n",
    "TESTING_PRODUCTS_PATH = \"/Users/megantabbutt/Cosmology/Cosmology/SNe CrossCorrelations/VerificationTestingProducts/\"\n",
    "#TESTING_PRODUCTS_PATH = \"/afs/hep.wisc.edu/home/tabbutt/public/Cosmology/SNe CrossCorrelations/VerificationTestingProducts/\"\n",
    "\n",
    "# Create the directory to save to and a file with info about this run:\n",
    "DATE = datetime.datetime.now().strftime(\"%d_%m_%Y_%H_%M\")\n",
    "CURRENT_DIRECTORY = DATE\n",
    "TESTING_PRODUCTS_PATH = TESTING_PRODUCTS_PATH + CURRENT_DIRECTORY\n",
    "\n",
    "os.mkdir(TESTING_PRODUCTS_PATH)\n",
    "\n",
    "NOTES_NAME = \"/RUNNING_NOTES_\" + DATE + \".txt\"\n",
    "NOTES_PATH = TESTING_PRODUCTS_PATH + NOTES_NAME"
   ]
  },
  {
   "cell_type": "markdown",
   "metadata": {},
   "source": [
    "### Define notebook wide data paths to use:"
   ]
  },
  {
   "cell_type": "code",
   "execution_count": 5,
   "metadata": {},
   "outputs": [],
   "source": [
    "''' Writes a string to a file.\n",
    "File name: NOTES_NAME, path: NOTES_PATH. These are defined at the beginning of the program.\n",
    "\n",
    "@param str notes: A single string to be writen.\n",
    "'''\n",
    "\n",
    "def NotesToWrite(notes):\n",
    "    NOTES = open(NOTES_PATH, \"a\")\n",
    "    NOTES.write(notes)\n",
    "    NOTES.write(\"\\n \\n\")\n",
    "    NOTES.close()"
   ]
  },
  {
   "cell_type": "code",
   "execution_count": 6,
   "metadata": {},
   "outputs": [],
   "source": [
    "''' Creates a simple 2D count-count correlation function using TreeCorr. \n",
    "\n",
    "@param object DataCatalog: TreeCorr Catalog object for the data \n",
    "@param object RandCatalog: TreeCorr Catalog object for the Randoms \n",
    "\n",
    "'''\n",
    "\n",
    "def AutoCorrelationFunction(DataCatalog, RandCatalog):\n",
    "    nn = treecorr.NNCorrelation(min_sep=0.01, max_sep=10, bin_size=0.2, sep_units='degrees')\n",
    "    nn.process(DataCatalog)\n",
    "    \n",
    "    rr = treecorr.NNCorrelation(min_sep=0.01, max_sep=10, bin_size=0.2, sep_units='degrees')\n",
    "    rr.process(RandCatalog)\n",
    "    \n",
    "    dr = treecorr.NNCorrelation(min_sep=0.01, max_sep=10, bin_size=0.2, sep_units='degrees')\n",
    "    dr.process(DataCatalog, RandCatalog)\n",
    "    \n",
    "    r = numpy.exp(nn.meanlogr)\n",
    "    xi, varxi = nn.calculateXi(rr, dr)\n",
    "    sig = numpy.sqrt(varxi)\n",
    "    \n",
    "    return r, xi, varxi, sig"
   ]
  },
  {
   "cell_type": "markdown",
   "metadata": {},
   "source": [
    "### Start writing notes to textfile:\n",
    "Write notes about:\n",
    "- Steps completed in program\n",
    "- plot made and saved to folder\n",
    "- Amount of data points, randoms points in plots and data runs"
   ]
  },
  {
   "cell_type": "code",
   "execution_count": 7,
   "metadata": {},
   "outputs": [],
   "source": [
    "# Write an opening note in the file:\n",
    "NotesToWrite(\"Created Running notes file for tracking details about this run and products produced/saved\")"
   ]
  },
  {
   "cell_type": "markdown",
   "metadata": {},
   "source": [
    " <hr style=\"height:3px\"> "
   ]
  },
  {
   "cell_type": "markdown",
   "metadata": {},
   "source": [
    "## 0. Define the Queries that you want to run:"
   ]
  },
  {
   "cell_type": "code",
   "execution_count": 8,
   "metadata": {},
   "outputs": [],
   "source": [
    "NotesToWrite(\"0. Define the Queries you want to run and write and randoms length:\")"
   ]
  },
  {
   "cell_type": "code",
   "execution_count": 9,
   "metadata": {},
   "outputs": [],
   "source": [
    "randsLength = 10**8\n",
    "NotesToWrite(\"randsLength for PanSTARRS: \" + str(randsLength))"
   ]
  },
  {
   "cell_type": "code",
   "execution_count": 10,
   "metadata": {},
   "outputs": [],
   "source": [
    "# Pull in All PanSTARRS Data (with a good redshift): \n",
    "\n",
    "qry_PanSTARRS_Data_All = \"SELECT ID, DEC, RA, zSN, zHost FROM PanSTARRSNEW WHERE (zSN > -999) || (zHost > -999)\"\n",
    "NotesToWrite(\"qry_PanSTARRS_Data_All\" + \" \\n\" + qry_PanSTARRS_Data_All)\n",
    "\n",
    "qry_PanSTARRS_Data_Overlap = \"\"\"SELECT ID, DEC, RA, zSN, zHost FROM PanSTARRSNEW WHERE (DEC > -20) \n",
    "    AND ((zSN > -999) OR (zHost > -999))\"\"\"\n",
    "NotesToWrite(\"qry_PanSTARRS_Data_Overlap\" + \" \\n\" + qry_PanSTARRS_Data_Overlap)"
   ]
  },
  {
   "cell_type": "markdown",
   "metadata": {},
   "source": [
    " <hr style=\"height:3px\"> "
   ]
  },
  {
   "cell_type": "markdown",
   "metadata": {},
   "source": [
    "\n",
    "## 1. Pull in and parse data:\n",
    "\n",
    "note: There are 10 pointings for the PanSTARRS data, we will use all 10 for the Auto Correlation, but when we correlated to CMASS, we need to only use the 9 overlap with CMASS. --- IMPORTANT"
   ]
  },
  {
   "cell_type": "code",
   "execution_count": 11,
   "metadata": {},
   "outputs": [],
   "source": [
    "NotesToWrite(\"1. Pull in and parse data\")"
   ]
  },
  {
   "cell_type": "markdown",
   "metadata": {},
   "source": [
    "#### PanSTARRS: "
   ]
  },
  {
   "cell_type": "code",
   "execution_count": 12,
   "metadata": {},
   "outputs": [
    {
     "data": {
      "text/html": [
       "<div>\n",
       "<style scoped>\n",
       "    .dataframe tbody tr th:only-of-type {\n",
       "        vertical-align: middle;\n",
       "    }\n",
       "\n",
       "    .dataframe tbody tr th {\n",
       "        vertical-align: top;\n",
       "    }\n",
       "\n",
       "    .dataframe thead th {\n",
       "        text-align: right;\n",
       "    }\n",
       "</style>\n",
       "<table border=\"1\" class=\"dataframe\">\n",
       "  <thead>\n",
       "    <tr style=\"text-align: right;\">\n",
       "      <th></th>\n",
       "      <th>ID</th>\n",
       "      <th>DEC</th>\n",
       "      <th>RA</th>\n",
       "      <th>zSN</th>\n",
       "      <th>zHost</th>\n",
       "    </tr>\n",
       "  </thead>\n",
       "  <tbody>\n",
       "    <tr>\n",
       "      <th>0</th>\n",
       "      <td>ps0909006</td>\n",
       "      <td>1.184831</td>\n",
       "      <td>333.9500</td>\n",
       "      <td>0.284</td>\n",
       "      <td>-999.0</td>\n",
       "    </tr>\n",
       "    <tr>\n",
       "      <th>1</th>\n",
       "      <td>ps0909010</td>\n",
       "      <td>-4.078911</td>\n",
       "      <td>37.1182</td>\n",
       "      <td>0.270</td>\n",
       "      <td>-999.0</td>\n",
       "    </tr>\n",
       "    <tr>\n",
       "      <th>2</th>\n",
       "      <td>ps0910017</td>\n",
       "      <td>-5.023289</td>\n",
       "      <td>35.2775</td>\n",
       "      <td>0.320</td>\n",
       "      <td>-999.0</td>\n",
       "    </tr>\n",
       "  </tbody>\n",
       "</table>\n",
       "</div>"
      ],
      "text/plain": [
       "          ID       DEC        RA    zSN  zHost\n",
       "0  ps0909006  1.184831  333.9500  0.284 -999.0\n",
       "1  ps0909010 -4.078911   37.1182  0.270 -999.0\n",
       "2  ps0910017 -5.023289   35.2775  0.320 -999.0"
      ]
     },
     "execution_count": 12,
     "metadata": {},
     "output_type": "execute_result"
    }
   ],
   "source": [
    "connPAN = sqlite3.connect(DATA_PATH + 'PanSTARRS.db')\n",
    "PanSTARRSNEW_GoodZ = pd.read_sql(qry_PanSTARRS_Data_All, con=connPAN)\n",
    "NotesToWrite(\"PanSTARRSNEW_GoodZ Database (with 10 pointings) objects: \" + str(len(PanSTARRSNEW_GoodZ)))\n",
    "connPAN.close()\n",
    "PanSTARRSNEW_GoodZ.head(3) # 1129 objects over 10 pointings "
   ]
  },
  {
   "cell_type": "markdown",
   "metadata": {},
   "source": [
    " <hr style=\"height:3px\"> "
   ]
  },
  {
   "cell_type": "markdown",
   "metadata": {},
   "source": [
    "## 2. Create the TreeCorr Catalogs of Data:"
   ]
  },
  {
   "cell_type": "markdown",
   "metadata": {},
   "source": [
    "A set of input data (positions and other quantities) to be correlated.\n",
    "\n",
    "A Catalog object keeps track of the relevant information for a number of objects to be correlated. The objects each have some kind of position (for instance (x,y), (ra,dec), (x,y,z), etc.), and possibly some extra information such as weights (w), shear values (g1,g2), or kappa values (k).\n",
    "\n",
    "The simplest way to build a Catalog is to simply pass in numpy arrays for each piece of information you want included. \n",
    "\n",
    "> cat = treecorr.Catalog(ra=ra, dec=dec, g1=g1, g2=g2, ra_units='hour', dec_units='deg')\n",
    "\n",
    "Other options for reading in from a file, using a config file, etc"
   ]
  },
  {
   "cell_type": "code",
   "execution_count": 13,
   "metadata": {},
   "outputs": [],
   "source": [
    "NotesToWrite(\"2. Create the TreeCorr Catalogs of Data:\")"
   ]
  },
  {
   "cell_type": "code",
   "execution_count": 14,
   "metadata": {},
   "outputs": [
    {
     "data": {
      "text/plain": [
       "treecorr.Catalog(ra=array([5.82852704, 0.6478348 , 0.61570853, ..., 2.26428363, 2.62039894,\n",
       "       2.2706359 ]),ra_units='rad',dec=array([ 0.02067919, -0.07119043, -0.08767293, ...,  0.79321874,\n",
       "        0.03323112,  0.76587641]),dec_units='rad')"
      ]
     },
     "execution_count": 14,
     "metadata": {},
     "output_type": "execute_result"
    }
   ],
   "source": [
    "cat_PanSTARRS_Full = treecorr.Catalog(ra=PanSTARRSNEW_GoodZ['RA'], dec=PanSTARRSNEW_GoodZ['DEC'], ra_units='degrees', dec_units='degrees')\n",
    "NotesToWrite(\"Created cat_PanSTARRS_Full.\")\n",
    "cat_PanSTARRS_Full"
   ]
  },
  {
   "cell_type": "markdown",
   "metadata": {},
   "source": [
    " <hr style=\"height:3px\"> "
   ]
  },
  {
   "cell_type": "markdown",
   "metadata": {},
   "source": [
    "## 3. Create the randoms for PanSTARRS\n",
    "Include all ten pointings for now, can just exclude the pointing that isn't in CMASS when doing the CrossCorr </br>\n",
    "\n",
    "Possibility to ask for mask eventually if we think that it is a limitation </br>"
   ]
  },
  {
   "cell_type": "code",
   "execution_count": 15,
   "metadata": {},
   "outputs": [],
   "source": [
    "NotesToWrite(\"3. Create the randoms for PanSTARRS. Include all 10 pointings, delete MD02 later.\")"
   ]
  },
  {
   "cell_type": "code",
   "execution_count": 16,
   "metadata": {},
   "outputs": [
    {
     "name": "stdout",
     "output_type": "stream",
     "text": [
      "PanSTARRS ra range = 0.600713 .. 6.172202\n",
      "PanSTARRS dec range = -0.506386 .. 1.038391\n"
     ]
    }
   ],
   "source": [
    "ra_min_PanSTARRS = numpy.min(cat_PanSTARRS_Full.ra)\n",
    "ra_max_PanSTARRS = numpy.max(cat_PanSTARRS_Full.ra)\n",
    "dec_min_PanSTARRS = numpy.min(cat_PanSTARRS_Full.dec)\n",
    "dec_max_PanSTARRS = numpy.max(cat_PanSTARRS_Full.dec)\n",
    "print('PanSTARRS ra range = %f .. %f' % (ra_min_PanSTARRS, ra_max_PanSTARRS))\n",
    "print('PanSTARRS dec range = %f .. %f' % (dec_min_PanSTARRS, dec_max_PanSTARRS))\n",
    "\n",
    "rand_ra_PanSTARRS = numpy.random.uniform(ra_min_PanSTARRS, ra_max_PanSTARRS, randsLength)\n",
    "rand_sindec_PanSTARRS = numpy.random.uniform(numpy.sin(dec_min_PanSTARRS), numpy.sin(dec_max_PanSTARRS), randsLength)\n",
    "rand_dec_PanSTARRS = numpy.arcsin(rand_sindec_PanSTARRS)"
   ]
  },
  {
   "cell_type": "markdown",
   "metadata": {},
   "source": [
    "#### Note: MD02 is the one that needs to be eliminated, not in CMASS footprint "
   ]
  },
  {
   "cell_type": "code",
   "execution_count": 17,
   "metadata": {},
   "outputs": [],
   "source": [
    "# Got from a paper, need to cite it here:  https://arxiv.org/pdf/1612.05560.pdf\n",
    "\n",
    "pointings = {\"MD01\": [035.875, -04.250], \"MD03\": [130.592, 44.317], \"MD04\": [150.000, 02.200], \n",
    "             \"MD05\": [161.917, 58.083], \"MD06\": [185.000, 47.117], \"MD07\": [213.704, 53.083], \n",
    "             \"MD08\": [242.787, 54.950], \"MD09\": [334.188, 00.283], \"MD10\": [352.312, -00.433], \"MD02\": [053.100, -27.800],}"
   ]
  },
  {
   "cell_type": "code",
   "execution_count": 18,
   "metadata": {},
   "outputs": [
    {
     "data": {
      "text/plain": [
       "'# Check how well the randoms cover the same space as the data\\n\\nf1, (ax1a, ax2a, ax3a) = plt.subplots(1, 3, figsize=(20, 5))\\nax1a.scatter(cat_PanSTARRS_Full.ra * 180/numpy.pi, cat_PanSTARRS_Full.dec * 180/numpy.pi, color=\\'red\\', s=0.1, marker=\\'x\\')\\nax1a.scatter(rand_ra_PanSTARRS * 180/numpy.pi, rand_dec_PanSTARRS * 180/numpy.pi, color=\\'blue\\', s=0.1)\\nax1a.set_xlabel(\\'RA (degrees)\\')\\nax1a.set_ylabel(\\'Dec (degrees)\\')\\nax1a.set_title(\\'Randoms on top of data\\')\\n\\n# Repeat in the opposite order\\nax2a.scatter(rand_ra_PanSTARRS * 180/numpy.pi, rand_dec_PanSTARRS * 180/numpy.pi, color=\\'blue\\', s=0.1, marker=\\'x\\')\\nax2a.scatter(cat_PanSTARRS_Full.ra * 180/numpy.pi, cat_PanSTARRS_Full.dec * 180/numpy.pi, color=\\'red\\', s=0.1)\\nax2a.set_xlabel(\\'RA (degrees)\\')\\nax2a.set_ylabel(\\'Dec (degrees)\\')\\nax2a.set_title(\\'Data on top of randoms\\')\\n\\n# Zoom to look at coverage of randoms and reals\\nax3a.scatter(rand_ra_PanSTARRS * 180/numpy.pi, rand_dec_PanSTARRS * 180/numpy.pi, color=\\'blue\\', s=1, marker=\\'x\\', label=\\'rands\\')\\nax3a.scatter(cat_PanSTARRS_Full.ra * 180/numpy.pi, cat_PanSTARRS_Full.dec * 180/numpy.pi, color=\\'red\\', s=1, label=\\'data\\')\\nax3a.set_xlabel(\\'RA (degrees)\\')\\nax3a.set_ylabel(\\'Dec (degrees)\\')\\nax3a.set_title(\\'Data on top of randoms_Zoom\\')\\nax3a.legend(loc = \"upper right\")\\nax3a.set_xlim(128, 133)\\nax3a.set_ylim(42, 47)\\n\\nplt.savefig(TESTING_PRODUCTS_PATH + \"/PanSTARRS data and randoms\")\\n\\nplt.show()'"
      ]
     },
     "execution_count": 18,
     "metadata": {},
     "output_type": "execute_result"
    }
   ],
   "source": [
    "\"\"\"# Check how well the randoms cover the same space as the data\n",
    "\n",
    "f1, (ax1a, ax2a, ax3a) = plt.subplots(1, 3, figsize=(20, 5))\n",
    "ax1a.scatter(cat_PanSTARRS_Full.ra * 180/numpy.pi, cat_PanSTARRS_Full.dec * 180/numpy.pi, color='red', s=0.1, marker='x')\n",
    "ax1a.scatter(rand_ra_PanSTARRS * 180/numpy.pi, rand_dec_PanSTARRS * 180/numpy.pi, color='blue', s=0.1)\n",
    "ax1a.set_xlabel('RA (degrees)')\n",
    "ax1a.set_ylabel('Dec (degrees)')\n",
    "ax1a.set_title('Randoms on top of data')\n",
    "\n",
    "# Repeat in the opposite order\n",
    "ax2a.scatter(rand_ra_PanSTARRS * 180/numpy.pi, rand_dec_PanSTARRS * 180/numpy.pi, color='blue', s=0.1, marker='x')\n",
    "ax2a.scatter(cat_PanSTARRS_Full.ra * 180/numpy.pi, cat_PanSTARRS_Full.dec * 180/numpy.pi, color='red', s=0.1)\n",
    "ax2a.set_xlabel('RA (degrees)')\n",
    "ax2a.set_ylabel('Dec (degrees)')\n",
    "ax2a.set_title('Data on top of randoms')\n",
    "\n",
    "# Zoom to look at coverage of randoms and reals\n",
    "ax3a.scatter(rand_ra_PanSTARRS * 180/numpy.pi, rand_dec_PanSTARRS * 180/numpy.pi, color='blue', s=1, marker='x', label='rands')\n",
    "ax3a.scatter(cat_PanSTARRS_Full.ra * 180/numpy.pi, cat_PanSTARRS_Full.dec * 180/numpy.pi, color='red', s=1, label='data')\n",
    "ax3a.set_xlabel('RA (degrees)')\n",
    "ax3a.set_ylabel('Dec (degrees)')\n",
    "ax3a.set_title('Data on top of randoms_Zoom')\n",
    "ax3a.legend(loc = \"upper right\")\n",
    "ax3a.set_xlim(128, 133)\n",
    "ax3a.set_ylim(42, 47)\n",
    "\n",
    "plt.savefig(TESTING_PRODUCTS_PATH + \"/PanSTARRS data and randoms\")\n",
    "\n",
    "plt.show()\"\"\""
   ]
  },
  {
   "cell_type": "code",
   "execution_count": 19,
   "metadata": {},
   "outputs": [],
   "source": [
    "#NotesToWrite(\"Plotted: PanSTARRS data and randoms\")"
   ]
  },
  {
   "cell_type": "markdown",
   "metadata": {},
   "source": [
    "\"The telescope illuminates a diameter of 3.3 degrees,  with low distortion, and mild vignetting at the edge of this illuminated region. The field of view is approximately 7 square degrees. The 8  meter  focal  length  atf/4.4  gives  an  approximate  10micron pixel scale of 0.258 arcsec/pixel.\"\n",
    "\n",
    "7 square degrees --> r = 1.49 deg"
   ]
  },
  {
   "cell_type": "code",
   "execution_count": 20,
   "metadata": {},
   "outputs": [
    {
     "name": "stdout",
     "output_type": "stream",
     "text": [
      "[35.875, -4.25]\n",
      "33924\n",
      "33924\n",
      "[130.592, 44.317]\n",
      "34503\n",
      "34503\n",
      "[150.0, 2.2]\n",
      "35141\n",
      "35141\n",
      "[161.917, 58.083]\n",
      "33445\n",
      "33445\n",
      "[185.0, 47.117]\n",
      "34413\n",
      "34413\n",
      "[213.704, 53.083]\n",
      "34692\n",
      "34692\n",
      "[242.787, 54.95]\n",
      "34594\n",
      "34594\n",
      "[334.188, 0.283]\n",
      "34405\n",
      "34405\n",
      "[352.312, -0.433]\n",
      "32674\n",
      "32674\n",
      "[53.1, -27.8]\n",
      "31902\n",
      "31902\n"
     ]
    }
   ],
   "source": [
    "radius = (3.3/2) * numpy.pi / 180.0\n",
    "\n",
    "maskRA = []\n",
    "maskDEC = []\n",
    "randoms_Lengths = []\n",
    "\n",
    "for pointing in pointings: \n",
    "    \n",
    "    print(pointings[pointing])\n",
    "    center_dec = pointings[pointing][1] * numpy.pi / 180\n",
    "    center_ra = pointings[pointing][0] * numpy.pi / 180\n",
    "\n",
    "    angular_seps = numpy.arccos(numpy.cos(numpy.pi / 2 - center_dec) * numpy.cos(numpy.pi / 2 - rand_dec_PanSTARRS) + \n",
    "                                numpy.sin(numpy.pi / 2 - center_dec) * numpy.sin(numpy.pi / 2 - rand_dec_PanSTARRS) * \n",
    "                                numpy.cos(center_ra - rand_ra_PanSTARRS))\n",
    "\n",
    "    ras_in_circle = rand_ra_PanSTARRS[angular_seps < radius]\n",
    "    print(len(ras_in_circle))\n",
    "    ras_in_circle = ras_in_circle * 180 / numpy.pi\n",
    "    decs_in_circle = rand_dec_PanSTARRS[angular_seps < radius]\n",
    "    print(len(decs_in_circle))\n",
    "    decs_in_circle = decs_in_circle * 180 / numpy.pi\n",
    "    \n",
    "    maskRA.extend(ras_in_circle)\n",
    "    maskDEC.extend(decs_in_circle)\n",
    "    \n",
    "    randoms_Lengths.append(len(ras_in_circle))\n",
    "    \n",
    "NotesToWrite(\"Populated pointings with randoms. Randoms per pointing: (1, 3-10, 2):\"+ str(randoms_Lengths))"
   ]
  },
  {
   "cell_type": "markdown",
   "metadata": {},
   "source": [
    " <hr style=\"height:3px\"> "
   ]
  },
  {
   "cell_type": "markdown",
   "metadata": {},
   "source": [
    "## 4. Make PanSTARRS Count-Count Auto Correlation Functions:\n",
    "\n",
    "Typical Usage Pattern:\n",
    "\n",
    "> nn = treecorr.NNCorrelation(config) \n",
    "<br>\n",
    "nn.process(cat)     # For auto-correlation.\n",
    "<br>\n",
    "nn.process(cat1,cat2)   # For cross-correlation.\n",
    "<br>\n",
    "rr.process...           # Likewise for random-random correlations\n",
    "<br>\n",
    "dr.process...        # If desired, also do data-random correlations\n",
    "<br>\n",
    "rd.process...    # For cross-correlations, also do the reverse.\n",
    "<br>\n",
    "nn.write(file_name,rr,dr,rd)  # Write out to a file.\n",
    "<br>\n",
    "xi,varxi = nn.calculateXi(rr,dr,rd)  # Or get the correlation function directly."
   ]
  },
  {
   "cell_type": "code",
   "execution_count": 21,
   "metadata": {},
   "outputs": [],
   "source": [
    "NotesToWrite(\"4. Make PanSTARRS Count-Count Auto Correlation Functions:\")"
   ]
  },
  {
   "cell_type": "code",
   "execution_count": 22,
   "metadata": {},
   "outputs": [
    {
     "name": "stdout",
     "output_type": "stream",
     "text": [
      "Warning: Some bins for the randoms had no pairs.\n"
     ]
    }
   ],
   "source": [
    "cat_rand_PanSTARRS_Full = treecorr.Catalog(ra=maskRA, dec=maskDEC, ra_units='degrees', dec_units='degrees')\n",
    "\n",
    "r_PanSTARRS_Full, xi_PanSTARRS_Full, varxi_PanSTARRS_Full, sig_PanSTARRS_Full = AutoCorrelationFunction(cat_PanSTARRS_Full, \n",
    "                                                                                                        cat_rand_PanSTARRS_Full)"
   ]
  },
  {
   "cell_type": "code",
   "execution_count": 23,
   "metadata": {},
   "outputs": [
    {
     "data": {
      "image/png": "[encoded data removed]",
      "text/plain": [
       "<Figure size 432x288 with 1 Axes>"
      ]
     },
     "metadata": {
      "needs_background": "light"
     },
     "output_type": "display_data"
    }
   ],
   "source": [
    "# Plot the Correlation function:\n",
    "plt.plot(r_PanSTARRS_Full, xi_PanSTARRS_Full, color='blue')\n",
    "plt.plot(r_PanSTARRS_Full, -xi_PanSTARRS_Full, color='blue', ls=':')\n",
    "plt.errorbar(r_PanSTARRS_Full[xi_PanSTARRS_Full>0], xi_PanSTARRS_Full[xi_PanSTARRS_Full>0], yerr=sig_PanSTARRS_Full[xi_PanSTARRS_Full>0], color='green', lw=0.5, ls='')\n",
    "plt.errorbar(r_PanSTARRS_Full[xi_PanSTARRS_Full<0], -xi_PanSTARRS_Full[xi_PanSTARRS_Full<0], yerr=sig_PanSTARRS_Full[xi_PanSTARRS_Full<0], color='green', lw=0.5, ls='')\n",
    "leg = plt.errorbar(-r_PanSTARRS_Full, xi_PanSTARRS_Full, yerr=sig_PanSTARRS_Full, color='blue')\n",
    "plt.xscale('log')\n",
    "plt.yscale('log', nonposy='clip')\n",
    "plt.xlabel(r'$\\theta$ (degrees)')\n",
    "plt.legend([leg], [r'$w(\\theta)$'], loc='lower left')\n",
    "plt.xlim([0.01,10])\n",
    "\n",
    "plt.savefig(TESTING_PRODUCTS_PATH + \"/PanSTARRS Auto-Corr with PanSTARRS randoms\")\n",
    "\n",
    "plt.show()"
   ]
  },
  {
   "cell_type": "code",
   "execution_count": 24,
   "metadata": {},
   "outputs": [],
   "source": [
    "NotesToWrite(\"Plotted: PanSTARRS Auto-Corr with PanSTARRS randoms\")"
   ]
  },
  {
   "cell_type": "code",
   "execution_count": 25,
   "metadata": {},
   "outputs": [],
   "source": [
    "NotesToWrite(\"Creating save file with plot data:\")"
   ]
  },
  {
   "cell_type": "code",
   "execution_count": 29,
   "metadata": {},
   "outputs": [],
   "source": [
    "PanSTARRS_AutoCorr_Plot_Results_dict = {'r_PanSTARRS_Full': r_PanSTARRS_Full, 'xi_PanSTARRS_Full': xi_PanSTARRS_Full, \n",
    "                                   'varxi_PanSTARRS_Full':varxi_PanSTARRS_Full, 'sig_PanSTARRS_Full':sig_PanSTARRS_Full}\n",
    "\n",
    "PanSTARRS_AutoCorr_Plot_Results_df = pd.DataFrame(data=PanSTARRS_AutoCorr_Plot_Results_dict)\n",
    "\n",
    "PanSTARRS_AutoCorr_Plot_Results_df.to_csv(DATA_PATH+'PanSTARRS_AutoCorr_Plot_Results_df_' + str(randsLength) + '.csv')"
   ]
  },
  {
   "cell_type": "code",
   "execution_count": null,
   "metadata": {},
   "outputs": [],
   "source": []
  }
 ],
 "metadata": {
  "kernelspec": {
   "display_name": "Python 3",
   "language": "python",
   "name": "python3"
  },
  "language_info": {
   "codemirror_mode": {
    "name": "ipython",
    "version": 3
   },
   "file_extension": ".py",
   "mimetype": "text/x-python",
   "name": "python",
   "nbconvert_exporter": "python",
   "pygments_lexer": "ipython3",
   "version": "3.7.3"
  }
 },
 "nbformat": 4,
 "nbformat_minor": 2
}
