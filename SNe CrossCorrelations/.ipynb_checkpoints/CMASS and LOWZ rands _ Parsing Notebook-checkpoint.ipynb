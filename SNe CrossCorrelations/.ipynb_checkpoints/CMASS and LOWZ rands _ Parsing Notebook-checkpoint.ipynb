{
 "cells": [
  {
   "cell_type": "markdown",
   "metadata": {},
   "source": [
    "This notebook is to parse in the seperate randoms catalogs of CMASS and LOWZ and turn them into a database to use as a sanity check in the cross corr code. \n",
    "\n",
    "MT 5/18/20 12pm"
   ]
  },
  {
   "cell_type": "code",
   "execution_count": 1,
   "metadata": {},
   "outputs": [
    {
     "data": {
      "text/html": [
       "<style>.container { width:100% !important; }</style>"
      ],
      "text/plain": [
       "<IPython.core.display.HTML object>"
      ]
     },
     "metadata": {},
     "output_type": "display_data"
    }
   ],
   "source": [
    "# Make Jupyter Notebook full screen \n",
    "from IPython.core.display import display, HTML\n",
    "display(HTML(\"<style>.container { width:100% !important; }</style>\"))"
   ]
  },
  {
   "cell_type": "code",
   "execution_count": 19,
   "metadata": {},
   "outputs": [],
   "source": [
    "#import treecorr\n",
    "#import fitsio\n",
    "#import numpy\n",
    "#import matplotlib\n",
    "#import matplotlib.pyplot as plt\n",
    "#import pandas as pd\n",
    "#import astropy\n",
    "#from astropy.coordinates import SkyCoord\n",
    "#import astropy.units as u\n",
    "import sqlite3\n",
    "from astropy.table import Table\n",
    "#from matplotlib.patches import Circle\n",
    "#from mpl_toolkits.basemap import Basemap"
   ]
  },
  {
   "cell_type": "code",
   "execution_count": 3,
   "metadata": {},
   "outputs": [],
   "source": [
    "dataPath = '/Users/megantabbutt/CosmologyDataProducts/'"
   ]
  },
  {
   "cell_type": "code",
   "execution_count": 14,
   "metadata": {},
   "outputs": [
    {
     "data": {
      "text/html": [
       "<div>\n",
       "<style scoped>\n",
       "    .dataframe tbody tr th:only-of-type {\n",
       "        vertical-align: middle;\n",
       "    }\n",
       "\n",
       "    .dataframe tbody tr th {\n",
       "        vertical-align: top;\n",
       "    }\n",
       "\n",
       "    .dataframe thead th {\n",
       "        text-align: right;\n",
       "    }\n",
       "</style>\n",
       "<table border=\"1\" class=\"dataframe\">\n",
       "  <thead>\n",
       "    <tr style=\"text-align: right;\">\n",
       "      <th></th>\n",
       "      <th>RA</th>\n",
       "      <th>DEC</th>\n",
       "      <th>Z</th>\n",
       "      <th>NZ</th>\n",
       "    </tr>\n",
       "  </thead>\n",
       "  <tbody>\n",
       "    <tr>\n",
       "      <th>0</th>\n",
       "      <td>135.024090</td>\n",
       "      <td>42.607186</td>\n",
       "      <td>0.665110</td>\n",
       "      <td>0.000086</td>\n",
       "    </tr>\n",
       "    <tr>\n",
       "      <th>1</th>\n",
       "      <td>184.900909</td>\n",
       "      <td>51.550700</td>\n",
       "      <td>0.462735</td>\n",
       "      <td>0.000310</td>\n",
       "    </tr>\n",
       "    <tr>\n",
       "      <th>2</th>\n",
       "      <td>217.878368</td>\n",
       "      <td>11.663515</td>\n",
       "      <td>0.488284</td>\n",
       "      <td>0.000399</td>\n",
       "    </tr>\n",
       "  </tbody>\n",
       "</table>\n",
       "</div>"
      ],
      "text/plain": [
       "           RA        DEC         Z        NZ\n",
       "0  135.024090  42.607186  0.665110  0.000086\n",
       "1  184.900909  51.550700  0.462735  0.000310\n",
       "2  217.878368  11.663515  0.488284  0.000399"
      ]
     },
     "execution_count": 14,
     "metadata": {},
     "output_type": "execute_result"
    }
   ],
   "source": [
    "CMASS_North_rand_Tbl = Table.read(dataPath + 'random0_DR12v5_CMASS_North.fits', format='fits')\n",
    "del CMASS_North_rand_Tbl['WEIGHT_FKP', 'IPOLY', 'ISECT', 'ZINDX', 'SKYFLUX', 'IMAGE_DEPTH', \n",
    "                                'AIRMASS', 'EB_MINUS_V', 'PSF_FWHM']\n",
    "CMASS_North_rand_DF = CMASS_North_rand_Tbl.to_pandas()\n",
    "CMASS_North_rand_DF.head(3)"
   ]
  },
  {
   "cell_type": "code",
   "execution_count": 15,
   "metadata": {},
   "outputs": [
    {
     "data": {
      "text/html": [
       "<div>\n",
       "<style scoped>\n",
       "    .dataframe tbody tr th:only-of-type {\n",
       "        vertical-align: middle;\n",
       "    }\n",
       "\n",
       "    .dataframe tbody tr th {\n",
       "        vertical-align: top;\n",
       "    }\n",
       "\n",
       "    .dataframe thead th {\n",
       "        text-align: right;\n",
       "    }\n",
       "</style>\n",
       "<table border=\"1\" class=\"dataframe\">\n",
       "  <thead>\n",
       "    <tr style=\"text-align: right;\">\n",
       "      <th></th>\n",
       "      <th>RA</th>\n",
       "      <th>DEC</th>\n",
       "      <th>Z</th>\n",
       "      <th>NZ</th>\n",
       "    </tr>\n",
       "  </thead>\n",
       "  <tbody>\n",
       "    <tr>\n",
       "      <th>0</th>\n",
       "      <td>347.224394</td>\n",
       "      <td>2.632473</td>\n",
       "      <td>0.606073</td>\n",
       "      <td>0.000205</td>\n",
       "    </tr>\n",
       "    <tr>\n",
       "      <th>1</th>\n",
       "      <td>336.943608</td>\n",
       "      <td>14.745975</td>\n",
       "      <td>0.614214</td>\n",
       "      <td>0.000192</td>\n",
       "    </tr>\n",
       "    <tr>\n",
       "      <th>2</th>\n",
       "      <td>26.516977</td>\n",
       "      <td>10.941628</td>\n",
       "      <td>0.525046</td>\n",
       "      <td>0.000375</td>\n",
       "    </tr>\n",
       "  </tbody>\n",
       "</table>\n",
       "</div>"
      ],
      "text/plain": [
       "           RA        DEC         Z        NZ\n",
       "0  347.224394   2.632473  0.606073  0.000205\n",
       "1  336.943608  14.745975  0.614214  0.000192\n",
       "2   26.516977  10.941628  0.525046  0.000375"
      ]
     },
     "execution_count": 15,
     "metadata": {},
     "output_type": "execute_result"
    }
   ],
   "source": [
    "CMASS_South_rand_Tbl = Table.read(dataPath + 'random0_DR12v5_CMASS_South.fits', format='fits')\n",
    "del CMASS_South_rand_Tbl['WEIGHT_FKP', 'IPOLY', 'ISECT', 'ZINDX', 'SKYFLUX', 'IMAGE_DEPTH', \n",
    "                                'AIRMASS', 'EB_MINUS_V', 'PSF_FWHM']\n",
    "CMASS_South_rand_DF = CMASS_South_rand_Tbl.to_pandas()\n",
    "CMASS_South_rand_DF.head(3)"
   ]
  },
  {
   "cell_type": "code",
   "execution_count": 16,
   "metadata": {},
   "outputs": [
    {
     "data": {
      "text/html": [
       "<div>\n",
       "<style scoped>\n",
       "    .dataframe tbody tr th:only-of-type {\n",
       "        vertical-align: middle;\n",
       "    }\n",
       "\n",
       "    .dataframe tbody tr th {\n",
       "        vertical-align: top;\n",
       "    }\n",
       "\n",
       "    .dataframe thead th {\n",
       "        text-align: right;\n",
       "    }\n",
       "</style>\n",
       "<table border=\"1\" class=\"dataframe\">\n",
       "  <thead>\n",
       "    <tr style=\"text-align: right;\">\n",
       "      <th></th>\n",
       "      <th>RA</th>\n",
       "      <th>DEC</th>\n",
       "      <th>Z</th>\n",
       "      <th>NZ</th>\n",
       "    </tr>\n",
       "  </thead>\n",
       "  <tbody>\n",
       "    <tr>\n",
       "      <th>0</th>\n",
       "      <td>220.691220</td>\n",
       "      <td>23.695234</td>\n",
       "      <td>0.348653</td>\n",
       "      <td>0.000332</td>\n",
       "    </tr>\n",
       "    <tr>\n",
       "      <th>1</th>\n",
       "      <td>237.275777</td>\n",
       "      <td>3.814782</td>\n",
       "      <td>0.219876</td>\n",
       "      <td>0.000382</td>\n",
       "    </tr>\n",
       "    <tr>\n",
       "      <th>2</th>\n",
       "      <td>151.965079</td>\n",
       "      <td>46.003255</td>\n",
       "      <td>0.209877</td>\n",
       "      <td>0.000370</td>\n",
       "    </tr>\n",
       "  </tbody>\n",
       "</table>\n",
       "</div>"
      ],
      "text/plain": [
       "           RA        DEC         Z        NZ\n",
       "0  220.691220  23.695234  0.348653  0.000332\n",
       "1  237.275777   3.814782  0.219876  0.000382\n",
       "2  151.965079  46.003255  0.209877  0.000370"
      ]
     },
     "execution_count": 16,
     "metadata": {},
     "output_type": "execute_result"
    }
   ],
   "source": [
    "LOWZ_North_rand_Tbl = Table.read(dataPath + 'random0_DR12v5_LOWZ_North.fits', format='fits')\n",
    "del LOWZ_North_rand_Tbl['WEIGHT_FKP', 'IPOLY', 'ISECT', 'ZINDX', 'SKYFLUX', 'IMAGE_DEPTH', \n",
    "                                'AIRMASS', 'EB_MINUS_V', 'PSF_FWHM']\n",
    "LOWZ_North_rand_DF = LOWZ_North_rand_Tbl.to_pandas()\n",
    "LOWZ_North_rand_DF.head(3)"
   ]
  },
  {
   "cell_type": "code",
   "execution_count": 17,
   "metadata": {},
   "outputs": [
    {
     "data": {
      "text/html": [
       "<div>\n",
       "<style scoped>\n",
       "    .dataframe tbody tr th:only-of-type {\n",
       "        vertical-align: middle;\n",
       "    }\n",
       "\n",
       "    .dataframe tbody tr th {\n",
       "        vertical-align: top;\n",
       "    }\n",
       "\n",
       "    .dataframe thead th {\n",
       "        text-align: right;\n",
       "    }\n",
       "</style>\n",
       "<table border=\"1\" class=\"dataframe\">\n",
       "  <thead>\n",
       "    <tr style=\"text-align: right;\">\n",
       "      <th></th>\n",
       "      <th>RA</th>\n",
       "      <th>DEC</th>\n",
       "      <th>Z</th>\n",
       "      <th>NZ</th>\n",
       "    </tr>\n",
       "  </thead>\n",
       "  <tbody>\n",
       "    <tr>\n",
       "      <th>0</th>\n",
       "      <td>341.643820</td>\n",
       "      <td>22.744648</td>\n",
       "      <td>0.358111</td>\n",
       "      <td>0.000320</td>\n",
       "    </tr>\n",
       "    <tr>\n",
       "      <th>1</th>\n",
       "      <td>339.986390</td>\n",
       "      <td>13.279577</td>\n",
       "      <td>0.343342</td>\n",
       "      <td>0.000362</td>\n",
       "    </tr>\n",
       "    <tr>\n",
       "      <th>2</th>\n",
       "      <td>358.325043</td>\n",
       "      <td>22.101216</td>\n",
       "      <td>0.334088</td>\n",
       "      <td>0.000387</td>\n",
       "    </tr>\n",
       "  </tbody>\n",
       "</table>\n",
       "</div>"
      ],
      "text/plain": [
       "           RA        DEC         Z        NZ\n",
       "0  341.643820  22.744648  0.358111  0.000320\n",
       "1  339.986390  13.279577  0.343342  0.000362\n",
       "2  358.325043  22.101216  0.334088  0.000387"
      ]
     },
     "execution_count": 17,
     "metadata": {},
     "output_type": "execute_result"
    }
   ],
   "source": [
    "LOWZ_South_rand_Tbl = Table.read(dataPath + 'random0_DR12v5_LOWZ_South.fits', format='fits')\n",
    "del LOWZ_South_rand_Tbl['WEIGHT_FKP', 'IPOLY', 'ISECT', 'ZINDX', 'SKYFLUX', 'IMAGE_DEPTH', \n",
    "                                'AIRMASS', 'EB_MINUS_V', 'PSF_FWHM']\n",
    "LOWZ_South_rand_DF = LOWZ_South_rand_Tbl.to_pandas()\n",
    "LOWZ_South_rand_DF.head(3)"
   ]
  },
  {
   "cell_type": "code",
   "execution_count": 21,
   "metadata": {},
   "outputs": [],
   "source": [
    "connCMASSRands = sqlite3.connect(dataPath + 'CMASS_rands.db')\n",
    "#CMASS_South_rand_DF.to_sql(\"CMASS_South_rands\", con=connCMASSRands)\n",
    "#CMASS_North_rand_DF.to_sql(\"CMASS_North_rands\", con=connCMASSRands)"
   ]
  },
  {
   "cell_type": "code",
   "execution_count": 22,
   "metadata": {},
   "outputs": [],
   "source": [
    "connLOWZRands = sqlite3.connect(dataPath + 'LOWZ_rands.db')\n",
    "LOWZ_South_rand_DF.to_sql(\"LOWZ_South_rands\", con=connLOWZRands)\n",
    "LOWZ_North_rand_DF.to_sql(\"LOWZ_North_rands\", con=connLOWZRands)"
   ]
  },
  {
   "cell_type": "code",
   "execution_count": 23,
   "metadata": {},
   "outputs": [],
   "source": [
    "connCMASSRands.close()\n",
    "connLOWZRands.close()"
   ]
  }
 ],
 "metadata": {
  "kernelspec": {
   "display_name": "Python 3",
   "language": "python",
   "name": "python3"
  },
  "language_info": {
   "codemirror_mode": {
    "name": "ipython",
    "version": 3
   },
   "file_extension": ".py",
   "mimetype": "text/x-python",
   "name": "python",
   "nbconvert_exporter": "python",
   "pygments_lexer": "ipython3",
   "version": "3.7.2"
  }
 },
 "nbformat": 4,
 "nbformat_minor": 2
}
