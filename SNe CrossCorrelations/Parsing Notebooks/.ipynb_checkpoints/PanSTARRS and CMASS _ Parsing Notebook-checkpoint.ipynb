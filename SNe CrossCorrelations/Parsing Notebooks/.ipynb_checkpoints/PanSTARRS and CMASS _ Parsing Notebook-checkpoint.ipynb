{
 "cells": [
  {
   "cell_type": "markdown",
   "metadata": {},
   "source": [
    "This notebook should be run first when on a new computer so that that data products can be produced. The dataproducts are: \n",
    "\n",
    "- "
   ]
  },
  {
   "cell_type": "code",
   "execution_count": 1,
   "metadata": {},
   "outputs": [
    {
     "data": {
      "text/html": [
       "<style>.container { width:100% !important; }</style>"
      ],
      "text/plain": [
       "<IPython.core.display.HTML object>"
      ]
     },
     "metadata": {},
     "output_type": "display_data"
    }
   ],
   "source": [
    "# Make Jupyter Notebook full screen \n",
    "from IPython.core.display import display, HTML\n",
    "display(HTML(\"<style>.container { width:100% !important; }</style>\"))"
   ]
  },
  {
   "cell_type": "code",
   "execution_count": 16,
   "metadata": {},
   "outputs": [],
   "source": [
    "#import treecorr\n",
    "#import fitsio\n",
    "#import numpy\n",
    "#import matplotlib\n",
    "#import matplotlib.pyplot as plt\n",
    "import pandas as pd\n",
    "#import astropy\n",
    "from astropy.coordinates import SkyCoord\n",
    "import astropy.units as u\n",
    "import sqlite3\n",
    "from astropy.table import Table\n",
    "#from matplotlib.patches import Circle\n",
    "#from mpl_toolkits.basemap import Basemap"
   ]
  },
  {
   "cell_type": "code",
   "execution_count": 3,
   "metadata": {},
   "outputs": [],
   "source": [
    "'''\n",
    "Convert from PanSTARRS data where RA is in \"u.hourangle\" and DEC is in \"u.deg\" to just degrees\n",
    " @Param Dataframe     is the panstarrs dataframe to convert\n",
    " @Param newDataFrame  is the new data frame you will fill in \n",
    " --- FIX: could be improved to be more versitile\n",
    "'''\n",
    "def getRADecFromHourAngles(Dataframe, newDataFrame):\n",
    "    for i, row in Dataframe.iterrows():\n",
    "        Coords = SkyCoord(PanSTARRS['RA'][i], PanSTARRS['Dec'][i], unit=(u.hourangle, u.deg))\n",
    "        newDataFrame['ID'][i] = row['ID']\n",
    "        newDataFrame['RA'][i] = Coords.ra.degree\n",
    "        newDataFrame['DEC'][i] = Coords.dec.degree \n",
    "        newDataFrame['zSN'][i] = row['zSN']\n",
    "        newDataFrame['zHost'][i] = row['zHost']"
   ]
  },
  {
   "cell_type": "code",
   "execution_count": 4,
   "metadata": {},
   "outputs": [],
   "source": [
    "dataPath = '/Users/megantabbutt/CosmologyDataProducts/'"
   ]
  },
  {
   "cell_type": "code",
   "execution_count": 11,
   "metadata": {},
   "outputs": [
    {
     "data": {
      "text/html": [
       "<div>\n",
       "<style scoped>\n",
       "    .dataframe tbody tr th:only-of-type {\n",
       "        vertical-align: middle;\n",
       "    }\n",
       "\n",
       "    .dataframe tbody tr th {\n",
       "        vertical-align: top;\n",
       "    }\n",
       "\n",
       "    .dataframe thead th {\n",
       "        text-align: right;\n",
       "    }\n",
       "</style>\n",
       "<table border=\"1\" class=\"dataframe\">\n",
       "  <thead>\n",
       "    <tr style=\"text-align: right;\">\n",
       "      <th></th>\n",
       "      <th>ID</th>\n",
       "      <th>RA</th>\n",
       "      <th>DEC</th>\n",
       "      <th>zSN</th>\n",
       "      <th>zHost</th>\n",
       "    </tr>\n",
       "  </thead>\n",
       "  <tbody>\n",
       "    <tr>\n",
       "      <th>0</th>\n",
       "      <td>ps0909006</td>\n",
       "      <td>333.95</td>\n",
       "      <td>1.18483</td>\n",
       "      <td>0.284</td>\n",
       "      <td>-999</td>\n",
       "    </tr>\n",
       "    <tr>\n",
       "      <th>1</th>\n",
       "      <td>ps0909010</td>\n",
       "      <td>37.1182</td>\n",
       "      <td>-4.07891</td>\n",
       "      <td>0.27</td>\n",
       "      <td>-999</td>\n",
       "    </tr>\n",
       "    <tr>\n",
       "      <th>10</th>\n",
       "      <td>psc000091</td>\n",
       "      <td>129.329</td>\n",
       "      <td>44.3337</td>\n",
       "      <td>0.152</td>\n",
       "      <td>-999</td>\n",
       "    </tr>\n",
       "  </tbody>\n",
       "</table>\n",
       "</div>"
      ],
      "text/plain": [
       "           ID       RA      DEC    zSN zHost\n",
       "0   ps0909006   333.95  1.18483  0.284  -999\n",
       "1   ps0909010  37.1182 -4.07891   0.27  -999\n",
       "10  psc000091  129.329  44.3337  0.152  -999"
      ]
     },
     "execution_count": 11,
     "metadata": {},
     "output_type": "execute_result"
    }
   ],
   "source": [
    "# Different code parses the .txt file into a JSON, pull in from JSON here: \n",
    "\n",
    "PanSTARRS = pd.read_json( dataPath + 'PanSTARRS_Data.json', orient='columns' )\n",
    "PanSTARRSNEW = pd.DataFrame(columns = ['ID', 'RA', 'DEC', 'zSN', 'zHost'], index=PanSTARRS.index)\n",
    "getRADecFromHourAngles(PanSTARRS, PanSTARRSNEW) \n",
    "PanSTARRSNEW.head(3) #1169 objects"
   ]
  },
  {
   "cell_type": "code",
   "execution_count": 14,
   "metadata": {},
   "outputs": [
    {
     "data": {
      "text/html": [
       "<div>\n",
       "<style scoped>\n",
       "    .dataframe tbody tr th:only-of-type {\n",
       "        vertical-align: middle;\n",
       "    }\n",
       "\n",
       "    .dataframe tbody tr th {\n",
       "        vertical-align: top;\n",
       "    }\n",
       "\n",
       "    .dataframe thead th {\n",
       "        text-align: right;\n",
       "    }\n",
       "</style>\n",
       "<table border=\"1\" class=\"dataframe\">\n",
       "  <thead>\n",
       "    <tr style=\"text-align: right;\">\n",
       "      <th></th>\n",
       "      <th>ID</th>\n",
       "      <th>DEC</th>\n",
       "      <th>RA</th>\n",
       "      <th>zSN</th>\n",
       "      <th>zHost</th>\n",
       "    </tr>\n",
       "  </thead>\n",
       "  <tbody>\n",
       "    <tr>\n",
       "      <th>0</th>\n",
       "      <td>ps0909006</td>\n",
       "      <td>1.184831</td>\n",
       "      <td>333.9500</td>\n",
       "      <td>0.284</td>\n",
       "      <td>-999.0</td>\n",
       "    </tr>\n",
       "    <tr>\n",
       "      <th>1</th>\n",
       "      <td>ps0909010</td>\n",
       "      <td>-4.078911</td>\n",
       "      <td>37.1182</td>\n",
       "      <td>0.270</td>\n",
       "      <td>-999.0</td>\n",
       "    </tr>\n",
       "    <tr>\n",
       "      <th>2</th>\n",
       "      <td>ps0910017</td>\n",
       "      <td>-5.023289</td>\n",
       "      <td>35.2775</td>\n",
       "      <td>0.320</td>\n",
       "      <td>-999.0</td>\n",
       "    </tr>\n",
       "  </tbody>\n",
       "</table>\n",
       "</div>"
      ],
      "text/plain": [
       "          ID       DEC        RA    zSN  zHost\n",
       "0  ps0909006  1.184831  333.9500  0.284 -999.0\n",
       "1  ps0909010 -4.078911   37.1182  0.270 -999.0\n",
       "2  ps0910017 -5.023289   35.2775  0.320 -999.0"
      ]
     },
     "execution_count": 14,
     "metadata": {},
     "output_type": "execute_result"
    }
   ],
   "source": [
    "# Open a SQL Connection and pull out SNe data that has a good z for itsself or its host\n",
    "\n",
    "connPAN = sqlite3.connect(dataPath + 'PanSTARRS.db')\n",
    "#PanSTARRSNEW.to_sql(\"PanSTARRSNEW\", con=connPAN) # Execute this if pd doesn't exist already\n",
    "\n",
    "qry = \"SELECT ID, DEC, RA, zSN, zHost FROM PanSTARRSNEW WHERE (zSN > -999) || (zHost > -999)\"\n",
    "PanSTARRSNEW_GoodZ = pd.read_sql(qry, con=connPAN)\n",
    "PanSTARRSNEW_GoodZ.head(3) # 1129 objects over 10 pointings "
   ]
  },
  {
   "cell_type": "code",
   "execution_count": 17,
   "metadata": {},
   "outputs": [
    {
     "data": {
      "text/html": [
       "<div>\n",
       "<style scoped>\n",
       "    .dataframe tbody tr th:only-of-type {\n",
       "        vertical-align: middle;\n",
       "    }\n",
       "\n",
       "    .dataframe tbody tr th {\n",
       "        vertical-align: top;\n",
       "    }\n",
       "\n",
       "    .dataframe thead th {\n",
       "        text-align: right;\n",
       "    }\n",
       "</style>\n",
       "<table border=\"1\" class=\"dataframe\">\n",
       "  <thead>\n",
       "    <tr style=\"text-align: right;\">\n",
       "      <th></th>\n",
       "      <th>RA</th>\n",
       "      <th>DEC</th>\n",
       "      <th>Z</th>\n",
       "      <th>NZ</th>\n",
       "    </tr>\n",
       "  </thead>\n",
       "  <tbody>\n",
       "    <tr>\n",
       "      <th>0</th>\n",
       "      <td>195.071285</td>\n",
       "      <td>-0.590771</td>\n",
       "      <td>0.465648</td>\n",
       "      <td>0.000345</td>\n",
       "    </tr>\n",
       "    <tr>\n",
       "      <th>1</th>\n",
       "      <td>195.022992</td>\n",
       "      <td>-0.610999</td>\n",
       "      <td>0.565802</td>\n",
       "      <td>0.000319</td>\n",
       "    </tr>\n",
       "    <tr>\n",
       "      <th>2</th>\n",
       "      <td>195.079741</td>\n",
       "      <td>0.348981</td>\n",
       "      <td>0.612211</td>\n",
       "      <td>0.000191</td>\n",
       "    </tr>\n",
       "  </tbody>\n",
       "</table>\n",
       "</div>"
      ],
      "text/plain": [
       "           RA       DEC         Z        NZ\n",
       "0  195.071285 -0.590771  0.465648  0.000345\n",
       "1  195.022992 -0.610999  0.565802  0.000319\n",
       "2  195.079741  0.348981  0.612211  0.000191"
      ]
     },
     "execution_count": 17,
     "metadata": {},
     "output_type": "execute_result"
    }
   ],
   "source": [
    "# Pull in the CMASS data from a fits file and delete some columns that are no good for pd dataframe:\n",
    "\n",
    "CMASSLOWZTOT_North_Tbl = Table.read(dataPath + 'galaxy_DR12v5_CMASSLOWZTOT_North.fits', format='fits')\n",
    "del CMASSLOWZTOT_North_Tbl['FRACPSF', 'EXPFLUX', 'DEVFLUX', 'PSFFLUX', 'MODELFLUX', 'FIBER2FLUX', 'R_DEV', 'EXTINCTION', \n",
    "                           'PSF_FWHM', 'SKYFLUX', 'IMAGE_DEPTH', 'TILE', 'RERUN', 'CAMCOL', 'FIELD', 'ID', 'ICHUNK', 'RUN', \n",
    "                          'IPOLY', 'AIRMASS', 'EB_MINUS_V', 'IMATCH', 'WEIGHT_FKP', 'WEIGHT_CP', 'WEIGHT_NOZ', 'WEIGHT_STAR',\n",
    "                          'WEIGHT_SEEING', 'WEIGHT_SYSTOT', 'COMP', 'PLATE', 'FIBERID', 'MJD', 'FINALN', 'SPECTILE', 'ICOLLIDED', \n",
    "                          'INGROUP', 'MULTGROUP', 'ISECT']\n",
    "CMASSLOWZTOT_North_DF = CMASSLOWZTOT_North_Tbl.to_pandas()\n",
    "CMASSLOWZTOT_North_DF.head(3)"
   ]
  },
  {
   "cell_type": "code",
   "execution_count": 18,
   "metadata": {},
   "outputs": [
    {
     "data": {
      "text/html": [
       "<div>\n",
       "<style scoped>\n",
       "    .dataframe tbody tr th:only-of-type {\n",
       "        vertical-align: middle;\n",
       "    }\n",
       "\n",
       "    .dataframe tbody tr th {\n",
       "        vertical-align: top;\n",
       "    }\n",
       "\n",
       "    .dataframe thead th {\n",
       "        text-align: right;\n",
       "    }\n",
       "</style>\n",
       "<table border=\"1\" class=\"dataframe\">\n",
       "  <thead>\n",
       "    <tr style=\"text-align: right;\">\n",
       "      <th></th>\n",
       "      <th>RA</th>\n",
       "      <th>DEC</th>\n",
       "      <th>Z</th>\n",
       "      <th>NZ</th>\n",
       "    </tr>\n",
       "  </thead>\n",
       "  <tbody>\n",
       "    <tr>\n",
       "      <th>0</th>\n",
       "      <td>321.480329</td>\n",
       "      <td>9.973440</td>\n",
       "      <td>0.301401</td>\n",
       "      <td>0.000390</td>\n",
       "    </tr>\n",
       "    <tr>\n",
       "      <th>1</th>\n",
       "      <td>321.359691</td>\n",
       "      <td>9.933358</td>\n",
       "      <td>0.458872</td>\n",
       "      <td>0.000350</td>\n",
       "    </tr>\n",
       "    <tr>\n",
       "      <th>2</th>\n",
       "      <td>322.614181</td>\n",
       "      <td>10.144496</td>\n",
       "      <td>0.579383</td>\n",
       "      <td>0.000273</td>\n",
       "    </tr>\n",
       "  </tbody>\n",
       "</table>\n",
       "</div>"
      ],
      "text/plain": [
       "           RA        DEC         Z        NZ\n",
       "0  321.480329   9.973440  0.301401  0.000390\n",
       "1  321.359691   9.933358  0.458872  0.000350\n",
       "2  322.614181  10.144496  0.579383  0.000273"
      ]
     },
     "execution_count": 18,
     "metadata": {},
     "output_type": "execute_result"
    }
   ],
   "source": [
    "CMASSLOWZTOT_South_Tbl = Table.read(dataPath + 'galaxy_DR12v5_CMASSLOWZTOT_South.fits', format='fits')\n",
    "del CMASSLOWZTOT_South_Tbl['FRACPSF', 'EXPFLUX', 'DEVFLUX', 'PSFFLUX', 'MODELFLUX', 'FIBER2FLUX', 'R_DEV', 'EXTINCTION', \n",
    "                           'PSF_FWHM', 'SKYFLUX', 'IMAGE_DEPTH', 'TILE', 'RERUN', 'CAMCOL', 'FIELD', 'ID', 'ICHUNK', 'RUN', \n",
    "                          'IPOLY', 'AIRMASS', 'EB_MINUS_V', 'IMATCH', 'WEIGHT_FKP', 'WEIGHT_CP', 'WEIGHT_NOZ', 'WEIGHT_STAR',\n",
    "                          'WEIGHT_SEEING', 'WEIGHT_SYSTOT', 'COMP', 'PLATE', 'FIBERID', 'MJD', 'FINALN', 'SPECTILE', 'ICOLLIDED', \n",
    "                          'INGROUP', 'MULTGROUP', 'ISECT']\n",
    "CMASSLOWZTOT_South_DF = CMASSLOWZTOT_South_Tbl.to_pandas()\n",
    "CMASSLOWZTOT_South_DF.head(3)"
   ]
  },
  {
   "cell_type": "code",
   "execution_count": 20,
   "metadata": {},
   "outputs": [
    {
     "data": {
      "text/html": [
       "<div>\n",
       "<style scoped>\n",
       "    .dataframe tbody tr th:only-of-type {\n",
       "        vertical-align: middle;\n",
       "    }\n",
       "\n",
       "    .dataframe tbody tr th {\n",
       "        vertical-align: top;\n",
       "    }\n",
       "\n",
       "    .dataframe thead th {\n",
       "        text-align: right;\n",
       "    }\n",
       "</style>\n",
       "<table border=\"1\" class=\"dataframe\">\n",
       "  <thead>\n",
       "    <tr style=\"text-align: right;\">\n",
       "      <th></th>\n",
       "      <th>index</th>\n",
       "      <th>RA</th>\n",
       "      <th>DEC</th>\n",
       "      <th>Z</th>\n",
       "      <th>NZ</th>\n",
       "    </tr>\n",
       "  </thead>\n",
       "  <tbody>\n",
       "    <tr>\n",
       "      <th>0</th>\n",
       "      <td>0</td>\n",
       "      <td>195.071285</td>\n",
       "      <td>-0.590771</td>\n",
       "      <td>0.465648</td>\n",
       "      <td>0.000345</td>\n",
       "    </tr>\n",
       "    <tr>\n",
       "      <th>1</th>\n",
       "      <td>0</td>\n",
       "      <td>321.480329</td>\n",
       "      <td>9.973440</td>\n",
       "      <td>0.301401</td>\n",
       "      <td>0.000390</td>\n",
       "    </tr>\n",
       "    <tr>\n",
       "      <th>2</th>\n",
       "      <td>1</td>\n",
       "      <td>195.022992</td>\n",
       "      <td>-0.610999</td>\n",
       "      <td>0.565802</td>\n",
       "      <td>0.000319</td>\n",
       "    </tr>\n",
       "  </tbody>\n",
       "</table>\n",
       "</div>"
      ],
      "text/plain": [
       "   index          RA       DEC         Z        NZ\n",
       "0      0  195.071285 -0.590771  0.465648  0.000345\n",
       "1      0  321.480329  9.973440  0.301401  0.000390\n",
       "2      1  195.022992 -0.610999  0.565802  0.000319"
      ]
     },
     "execution_count": 20,
     "metadata": {},
     "output_type": "execute_result"
    }
   ],
   "source": [
    "# Open a SQL connection to union the four CMASS/LOWZ data sets together: \n",
    "\n",
    "connBOSS = sqlite3.connect(dataPath + 'CMASS_and_LOWZ.db')\n",
    "#CMASSLOWZTOT_South_DF.to_sql(\"CMASSLOWZTOT_South\", con=connBOSS) # Execute these if .db doesn't exist yet\n",
    "#CMASSLOWZTOT_North_DF.to_sql(\"CMASSLOWZTOT_North\", con=connBOSS) # Do one at a time to make sure all is good\n",
    "\n",
    "qry = \"SELECT * FROM CMASSLOWZTOT_South UNION SELECT * FROM CMASSLOWZTOT_North\"\n",
    "CMASSLOWZTOT_DF = pd.read_sql(qry, con=connBOSS)\n",
    "CMASSLOWZTOT_DF.head(3) # 1.3 million objects"
   ]
  },
  {
   "cell_type": "code",
   "execution_count": 21,
   "metadata": {},
   "outputs": [
    {
     "data": {
      "text/html": [
       "<div>\n",
       "<style scoped>\n",
       "    .dataframe tbody tr th:only-of-type {\n",
       "        vertical-align: middle;\n",
       "    }\n",
       "\n",
       "    .dataframe tbody tr th {\n",
       "        vertical-align: top;\n",
       "    }\n",
       "\n",
       "    .dataframe thead th {\n",
       "        text-align: right;\n",
       "    }\n",
       "</style>\n",
       "<table border=\"1\" class=\"dataframe\">\n",
       "  <thead>\n",
       "    <tr style=\"text-align: right;\">\n",
       "      <th></th>\n",
       "      <th>RA</th>\n",
       "      <th>DEC</th>\n",
       "      <th>Z</th>\n",
       "      <th>NZ</th>\n",
       "    </tr>\n",
       "  </thead>\n",
       "  <tbody>\n",
       "    <tr>\n",
       "      <th>0</th>\n",
       "      <td>169.385745</td>\n",
       "      <td>7.819587</td>\n",
       "      <td>0.565698</td>\n",
       "      <td>0.000319</td>\n",
       "    </tr>\n",
       "    <tr>\n",
       "      <th>1</th>\n",
       "      <td>154.579475</td>\n",
       "      <td>11.448676</td>\n",
       "      <td>0.226644</td>\n",
       "      <td>0.000424</td>\n",
       "    </tr>\n",
       "    <tr>\n",
       "      <th>2</th>\n",
       "      <td>229.854122</td>\n",
       "      <td>45.033826</td>\n",
       "      <td>0.525184</td>\n",
       "      <td>0.000404</td>\n",
       "    </tr>\n",
       "  </tbody>\n",
       "</table>\n",
       "</div>"
      ],
      "text/plain": [
       "           RA        DEC         Z        NZ\n",
       "0  169.385745   7.819587  0.565698  0.000319\n",
       "1  154.579475  11.448676  0.226644  0.000424\n",
       "2  229.854122  45.033826  0.525184  0.000404"
      ]
     },
     "execution_count": 21,
     "metadata": {},
     "output_type": "execute_result"
    }
   ],
   "source": [
    "CMASSLOWZTOT_North_rand_Tbl = Table.read(dataPath + 'random0_DR12v5_CMASSLOWZTOT_North.fits', format='fits')\n",
    "del CMASSLOWZTOT_North_rand_Tbl['WEIGHT_FKP', 'IPOLY', 'ISECT', 'ZINDX', 'SKYFLUX', 'IMAGE_DEPTH', \n",
    "                                'AIRMASS', 'EB_MINUS_V', 'PSF_FWHM']\n",
    "CMASSLOWZTOT_North_rand_Tbl\n",
    "CMASSLOWZTOT_North_rand_DF = CMASSLOWZTOT_North_rand_Tbl.to_pandas()\n",
    "CMASSLOWZTOT_North_rand_DF.head(3)"
   ]
  },
  {
   "cell_type": "code",
   "execution_count": 22,
   "metadata": {},
   "outputs": [
    {
     "data": {
      "text/html": [
       "<div>\n",
       "<style scoped>\n",
       "    .dataframe tbody tr th:only-of-type {\n",
       "        vertical-align: middle;\n",
       "    }\n",
       "\n",
       "    .dataframe tbody tr th {\n",
       "        vertical-align: top;\n",
       "    }\n",
       "\n",
       "    .dataframe thead th {\n",
       "        text-align: right;\n",
       "    }\n",
       "</style>\n",
       "<table border=\"1\" class=\"dataframe\">\n",
       "  <thead>\n",
       "    <tr style=\"text-align: right;\">\n",
       "      <th></th>\n",
       "      <th>RA</th>\n",
       "      <th>DEC</th>\n",
       "      <th>Z</th>\n",
       "      <th>NZ</th>\n",
       "    </tr>\n",
       "  </thead>\n",
       "  <tbody>\n",
       "    <tr>\n",
       "      <th>0</th>\n",
       "      <td>332.902777</td>\n",
       "      <td>-3.099005</td>\n",
       "      <td>0.485921</td>\n",
       "      <td>0.000416</td>\n",
       "    </tr>\n",
       "    <tr>\n",
       "      <th>1</th>\n",
       "      <td>3.395979</td>\n",
       "      <td>0.256192</td>\n",
       "      <td>0.449228</td>\n",
       "      <td>0.000311</td>\n",
       "    </tr>\n",
       "    <tr>\n",
       "      <th>2</th>\n",
       "      <td>349.358564</td>\n",
       "      <td>24.769733</td>\n",
       "      <td>0.474374</td>\n",
       "      <td>0.000378</td>\n",
       "    </tr>\n",
       "  </tbody>\n",
       "</table>\n",
       "</div>"
      ],
      "text/plain": [
       "           RA        DEC         Z        NZ\n",
       "0  332.902777  -3.099005  0.485921  0.000416\n",
       "1    3.395979   0.256192  0.449228  0.000311\n",
       "2  349.358564  24.769733  0.474374  0.000378"
      ]
     },
     "execution_count": 22,
     "metadata": {},
     "output_type": "execute_result"
    }
   ],
   "source": [
    "CMASSLOWZTOT_South_rand_Tbl = Table.read(dataPath + 'random0_DR12v5_CMASSLOWZTOT_South.fits', format='fits')\n",
    "del CMASSLOWZTOT_South_rand_Tbl['WEIGHT_FKP', 'IPOLY', 'ISECT', 'ZINDX', 'SKYFLUX', 'IMAGE_DEPTH', \n",
    "                                'AIRMASS', 'EB_MINUS_V', 'PSF_FWHM']\n",
    "CMASSLOWZTOT_South_rand_Tbl\n",
    "CMASSLOWZTOT_South_rand_DF = CMASSLOWZTOT_South_rand_Tbl.to_pandas()\n",
    "CMASSLOWZTOT_South_rand_DF.head(3)"
   ]
  },
  {
   "cell_type": "code",
   "execution_count": 23,
   "metadata": {},
   "outputs": [],
   "source": [
    "connBOSSRands = sqlite3.connect(dataPath + 'CMASS_and_LOWZ_rands.db')\n",
    "#CMASSLOWZTOT_South_rand_DF.to_sql(\"CMASSLOWZTOT_South_rands\", con=connBOSSRands) # Execute these if .db doesn't exist yet\n",
    "#CMASSLOWZTOT_North_rand_DF.to_sql(\"CMASSLOWZTOT_North_rands\", con=connBOSSRands) # Do one at a time to make sure all is good"
   ]
  },
  {
   "cell_type": "code",
   "execution_count": 24,
   "metadata": {},
   "outputs": [
    {
     "data": {
      "text/html": [
       "<div>\n",
       "<style scoped>\n",
       "    .dataframe tbody tr th:only-of-type {\n",
       "        vertical-align: middle;\n",
       "    }\n",
       "\n",
       "    .dataframe tbody tr th {\n",
       "        vertical-align: top;\n",
       "    }\n",
       "\n",
       "    .dataframe thead th {\n",
       "        text-align: right;\n",
       "    }\n",
       "</style>\n",
       "<table border=\"1\" class=\"dataframe\">\n",
       "  <thead>\n",
       "    <tr style=\"text-align: right;\">\n",
       "      <th></th>\n",
       "      <th>index</th>\n",
       "      <th>RA</th>\n",
       "      <th>DEC</th>\n",
       "      <th>Z</th>\n",
       "      <th>NZ</th>\n",
       "    </tr>\n",
       "  </thead>\n",
       "  <tbody>\n",
       "    <tr>\n",
       "      <th>0</th>\n",
       "      <td>233</td>\n",
       "      <td>155.079917</td>\n",
       "      <td>21.492715</td>\n",
       "      <td>0.081925</td>\n",
       "      <td>0.001772</td>\n",
       "    </tr>\n",
       "    <tr>\n",
       "      <th>1</th>\n",
       "      <td>3862</td>\n",
       "      <td>139.908298</td>\n",
       "      <td>61.870838</td>\n",
       "      <td>0.491095</td>\n",
       "      <td>0.000418</td>\n",
       "    </tr>\n",
       "    <tr>\n",
       "      <th>2</th>\n",
       "      <td>3956</td>\n",
       "      <td>34.730077</td>\n",
       "      <td>5.284802</td>\n",
       "      <td>0.224968</td>\n",
       "      <td>0.000439</td>\n",
       "    </tr>\n",
       "  </tbody>\n",
       "</table>\n",
       "</div>"
      ],
      "text/plain": [
       "   index          RA        DEC         Z        NZ\n",
       "0    233  155.079917  21.492715  0.081925  0.001772\n",
       "1   3862  139.908298  61.870838  0.491095  0.000418\n",
       "2   3956   34.730077   5.284802  0.224968  0.000439"
      ]
     },
     "execution_count": 24,
     "metadata": {},
     "output_type": "execute_result"
    }
   ],
   "source": [
    "randSampleQry = \"SELECT * FROM CMASSLOWZTOT_South_rands WHERE `index` IN (SELECT `index` FROM CMASSLOWZTOT_South_rands ORDER BY RANDOM() LIMIT 10000) UNION SELECT * FROM CMASSLOWZTOT_North_rands WHERE `index` IN (SELECT `index` FROM CMASSLOWZTOT_North_rands ORDER BY RANDOM() LIMIT 10000)\"\n",
    "randQry = \"SELECT * FROM CMASSLOWZTOT_South_rands UNION SELECT * FROM CMASSLOWZTOT_North_rands\"\n",
    "CMASSLOWZTOT_DF_rands = pd.read_sql(randSampleQry, con=connBOSSRands)\n",
    "CMASSLOWZTOT_DF_rands.to_json(dataPath + \"CMASSLOWZTOT_DF_rands\")\n",
    "CMASSLOWZTOT_DF_rands.head(3)"
   ]
  },
  {
   "cell_type": "code",
   "execution_count": null,
   "metadata": {},
   "outputs": [],
   "source": []
  }
 ],
 "metadata": {
  "kernelspec": {
   "display_name": "Python 3",
   "language": "python",
   "name": "python3"
  },
  "language_info": {
   "codemirror_mode": {
    "name": "ipython",
    "version": 3
   },
   "file_extension": ".py",
   "mimetype": "text/x-python",
   "name": "python",
   "nbconvert_exporter": "python",
   "pygments_lexer": "ipython3",
   "version": "3.8.2"
  }
 },
 "nbformat": 4,
 "nbformat_minor": 2
}
