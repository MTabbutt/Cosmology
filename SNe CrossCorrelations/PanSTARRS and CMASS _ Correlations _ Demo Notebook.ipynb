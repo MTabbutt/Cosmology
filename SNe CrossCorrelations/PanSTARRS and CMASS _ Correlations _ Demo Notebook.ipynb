{
 "cells": [
  {
   "cell_type": "markdown",
   "metadata": {},
   "source": [
    "# TODO:"
   ]
  },
  {
   "cell_type": "code",
   "execution_count": 1,
   "metadata": {},
   "outputs": [
    {
     "data": {
      "text/html": [
       "<style>.container { width:90% !important; }</style>"
      ],
      "text/plain": [
       "<IPython.core.display.HTML object>"
      ]
     },
     "metadata": {},
     "output_type": "display_data"
    }
   ],
   "source": [
    "# Make Jupyter Notebook full screen \n",
    "from IPython.core.display import display, HTML\n",
    "display(HTML(\"<style>.container { width:90% !important; }</style>\"))"
   ]
  },
  {
   "cell_type": "code",
   "execution_count": 2,
   "metadata": {},
   "outputs": [],
   "source": [
    "import CorrelationsTreeCorr # depends on: sqlite3, pandas, treecorr, numpy, and matplotlib\n",
    "\n",
    "# Need these extra imports to make the PanStarrs Randoms ourselves. \n",
    "import treecorr\n",
    "import numpy\n",
    "import pandas as pd # to save the files of data"
   ]
  },
  {
   "cell_type": "markdown",
   "metadata": {},
   "source": [
    "### 1) Define the data paths to use: \n",
    "- Need to make the folder in TESTING_PRODUCTS_PATH, not automatically generated in this code. (TODO)"
   ]
  },
  {
   "cell_type": "code",
   "execution_count": 3,
   "metadata": {},
   "outputs": [],
   "source": [
    "DATA_PATH = '/Users/megantabbutt/CosmologyDataProducts/'\n",
    "\n",
    "TESTING_PRODUCTS_PATH = \"/Users/megantabbutt/Cosmology/Cosmology/SNe CrossCorrelations/VerificationTestingProducts/\"\n",
    "\n",
    "TESTING_PRODUCTS_PATH = TESTING_PRODUCTS_PATH + \"21_10_20_R/\"\n",
    "\n",
    "NOTES_PATH = TESTING_PRODUCTS_PATH + 'RunNotes.txt'\n",
    "\n",
    "def NotesToWrite(notes):\n",
    "    NOTES = open(NOTES_PATH, \"a\")\n",
    "    NOTES.write(notes)\n",
    "    NOTES.write(\"\\n \\n\")\n",
    "    NOTES.close()"
   ]
  },
  {
   "cell_type": "code",
   "execution_count": 4,
   "metadata": {},
   "outputs": [],
   "source": [
    "NotesToWrite(\"Doing a small test run first\")"
   ]
  },
  {
   "cell_type": "markdown",
   "metadata": {},
   "source": [
    "### 2) Make all of the data Catalogs that you want to use in this notebook with the _Correlation_Data_ class in the _CorrelationsTreeCorr module_"
   ]
  },
  {
   "cell_type": "code",
   "execution_count": 5,
   "metadata": {},
   "outputs": [],
   "source": [
    "# Initialize object for this notebook:\n",
    "PanStarrsBossCorrObject = CorrelationsTreeCorr.Correlation_Data(DATA_PATH, TESTING_PRODUCTS_PATH)"
   ]
  },
  {
   "cell_type": "code",
   "execution_count": 6,
   "metadata": {},
   "outputs": [
    {
     "name": "stdout",
     "output_type": "stream",
     "text": [
      "dataFrame: \n",
      "          ID       DEC        RA    zSN  zHost\n",
      "0  ps0909006  1.184831  333.9500  0.284 -999.0\n",
      "1  ps0909010 -4.078911   37.1182  0.270 -999.0\n",
      "2  ps0910017 -5.023289   35.2775  0.320 -999.0\n"
     ]
    }
   ],
   "source": [
    "PanStarrs_Data_all_query = \"SELECT ID, DEC, RA, zSN, zHost FROM PanSTARRSNEW WHERE (zSN > -999) || (zHost > -999)\"\n",
    "PanSTARRS_data_all_df = PanStarrsBossCorrObject.makeDataCatalogs(\"PanSTARRS.db\", PanStarrs_Data_all_query)\n",
    "NotesToWrite('PanStarrs_Data_all_query: ' + PanStarrs_Data_all_query)"
   ]
  },
  {
   "cell_type": "code",
   "execution_count": 7,
   "metadata": {},
   "outputs": [
    {
     "name": "stdout",
     "output_type": "stream",
     "text": [
      "dataFrame: \n",
      "          ID       DEC        RA    zSN  zHost\n",
      "0  ps0909006  1.184831  333.9500  0.284 -999.0\n",
      "1  ps0909010 -4.078911   37.1182  0.270 -999.0\n",
      "2  ps0910017 -5.023289   35.2775  0.320 -999.0\n"
     ]
    }
   ],
   "source": [
    "# Only 9 pointings from PanStarrs Overlap with the BOSS field so when doing the cross correlation need to only take these 9:\n",
    "PanSTARRS_Data_only_9_query = \"\"\"SELECT ID, DEC, RA, zSN, zHost FROM PanSTARRSNEW WHERE (DEC > -20) AND ((zSN > -999) OR (zHost > -999))\"\"\"\n",
    "PanSTARRS_Data_only_9_df = PanStarrsBossCorrObject.makeDataCatalogs(\"PanSTARRS.db\", PanSTARRS_Data_only_9_query)\n",
    "NotesToWrite('PanSTARRS_Data_only_9_df: ' + PanSTARRS_Data_only_9_query)\n"
   ]
  },
  {
   "cell_type": "code",
   "execution_count": 8,
   "metadata": {},
   "outputs": [
    {
     "name": "stdout",
     "output_type": "stream",
     "text": [
      "dataFrame: \n",
      "   index          RA       DEC         Z        NZ\n",
      "0      0  195.071285 -0.590771  0.465648  0.000345\n",
      "1      0  321.480329  9.973440  0.301401  0.000390\n",
      "2      1  195.022992 -0.610999  0.565802  0.000319\n"
     ]
    }
   ],
   "source": [
    "BOSS_Data_All_query = \"SELECT * FROM CMASSLOWZTOT_South UNION SELECT * FROM CMASSLOWZTOT_North\"\n",
    "BOSS_Data_All_df = PanStarrsBossCorrObject.makeDataCatalogs(\"CMASS_and_LOWZ.db\", BOSS_Data_All_query)\n",
    "NotesToWrite('BOSS_Data_All_query: ' + BOSS_Data_All_query)"
   ]
  },
  {
   "cell_type": "code",
   "execution_count": 9,
   "metadata": {},
   "outputs": [
    {
     "name": "stdout",
     "output_type": "stream",
     "text": [
      "dataFrame: \n",
      "   index          RA       DEC         Z        NZ\n",
      "0      0  169.385745  7.819587  0.565698  0.000319\n",
      "1      0  332.902777 -3.099005  0.485921  0.000416\n",
      "2      1    3.395979  0.256192  0.449228  0.000311\n"
     ]
    }
   ],
   "source": [
    "BOSS_Rands_Limit_query = \"\"\"SELECT * FROM CMASSLOWZTOT_South_rands \n",
    "    WHERE `index` IN (SELECT `index`FROM CMASSLOWZTOT_South_rands ORDER BY RANDOM() LIMIT 80000000) UNION \n",
    "    SELECT * FROM CMASSLOWZTOT_North_rands \n",
    "    WHERE `index`  IN (SELECT `index` FROM CMASSLOWZTOT_North_rands ORDER BY RANDOM() LIMIT 80000000)\"\"\"\n",
    "BOSS_Rands_Limit_df = PanStarrsBossCorrObject.makeDataCatalogs(\"CMASS_and_LOWZ_rands.db\", BOSS_Rands_Limit_query)\n",
    "NotesToWrite('BOSS_Rands_Limit_query: ' + BOSS_Rands_Limit_query)"
   ]
  },
  {
   "cell_type": "markdown",
   "metadata": {},
   "source": [
    "## 3) Need to make PanStarrs randoms ourselves as there is no dataset for that (that we have access to):"
   ]
  },
  {
   "cell_type": "code",
   "execution_count": null,
   "metadata": {},
   "outputs": [],
   "source": [
    "cat_PanSTARRS_Full = treecorr.Catalog(ra=PanSTARRS_data_all_df['RA'], dec=PanSTARRS_data_all_df['DEC'], ra_units='degrees', dec_units='degrees')\n",
    "randsLength = 20**8\n",
    "\n",
    "ra_min_PanSTARRS = numpy.min(cat_PanSTARRS_Full.ra)\n",
    "ra_max_PanSTARRS = numpy.max(cat_PanSTARRS_Full.ra)\n",
    "dec_min_PanSTARRS = numpy.min(cat_PanSTARRS_Full.dec)\n",
    "dec_max_PanSTARRS = numpy.max(cat_PanSTARRS_Full.dec)\n",
    "#print('PanSTARRS ra range = %f .. %f' % (ra_min_PanSTARRS, ra_max_PanSTARRS))\n",
    "#print('PanSTARRS dec range = %f .. %f' % (dec_min_PanSTARRS, dec_max_PanSTARRS))\n",
    "\n",
    "rand_ra_PanSTARRS = numpy.random.uniform(ra_min_PanSTARRS, ra_max_PanSTARRS, randsLength)\n",
    "rand_sindec_PanSTARRS = numpy.random.uniform(numpy.sin(dec_min_PanSTARRS), numpy.sin(dec_max_PanSTARRS), randsLength)\n",
    "rand_dec_PanSTARRS = numpy.arcsin(rand_sindec_PanSTARRS)\n",
    "\n",
    "pointings = {\"MD01\": [035.875, -04.250], \"MD03\": [130.592, 44.317], \"MD04\": [150.000, 02.200], \n",
    "             \"MD05\": [161.917, 58.083], \"MD06\": [185.000, 47.117], \"MD07\": [213.704, 53.083], \n",
    "             \"MD08\": [242.787, 54.950], \"MD09\": [334.188, 00.283], \"MD10\": [352.312, -00.433], \"MD02\": [053.100, -27.800],}\n",
    "\n",
    "radius = (3.3/2) * numpy.pi / 180.0\n",
    "\n",
    "maskRA = []\n",
    "maskDEC = []\n",
    "randoms_Lengths = []\n",
    "\n",
    "for pointing in pointings: \n",
    "    \n",
    "    #print(pointings[pointing])\n",
    "    center_dec = pointings[pointing][1] * numpy.pi / 180\n",
    "    center_ra = pointings[pointing][0] * numpy.pi / 180\n",
    "\n",
    "    angular_seps = numpy.arccos(numpy.cos(numpy.pi / 2 - center_dec) * numpy.cos(numpy.pi / 2 - rand_dec_PanSTARRS) + \n",
    "                                numpy.sin(numpy.pi / 2 - center_dec) * numpy.sin(numpy.pi / 2 - rand_dec_PanSTARRS) * \n",
    "                                numpy.cos(center_ra - rand_ra_PanSTARRS))\n",
    "\n",
    "    ras_in_circle = rand_ra_PanSTARRS[angular_seps < radius]\n",
    "    #print(len(ras_in_circle))\n",
    "    ras_in_circle = ras_in_circle * 180 / numpy.pi\n",
    "    decs_in_circle = rand_dec_PanSTARRS[angular_seps < radius]\n",
    "    #print(len(decs_in_circle))\n",
    "    decs_in_circle = decs_in_circle * 180 / numpy.pi\n",
    "    \n",
    "    maskRA.extend(ras_in_circle)\n",
    "    maskDEC.extend(decs_in_circle)\n",
    "    \n",
    "    randoms_Lengths.append(len(ras_in_circle))\n",
    "print(\"done. Length of randoms: \" + str(len(maskRA)))\n",
    "NotesToWrite('maskRA: ' + str(randsLength))\n",
    "NotesToWrite('in all 10 pointings:: ' + str(len(maskRA)))\n"
   ]
  },
  {
   "cell_type": "code",
   "execution_count": null,
   "metadata": {},
   "outputs": [],
   "source": [
    "# Need to get just 9 pointings from PanSTARRS for Boss Cross Correlation: \n",
    "            \n",
    "radius = (3.3/2) * numpy.pi / 180.0\n",
    "\n",
    "maskRA_overlap = []\n",
    "maskDEC_overlap = []\n",
    "randoms_Lengths_overlap = []\n",
    "\n",
    "for pointing in pointings: \n",
    "    if(pointing == \"MD02\"):\n",
    "        continue\n",
    "    else:    \n",
    "        center_dec = pointings[pointing][1] * numpy.pi / 180\n",
    "        center_ra = pointings[pointing][0] * numpy.pi / 180\n",
    "\n",
    "        angular_seps = numpy.arccos(numpy.cos(numpy.pi / 2 - center_dec) * numpy.cos(numpy.pi / 2 - rand_dec_PanSTARRS) + \n",
    "                                    numpy.sin(numpy.pi / 2 - center_dec) * numpy.sin(numpy.pi / 2 - rand_dec_PanSTARRS) * \n",
    "                                    numpy.cos(center_ra - rand_ra_PanSTARRS))\n",
    "\n",
    "        ras_in_circle = rand_ra_PanSTARRS[angular_seps < radius]\n",
    "        ras_in_circle = ras_in_circle * 180 / numpy.pi\n",
    "        decs_in_circle = rand_dec_PanSTARRS[angular_seps < radius]\n",
    "        decs_in_circle = decs_in_circle * 180 / numpy.pi\n",
    "\n",
    "        maskRA_overlap.extend(ras_in_circle)\n",
    "        maskDEC_overlap.extend(decs_in_circle)\n",
    "\n",
    "        randoms_Lengths_overlap.append(len(ras_in_circle))\n",
    "print(\"done. Length of randoms: \" + str(len(maskRA_overlap)))\n",
    "NotesToWrite('randsLength: ' + str(randsLength))\n",
    "NotesToWrite('in all 9 pointings: ' + str(len(maskRA_overlap)))\n"
   ]
  },
  {
   "cell_type": "markdown",
   "metadata": {},
   "source": [
    "## 4) Define RA/DEC for the data/random sets:"
   ]
  },
  {
   "cell_type": "code",
   "execution_count": null,
   "metadata": {},
   "outputs": [],
   "source": [
    "PanStarrs_Data_RADEC = [PanSTARRS_data_all_df['RA'], PanSTARRS_data_all_df['DEC']]\n",
    "PanStarrs_Rands_All_RADEC = [maskRA, maskDEC]\n",
    "\n",
    "PanStarrs_Data_Only_9_RADEC = [PanSTARRS_Data_only_9_df['RA'], PanSTARRS_Data_only_9_df['DEC']]\n",
    "PanStarrs_Rands_Only_9_RADEC = [maskRA_overlap, maskDEC_overlap]\n",
    "\n",
    "BOSS_Data_RADEC = [BOSS_Data_All_df['RA'], BOSS_Data_All_df['DEC']]\n",
    "BOSS_Rands_Limit_RADEC = [BOSS_Rands_Limit_df['RA'], BOSS_Rands_Limit_df['DEC']]"
   ]
  },
  {
   "cell_type": "markdown",
   "metadata": {},
   "source": [
    "## 5) Make some Auto-Correlation Functions:"
   ]
  },
  {
   "cell_type": "code",
   "execution_count": null,
   "metadata": {},
   "outputs": [],
   "source": [
    "r, xi, varxi, sig = PanStarrsBossCorrObject.autoCorrelation(PanStarrs_Data_RADEC, PanStarrs_Rands_All_RADEC)\n",
    "PanStarrsBossCorrObject.plotCorrelationFunction(r, xi, varxi, sig, \"AutoCorrelation of PanStarrs and 20E8 Randoms\", loc='upper right', save=True, saveName='PanStarrs_AutoCorr_20E8_rands')"
   ]
  },
  {
   "cell_type": "code",
   "execution_count": null,
   "metadata": {},
   "outputs": [],
   "source": [
    "Plot_Results_dict = {'r': r, 'xi': xi, 'varxi':varxi, 'sig':sig}\n",
    "\n",
    "Plot_Results_df = pd.DataFrame(data=Plot_Results_dict)\n",
    "\n",
    "Plot_Results_df.to_csv(TESTING_PRODUCTS_PATH+'PanSTARRS_AutoCorr_Plot_Results_df.csv')"
   ]
  },
  {
   "cell_type": "code",
   "execution_count": null,
   "metadata": {},
   "outputs": [],
   "source": [
    "r, xi, varxi, sig = PanStarrsBossCorrObject.autoCorrelation(BOSS_Data_RADEC, BOSS_Rands_Limit_RADEC)\n",
    "PanStarrsBossCorrObject.plotCorrelationFunction(r, xi, varxi, sig, \"AutoCorrelation of BOSS and 160M Randoms\", loc='upper right', save=True, saveName='BOSS_AutoCorr_160M_rands')"
   ]
  },
  {
   "cell_type": "code",
   "execution_count": null,
   "metadata": {},
   "outputs": [],
   "source": [
    "Plot_Results_dict = {'r': r, 'xi': xi, 'varxi':varxi, 'sig':sig}\n",
    "\n",
    "Plot_Results_df = pd.DataFrame(data=Plot_Results_dict)\n",
    "\n",
    "Plot_Results_df.to_csv(TESTING_PRODUCTS_PATH+'BOSS_AutoCorr_Plot_Results_df.csv')"
   ]
  },
  {
   "cell_type": "markdown",
   "metadata": {},
   "source": [
    "## 6) Make a Cross Correlation: "
   ]
  },
  {
   "cell_type": "code",
   "execution_count": null,
   "metadata": {},
   "outputs": [],
   "source": [
    "r, xi, varxi, sig = PanStarrsBossCorrObject.crossCorrelation(PanStarrs_Data_Only_9_RADEC, PanStarrs_Rands_Only_9_RADEC, BOSS_Data_RADEC, BOSS_Rands_Limit_RADEC)\n",
    "PanStarrsBossCorrObject.plotCorrelationFunction(r, xi, varxi, sig, \"CrossCorrelation of PanStarrs with BOSS\", loc='upper right', save=True, saveName='CrossCorrelation_160M_BossRands_20E8_panRands')\n"
   ]
  },
  {
   "cell_type": "code",
   "execution_count": null,
   "metadata": {},
   "outputs": [],
   "source": [
    "Plot_Results_dict = {'r': r, 'xi': xi, 'varxi':varxi, 'sig':sig}\n",
    "\n",
    "Plot_Results_df = pd.DataFrame(data=Plot_Results_dict)\n",
    "\n",
    "Plot_Results_df.to_csv(TESTING_PRODUCTS_PATH+'BOSS_PanStarrs_CrossCorrelatison_Plot_Results_df.csv')"
   ]
  }
 ],
 "metadata": {
  "kernelspec": {
   "display_name": "Python 3",
   "language": "python",
   "name": "python3"
  },
  "language_info": {
   "codemirror_mode": {
    "name": "ipython",
    "version": 3
   },
   "file_extension": ".py",
   "mimetype": "text/x-python",
   "name": "python",
   "nbconvert_exporter": "python",
   "pygments_lexer": "ipython3",
   "version": "3.8.2"
  }
 },
 "nbformat": 4,
 "nbformat_minor": 2
}
