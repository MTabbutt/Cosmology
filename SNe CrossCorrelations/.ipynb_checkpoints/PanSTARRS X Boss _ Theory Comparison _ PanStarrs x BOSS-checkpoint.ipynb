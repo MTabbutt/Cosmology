{
 "cells": [
  {
   "cell_type": "code",
   "execution_count": 1,
   "metadata": {},
   "outputs": [
    {
     "data": {
      "text/html": [
       "<style>.container { width:80% !important; }</style>"
      ],
      "text/plain": [
       "<IPython.core.display.HTML object>"
      ]
     },
     "metadata": {},
     "output_type": "display_data"
    }
   ],
   "source": [
    "# Make Jupyter Notebook full screen \n",
    "from IPython.core.display import display, HTML\n",
    "display(HTML(\"<style>.container { width:80% !important; }</style>\"))\n",
    "from IPython.display import Image"
   ]
  },
  {
   "cell_type": "code",
   "execution_count": 2,
   "metadata": {},
   "outputs": [],
   "source": [
    "#import camb\n",
    "import numpy as np\n",
    "import pandas as pd\n",
    "import sqlite3\n",
    "import scipy as sp\n",
    "import scipy.integrate\n",
    "from scipy import interpolate\n",
    "from scipy.interpolate import InterpolatedUnivariateSpline\n",
    "import matplotlib.pyplot as plt\n",
    "#from camb import model, initialpower\n",
    "from astropy.table import Table\n",
    "#from scipy.misc import derivative"
   ]
  },
  {
   "cell_type": "code",
   "execution_count": 3,
   "metadata": {},
   "outputs": [],
   "source": [
    "DATA_PATH = '/Users/megantabbutt/CosmologyDataProducts/'\n",
    "\n",
    "TESTING_PRODUCTS_PATH = \"/Users/megantabbutt/Cosmology/Cosmology/SNe CrossCorrelations/VerificationTestingProducts/\"\n",
    "\n",
    "TESTING_PRODUCTS_PATH = TESTING_PRODUCTS_PATH + \"21_10_20_R03/\"\n",
    "\n",
    "NOTES_PATH = TESTING_PRODUCTS_PATH + 'RunNotes_Theory.txt'\n",
    "\n",
    "def NotesToWrite(notes):\n",
    "    NOTES = open(NOTES_PATH, \"a\")\n",
    "    NOTES.write(notes)\n",
    "    NOTES.write(\"\\n \\n\")\n",
    "    NOTES.close()"
   ]
  },
  {
   "cell_type": "code",
   "execution_count": 4,
   "metadata": {},
   "outputs": [
    {
     "name": "stdout",
     "output_type": "stream",
     "text": [
      "hubble (z=2.0):  203.57419733021177\n",
      "chi_z(z = 2.0):  5316.055934317975\n",
      "z_chi(chi=100):  0.02269991388964706\n",
      "z_chi_deriv(chi=100) 0.00022821635586028148\n"
     ]
    }
   ],
   "source": [
    "h = .6774\n",
    "\n",
    "# a = 1/(1+z)\n",
    "def hubble_z(z): # Flat universe: omega_k = 0\n",
    "    hubble_0 = 67.74 # km/sec/Mpc\n",
    "    Omega_m = .3089\n",
    "    Omega_L = .6911\n",
    "    H_z = np.sqrt((hubble_0**2)*(Omega_m*(1 + z)**3 + Omega_L))\n",
    "    return H_z\n",
    "\n",
    "print(\"hubble (z=2.0): \", hubble_z(2.0))\n",
    "\n",
    "\n",
    "def chi_z(z_max):\n",
    "    c = 3.0*(10**5) # km/sec \n",
    "    integrand = lambda z: c / hubble_z(z)\n",
    "    chi_z = scipy.integrate.quad(integrand, 0, z_max)\n",
    "    return chi_z[0]\n",
    "\n",
    "print(\"chi_z(z = 2.0): \", chi_z(2.0))\n",
    "\n",
    "\n",
    "z_values = np.linspace(0, 2, 100)\n",
    "chi_values = [chi_z(redShift) for redShift in z_values]\n",
    "z_chi_interp = InterpolatedUnivariateSpline(chi_values, z_values, k=5)\n",
    "\n",
    "def z_chi(chi):\n",
    "    z_val = z_chi_interp(chi)\n",
    "    return z_val\n",
    "\n",
    "print(\"z_chi(chi=100): \", z_chi(100))\n",
    "\n",
    "\n",
    "z_chi_deriv = z_chi_interp.derivative()\n",
    "print(\"z_chi_deriv(chi=100)\", z_chi_deriv(100))\n"
   ]
  },
  {
   "cell_type": "code",
   "execution_count": 37,
   "metadata": {},
   "outputs": [
    {
     "name": "stdout",
     "output_type": "stream",
     "text": [
      "<class 'pandas.core.frame.DataFrame'>\n",
      "RangeIndex: 1058 entries, 0 to 1057\n",
      "Data columns (total 6 columns):\n",
      " #   Column  Non-Null Count  Dtype  \n",
      "---  ------  --------------  -----  \n",
      " 0   ID      1058 non-null   object \n",
      " 1   DEC     1058 non-null   float64\n",
      " 2   RA      1058 non-null   float64\n",
      " 3   zSN     1058 non-null   float64\n",
      " 4   zHost   1058 non-null   float64\n",
      " 5   zBest   1058 non-null   float64\n",
      "dtypes: float64(5), object(1)\n",
      "memory usage: 49.7+ KB\n"
     ]
    },
    {
     "data": {
      "text/html": [
       "<div>\n",
       "<style scoped>\n",
       "    .dataframe tbody tr th:only-of-type {\n",
       "        vertical-align: middle;\n",
       "    }\n",
       "\n",
       "    .dataframe tbody tr th {\n",
       "        vertical-align: top;\n",
       "    }\n",
       "\n",
       "    .dataframe thead th {\n",
       "        text-align: right;\n",
       "    }\n",
       "</style>\n",
       "<table border=\"1\" class=\"dataframe\">\n",
       "  <thead>\n",
       "    <tr style=\"text-align: right;\">\n",
       "      <th></th>\n",
       "      <th>ID</th>\n",
       "      <th>DEC</th>\n",
       "      <th>RA</th>\n",
       "      <th>zSN</th>\n",
       "      <th>zHost</th>\n",
       "      <th>zBest</th>\n",
       "    </tr>\n",
       "  </thead>\n",
       "  <tbody>\n",
       "    <tr>\n",
       "      <th>0</th>\n",
       "      <td>ps0909006</td>\n",
       "      <td>1.184831</td>\n",
       "      <td>333.9500</td>\n",
       "      <td>0.284</td>\n",
       "      <td>-999.0</td>\n",
       "      <td>0.284</td>\n",
       "    </tr>\n",
       "    <tr>\n",
       "      <th>1</th>\n",
       "      <td>ps0909010</td>\n",
       "      <td>-4.078911</td>\n",
       "      <td>37.1182</td>\n",
       "      <td>0.270</td>\n",
       "      <td>-999.0</td>\n",
       "      <td>0.270</td>\n",
       "    </tr>\n",
       "    <tr>\n",
       "      <th>2</th>\n",
       "      <td>ps0910017</td>\n",
       "      <td>-5.023289</td>\n",
       "      <td>35.2775</td>\n",
       "      <td>0.320</td>\n",
       "      <td>-999.0</td>\n",
       "      <td>0.320</td>\n",
       "    </tr>\n",
       "  </tbody>\n",
       "</table>\n",
       "</div>"
      ],
      "text/plain": [
       "          ID       DEC        RA    zSN  zHost  zBest\n",
       "0  ps0909006  1.184831  333.9500  0.284 -999.0  0.284\n",
       "1  ps0909010 -4.078911   37.1182  0.270 -999.0  0.270\n",
       "2  ps0910017 -5.023289   35.2775  0.320 -999.0  0.320"
      ]
     },
     "execution_count": 37,
     "metadata": {},
     "output_type": "execute_result"
    }
   ],
   "source": [
    "# Pull in the data and make into pandas dataframe \n",
    "qry_PanSTARRS_Data_All = \"SELECT ID, DEC, RA, zSN, zHost FROM PanSTARRSNEW WHERE (DEC > -20) AND ((zSN > -999) OR (zHost > -999))\"\n",
    "#qry_PanSTARRS_Data_All = \"SELECT ID, DEC, RA, zSN, zHost FROM PanSTARRSNEW WHERE (zSN > -999) || (zHost > -999)\"\n",
    "connPAN = sqlite3.connect(DATA_PATH + 'PanSTARRS.db')\n",
    "PanSTARRSNEW_GoodZ = pd.read_sql(qry_PanSTARRS_Data_All, con=connPAN)\n",
    "connPAN.close()\n",
    "#PanSTARRSNEW_GoodZ.head(3) # 1129 objects over 10 pointings \n",
    "\n",
    "zBest = []\n",
    "for i in PanSTARRSNEW_GoodZ.iterrows(): #.iterrows() returns a tuple (immutable object)\n",
    "    if i[1]['zSN'] >= 0:\n",
    "        zBest.append(i[1]['zSN'])\n",
    "    else:\n",
    "        zBest.append(i[1]['zHost'])\n",
    "        \n",
    "if PanSTARRSNEW_GoodZ.shape[0] == len(zBest):\n",
    "    PanSTARRSNEW_GoodZ['zBest'] = zBest\n",
    "\n",
    "PanSTARRSNEW_GoodZ.info()\n",
    "PanSTARRSNEW_GoodZ.head(3)"
   ]
  },
  {
   "cell_type": "code",
   "execution_count": 38,
   "metadata": {},
   "outputs": [
    {
     "data": {
      "text/html": [
       "<div>\n",
       "<style scoped>\n",
       "    .dataframe tbody tr th:only-of-type {\n",
       "        vertical-align: middle;\n",
       "    }\n",
       "\n",
       "    .dataframe tbody tr th {\n",
       "        vertical-align: top;\n",
       "    }\n",
       "\n",
       "    .dataframe thead th {\n",
       "        text-align: right;\n",
       "    }\n",
       "</style>\n",
       "<table border=\"1\" class=\"dataframe\">\n",
       "  <thead>\n",
       "    <tr style=\"text-align: right;\">\n",
       "      <th></th>\n",
       "      <th>index</th>\n",
       "      <th>RA</th>\n",
       "      <th>DEC</th>\n",
       "      <th>Z</th>\n",
       "      <th>NZ</th>\n",
       "    </tr>\n",
       "  </thead>\n",
       "  <tbody>\n",
       "    <tr>\n",
       "      <th>0</th>\n",
       "      <td>0</td>\n",
       "      <td>195.071285</td>\n",
       "      <td>-0.590771</td>\n",
       "      <td>0.465648</td>\n",
       "      <td>0.000345</td>\n",
       "    </tr>\n",
       "    <tr>\n",
       "      <th>1</th>\n",
       "      <td>0</td>\n",
       "      <td>321.480329</td>\n",
       "      <td>9.973440</td>\n",
       "      <td>0.301401</td>\n",
       "      <td>0.000390</td>\n",
       "    </tr>\n",
       "    <tr>\n",
       "      <th>2</th>\n",
       "      <td>1</td>\n",
       "      <td>195.022992</td>\n",
       "      <td>-0.610999</td>\n",
       "      <td>0.565802</td>\n",
       "      <td>0.000319</td>\n",
       "    </tr>\n",
       "  </tbody>\n",
       "</table>\n",
       "</div>"
      ],
      "text/plain": [
       "   index          RA       DEC         Z        NZ\n",
       "0      0  195.071285 -0.590771  0.465648  0.000345\n",
       "1      0  321.480329  9.973440  0.301401  0.000390\n",
       "2      1  195.022992 -0.610999  0.565802  0.000319"
      ]
     },
     "execution_count": 38,
     "metadata": {},
     "output_type": "execute_result"
    }
   ],
   "source": [
    "# Pull in the data and make into pandas dataframe \n",
    "\n",
    "# Pull in the data and make into pandas dataframe \n",
    "qry_BOSS_Data_SouthAndNorthALL = \"SELECT * FROM CMASSLOWZTOT_South UNION SELECT * FROM CMASSLOWZTOT_North\"\n",
    "connBOSS = sqlite3.connect('/Users/megantabbutt/CosmologyDataProducts/' + 'CMASS_and_LOWZ.db')\n",
    "CMASSLOWZTOT_DF = pd.read_sql(qry_BOSS_Data_SouthAndNorthALL, con=connBOSS)\n",
    "connBOSS.close()\n",
    "CMASSLOWZTOT_DF.head(3) # 1.3 million objects"
   ]
  },
  {
   "cell_type": "code",
   "execution_count": 39,
   "metadata": {},
   "outputs": [
    {
     "data": {
      "image/png": "[encoded data removed]",
      "text/plain": [
       "<Figure size 432x288 with 1 Axes>"
      ]
     },
     "metadata": {
      "needs_background": "light"
     },
     "output_type": "display_data"
    },
    {
     "data": {
      "image/png": "[encoded data removed]",
      "text/plain": [
       "<Figure size 432x288 with 1 Axes>"
      ]
     },
     "metadata": {
      "needs_background": "light"
     },
     "output_type": "display_data"
    }
   ],
   "source": [
    "bin_num = 101\n",
    "bins=np.arange(bin_num)*0.01+0.\n",
    "c = plt.hist(PanSTARRSNEW_GoodZ['zBest'], bins=bins, color='purple', label = 'Only 0 to 1')\n",
    "plt.show()\n",
    "\n",
    "c[0]\n",
    "bin_centers = [i + .005 for i in c[1][:-1]]\n",
    "n_norm = c[0]*100/sum(c[0])\n",
    "\n",
    "n_interp_Pan = interpolate.interp1d(bin_centers, n_norm, kind='cubic', bounds_error=False, fill_value=0.0)  \n",
    "plt.plot(bin_centers, n_interp_Pan(bin_centers), c=\"#8c000f\", alpha=.7, lw=2)\n",
    "plt.xlabel(\"Redshift\")\n",
    "plt.show()"
   ]
  },
  {
   "cell_type": "code",
   "execution_count": 40,
   "metadata": {},
   "outputs": [
    {
     "data": {
      "image/png": "[encoded data removed]",
      "text/plain": [
       "<Figure size 432x288 with 1 Axes>"
      ]
     },
     "metadata": {
      "needs_background": "light"
     },
     "output_type": "display_data"
    },
    {
     "data": {
      "image/png": "[encoded data removed]",
      "text/plain": [
       "<Figure size 432x288 with 1 Axes>"
      ]
     },
     "metadata": {
      "needs_background": "light"
     },
     "output_type": "display_data"
    }
   ],
   "source": [
    "bin_num = 101\n",
    "bins=np.arange(bin_num)*0.01+0.\n",
    "c = plt.hist(CMASSLOWZTOT_DF['Z'], bins=bins, color='purple', label = 'Only 0 to 1')\n",
    "plt.show()\n",
    "\n",
    "c[0]\n",
    "bin_centers = [i + .005 for i in c[1][:-1]]\n",
    "n_norm = c[0]*100/sum(c[0])\n",
    "\n",
    "n_interp_boss = interpolate.interp1d(bin_centers, n_norm, kind='cubic', bounds_error=False, fill_value=0.0)  \n",
    "plt.plot(bin_centers, n_interp_boss(bin_centers), c=\"#8c000f\", alpha=.7, lw=2)\n",
    "plt.xlabel(\"Redshift\")\n",
    "plt.show()"
   ]
  },
  {
   "cell_type": "code",
   "execution_count": 41,
   "metadata": {},
   "outputs": [
    {
     "name": "stderr",
     "output_type": "stream",
     "text": [
      "<ipython-input-41-88c0e3d85fa9>:2: IntegrationWarning: The occurrence of roundoff error is detected, which prevents \n",
      "  the requested tolerance from being achieved.  The error may be \n",
      "  underestimated.\n",
      "  integral = scipy.integrate.quad(integrand, limit_min, limit_max, epsrel=10**-12, epsabs=10**-12, limit=5000)\n"
     ]
    },
    {
     "name": "stdout",
     "output_type": "stream",
     "text": [
      "(0.9999630907516585, 2.377404088195034e-08)\n",
      "(0.9999324758605875, 3.7209467380798595e-09)\n"
     ]
    }
   ],
   "source": [
    "def quad_one_dim(integrand, limit_min, limit_max):\n",
    "    integral = scipy.integrate.quad(integrand, limit_min, limit_max, epsrel=10**-12, epsabs=10**-12, limit=5000)  \n",
    "    return integral\n",
    "\n",
    "# n(z) dz/dx integral over x\n",
    "normalization = quad_one_dim((lambda x: n_interp_Pan(z_chi(x)) * z_chi_deriv(x)), chi_z(0.0), chi_z(1.0))\n",
    "print(normalization)\n",
    "\n",
    "normalization = quad_one_dim((lambda x: n_interp_boss(z_chi(x)) * z_chi_deriv(x)), chi_z(0.0), chi_z(1.0))\n",
    "print(normalization)\n",
    "\n",
    "#intgrand = [(n_interp(z_chi(x)) * z_chi_deriv(x)) for x in np.linspace(chi_z(0.0), chi_z(1.0), 100)]"
   ]
  },
  {
   "cell_type": "code",
   "execution_count": 42,
   "metadata": {},
   "outputs": [
    {
     "data": {
      "image/png": "[encoded data removed]",
      "text/plain": [
       "<Figure size 432x288 with 1 Axes>"
      ]
     },
     "metadata": {
      "needs_background": "light"
     },
     "output_type": "display_data"
    }
   ],
   "source": [
    "pkall=np.genfromtxt('/Users/megantabbutt/CosmologyDataProducts/pk_none_z0-7_k200cosmosis_kmax100_2019.txt')\n",
    "newpk=np.reshape(pkall,((701,200)))\n",
    "klist=np.genfromtxt('/Users/megantabbutt/CosmologyDataProducts/k_h_planck2015ext.txt')\n",
    "kmin=np.min(klist)\n",
    "kmax=np.max(klist)\n",
    "zlist=np.arange(701)*0.01\n",
    "Pk = sp.interpolate.RectBivariateSpline(zlist,klist,newpk,kx=5,ky=5)\n",
    "\n",
    "def newPk3(k,z):\n",
    "    result=Pk(z,k)\n",
    "    return result\n",
    "\n",
    "plt.plot(klist,newpk[0],label='z=0')\n",
    "plt.plot(klist,newpk[100],label='z=1')\n",
    "plt.xlabel('k (h units)')\n",
    "plt.ylabel('p(k) (h units)')\n",
    "plt.xscale('log')\n",
    "plt.yscale('log')\n",
    "plt.xlim(10**-4,1)\n",
    "plt.ylim(2*10,3*10**4)\n",
    "plt.legend()\n",
    "plt.show()"
   ]
  },
  {
   "cell_type": "code",
   "execution_count": 43,
   "metadata": {},
   "outputs": [],
   "source": [
    "def j0(arg):\n",
    "    return scipy.special.jv(0, arg)\n",
    "\n",
    "def g2_pan(chi):\n",
    "    nn = (n_interp_Pan(z_chi(chi)) * z_chi_deriv(chi))\n",
    "    return nn\n",
    "\n",
    "def g2_boss(chi):\n",
    "    nn = (n_interp_boss(z_chi(chi)) * z_chi_deriv(chi))\n",
    "    return nn\n",
    "\n",
    "def powerChi_ROSS(chi, theta):\n",
    "    h=0.6774\n",
    "    integrad = lambda k: k * ((1.0/h)**3)*newPk3(k/h, z_chi(chi))[0]*j0(k*chi*theta)\n",
    "    powint = scipy.integrate.quad(integrad, kmin, kmax, epsrel=10**-4, epsabs=10**-4, limit=500)\n",
    "    return powint[0]/(2*np.pi)\n",
    "\n",
    "def ggtheta_ROSS_Pk(theta):\n",
    "    chi_min = chi_z(0.01)\n",
    "    chi_max = chi_z(0.9)\n",
    "    b1=1\n",
    "    b2=1\n",
    "    h = .6774\n",
    "    integrand = lambda chi:  g2_pan(chi)*g2_boss(chi)* powerChi_ROSS(chi, theta) * b1 * b2\n",
    "    result = scipy.integrate.quad(integrand, chi_min, chi_max, epsrel=10**-4, epsabs=10**-4, limit=500)\n",
    "    return result[0]"
   ]
  },
  {
   "cell_type": "code",
   "execution_count": 46,
   "metadata": {},
   "outputs": [],
   "source": [
    "kmin = .0001*h\n",
    "kmax = 100.0*h\n",
    "\n",
    "theta_array=[0.02,0.06,0.1,0.3,0.5,0.7,1.0]\n",
    "\n",
    "\"\"\"gg_values_Correct = []\n",
    "for theta in theta_array:\n",
    "    gg_val = ggtheta_ROSS_Pk(theta*np.pi/180.)\n",
    "    print(theta, \"     \", gg_val)\n",
    "    gg_values_Correct.append(gg_val)\"\"\"\n",
    "\n",
    "gg_values_Correct_south = [0.06889095805308963, 0.027570720371792704, 0.01746793429523638, 0.007453364771577077, \n",
    "                    0.004785401204567426, 0.0033754438058035503, 0.002185029601590426]\n",
    "\n",
    "gg_values_Correct = [0.0669966414624102, 0.026636900282163388, 0.0169333092809231,  0.007271483814775552, \n",
    "                    0.00464580295831533, 0.0032602112982058093, 0.0020957158089730476]"
   ]
  },
  {
   "cell_type": "code",
   "execution_count": 64,
   "metadata": {},
   "outputs": [
    {
     "data": {
      "image/png": "[encoded data removed]",
      "text/plain": [
       "<Figure size 864x576 with 1 Axes>"
      ]
     },
     "metadata": {
      "needs_background": "light"
     },
     "output_type": "display_data"
    }
   ],
   "source": [
    "PS_boss_Data = pd.read_csv(TESTING_PRODUCTS_PATH + 'BOSS_PanStarrs_CrossCorrelatison_Plot_Results_df.csv', index_col=0)\n",
    "gg_values_Correct_biased = [i*(2.0*2.3) for i in gg_values_Correct]\n",
    "\n",
    "r_PS_B = np.array(PS_boss_Data['r'])\n",
    "xi_PS_B = np.array(PS_boss_Data['xi'])\n",
    "sig_PS_B = np.array(PS_boss_Data['sig'])\n",
    "\n",
    "\n",
    "plt.figure(figsize=(12, 8))\n",
    "\n",
    "plt.plot(r_PS_B, xi_PS_B, color='#4b5d16', lw=1.5, label=\"Data\")\n",
    "plt.plot(r_PS_B, -xi_PS_B, color='#4b5d16', lw=1.5, ls=':')\n",
    "\n",
    "plt.errorbar(r_PS_B[xi_PS_B>0], xi_PS_B[xi_PS_B>0], yerr=sig_PS_B[xi_PS_B>0], color='#fc5a50', lw=1, alpha=.7, ls='')\n",
    "plt.errorbar(r_PS_B[xi_PS_B<0], -xi_PS_B[xi_PS_B<0], yerr=sig_PS_B[xi_PS_B<0], color='#fc5a50', lw=1, alpha=.7, ls='', label=\"Estimated Error\")\n",
    "plt.scatter(theta_array, gg_values_Correct_biased, color='#0165fc', marker='o', linewidths=3, \n",
    "            label=\"Theory: $b_g$=2.0 \\n \\t $\\;\\;\\;\\;\\;$$b_s$=2.3\")\n",
    "#plt.errorbar(r_PS_B[xi_PS_B>0], xi_PS_B[xi_PS_B>0], yerr=sig_PS_B[xi_PS_B>0], color='#fc5a50', lw=0.5, ls='')\n",
    "#plt.errorbar(r_PS_B[xi_PS_B<0], -xi_PS_B[xi_PS_B<0], yerr=sig_PS_B[xi_PS_B<0], color='#fc5a50', lw=0.7, ls='', label=\"Error\")\n",
    "\n",
    "plt.xscale('log')\n",
    "plt.yscale('log', nonpositive='clip')\n",
    "plt.xlabel(r'$\\theta$ (degrees)')\n",
    "plt.ylabel(r'w($\\theta$)')\n",
    "plt.legend(loc='upper right')\n",
    "#plt.ylim([.001, .5])\n",
    "plt.title(\"Cross-Correlation Function of PanStarrs SNe and BOSS Galaxies\")\n",
    "plt.savefig(TESTING_PRODUCTS_PATH + \"CrossCorrelation of PanStarrs and BOSS\", facecolor='white')\n",
    "plt.show()"
   ]
  },
  {
   "cell_type": "code",
   "execution_count": 48,
   "metadata": {},
   "outputs": [
    {
     "data": {
      "text/html": [
       "<div>\n",
       "<style scoped>\n",
       "    .dataframe tbody tr th:only-of-type {\n",
       "        vertical-align: middle;\n",
       "    }\n",
       "\n",
       "    .dataframe tbody tr th {\n",
       "        vertical-align: top;\n",
       "    }\n",
       "\n",
       "    .dataframe thead th {\n",
       "        text-align: right;\n",
       "    }\n",
       "</style>\n",
       "<table border=\"1\" class=\"dataframe\">\n",
       "  <thead>\n",
       "    <tr style=\"text-align: right;\">\n",
       "      <th></th>\n",
       "      <th>r</th>\n",
       "      <th>xi</th>\n",
       "      <th>varxi</th>\n",
       "      <th>sig</th>\n",
       "    </tr>\n",
       "  </thead>\n",
       "  <tbody>\n",
       "    <tr>\n",
       "      <th>0</th>\n",
       "      <td>0.011020</td>\n",
       "      <td>0.251757</td>\n",
       "      <td>5.017781e-02</td>\n",
       "      <td>0.224004</td>\n",
       "    </tr>\n",
       "    <tr>\n",
       "      <th>1</th>\n",
       "      <td>0.013634</td>\n",
       "      <td>0.043013</td>\n",
       "      <td>3.400961e-02</td>\n",
       "      <td>0.184417</td>\n",
       "    </tr>\n",
       "    <tr>\n",
       "      <th>2</th>\n",
       "      <td>0.016570</td>\n",
       "      <td>0.290618</td>\n",
       "      <td>2.286683e-02</td>\n",
       "      <td>0.151218</td>\n",
       "    </tr>\n",
       "    <tr>\n",
       "      <th>3</th>\n",
       "      <td>0.019997</td>\n",
       "      <td>0.115565</td>\n",
       "      <td>1.543273e-02</td>\n",
       "      <td>0.124229</td>\n",
       "    </tr>\n",
       "    <tr>\n",
       "      <th>4</th>\n",
       "      <td>0.024327</td>\n",
       "      <td>0.112470</td>\n",
       "      <td>1.040288e-02</td>\n",
       "      <td>0.101994</td>\n",
       "    </tr>\n",
       "    <tr>\n",
       "      <th>5</th>\n",
       "      <td>0.029885</td>\n",
       "      <td>-0.008731</td>\n",
       "      <td>7.012110e-03</td>\n",
       "      <td>0.083738</td>\n",
       "    </tr>\n",
       "    <tr>\n",
       "      <th>6</th>\n",
       "      <td>0.036392</td>\n",
       "      <td>0.018856</td>\n",
       "      <td>4.713248e-03</td>\n",
       "      <td>0.068653</td>\n",
       "    </tr>\n",
       "    <tr>\n",
       "      <th>7</th>\n",
       "      <td>0.044283</td>\n",
       "      <td>0.105301</td>\n",
       "      <td>3.179072e-03</td>\n",
       "      <td>0.056383</td>\n",
       "    </tr>\n",
       "    <tr>\n",
       "      <th>8</th>\n",
       "      <td>0.053704</td>\n",
       "      <td>0.034136</td>\n",
       "      <td>2.138745e-03</td>\n",
       "      <td>0.046247</td>\n",
       "    </tr>\n",
       "    <tr>\n",
       "      <th>9</th>\n",
       "      <td>0.065535</td>\n",
       "      <td>0.009982</td>\n",
       "      <td>1.442725e-03</td>\n",
       "      <td>0.037983</td>\n",
       "    </tr>\n",
       "    <tr>\n",
       "      <th>10</th>\n",
       "      <td>0.079791</td>\n",
       "      <td>0.077277</td>\n",
       "      <td>9.711753e-04</td>\n",
       "      <td>0.031164</td>\n",
       "    </tr>\n",
       "    <tr>\n",
       "      <th>11</th>\n",
       "      <td>0.097375</td>\n",
       "      <td>0.049336</td>\n",
       "      <td>6.546947e-04</td>\n",
       "      <td>0.025587</td>\n",
       "    </tr>\n",
       "    <tr>\n",
       "      <th>12</th>\n",
       "      <td>0.118596</td>\n",
       "      <td>0.000962</td>\n",
       "      <td>4.409502e-04</td>\n",
       "      <td>0.020999</td>\n",
       "    </tr>\n",
       "    <tr>\n",
       "      <th>13</th>\n",
       "      <td>0.144399</td>\n",
       "      <td>0.060276</td>\n",
       "      <td>2.969613e-04</td>\n",
       "      <td>0.017233</td>\n",
       "    </tr>\n",
       "    <tr>\n",
       "      <th>14</th>\n",
       "      <td>0.175906</td>\n",
       "      <td>0.015880</td>\n",
       "      <td>2.001524e-04</td>\n",
       "      <td>0.014148</td>\n",
       "    </tr>\n",
       "    <tr>\n",
       "      <th>15</th>\n",
       "      <td>0.214640</td>\n",
       "      <td>-0.021564</td>\n",
       "      <td>1.347860e-04</td>\n",
       "      <td>0.011610</td>\n",
       "    </tr>\n",
       "    <tr>\n",
       "      <th>16</th>\n",
       "      <td>0.261299</td>\n",
       "      <td>0.011084</td>\n",
       "      <td>9.086002e-05</td>\n",
       "      <td>0.009532</td>\n",
       "    </tr>\n",
       "    <tr>\n",
       "      <th>17</th>\n",
       "      <td>0.318353</td>\n",
       "      <td>0.007514</td>\n",
       "      <td>6.122057e-05</td>\n",
       "      <td>0.007824</td>\n",
       "    </tr>\n",
       "    <tr>\n",
       "      <th>18</th>\n",
       "      <td>0.388268</td>\n",
       "      <td>0.014400</td>\n",
       "      <td>4.123236e-05</td>\n",
       "      <td>0.006421</td>\n",
       "    </tr>\n",
       "    <tr>\n",
       "      <th>19</th>\n",
       "      <td>0.472912</td>\n",
       "      <td>0.011739</td>\n",
       "      <td>2.775488e-05</td>\n",
       "      <td>0.005268</td>\n",
       "    </tr>\n",
       "    <tr>\n",
       "      <th>20</th>\n",
       "      <td>0.576363</td>\n",
       "      <td>0.015546</td>\n",
       "      <td>1.872132e-05</td>\n",
       "      <td>0.004327</td>\n",
       "    </tr>\n",
       "    <tr>\n",
       "      <th>21</th>\n",
       "      <td>0.702047</td>\n",
       "      <td>0.002202</td>\n",
       "      <td>1.264272e-05</td>\n",
       "      <td>0.003556</td>\n",
       "    </tr>\n",
       "    <tr>\n",
       "      <th>22</th>\n",
       "      <td>0.855539</td>\n",
       "      <td>0.010034</td>\n",
       "      <td>8.499049e-06</td>\n",
       "      <td>0.002915</td>\n",
       "    </tr>\n",
       "    <tr>\n",
       "      <th>23</th>\n",
       "      <td>1.042410</td>\n",
       "      <td>-0.002228</td>\n",
       "      <td>5.718583e-06</td>\n",
       "      <td>0.002391</td>\n",
       "    </tr>\n",
       "    <tr>\n",
       "      <th>24</th>\n",
       "      <td>1.269476</td>\n",
       "      <td>0.002701</td>\n",
       "      <td>3.854857e-06</td>\n",
       "      <td>0.001963</td>\n",
       "    </tr>\n",
       "    <tr>\n",
       "      <th>25</th>\n",
       "      <td>1.546703</td>\n",
       "      <td>0.001032</td>\n",
       "      <td>2.598928e-06</td>\n",
       "      <td>0.001612</td>\n",
       "    </tr>\n",
       "    <tr>\n",
       "      <th>26</th>\n",
       "      <td>1.884627</td>\n",
       "      <td>0.001178</td>\n",
       "      <td>1.744793e-06</td>\n",
       "      <td>0.001321</td>\n",
       "    </tr>\n",
       "    <tr>\n",
       "      <th>27</th>\n",
       "      <td>2.295146</td>\n",
       "      <td>-0.008003</td>\n",
       "      <td>1.179541e-06</td>\n",
       "      <td>0.001086</td>\n",
       "    </tr>\n",
       "    <tr>\n",
       "      <th>28</th>\n",
       "      <td>2.794660</td>\n",
       "      <td>-0.003328</td>\n",
       "      <td>8.085541e-07</td>\n",
       "      <td>0.000899</td>\n",
       "    </tr>\n",
       "    <tr>\n",
       "      <th>29</th>\n",
       "      <td>3.405229</td>\n",
       "      <td>-0.004122</td>\n",
       "      <td>5.586844e-07</td>\n",
       "      <td>0.000747</td>\n",
       "    </tr>\n",
       "    <tr>\n",
       "      <th>30</th>\n",
       "      <td>4.148169</td>\n",
       "      <td>0.005032</td>\n",
       "      <td>3.884251e-07</td>\n",
       "      <td>0.000623</td>\n",
       "    </tr>\n",
       "    <tr>\n",
       "      <th>31</th>\n",
       "      <td>5.054283</td>\n",
       "      <td>0.002367</td>\n",
       "      <td>2.733381e-07</td>\n",
       "      <td>0.000523</td>\n",
       "    </tr>\n",
       "    <tr>\n",
       "      <th>32</th>\n",
       "      <td>6.158122</td>\n",
       "      <td>-0.007632</td>\n",
       "      <td>1.922679e-07</td>\n",
       "      <td>0.000438</td>\n",
       "    </tr>\n",
       "    <tr>\n",
       "      <th>33</th>\n",
       "      <td>7.507025</td>\n",
       "      <td>0.005296</td>\n",
       "      <td>1.337302e-07</td>\n",
       "      <td>0.000366</td>\n",
       "    </tr>\n",
       "    <tr>\n",
       "      <th>34</th>\n",
       "      <td>9.143220</td>\n",
       "      <td>-0.006045</td>\n",
       "      <td>9.358285e-08</td>\n",
       "      <td>0.000306</td>\n",
       "    </tr>\n",
       "  </tbody>\n",
       "</table>\n",
       "</div>"
      ],
      "text/plain": [
       "           r        xi         varxi       sig\n",
       "0   0.011020  0.251757  5.017781e-02  0.224004\n",
       "1   0.013634  0.043013  3.400961e-02  0.184417\n",
       "2   0.016570  0.290618  2.286683e-02  0.151218\n",
       "3   0.019997  0.115565  1.543273e-02  0.124229\n",
       "4   0.024327  0.112470  1.040288e-02  0.101994\n",
       "5   0.029885 -0.008731  7.012110e-03  0.083738\n",
       "6   0.036392  0.018856  4.713248e-03  0.068653\n",
       "7   0.044283  0.105301  3.179072e-03  0.056383\n",
       "8   0.053704  0.034136  2.138745e-03  0.046247\n",
       "9   0.065535  0.009982  1.442725e-03  0.037983\n",
       "10  0.079791  0.077277  9.711753e-04  0.031164\n",
       "11  0.097375  0.049336  6.546947e-04  0.025587\n",
       "12  0.118596  0.000962  4.409502e-04  0.020999\n",
       "13  0.144399  0.060276  2.969613e-04  0.017233\n",
       "14  0.175906  0.015880  2.001524e-04  0.014148\n",
       "15  0.214640 -0.021564  1.347860e-04  0.011610\n",
       "16  0.261299  0.011084  9.086002e-05  0.009532\n",
       "17  0.318353  0.007514  6.122057e-05  0.007824\n",
       "18  0.388268  0.014400  4.123236e-05  0.006421\n",
       "19  0.472912  0.011739  2.775488e-05  0.005268\n",
       "20  0.576363  0.015546  1.872132e-05  0.004327\n",
       "21  0.702047  0.002202  1.264272e-05  0.003556\n",
       "22  0.855539  0.010034  8.499049e-06  0.002915\n",
       "23  1.042410 -0.002228  5.718583e-06  0.002391\n",
       "24  1.269476  0.002701  3.854857e-06  0.001963\n",
       "25  1.546703  0.001032  2.598928e-06  0.001612\n",
       "26  1.884627  0.001178  1.744793e-06  0.001321\n",
       "27  2.295146 -0.008003  1.179541e-06  0.001086\n",
       "28  2.794660 -0.003328  8.085541e-07  0.000899\n",
       "29  3.405229 -0.004122  5.586844e-07  0.000747\n",
       "30  4.148169  0.005032  3.884251e-07  0.000623\n",
       "31  5.054283  0.002367  2.733381e-07  0.000523\n",
       "32  6.158122 -0.007632  1.922679e-07  0.000438\n",
       "33  7.507025  0.005296  1.337302e-07  0.000366\n",
       "34  9.143220 -0.006045  9.358285e-08  0.000306"
      ]
     },
     "execution_count": 48,
     "metadata": {},
     "output_type": "execute_result"
    }
   ],
   "source": [
    "PS_boss_Data"
   ]
  },
  {
   "cell_type": "code",
   "execution_count": 23,
   "metadata": {},
   "outputs": [
    {
     "data": {
      "image/png": "[encoded data removed]",
      "text/plain": [
       "<Figure size 864x576 with 1 Axes>"
      ]
     },
     "metadata": {
      "needs_background": "light"
     },
     "output_type": "display_data"
    }
   ],
   "source": [
    "PS_boss_Data = pd.read_csv(TESTING_PRODUCTS_PATH + 'BOSS_PanStarrs_CrossCorrelatison_Plot_Results_df.csv', index_col=0)\n",
    "gg_values_Correct_bias_fixed = [i*(1.4**2) for i in gg_values_Correct]\n",
    "\n",
    "r_PS_B = np.array(PS_boss_Data['r'])\n",
    "xi_PS_B = np.array(PS_boss_Data['xi'])\n",
    "xi_PS_B = np.array(PS_boss_Data['xi'])\n",
    "\n",
    "plt.figure(figsize=(12, 8))\n",
    "\n",
    "plt.scatter(r_PS_B, xi_PS_B, color='#4b5d16', marker='x', label=\"Data\")\n",
    "#plt.scatter(r_PS_B, -xi_PS_B, color='#4b5d16', ls=':')\n",
    "\n",
    "plt.scatter(theta_array, gg_values_Correct, color='#36013f', marker='o', s=20, linewidths=3, label=\"Theory\")\n",
    "plt.scatter(theta_array, gg_values_Correct_bias_fixed, color='#0165fc', marker='|', label=\"Bias: 1.4\")\n",
    "\n",
    "plt.xscale('log')\n",
    "plt.yscale('log', nonpositive='clip')\n",
    "plt.xlabel(r'$\\theta$ (degrees)')\n",
    "plt.ylabel(r'w($\\theta$)')\n",
    "plt.legend(loc='upper right')\n",
    "#plt.ylim([.001, .5])\n",
    "plt.title(\"Cross-Correlation Function of PanStarrs SNe and BOSS Galaxies\")\n",
    "plt.savefig(TESTING_PRODUCTS_PATH + \"CrossCorrelation of PanStarrs and BOSS V2\", facecolor='white')\n",
    "plt.show()"
   ]
  },
  {
   "cell_type": "code",
   "execution_count": 31,
   "metadata": {},
   "outputs": [
    {
     "data": {
      "image/png": "[encoded data removed]",
      "text/plain": [
       "<Figure size 432x288 with 1 Axes>"
      ]
     },
     "metadata": {
      "needs_background": "light"
     },
     "output_type": "display_data"
    }
   ],
   "source": [
    "plt.scatter(CMASSLOWZTOT_DF['RA'], CMASSLOWZTOT_DF['DEC'], label=\"BOSS Galaxies\")\n",
    "plt.scatter(PanSTARRSNEW_GoodZ['RA'], PanSTARRSNEW_GoodZ['DEC'], label=\"PanSTARRS Sne\")\n",
    "plt.ylabel(\"DEC (degrees)\")\n",
    "plt.xlabel(\"RA (degrees)\")\n",
    "plt.legend()\n",
    "plt.savefig(TESTING_PRODUCTS_PATH + \"pointings\", facecolor='white')\n",
    "plt.show()"
   ]
  },
  {
   "cell_type": "code",
   "execution_count": null,
   "metadata": {},
   "outputs": [],
   "source": []
  }
 ],
 "metadata": {
  "kernelspec": {
   "display_name": "Python 3",
   "language": "python",
   "name": "python3"
  },
  "language_info": {
   "codemirror_mode": {
    "name": "ipython",
    "version": 3
   },
   "file_extension": ".py",
   "mimetype": "text/x-python",
   "name": "python",
   "nbconvert_exporter": "python",
   "pygments_lexer": "ipython3",
   "version": "3.8.2"
  }
 },
 "nbformat": 4,
 "nbformat_minor": 4
}
