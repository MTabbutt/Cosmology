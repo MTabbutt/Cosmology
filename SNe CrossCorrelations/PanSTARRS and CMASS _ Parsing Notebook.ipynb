{
 "cells": [
  {
   "cell_type": "markdown",
   "metadata": {},
   "source": [
    "This notebook should be run first when on a new computer so that that data products can be produced. The dataproducts are: \n",
    "\n",
    "- "
   ]
  },
  {
   "cell_type": "code",
   "execution_count": 1,
   "metadata": {},
   "outputs": [
    {
     "data": {
      "text/html": [
       "<style>.container { width:100% !important; }</style>"
      ],
      "text/plain": [
       "<IPython.core.display.HTML object>"
      ]
     },
     "metadata": {},
     "output_type": "display_data"
    }
   ],
   "source": [
    "# Make Jupyter Notebook full screen \n",
    "from IPython.core.display import display, HTML\n",
    "display(HTML(\"<style>.container { width:100% !important; }</style>\"))"
   ]
  },
  {
   "cell_type": "code",
   "execution_count": null,
   "metadata": {},
   "outputs": [],
   "source": [
    "#import treecorr\n",
    "#import fitsio\n",
    "#import numpy\n",
    "#import matplotlib\n",
    "#import matplotlib.pyplot as plt\n",
    "#import pandas as pd\n",
    "#import astropy\n",
    "#from astropy.coordinates import SkyCoord\n",
    "import astropy.units as u\n",
    "import sqlite3\n",
    "from astropy.table import Table\n",
    "from matplotlib.patches import Circle\n",
    "from mpl_toolkits.basemap import Basemap"
   ]
  }
 ],
 "metadata": {
  "kernelspec": {
   "display_name": "Python 3",
   "language": "python",
   "name": "python3"
  },
  "language_info": {
   "codemirror_mode": {
    "name": "ipython",
    "version": 3
   },
   "file_extension": ".py",
   "mimetype": "text/x-python",
   "name": "python",
   "nbconvert_exporter": "python",
   "pygments_lexer": "ipython3",
   "version": "3.7.2"
  }
 },
 "nbformat": 4,
 "nbformat_minor": 2
}
